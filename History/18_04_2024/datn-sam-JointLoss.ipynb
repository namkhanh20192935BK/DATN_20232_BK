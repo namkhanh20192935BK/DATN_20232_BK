{
 "cells": [
  {
   "cell_type": "markdown",
   "id": "6e69bd9c",
   "metadata": {
    "id": "ZgR16vTvrLfd",
    "papermill": {
     "duration": 0.027294,
     "end_time": "2024-04-10T07:15:15.977549",
     "exception": false,
     "start_time": "2024-04-10T07:15:15.950255",
     "status": "completed"
    },
    "tags": []
   },
   "source": [
    "# Cài đặt và import các thư viện cần thiết"
   ]
  },
  {
   "cell_type": "code",
   "execution_count": null,
   "id": "00a5b84d",
   "metadata": {
    "execution": {
     "iopub.execute_input": "2024-04-10T07:15:16.033143Z",
     "iopub.status.busy": "2024-04-10T07:15:16.032794Z",
     "iopub.status.idle": "2024-04-10T07:16:56.931953Z",
     "shell.execute_reply": "2024-04-10T07:16:56.930841Z"
    },
    "id": "NSkTx6N-Mtyd",
    "outputId": "7f5a964e-687b-4f49-d3e1-f9016e6402d6",
    "papermill": {
     "duration": 100.929267,
     "end_time": "2024-04-10T07:16:56.934506",
     "exception": false,
     "start_time": "2024-04-10T07:15:16.005239",
     "status": "completed"
    },
    "tags": []
   },
   "outputs": [],
   "source": [
    "# Install the required libraries\n",
    "#SAM\n",
    "!pip install git+https://github.com/facebookresearch/segment-anything.git\n",
    "#Transformers\n",
    "!pip install -q git+https://github.com/huggingface/transformers.git\n",
    "#Datasets to prepare data and monai if you want to use special loss functions\n",
    "!pip install datasets\n",
    "!pip install -q monai\n",
    "#Patchify to divide large images into smaller patches for training. (Not necessary for smaller images)\n",
    "!pip install patchify"
   ]
  },
  {
   "cell_type": "code",
   "execution_count": null,
   "id": "76bafcbf",
   "metadata": {},
   "outputs": [],
   "source": [
    "# Set-up SSIM Loss\n",
    "!pip install pytorch-msssim"
   ]
  },
  {
   "cell_type": "code",
   "execution_count": null,
   "id": "11eb1764",
   "metadata": {
    "execution": {
     "iopub.execute_input": "2024-04-10T07:16:56.992694Z",
     "iopub.status.busy": "2024-04-10T07:16:56.992368Z",
     "iopub.status.idle": "2024-04-10T07:17:03.492706Z",
     "shell.execute_reply": "2024-04-10T07:17:03.491708Z"
    },
    "id": "aTXUX7xyCEGT",
    "papermill": {
     "duration": 6.532251,
     "end_time": "2024-04-10T07:17:03.495177",
     "exception": false,
     "start_time": "2024-04-10T07:16:56.962926",
     "status": "completed"
    },
    "tags": []
   },
   "outputs": [],
   "source": [
    "import numpy as np\n",
    "import matplotlib.pyplot as plt\n",
    "import tifffile\n",
    "import os\n",
    "from patchify import patchify  #Only to handle large images\n",
    "import random\n",
    "from scipy import ndimage\n",
    "import cv2\n",
    "from datasets import Dataset\n",
    "from PIL import Image\n",
    "import matplotlib.pyplot as plt\n",
    "import random\n",
    "import torch"
   ]
  },
  {
   "cell_type": "code",
   "execution_count": null,
   "id": "adfaa43f",
   "metadata": {},
   "outputs": [],
   "source": [
    "import torch\n",
    "import torch.nn as nn\n",
    "import torch.nn.functional as F\n",
    "import torch.optim as optim\n",
    "import numpy as np"
   ]
  },
  {
   "cell_type": "markdown",
   "id": "f0645161",
   "metadata": {
    "id": "KhKOdev0r5Rv",
    "papermill": {
     "duration": 0.027704,
     "end_time": "2024-04-10T07:17:03.551397",
     "exception": false,
     "start_time": "2024-04-10T07:17:03.523693",
     "status": "completed"
    },
    "tags": []
   },
   "source": [
    "# Chia dataset để training model"
   ]
  },
  {
   "cell_type": "markdown",
   "id": "ebfe637a",
   "metadata": {
    "id": "aeySopXh7ifd",
    "papermill": {
     "duration": 0.027406,
     "end_time": "2024-04-10T07:17:03.606613",
     "exception": false,
     "start_time": "2024-04-10T07:17:03.579207",
     "status": "completed"
    },
    "tags": []
   },
   "source": [
    "## Chia dataset cho tập train"
   ]
  },
  {
   "cell_type": "code",
   "execution_count": null,
   "id": "6d23423f",
   "metadata": {
    "execution": {
     "iopub.execute_input": "2024-04-10T07:17:03.663770Z",
     "iopub.status.busy": "2024-04-10T07:17:03.663265Z",
     "iopub.status.idle": "2024-04-10T07:17:18.338271Z",
     "shell.execute_reply": "2024-04-10T07:17:18.337297Z"
    },
    "id": "5mmQvqScVTzX",
    "outputId": "0d318fe9-b1f2-4cef-f697-1e7c947a2c05",
    "papermill": {
     "duration": 14.706205,
     "end_time": "2024-04-10T07:17:18.340461",
     "exception": false,
     "start_time": "2024-04-10T07:17:03.634256",
     "status": "completed"
    },
    "tags": []
   },
   "outputs": [],
   "source": [
    "# Đường dẫn tới thư mục chứa các hình ảnh\n",
    "image_folder = \"/kaggle/input/otu-2d/OTU_2D/train/Image\"\n",
    "\n",
    "# Lấy danh sách các tệp trong thư mục và sắp xếp theo thứ tự tên tăng dần từ A đến Z\n",
    "image_files = sorted(os.listdir(image_folder))\n",
    "\n",
    "# Khởi tạo một danh sách để chứa các hình ảnh dưới dạng mảng NumPy\n",
    "image_array_list = []\n",
    "\n",
    "# Lặp qua tất cả các tệp trong thư mục đã sắp xếp\n",
    "for filename in image_files:\n",
    "    # Kiểm tra xem tệp có phải là hình ảnh không\n",
    "    if filename.endswith(('.JPG')):\n",
    "        # Đường dẫn đầy đủ tới hình ảnh\n",
    "        img_path = os.path.join(image_folder, filename)\n",
    "\n",
    "        # Đọc hình ảnh\n",
    "        img = cv2.imread(img_path, cv2.IMREAD_COLOR)\n",
    "        img = cv2.resize(img, (256, 256))\n",
    "\n",
    "        # Kiểm tra xem hình ảnh có được đọc thành công hay không\n",
    "        if img is not None:\n",
    "            # Thêm hình ảnh vào danh sách\n",
    "            image_array_list.append(img)\n",
    "        else:\n",
    "            print(f\"Không thể đọc hình ảnh {filename}\")\n",
    "\n",
    "# Chuyển đổi danh sách hình ảnh thành mảng NumPy\n",
    "train_images_np = np.array(image_array_list)\n",
    "\n",
    "# In ra kích thước của mảng hình ảnh\n",
    "print(\"Kích thước của mảng hình ảnh:\", train_images_np.shape)\n"
   ]
  },
  {
   "cell_type": "code",
   "execution_count": null,
   "id": "b134a390",
   "metadata": {
    "execution": {
     "iopub.execute_input": "2024-04-10T07:17:18.401162Z",
     "iopub.status.busy": "2024-04-10T07:17:18.400612Z",
     "iopub.status.idle": "2024-04-10T07:17:29.409443Z",
     "shell.execute_reply": "2024-04-10T07:17:29.408209Z"
    },
    "id": "WxNoI5CTVvdW",
    "outputId": "1ef63f04-d7f8-4b86-c7c1-b7298f7da8a9",
    "papermill": {
     "duration": 11.042744,
     "end_time": "2024-04-10T07:17:29.412203",
     "exception": false,
     "start_time": "2024-04-10T07:17:18.369459",
     "status": "completed"
    },
    "tags": []
   },
   "outputs": [],
   "source": [
    "# Đường dẫn tới thư mục chứa các hình ảnh\n",
    "image_folder = \"/kaggle/input/otu-2d/OTU_2D/train/Label\"\n",
    "\n",
    "# Lấy danh sách các tệp trong thư mục và sắp xếp theo thứ tự tên tăng dần từ A đến Z\n",
    "image_files = sorted(os.listdir(image_folder))\n",
    "\n",
    "# Khởi tạo một danh sách để chứa các hình ảnh dưới dạng mảng NumPy\n",
    "image_array_list = []\n",
    "\n",
    "# Lặp qua tất cả các tệp trong thư mục đã được sắp xếp\n",
    "for filename in image_files:\n",
    "    # Kiểm tra xem tệp có phải là hình ảnh không\n",
    "    if filename.endswith('.PNG'):\n",
    "        # Đường dẫn đầy đủ tới hình ảnh\n",
    "        img_path = os.path.join(image_folder, filename)\n",
    "\n",
    "        # Đọc hình ảnh\n",
    "        img = cv2.imread(img_path, cv2.IMREAD_GRAYSCALE)\n",
    "        img = cv2.resize(img, (256, 256))\n",
    "        img = img / 255.0\n",
    "        (thresh, img) = cv2.threshold(img, 0, 1, cv2.THRESH_BINARY)\n",
    "\n",
    "        # img = np.int32(img)\n",
    "\n",
    "        # Kiểm tra xem hình ảnh có được đọc thành công hay không\n",
    "        if img is not None:\n",
    "            # Thêm hình ảnh vào danh sách\n",
    "            image_array_list.append(img)\n",
    "        else:\n",
    "            print(f\"Không thể đọc hình ảnh {filename}\")\n",
    "\n",
    "# Chuyển đổi danh sách hình ảnh thành mảng NumPy\n",
    "train_labels_np = np.array(image_array_list)\n",
    "\n",
    "# In ra kích thước của mảng hình ảnh\n",
    "print(\"Kích thước của mảng mặt nạ:\", train_labels_np.shape)"
   ]
  },
  {
   "cell_type": "code",
   "execution_count": null,
   "id": "e0fe3029",
   "metadata": {
    "execution": {
     "iopub.execute_input": "2024-04-10T07:17:29.474016Z",
     "iopub.status.busy": "2024-04-10T07:17:29.473306Z",
     "iopub.status.idle": "2024-04-10T07:17:54.366057Z",
     "shell.execute_reply": "2024-04-10T07:17:54.365247Z"
    },
    "id": "DpBXny1k7UJr",
    "outputId": "f43cc93a-5bf2-4007-ec9a-342b5fa9b2d1",
    "papermill": {
     "duration": 24.925188,
     "end_time": "2024-04-10T07:17:54.368429",
     "exception": false,
     "start_time": "2024-04-10T07:17:29.443241",
     "status": "completed"
    },
    "tags": []
   },
   "outputs": [],
   "source": [
    "# Convert the NumPy arrays to Pillow images and store them in a dictionary\n",
    "dataset_dict = {\n",
    "    \"image\": [Image.fromarray(img).convert('RGB') for img in train_images_np],\n",
    "    \"label\": [Image.fromarray(mask).convert('I') for mask in train_labels_np],\n",
    "}\n",
    "\n",
    "# Create the dataset using the datasets.Dataset class\n",
    "train_dataset = Dataset.from_dict(dataset_dict)"
   ]
  },
  {
   "cell_type": "code",
   "execution_count": null,
   "id": "45ebb6b2",
   "metadata": {
    "execution": {
     "iopub.execute_input": "2024-04-10T07:17:54.427714Z",
     "iopub.status.busy": "2024-04-10T07:17:54.427419Z",
     "iopub.status.idle": "2024-04-10T07:17:54.434027Z",
     "shell.execute_reply": "2024-04-10T07:17:54.433177Z"
    },
    "id": "ozsUcKje9gsZ",
    "papermill": {
     "duration": 0.037815,
     "end_time": "2024-04-10T07:17:54.436254",
     "exception": false,
     "start_time": "2024-04-10T07:17:54.398439",
     "status": "completed"
    },
    "tags": []
   },
   "outputs": [],
   "source": [
    "train_dataset"
   ]
  },
  {
   "cell_type": "markdown",
   "id": "11ca783c",
   "metadata": {
    "id": "cBn8adwa8kmF",
    "papermill": {
     "duration": 0.028048,
     "end_time": "2024-04-10T07:17:54.533854",
     "exception": false,
     "start_time": "2024-04-10T07:17:54.505806",
     "status": "completed"
    },
    "tags": []
   },
   "source": [
    "## Chia dataset cho tập validation"
   ]
  },
  {
   "cell_type": "code",
   "execution_count": null,
   "id": "32362f96",
   "metadata": {
    "execution": {
     "iopub.execute_input": "2024-04-10T07:17:54.591556Z",
     "iopub.status.busy": "2024-04-10T07:17:54.591241Z",
     "iopub.status.idle": "2024-04-10T07:17:56.477967Z",
     "shell.execute_reply": "2024-04-10T07:17:56.477056Z"
    },
    "id": "NL-YSQLb9W_Q",
    "outputId": "a52248ba-ba88-43c8-88e9-681aac019221",
    "papermill": {
     "duration": 1.918208,
     "end_time": "2024-04-10T07:17:56.480083",
     "exception": false,
     "start_time": "2024-04-10T07:17:54.561875",
     "status": "completed"
    },
    "tags": []
   },
   "outputs": [],
   "source": [
    "# Đường dẫn tới thư mục chứa các hình ảnh\n",
    "image_folder = \"/kaggle/input/otu-2d/OTU_2D/validation/Image\"\n",
    "\n",
    "# Lấy danh sách các tệp trong thư mục và sắp xếp theo thứ tự tên tăng dần từ A đến Z\n",
    "image_files = sorted(os.listdir(image_folder))\n",
    "\n",
    "# Khởi tạo một danh sách để chứa các hình ảnh dưới dạng mảng NumPy\n",
    "image_array_list = []\n",
    "\n",
    "# Lặp qua tất cả các tệp trong thư mục đã sắp xếp\n",
    "for filename in image_files:\n",
    "    # Kiểm tra xem tệp có phải là hình ảnh không\n",
    "    if filename.endswith(('.JPG')):\n",
    "        # Đường dẫn đầy đủ tới hình ảnh\n",
    "        img_path = os.path.join(image_folder, filename)\n",
    "\n",
    "        # Đọc hình ảnh\n",
    "        img = cv2.imread(img_path, cv2.IMREAD_COLOR)\n",
    "        img = cv2.resize(img, (256, 256))\n",
    "\n",
    "        # Kiểm tra xem hình ảnh có được đọc thành công hay không\n",
    "        if img is not None:\n",
    "            # Thêm hình ảnh vào danh sách\n",
    "            image_array_list.append(img)\n",
    "        else:\n",
    "            print(f\"Không thể đọc hình ảnh {filename}\")\n",
    "\n",
    "# Chuyển đổi danh sách hình ảnh thành mảng NumPy\n",
    "val_images_np = np.array(image_array_list)\n",
    "\n",
    "# In ra kích thước của mảng hình ảnh\n",
    "print(\"Kích thước của mảng hình ảnh:\", val_images_np.shape)\n"
   ]
  },
  {
   "cell_type": "code",
   "execution_count": null,
   "id": "1a279267",
   "metadata": {
    "execution": {
     "iopub.execute_input": "2024-04-10T07:17:56.538998Z",
     "iopub.status.busy": "2024-04-10T07:17:56.538691Z",
     "iopub.status.idle": "2024-04-10T07:17:58.015674Z",
     "shell.execute_reply": "2024-04-10T07:17:58.014781Z"
    },
    "id": "loSxAbD99elU",
    "outputId": "26f08dca-8532-4d0c-8a9d-52e9c7eb350a",
    "papermill": {
     "duration": 1.508431,
     "end_time": "2024-04-10T07:17:58.017893",
     "exception": false,
     "start_time": "2024-04-10T07:17:56.509462",
     "status": "completed"
    },
    "tags": []
   },
   "outputs": [],
   "source": [
    "# Đường dẫn tới thư mục chứa các hình ảnh\n",
    "image_folder = \"/kaggle/input/otu-2d/OTU_2D/validation/Label\"\n",
    "\n",
    "# Lấy danh sách các tệp trong thư mục và sắp xếp theo thứ tự tên tăng dần từ A đến Z\n",
    "image_files = sorted(os.listdir(image_folder))\n",
    "\n",
    "# Khởi tạo một danh sách để chứa các hình ảnh dưới dạng mảng NumPy\n",
    "image_array_list = []\n",
    "\n",
    "# Lặp qua tất cả các tệp trong thư mục đã được sắp xếp\n",
    "for filename in image_files:\n",
    "    # Kiểm tra xem tệp có phải là hình ảnh không\n",
    "    if filename.endswith('.PNG'):\n",
    "        # Đường dẫn đầy đủ tới hình ảnh\n",
    "        img_path = os.path.join(image_folder, filename)\n",
    "\n",
    "        # Đọc hình ảnh\n",
    "        img = cv2.imread(img_path, cv2.IMREAD_GRAYSCALE)\n",
    "        img = cv2.resize(img, (256, 256))\n",
    "        img = img / 255.0\n",
    "        (thresh, img) = cv2.threshold(img, 0, 1, cv2.THRESH_BINARY)\n",
    "\n",
    "        # img = np.int32(img)\n",
    "\n",
    "        # Kiểm tra xem hình ảnh có được đọc thành công hay không\n",
    "        if img is not None:\n",
    "            # Thêm hình ảnh vào danh sách\n",
    "            image_array_list.append(img)\n",
    "        else:\n",
    "            print(f\"Không thể đọc hình ảnh {filename}\")\n",
    "\n",
    "# Chuyển đổi danh sách hình ảnh thành mảng NumPy\n",
    "val_labels_np = np.array(image_array_list)\n",
    "\n",
    "# In ra kích thước của mảng hình ảnh\n",
    "print(\"Kích thước của mảng mặt nạ:\", val_labels_np.shape)"
   ]
  },
  {
   "cell_type": "code",
   "execution_count": null,
   "id": "4bf77b77",
   "metadata": {
    "execution": {
     "iopub.execute_input": "2024-04-10T07:17:58.076756Z",
     "iopub.status.busy": "2024-04-10T07:17:58.075943Z",
     "iopub.status.idle": "2024-04-10T07:18:01.156931Z",
     "shell.execute_reply": "2024-04-10T07:18:01.155979Z"
    },
    "id": "mJBpF44y98yW",
    "papermill": {
     "duration": 3.112736,
     "end_time": "2024-04-10T07:18:01.159315",
     "exception": false,
     "start_time": "2024-04-10T07:17:58.046579",
     "status": "completed"
    },
    "tags": []
   },
   "outputs": [],
   "source": [
    "# Convert the NumPy arrays to Pillow images and store them in a dictionary\n",
    "dataset_dict = {\n",
    "    \"image\": [Image.fromarray(img).convert('RGB') for img in val_images_np],\n",
    "    \"label\": [Image.fromarray(mask).convert('I') for mask in val_labels_np],\n",
    "}\n",
    "\n",
    "# Create the dataset using the datasets.Dataset class\n",
    "val_dataset = Dataset.from_dict(dataset_dict)"
   ]
  },
  {
   "cell_type": "code",
   "execution_count": null,
   "id": "324e5842",
   "metadata": {
    "execution": {
     "iopub.execute_input": "2024-04-10T07:18:01.218494Z",
     "iopub.status.busy": "2024-04-10T07:18:01.218185Z",
     "iopub.status.idle": "2024-04-10T07:18:01.223592Z",
     "shell.execute_reply": "2024-04-10T07:18:01.222723Z"
    },
    "id": "0fYNZPKy-Fxk",
    "outputId": "e76f3a15-ba22-48ff-a59c-fc423776461e",
    "papermill": {
     "duration": 0.037284,
     "end_time": "2024-04-10T07:18:01.225754",
     "exception": false,
     "start_time": "2024-04-10T07:18:01.188470",
     "status": "completed"
    },
    "tags": []
   },
   "outputs": [],
   "source": [
    "val_dataset"
   ]
  },
  {
   "cell_type": "markdown",
   "id": "128f19f5",
   "metadata": {
    "id": "erjMb5bq8p0U",
    "papermill": {
     "duration": 0.028763,
     "end_time": "2024-04-10T07:18:01.283141",
     "exception": false,
     "start_time": "2024-04-10T07:18:01.254378",
     "status": "completed"
    },
    "tags": []
   },
   "source": [
    "## Chia dataset cho tập test"
   ]
  },
  {
   "cell_type": "code",
   "execution_count": null,
   "id": "800ebe2b",
   "metadata": {
    "execution": {
     "iopub.execute_input": "2024-04-10T07:18:01.341456Z",
     "iopub.status.busy": "2024-04-10T07:18:01.341183Z",
     "iopub.status.idle": "2024-04-10T07:18:03.569505Z",
     "shell.execute_reply": "2024-04-10T07:18:03.568539Z"
    },
    "id": "sZIUR4-i-LXB",
    "outputId": "17d0ddfb-59a3-4378-a92f-e244c27228e3",
    "papermill": {
     "duration": 2.259785,
     "end_time": "2024-04-10T07:18:03.571565",
     "exception": false,
     "start_time": "2024-04-10T07:18:01.311780",
     "status": "completed"
    },
    "tags": []
   },
   "outputs": [],
   "source": [
    "# # Đường dẫn tới thư mục chứa các hình ảnh\n",
    "# image_folder = \"/kaggle/input/otu-2d/OTU_2D/test/Image\"\n",
    "\n",
    "# # Lấy danh sách các tệp trong thư mục và sắp xếp theo thứ tự tên tăng dần từ A đến Z\n",
    "# image_files = sorted(os.listdir(image_folder))\n",
    "\n",
    "# # Khởi tạo một danh sách để chứa các hình ảnh dưới dạng mảng NumPy\n",
    "# image_array_list = []\n",
    "\n",
    "# # Lặp qua tất cả các tệp trong thư mục đã sắp xếp\n",
    "# for filename in image_files:\n",
    "#     # Kiểm tra xem tệp có phải là hình ảnh không\n",
    "#     if filename.endswith(('.JPG')):\n",
    "#         # Đường dẫn đầy đủ tới hình ảnh\n",
    "#         img_path = os.path.join(image_folder, filename)\n",
    "\n",
    "#         # Đọc hình ảnh\n",
    "#         img = cv2.imread(img_path, cv2.IMREAD_COLOR)\n",
    "#         img = cv2.resize(img, (256, 256))\n",
    "\n",
    "#         # Kiểm tra xem hình ảnh có được đọc thành công hay không\n",
    "#         if img is not None:\n",
    "#             # Thêm hình ảnh vào danh sách\n",
    "#             image_array_list.append(img)\n",
    "#         else:\n",
    "#             print(f\"Không thể đọc hình ảnh {filename}\")\n",
    "\n",
    "# # Chuyển đổi danh sách hình ảnh thành mảng NumPy\n",
    "# test_images_np = np.array(image_array_list)\n",
    "\n",
    "# # In ra kích thước của mảng hình ảnh\n",
    "# print(\"Kích thước của mảng hình ảnh:\", test_images_np.shape)\n"
   ]
  },
  {
   "cell_type": "code",
   "execution_count": null,
   "id": "d052c8a9",
   "metadata": {
    "execution": {
     "iopub.execute_input": "2024-04-10T07:18:03.630693Z",
     "iopub.status.busy": "2024-04-10T07:18:03.630416Z",
     "iopub.status.idle": "2024-04-10T07:18:05.033877Z",
     "shell.execute_reply": "2024-04-10T07:18:05.032799Z"
    },
    "id": "QuU2TUjo-S1a",
    "outputId": "fe9d464e-a673-414e-9a11-9361d381c473",
    "papermill": {
     "duration": 1.435092,
     "end_time": "2024-04-10T07:18:05.036162",
     "exception": false,
     "start_time": "2024-04-10T07:18:03.601070",
     "status": "completed"
    },
    "tags": []
   },
   "outputs": [],
   "source": [
    "# # Đường dẫn tới thư mục chứa các hình ảnh\n",
    "# image_folder = \"/kaggle/input/otu-2d/OTU_2D/test/Label\"\n",
    "\n",
    "# # Lấy danh sách các tệp trong thư mục và sắp xếp theo thứ tự tên tăng dần từ A đến Z\n",
    "# image_files = sorted(os.listdir(image_folder))\n",
    "\n",
    "# # Khởi tạo một danh sách để chứa các hình ảnh dưới dạng mảng NumPy\n",
    "# image_array_list = []\n",
    "\n",
    "# # Lặp qua tất cả các tệp trong thư mục đã được sắp xếp\n",
    "# for filename in image_files:\n",
    "#     # Kiểm tra xem tệp có phải là hình ảnh không\n",
    "#     if filename.endswith('.PNG'):\n",
    "#         # Đường dẫn đầy đủ tới hình ảnh\n",
    "#         img_path = os.path.join(image_folder, filename)\n",
    "\n",
    "#         # Đọc hình ảnh\n",
    "#         img = cv2.imread(img_path, cv2.IMREAD_GRAYSCALE)\n",
    "#         img = cv2.resize(img, (256, 256))\n",
    "#         img = img / 255.0\n",
    "#         (thresh, img) = cv2.threshold(img, 0, 1, cv2.THRESH_BINARY)\n",
    "\n",
    "#         # img = np.int32(img)\n",
    "\n",
    "#         # Kiểm tra xem hình ảnh có được đọc thành công hay không\n",
    "#         if img is not None:\n",
    "#             # Thêm hình ảnh vào danh sách\n",
    "#             image_array_list.append(img)\n",
    "#         else:\n",
    "#             print(f\"Không thể đọc hình ảnh {filename}\")\n",
    "\n",
    "# # Chuyển đổi danh sách hình ảnh thành mảng NumPy\n",
    "# test_labels_np = np.array(image_array_list)\n",
    "\n",
    "# # In ra kích thước của mảng hình ảnh\n",
    "# print(\"Kích thước của mảng mặt nạ:\", test_labels_np.shape)"
   ]
  },
  {
   "cell_type": "code",
   "execution_count": null,
   "id": "fcd59f65",
   "metadata": {
    "execution": {
     "iopub.execute_input": "2024-04-10T07:18:05.095525Z",
     "iopub.status.busy": "2024-04-10T07:18:05.095212Z",
     "iopub.status.idle": "2024-04-10T07:18:08.141198Z",
     "shell.execute_reply": "2024-04-10T07:18:08.140437Z"
    },
    "id": "t6QouqNJ-dVJ",
    "papermill": {
     "duration": 3.077782,
     "end_time": "2024-04-10T07:18:08.143519",
     "exception": false,
     "start_time": "2024-04-10T07:18:05.065737",
     "status": "completed"
    },
    "tags": []
   },
   "outputs": [],
   "source": [
    "# # Convert the NumPy arrays to Pillow images and store them in a dictionary\n",
    "# dataset_dict = {\n",
    "#     \"image\": [Image.fromarray(img).convert('RGB') for img in test_images_np],\n",
    "#     \"label\": [Image.fromarray(mask).convert('I') for mask in test_labels_np],\n",
    "# }\n",
    "\n",
    "# # Create the dataset using the datasets.Dataset class\n",
    "# test_dataset = Dataset.from_dict(dataset_dict)"
   ]
  },
  {
   "cell_type": "code",
   "execution_count": null,
   "id": "3c991110",
   "metadata": {
    "execution": {
     "iopub.execute_input": "2024-04-10T07:18:08.204510Z",
     "iopub.status.busy": "2024-04-10T07:18:08.203764Z",
     "iopub.status.idle": "2024-04-10T07:18:08.209511Z",
     "shell.execute_reply": "2024-04-10T07:18:08.208634Z"
    },
    "id": "BBGO4tct-kwj",
    "outputId": "4dd9b362-d9b6-436c-ed81-72b458a7c6dc",
    "papermill": {
     "duration": 0.037674,
     "end_time": "2024-04-10T07:18:08.211460",
     "exception": false,
     "start_time": "2024-04-10T07:18:08.173786",
     "status": "completed"
    },
    "tags": []
   },
   "outputs": [],
   "source": [
    "# test_dataset"
   ]
  },
  {
   "cell_type": "markdown",
   "id": "a3188607",
   "metadata": {
    "id": "e0EuLS5VsTPo",
    "papermill": {
     "duration": 0.029081,
     "end_time": "2024-04-10T07:18:08.269464",
     "exception": false,
     "start_time": "2024-04-10T07:18:08.240383",
     "status": "completed"
    },
    "tags": []
   },
   "source": [
    "# Kiểm tra ảnh và mặt nạ"
   ]
  },
  {
   "cell_type": "code",
   "execution_count": null,
   "id": "735d12d7",
   "metadata": {
    "execution": {
     "iopub.execute_input": "2024-04-10T07:18:08.328097Z",
     "iopub.status.busy": "2024-04-10T07:18:08.327763Z",
     "iopub.status.idle": "2024-04-10T07:18:08.365514Z",
     "shell.execute_reply": "2024-04-10T07:18:08.364621Z"
    },
    "id": "F2BhG7FTwC-G",
    "outputId": "a8403b28-27e6-4ef5-c6a8-02ac1080ca23",
    "papermill": {
     "duration": 0.069245,
     "end_time": "2024-04-10T07:18:08.367348",
     "exception": false,
     "start_time": "2024-04-10T07:18:08.298103",
     "status": "completed"
    },
    "tags": []
   },
   "outputs": [],
   "source": [
    "img_num = random.randint(0, train_images_np.shape[0]-1)\n",
    "example = train_dataset[img_num]\n",
    "image = example[\"image\"]\n",
    "image"
   ]
  },
  {
   "cell_type": "code",
   "execution_count": null,
   "id": "a8a81b9b",
   "metadata": {
    "execution": {
     "iopub.execute_input": "2024-04-10T07:18:08.427666Z",
     "iopub.status.busy": "2024-04-10T07:18:08.427403Z",
     "iopub.status.idle": "2024-04-10T07:18:08.701792Z",
     "shell.execute_reply": "2024-04-10T07:18:08.700865Z"
    },
    "id": "CAiRRfJhGmVs",
    "outputId": "d79a9e7c-3054-48d6-db7e-ac209ec2e212",
    "papermill": {
     "duration": 0.307473,
     "end_time": "2024-04-10T07:18:08.704413",
     "exception": false,
     "start_time": "2024-04-10T07:18:08.396940",
     "status": "completed"
    },
    "tags": []
   },
   "outputs": [],
   "source": [
    "example_image = train_dataset[img_num][\"image\"]\n",
    "example_mask = train_dataset[img_num][\"label\"]\n",
    "\n",
    "fig, axes = plt.subplots(1, 2, figsize=(10, 5))\n",
    "\n",
    "# Plot the first image on the left\n",
    "axes[0].imshow(np.array(example_image), cmap='gray')  # Assuming the first image is grayscale\n",
    "axes[0].set_title(\"Image\")\n",
    "\n",
    "# Plot the second image on the right\n",
    "axes[1].imshow(example_mask, cmap='gray')  # Assuming the second image is grayscale\n",
    "axes[1].set_title(\"Mask\")\n",
    "\n",
    "# Hide axis ticks and labels\n",
    "for ax in axes:\n",
    "    ax.set_xticks([])\n",
    "    ax.set_yticks([])\n",
    "    ax.set_xticklabels([])\n",
    "    ax.set_yticklabels([])\n",
    "\n",
    "# Display the images side by side\n",
    "plt.show()"
   ]
  },
  {
   "cell_type": "code",
   "execution_count": null,
   "id": "7b924ea3",
   "metadata": {
    "execution": {
     "iopub.execute_input": "2024-04-10T07:18:08.769845Z",
     "iopub.status.busy": "2024-04-10T07:18:08.769537Z",
     "iopub.status.idle": "2024-04-10T07:18:09.045487Z",
     "shell.execute_reply": "2024-04-10T07:18:09.044578Z"
    },
    "id": "R5B4qTMOvSOc",
    "outputId": "5ff6e547-7fbb-4348-d38a-b797bc4b8425",
    "papermill": {
     "duration": 0.311969,
     "end_time": "2024-04-10T07:18:09.048785",
     "exception": false,
     "start_time": "2024-04-10T07:18:08.736816",
     "status": "completed"
    },
    "tags": []
   },
   "outputs": [],
   "source": [
    "def show_mask(mask, ax, random_color=False):\n",
    "    if random_color:\n",
    "        color = np.concatenate([np.random.random(3), np.array([0.2])], axis=0)\n",
    "    else:\n",
    "        color = np.array([30/255, 144/255, 255/255, 0.6])\n",
    "    h, w = mask.shape[-2:]\n",
    "    mask_image = mask.reshape(h, w, 1) * color.reshape(1, 1, -1)\n",
    "    ax.imshow(mask_image)\n",
    "\n",
    "fig, axes = plt.subplots()\n",
    "\n",
    "axes.imshow(np.array(image))\n",
    "ground_truth_seg = np.array(example[\"label\"])\n",
    "show_mask(ground_truth_seg, axes)\n",
    "axes.title.set_text(f\"Ground truth mask\")\n",
    "axes.axis(\"off\")"
   ]
  },
  {
   "cell_type": "markdown",
   "id": "9cc899b8",
   "metadata": {
    "id": "mI41v3ZTskU2",
    "papermill": {
     "duration": 0.033381,
     "end_time": "2024-04-10T07:18:09.115959",
     "exception": false,
     "start_time": "2024-04-10T07:18:09.082578",
     "status": "completed"
    },
    "tags": []
   },
   "source": [
    "# Vẽ bounding boxes cho mặt nạ"
   ]
  },
  {
   "cell_type": "code",
   "execution_count": null,
   "id": "f20ed7e9",
   "metadata": {
    "execution": {
     "iopub.execute_input": "2024-04-10T07:18:09.184819Z",
     "iopub.status.busy": "2024-04-10T07:18:09.184506Z",
     "iopub.status.idle": "2024-04-10T07:18:09.191278Z",
     "shell.execute_reply": "2024-04-10T07:18:09.190434Z"
    },
    "id": "LYmrZ9hWCpKV",
    "papermill": {
     "duration": 0.043719,
     "end_time": "2024-04-10T07:18:09.193099",
     "exception": false,
     "start_time": "2024-04-10T07:18:09.149380",
     "status": "completed"
    },
    "tags": []
   },
   "outputs": [],
   "source": [
    "#Get bounding boxes from mask.\n",
    "def get_bounding_box(ground_truth_map):\n",
    "  # get bounding box from mask\n",
    "  y_indices, x_indices = np.where(ground_truth_map > 0)\n",
    "  x_min, x_max = np.min(x_indices), np.max(x_indices)\n",
    "  y_min, y_max = np.min(y_indices), np.max(y_indices)\n",
    "  # add perturbation to bounding box coordinates\n",
    "  H, W = ground_truth_map.shape\n",
    "  x_min = max(0, x_min - np.random.randint(0, 20))\n",
    "  x_max = min(W, x_max + np.random.randint(0, 20))\n",
    "  y_min = max(0, y_min - np.random.randint(0, 20))\n",
    "  y_max = min(H, y_max + np.random.randint(0, 20))\n",
    "  bbox = [x_min, y_min, x_max, y_max]\n",
    "\n",
    "  return bbox"
   ]
  },
  {
   "cell_type": "markdown",
   "id": "4618293f",
   "metadata": {
    "id": "e4ppWeM5svCh",
    "papermill": {
     "duration": 0.033308,
     "end_time": "2024-04-10T07:18:09.259806",
     "exception": false,
     "start_time": "2024-04-10T07:18:09.226498",
     "status": "completed"
    },
    "tags": []
   },
   "source": [
    "# Training Model"
   ]
  },
  {
   "cell_type": "markdown",
   "id": "562d45cb",
   "metadata": {
    "id": "3dBN4ulfLkTY",
    "papermill": {
     "duration": 0.03298,
     "end_time": "2024-04-10T07:18:09.326119",
     "exception": false,
     "start_time": "2024-04-10T07:18:09.293139",
     "status": "completed"
    },
    "tags": []
   },
   "source": [
    "## Hàm tạo 1 dataset input images and mask"
   ]
  },
  {
   "cell_type": "code",
   "execution_count": null,
   "id": "819ffde7",
   "metadata": {
    "execution": {
     "iopub.execute_input": "2024-04-10T07:18:09.394471Z",
     "iopub.status.busy": "2024-04-10T07:18:09.393854Z",
     "iopub.status.idle": "2024-04-10T07:18:09.401718Z",
     "shell.execute_reply": "2024-04-10T07:18:09.400864Z"
    },
    "id": "dQVNaYYbDKf6",
    "papermill": {
     "duration": 0.043832,
     "end_time": "2024-04-10T07:18:09.403527",
     "exception": false,
     "start_time": "2024-04-10T07:18:09.359695",
     "status": "completed"
    },
    "tags": []
   },
   "outputs": [],
   "source": [
    "from torch.utils.data import Dataset\n",
    "\n",
    "class SAMDataset(Dataset):\n",
    "  \"\"\"\n",
    "  This class is used to create a dataset that serves input images and masks.\n",
    "  It takes a dataset and a processor as input and overrides the __len__ and __getitem__ methods of the Dataset class.\n",
    "  \"\"\"\n",
    "  def __init__(self, dataset, processor):\n",
    "    self.dataset = dataset\n",
    "    self.processor = processor\n",
    "\n",
    "  def __len__(self):\n",
    "    return len(self.dataset)\n",
    "\n",
    "  def __getitem__(self, idx):\n",
    "    item = self.dataset[idx]\n",
    "    image = item[\"image\"]\n",
    "    ground_truth_mask = np.array(item[\"label\"])\n",
    "\n",
    "    # get bounding box prompt | vẽ box cho mặt nạ\n",
    "    prompt = get_bounding_box(ground_truth_mask)\n",
    "\n",
    "    # prepare image and prompt for the model | Chuẩn bị mặt nạ và hộp giới hạn\n",
    "    inputs = self.processor(image, input_boxes=[[prompt]], return_tensors=\"pt\")\n",
    "\n",
    "    # remove batch dimension which the processor adds by default | Loại bỏ chiều Batch được thêm vào mặc định\n",
    "    inputs = {k:v.squeeze(0) for k,v in inputs.items()}\n",
    "\n",
    "    # add ground truth segmentation | Thêm ground truth để đánh giá việc Segment sau này, đánh giá hiệu suất mô hình\n",
    "    inputs[\"ground_truth_mask\"] = ground_truth_mask\n",
    "\n",
    "    return inputs"
   ]
  },
  {
   "cell_type": "markdown",
   "id": "f6ff1647",
   "metadata": {
    "id": "CBsc5U3EP920",
    "papermill": {
     "duration": 0.033332,
     "end_time": "2024-04-10T07:18:09.470453",
     "exception": false,
     "start_time": "2024-04-10T07:18:09.437121",
     "status": "completed"
    },
    "tags": []
   },
   "source": [
    "## Load model SAM"
   ]
  },
  {
   "cell_type": "markdown",
   "id": "52dd47c3",
   "metadata": {
    "id": "BFg1mrGkxe3K",
    "papermill": {
     "duration": 0.033425,
     "end_time": "2024-04-10T07:18:09.537054",
     "exception": false,
     "start_time": "2024-04-10T07:18:09.503629",
     "status": "completed"
    },
    "tags": []
   },
   "source": [
    "### Xử lý dữ liệu để tương thích với đầu vào Model"
   ]
  },
  {
   "cell_type": "code",
   "execution_count": null,
   "id": "6643526b",
   "metadata": {
    "execution": {
     "iopub.execute_input": "2024-04-10T07:18:09.604637Z",
     "iopub.status.busy": "2024-04-10T07:18:09.604358Z",
     "iopub.status.idle": "2024-04-10T07:18:21.827732Z",
     "shell.execute_reply": "2024-04-10T07:18:21.826730Z"
    },
    "id": "5IVksPItDOYg",
    "outputId": "d063c542-a1f2-4747-c4f2-c7b0615042ae",
    "papermill": {
     "duration": 12.259903,
     "end_time": "2024-04-10T07:18:21.830019",
     "exception": false,
     "start_time": "2024-04-10T07:18:09.570116",
     "status": "completed"
    },
    "tags": []
   },
   "outputs": [],
   "source": [
    "# Initialize the processor\n",
    "from transformers import SamProcessor\n",
    "processor = SamProcessor.from_pretrained(\"facebook/sam-vit-base\")"
   ]
  },
  {
   "cell_type": "code",
   "execution_count": null,
   "id": "0e87a74b",
   "metadata": {
    "execution": {
     "iopub.execute_input": "2024-04-10T07:18:21.900020Z",
     "iopub.status.busy": "2024-04-10T07:18:21.899344Z",
     "iopub.status.idle": "2024-04-10T07:18:21.904391Z",
     "shell.execute_reply": "2024-04-10T07:18:21.903521Z"
    },
    "id": "aU59Asl5DQCF",
    "papermill": {
     "duration": 0.041882,
     "end_time": "2024-04-10T07:18:21.906328",
     "exception": false,
     "start_time": "2024-04-10T07:18:21.864446",
     "status": "completed"
    },
    "tags": []
   },
   "outputs": [],
   "source": [
    "# Create an instance of the SAMDataset\n",
    "train_dataset = SAMDataset(dataset=train_dataset, processor=processor)\n",
    "val_dataset = SAMDataset(dataset=val_dataset, processor=processor)\n",
    "# test_dataset = SAMDataset(dataset=test_dataset, processor=processor)"
   ]
  },
  {
   "cell_type": "code",
   "execution_count": null,
   "id": "723ac182",
   "metadata": {
    "execution": {
     "iopub.execute_input": "2024-04-10T07:18:21.977279Z",
     "iopub.status.busy": "2024-04-10T07:18:21.976936Z",
     "iopub.status.idle": "2024-04-10T07:18:22.069626Z",
     "shell.execute_reply": "2024-04-10T07:18:22.068611Z"
    },
    "id": "qMUQO3fCDTyV",
    "outputId": "89ec1dc7-b01e-4e4f-ae91-6cae7723f92f",
    "papermill": {
     "duration": 0.131091,
     "end_time": "2024-04-10T07:18:22.071894",
     "exception": false,
     "start_time": "2024-04-10T07:18:21.940803",
     "status": "completed"
    },
    "tags": []
   },
   "outputs": [],
   "source": [
    "example = train_dataset[0]\n",
    "for k,v in example.items():\n",
    "  print(f'{k}: {v.shape}')"
   ]
  },
  {
   "cell_type": "code",
   "execution_count": null,
   "id": "b1de66dd",
   "metadata": {
    "execution": {
     "iopub.execute_input": "2024-04-10T07:18:22.142805Z",
     "iopub.status.busy": "2024-04-10T07:18:22.142200Z",
     "iopub.status.idle": "2024-04-10T07:18:22.199645Z",
     "shell.execute_reply": "2024-04-10T07:18:22.198691Z"
    },
    "id": "KmWqFSLoI4st",
    "outputId": "a544207f-8464-40a3-eb5d-6a0ae6f04cf0",
    "papermill": {
     "duration": 0.094667,
     "end_time": "2024-04-10T07:18:22.201887",
     "exception": false,
     "start_time": "2024-04-10T07:18:22.107220",
     "status": "completed"
    },
    "tags": []
   },
   "outputs": [],
   "source": [
    "example = val_dataset[0]\n",
    "for k,v in example.items():\n",
    "  print(f'{k}: {v.shape}')"
   ]
  },
  {
   "cell_type": "code",
   "execution_count": null,
   "id": "04ecd8c8",
   "metadata": {
    "execution": {
     "iopub.execute_input": "2024-04-10T07:18:22.273113Z",
     "iopub.status.busy": "2024-04-10T07:18:22.272725Z",
     "iopub.status.idle": "2024-04-10T07:18:22.334375Z",
     "shell.execute_reply": "2024-04-10T07:18:22.333161Z"
    },
    "papermill": {
     "duration": 0.099219,
     "end_time": "2024-04-10T07:18:22.336528",
     "exception": false,
     "start_time": "2024-04-10T07:18:22.237309",
     "status": "completed"
    },
    "tags": []
   },
   "outputs": [],
   "source": [
    "# example = test_dataset[0]\n",
    "# for k,v in example.items():\n",
    "#   print(f'{k}: {v.shape}')"
   ]
  },
  {
   "cell_type": "code",
   "execution_count": null,
   "id": "0bfb23da",
   "metadata": {
    "execution": {
     "iopub.execute_input": "2024-04-10T07:18:22.407295Z",
     "iopub.status.busy": "2024-04-10T07:18:22.406958Z",
     "iopub.status.idle": "2024-04-10T07:18:22.412651Z",
     "shell.execute_reply": "2024-04-10T07:18:22.411767Z"
    },
    "id": "G694dS0RDWdl",
    "papermill": {
     "duration": 0.042206,
     "end_time": "2024-04-10T07:18:22.414508",
     "exception": false,
     "start_time": "2024-04-10T07:18:22.372302",
     "status": "completed"
    },
    "tags": []
   },
   "outputs": [],
   "source": [
    "# Create a DataLoader instance for the training dataset\n",
    "from torch.utils.data import DataLoader\n",
    "train_dataloader = DataLoader(train_dataset, batch_size=2, shuffle=True, drop_last=False)\n",
    "val_dataloader = DataLoader(val_dataset, batch_size=2, shuffle=True, drop_last=False)\n",
    "# test_dataloader = DataLoader(test_dataset, batch_size=2, shuffle=True, drop_last=False)"
   ]
  },
  {
   "cell_type": "code",
   "execution_count": null,
   "id": "45842128",
   "metadata": {
    "execution": {
     "iopub.execute_input": "2024-04-10T07:18:22.483163Z",
     "iopub.status.busy": "2024-04-10T07:18:22.482810Z",
     "iopub.status.idle": "2024-04-10T07:18:22.616370Z",
     "shell.execute_reply": "2024-04-10T07:18:22.615233Z"
    },
    "id": "oAHAY4LxDYCt",
    "outputId": "5a4c83cd-f21c-4b1f-df01-9cc94aca0423",
    "papermill": {
     "duration": 0.170378,
     "end_time": "2024-04-10T07:18:22.618631",
     "exception": false,
     "start_time": "2024-04-10T07:18:22.448253",
     "status": "completed"
    },
    "tags": []
   },
   "outputs": [],
   "source": [
    "batch = next(iter(train_dataloader))\n",
    "for k,v in batch.items():\n",
    "  print(k,v.shape)"
   ]
  },
  {
   "cell_type": "code",
   "execution_count": null,
   "id": "92cc8787",
   "metadata": {
    "execution": {
     "iopub.execute_input": "2024-04-10T07:18:22.689628Z",
     "iopub.status.busy": "2024-04-10T07:18:22.689080Z",
     "iopub.status.idle": "2024-04-10T07:18:22.798921Z",
     "shell.execute_reply": "2024-04-10T07:18:22.797851Z"
    },
    "id": "t8gQe2kAI0UE",
    "outputId": "5cb41220-7aac-494a-ff47-326bc72c6ab6",
    "papermill": {
     "duration": 0.146777,
     "end_time": "2024-04-10T07:18:22.801077",
     "exception": false,
     "start_time": "2024-04-10T07:18:22.654300",
     "status": "completed"
    },
    "tags": []
   },
   "outputs": [],
   "source": [
    "batch = next(iter(val_dataloader))\n",
    "for k,v in batch.items():\n",
    "  print(k,v.shape)"
   ]
  },
  {
   "cell_type": "code",
   "execution_count": null,
   "id": "d723063f",
   "metadata": {
    "execution": {
     "iopub.execute_input": "2024-04-10T07:18:22.871939Z",
     "iopub.status.busy": "2024-04-10T07:18:22.871629Z",
     "iopub.status.idle": "2024-04-10T07:18:22.982390Z",
     "shell.execute_reply": "2024-04-10T07:18:22.981397Z"
    },
    "papermill": {
     "duration": 0.147743,
     "end_time": "2024-04-10T07:18:22.984520",
     "exception": false,
     "start_time": "2024-04-10T07:18:22.836777",
     "status": "completed"
    },
    "tags": []
   },
   "outputs": [],
   "source": [
    "# batch = next(iter(test_dataloader))\n",
    "# for k,v in batch.items():\n",
    "#   print(k,v.shape)"
   ]
  },
  {
   "cell_type": "code",
   "execution_count": null,
   "id": "56073ca9",
   "metadata": {
    "execution": {
     "iopub.execute_input": "2024-04-10T07:18:23.056957Z",
     "iopub.status.busy": "2024-04-10T07:18:23.056176Z",
     "iopub.status.idle": "2024-04-10T07:18:23.062038Z",
     "shell.execute_reply": "2024-04-10T07:18:23.061202Z"
    },
    "id": "l0G55sGADaJ3",
    "outputId": "6d8e829c-af0a-4c5a-f5f5-8ac2fe00c058",
    "papermill": {
     "duration": 0.04347,
     "end_time": "2024-04-10T07:18:23.064113",
     "exception": false,
     "start_time": "2024-04-10T07:18:23.020643",
     "status": "completed"
    },
    "tags": []
   },
   "outputs": [],
   "source": [
    "batch[\"ground_truth_mask\"].shape"
   ]
  },
  {
   "cell_type": "markdown",
   "id": "bc20eee7",
   "metadata": {
    "id": "6l0JFZKlw9r8",
    "papermill": {
     "duration": 0.034294,
     "end_time": "2024-04-10T07:18:23.133224",
     "exception": false,
     "start_time": "2024-04-10T07:18:23.098930",
     "status": "completed"
    },
    "tags": []
   },
   "source": [
    "### Load model Pretrained của Segment Anything"
   ]
  },
  {
   "cell_type": "code",
   "execution_count": null,
   "id": "f2f34ea9",
   "metadata": {
    "execution": {
     "iopub.execute_input": "2024-04-10T07:18:23.203388Z",
     "iopub.status.busy": "2024-04-10T07:18:23.203109Z",
     "iopub.status.idle": "2024-04-10T07:18:26.153156Z",
     "shell.execute_reply": "2024-04-10T07:18:26.152180Z"
    },
    "id": "7fUTkHq3DcVV",
    "outputId": "6dcb745f-7d6d-47d1-92b7-43205c2679ff",
    "papermill": {
     "duration": 2.9879,
     "end_time": "2024-04-10T07:18:26.155497",
     "exception": false,
     "start_time": "2024-04-10T07:18:23.167597",
     "status": "completed"
    },
    "tags": []
   },
   "outputs": [],
   "source": [
    "# Load the model\n",
    "from transformers import SamModel\n",
    "model = SamModel.from_pretrained(\"facebook/sam-vit-base\")\n",
    "\n",
    "# make sure we only compute gradients for mask decoder\n",
    "for name, param in model.named_parameters():\n",
    "  if name.startswith(\"vision_encoder\") or name.startswith(\"prompt_encoder\"):\n",
    "    param.requires_grad_(False)"
   ]
  },
  {
   "cell_type": "markdown",
   "id": "74f6aa90",
   "metadata": {
    "id": "3NnXPCyAwwqM",
    "papermill": {
     "duration": 0.0345,
     "end_time": "2024-04-10T07:18:26.225673",
     "exception": false,
     "start_time": "2024-04-10T07:18:26.191173",
     "status": "completed"
    },
    "tags": []
   },
   "source": [
    "### Khởi tạo model với hàm tối ưu là Adam, hàm loss là DiceCELoss"
   ]
  },
  {
   "cell_type": "code",
   "execution_count": null,
   "id": "d8e4933a",
   "metadata": {
    "execution": {
     "iopub.execute_input": "2024-04-10T07:18:26.297556Z",
     "iopub.status.busy": "2024-04-10T07:18:26.296864Z",
     "iopub.status.idle": "2024-04-10T07:18:57.946805Z",
     "shell.execute_reply": "2024-04-10T07:18:57.946035Z"
    },
    "papermill": {
     "duration": 31.688931,
     "end_time": "2024-04-10T07:18:57.949202",
     "exception": false,
     "start_time": "2024-04-10T07:18:26.260271",
     "status": "completed"
    },
    "tags": []
   },
   "outputs": [],
   "source": [
    "import torch.optim as optim\n",
    "from monai.losses import DiceLoss, DiceCELoss, DiceFocalLoss\n",
    "\n",
    "# Khởi tạo optimizer\n",
    "optimizer = optim.Adam(model.parameters(), lr=1e-5, weight_decay=0)\n",
    "\n",
    "# Sử dụng DiceCELoss\n",
    "seg_loss = DiceCELoss(sigmoid=True, squared_pred=True, reduction='mean')\n",
    "\n",
    "# Sử dụng DiceFocalLoss\n",
    "# seg_loss = DiceFocalLoss(sigmoid=True, gamma=0.25)\n",
    "\n",
    "# Sử dụng DiceLoss\n",
    "# seg_loss = DiceLoss(to_onehot_y=True, softmax=True)\n",
    "\n"
   ]
  },
  {
   "cell_type": "markdown",
   "id": "ed46bf1e",
   "metadata": {},
   "source": [
    "## Xây dựng Hàm Joint Loss"
   ]
  },
  {
   "cell_type": "markdown",
   "id": "51d4cb00",
   "metadata": {},
   "source": [
    "### Hàm Focal_Loss"
   ]
  },
  {
   "cell_type": "code",
   "execution_count": null,
   "id": "3702dabb",
   "metadata": {},
   "outputs": [],
   "source": [
    "# class FocalLoss(nn.Module):\n",
    "#     '''\n",
    "#     Multi-class Focal loss implementation\n",
    "#     '''\n",
    "#     def __init__(self, gamma=2, weight=None):\n",
    "#         super(FocalLoss, self).__init__()\n",
    "#         self.gamma = gamma\n",
    "#         self.weight = weight\n",
    "\n",
    "#     def forward(self, input, target):\n",
    "#         \"\"\"\n",
    "#         input: [N, C]\n",
    "#         target: [N, ]\n",
    "#         \"\"\"\n",
    "#         logpt = F.log_softmax(input, dim=1)\n",
    "#         pt = torch.exp(logpt)\n",
    "#         logpt = (1-pt)**self.gamma * logpt\n",
    "#         loss = F.nll_loss(logpt, target, self.weight)\n",
    "#         return loss"
   ]
  },
  {
   "cell_type": "markdown",
   "id": "36fe3567",
   "metadata": {
    "papermill": {
     "duration": 0.034769,
     "end_time": "2024-04-10T07:18:58.019127",
     "exception": false,
     "start_time": "2024-04-10T07:18:57.984358",
     "status": "completed"
    },
    "tags": []
   },
   "source": [
    "### Load hàm loss đánh giá model"
   ]
  },
  {
   "cell_type": "code",
   "execution_count": null,
   "id": "f6f8678d",
   "metadata": {
    "execution": {
     "iopub.execute_input": "2024-04-10T07:18:58.090794Z",
     "iopub.status.busy": "2024-04-10T07:18:58.090033Z",
     "iopub.status.idle": "2024-04-10T07:18:58.099834Z",
     "shell.execute_reply": "2024-04-10T07:18:58.098940Z"
    },
    "id": "EALE52T0vaOR",
    "papermill": {
     "duration": 0.047949,
     "end_time": "2024-04-10T07:18:58.101727",
     "exception": false,
     "start_time": "2024-04-10T07:18:58.053778",
     "status": "completed"
    },
    "tags": []
   },
   "outputs": [],
   "source": [
    "from tqdm import tqdm\n",
    "from statistics import mean\n",
    "import torch\n",
    "from torch.nn.functional import threshold, normalize\n",
    "from pytorch_msssim import ssim, ms_ssim, SSIM, MS_SSIM\n",
    "\n",
    "smooth=1e-10\n",
    "gamma = 2\n",
    "weight = None\n",
    "# Define functions for calculating evaluation metrics\n",
    "def dice(predicted, target):\n",
    "    true_positive = torch.sum(predicted * target)\n",
    "    false_negative = torch.sum(target) - true_positive\n",
    "    false_positive = torch.sum(predicted) - true_positive\n",
    "    return (2. * true_positive + smooth) / (2. *true_positive + false_negative + false_positive + smooth)\n",
    "\n",
    "def iou(predicted, target):\n",
    "    intersection = torch.sum(predicted * target)\n",
    "    union = torch.sum(predicted) + torch.sum(target) - intersection\n",
    "    return (intersection + smooth) / (union + smooth)\n",
    "\n",
    "def recall(predicted, target):\n",
    "    true_positive = torch.sum(predicted * target)\n",
    "    false_negative = torch.sum(target) - true_positive\n",
    "    return (true_positive + smooth) / (true_positive + false_negative + smooth)\n",
    "\n",
    "def precision(predicted, target):\n",
    "    true_positive = torch.sum(predicted * target)\n",
    "    false_positive = torch.sum(predicted) - true_positive\n",
    "    return (true_positive + smooth) / (true_positive + false_positive + smooth)\n",
    "\n",
    "def ssim(predicted, target):\n",
    "    ssim_module = SSIM(data_range=255, size_average=True, channel=3)\n",
    "    ssim_loss = 1 - ssim_module(predicted, target)\n",
    "    return ssim_loss\n",
    "    \n",
    "def focalLoss(predicted, target):\n",
    "    logpt = F.log_softmax(predicted, dim=1)\n",
    "    pt = torch.exp(logpt)\n",
    "    logpt = (1-pt)**gamma * logpt\n",
    "    loss = F.nll_loss(logpt, target, weight)\n",
    "    return loss\n",
    "\n",
    "def jointLoss(predicted, target):\n",
    "    loss = (iou(predicted, target) + ssim(predicted, target) + focalLoss(predicted, target))/3\n",
    "    return loss\n"
   ]
  },
  {
   "cell_type": "markdown",
   "id": "f691656a",
   "metadata": {
    "id": "6UUhEfwPvssf",
    "papermill": {
     "duration": 0.034439,
     "end_time": "2024-04-10T07:18:58.170751",
     "exception": false,
     "start_time": "2024-04-10T07:18:58.136312",
     "status": "completed"
    },
    "tags": []
   },
   "source": [
    "### Train Model"
   ]
  },
  {
   "cell_type": "code",
   "execution_count": null,
   "id": "6e825bc3",
   "metadata": {
    "execution": {
     "iopub.execute_input": "2024-04-10T07:18:58.241133Z",
     "iopub.status.busy": "2024-04-10T07:18:58.240825Z",
     "iopub.status.idle": "2024-04-10T07:18:58.244802Z",
     "shell.execute_reply": "2024-04-10T07:18:58.243879Z"
    },
    "papermill": {
     "duration": 0.041604,
     "end_time": "2024-04-10T07:18:58.246641",
     "exception": false,
     "start_time": "2024-04-10T07:18:58.205037",
     "status": "completed"
    },
    "tags": []
   },
   "outputs": [],
   "source": [
    "# model.load_state_dict(torch.load(\"/kaggle/input/validation-100epochs/checkpoint_SAM/best_model_weights.pt\"))"
   ]
  },
  {
   "cell_type": "markdown",
   "id": "dc3343bb",
   "metadata": {
    "id": "9c4n9qWkO3H2",
    "papermill": {
     "duration": 0.034463,
     "end_time": "2024-04-10T07:18:58.315772",
     "exception": false,
     "start_time": "2024-04-10T07:18:58.281309",
     "status": "completed"
    },
    "tags": []
   },
   "source": [
    "### Early Stopping"
   ]
  },
  {
   "cell_type": "code",
   "execution_count": null,
   "id": "c296da85",
   "metadata": {
    "execution": {
     "iopub.execute_input": "2024-04-10T07:18:58.389636Z",
     "iopub.status.busy": "2024-04-10T07:18:58.389347Z",
     "iopub.status.idle": "2024-04-10T12:14:07.931821Z",
     "shell.execute_reply": "2024-04-10T12:14:07.930776Z"
    },
    "id": "XXKd4mX-O2In",
    "outputId": "e3010c07-36e3-484e-9a94-54bd35bdd63f",
    "papermill": {
     "duration": 17709.582463,
     "end_time": "2024-04-10T12:14:07.934017",
     "exception": false,
     "start_time": "2024-04-10T07:18:58.351554",
     "status": "completed"
    },
    "tags": []
   },
   "outputs": [],
   "source": [
    "from tqdm import tqdm\n",
    "from statistics import mean\n",
    "import torch\n",
    "from torch.nn.functional import threshold, normalize\n",
    "import os\n",
    "\n",
    "# Tạo thư mục checkpoint\n",
    "checkpoint_dir = '/kaggle/working/checkpoint_SAM'\n",
    "os.makedirs(checkpoint_dir, exist_ok=True)\n",
    "\n",
    "# Biến để theo dõi loss tốt nhất và trọng số của nó\n",
    "best_loss = float('inf')\n",
    "best_weights = None\n",
    "\n",
    "# Add list to record loss of train dataset\n",
    "train_loss_list = []\n",
    "train_dice_loss = []\n",
    "train_iou_loss = []\n",
    "train_precision_loss = []\n",
    "train_recall_loss = []\n",
    "\n",
    "# Add list to record loss of validation dataset\n",
    "val_loss_list = []\n",
    "val_dice_loss = []\n",
    "val_iou_loss = []\n",
    "val_precision_loss = []\n",
    "val_recall_loss = []\n",
    "\n",
    "# Early stopping parameters\n",
    "patience = 15  # Số lượng epochs mà mô hình không cải thiện trước khi dừng sớm\n",
    "counter = 0\n",
    "\n",
    "# Training loop\n",
    "num_epochs = 50\n",
    "\n",
    "device = \"cuda\" if torch.cuda.is_available() else \"cpu\"\n",
    "model.to(device)\n",
    "\n",
    "model.train()\n",
    "for epoch in range(num_epochs):\n",
    "    correct_predictions = 0\n",
    "    total_predictions = 0\n",
    "    \n",
    "    # Train Model on Train Dataset\n",
    "    epoch_losses = []\n",
    "    train_dice_scores = []\n",
    "    train_iou_scores = []\n",
    "    train_recall_scores = []\n",
    "    train_precision_scores = []\n",
    "    \n",
    "    for batch in tqdm(train_dataloader):\n",
    "        # forward pass\n",
    "        outputs = model(pixel_values=batch[\"pixel_values\"].to(device),\n",
    "                        input_boxes=batch[\"input_boxes\"].to(device),\n",
    "                        multimask_output=False)\n",
    "\n",
    "        # compute loss\n",
    "        predicted_masks = outputs.pred_masks.squeeze(1)\n",
    "        ground_truth_masks = batch[\"ground_truth_mask\"].float().to(device)\n",
    "        loss = jointLoss(predicted_masks, ground_truth_masks.unsqueeze(1))\n",
    "\n",
    "        # backward pass (compute gradients of parameters w.r.t. loss)\n",
    "        optimizer.zero_grad()\n",
    "        loss.backward()\n",
    "\n",
    "        # optimize\n",
    "        optimizer.step()\n",
    "        epoch_losses.append(loss.item())\n",
    "        \n",
    "        predicted_masks_eval = (outputs.pred_masks.squeeze() > 0.5).float() \n",
    "        train_dice_scores.append(dice(predicted_masks_eval, ground_truth_masks))\n",
    "        train_iou_scores.append(iou(predicted_masks_eval, ground_truth_masks))\n",
    "        train_recall_scores.append(recall(predicted_masks_eval, ground_truth_masks))\n",
    "        train_precision_scores.append(precision(predicted_masks_eval, ground_truth_masks))\n",
    "\n",
    "    # Lưu trọng số của mô hình sau mỗi epoch vào thư mục checkpoint\n",
    "    if epoch == num_epochs - 1:\n",
    "        torch.save(model.state_dict(), os.path.join(checkpoint_dir, f'model_epoch_{epoch}.pt'))\n",
    "    else:\n",
    "        torch.save(model.state_dict(), os.path.join(checkpoint_dir, f'model_epoch_final.pt'))\n",
    "\n",
    "    # Tính loss trung bình và accuracy của epoch hiện tại\n",
    "    epoch_loss_mean = mean(epoch_losses)\n",
    "    train_loss_list.append(epoch_loss_mean)\n",
    "    \n",
    "    train_dice = torch.tensor(train_dice_scores).mean().item()\n",
    "    train_iou = torch.tensor(train_iou_scores).mean().item()\n",
    "    train_recall = torch.tensor(train_recall_scores).mean().item()\n",
    "    train_precision = torch.tensor(train_precision_scores).mean().item()\n",
    "    \n",
    "    train_dice_loss.append(train_dice)\n",
    "    train_iou_loss.append(train_iou)\n",
    "    train_recall_loss.append(train_recall)\n",
    "    train_precision_loss.append(train_precision)\n",
    "    \n",
    "    #-------------------------------------------------------------------------------------\n",
    "    # Đánh giá mô hình trên tập validation\n",
    "    validation_losses = []\n",
    "    val_dice_scores = []\n",
    "    val_iou_scores = []\n",
    "    val_recall_scores = []\n",
    "    val_precision_scores = []\n",
    "    \n",
    "    with torch.no_grad():  # Không tính gradient trong quá trình đánh giá\n",
    "        for batch in tqdm(val_dataloader):\n",
    "            outputs = model(pixel_values=batch[\"pixel_values\"].to(device),\n",
    "                            input_boxes=batch[\"input_boxes\"].to(device),\n",
    "                            multimask_output=False)\n",
    "            predicted_masks = outputs.pred_masks.squeeze(1)\n",
    "            ground_truth_masks = batch[\"ground_truth_mask\"].float().to(device)\n",
    "            loss = jointLoss(predicted_masks, ground_truth_masks.unsqueeze(1))\n",
    "            validation_losses.append(loss.item())\n",
    "            \n",
    "            predicted_masks_eval = (outputs.pred_masks.squeeze() > 0.5).float() \n",
    "            val_dice_scores.append(dice(predicted_masks_eval, ground_truth_masks))\n",
    "            val_iou_scores.append(iou(predicted_masks_eval, ground_truth_masks))\n",
    "            val_recall_scores.append(recall(predicted_masks_eval, ground_truth_masks))\n",
    "            val_precision_scores.append(precision(predicted_masks_eval, ground_truth_masks))\n",
    "\n",
    "    # Tính loss trung bình trên tập validation\n",
    "    validation_loss_mean = mean(validation_losses)\n",
    "    val_loss_list.append(validation_loss_mean)\n",
    "    \n",
    "    val_dice = torch.tensor(val_dice_scores).mean().item()\n",
    "    val_iou = torch.tensor(val_iou_scores).mean().item()\n",
    "    val_recall = torch.tensor(val_recall_scores).mean().item()\n",
    "    val_precision = torch.tensor(val_precision_scores).mean().item()\n",
    "    \n",
    "    val_dice_loss.append(val_dice)\n",
    "    val_iou_loss.append(val_iou)\n",
    "    val_recall_loss.append(val_recall)\n",
    "    val_precision_loss.append(val_precision)\n",
    "    \n",
    "    #-------------------------------------------------------------------------------------\n",
    "    # In thông tin về epoch, loss của tập train và validation\n",
    "    print(f'EPOCH: {epoch}')\n",
    "    print(f'Train Mean loss: {epoch_loss_mean:.4f}')\n",
    "    print(f'Train Dice: {train_dice:.4f}')\n",
    "    print(f'Train IOU: {train_iou:.4f}')\n",
    "    print(f'Train Recall: {train_recall:.4f}')\n",
    "    print(f'Train Precision: {train_precision:.4f}')\n",
    "    print('----------------------')\n",
    "    print(f'Validation Mean loss: {validation_loss_mean:.4f}')\n",
    "    print(f'Validation Dice: {val_dice:.4f}')\n",
    "    print(f'Validation IOU: {val_iou:.4f}')\n",
    "    print(f'Validation Recall: {val_recall:.4f}')\n",
    "    print(f'Validation Precision: {val_precision:.4f}')\n",
    "\n",
    "    # Kiểm tra xem loss của epoch hiện tại có là tốt nhất không\n",
    "    if validation_loss_mean < best_loss:\n",
    "    # Nếu là loss tốt nhất, cập nhật biến best_loss và lưu trọng số tốt nhất\n",
    "        best_loss = validation_loss_mean\n",
    "        best_weights = model.state_dict()\n",
    "        torch.save(best_weights, os.path.join(checkpoint_dir, 'best_model_weights.pt'))\n",
    "        print(\"Best model weights saved.\")\n",
    "    print('---------------------------------------------')\n",
    "    \n",
    "    #-------------------------------------------------------------------------------------\n",
    "    # Kiểm tra early stopping\n",
    "    if epoch > 0:  # Bắt đầu kiểm tra early stopping sau epoch đầu tiên\n",
    "        if validation_loss_mean >= prev_epoch_loss:\n",
    "            counter += 1\n",
    "            if counter >= patience:\n",
    "                print(f\"Early stopping! No improvement in {patience} epochs.\")\n",
    "                break\n",
    "        else:\n",
    "            counter = 0  # Reset counter\n",
    "            prev_epoch_loss = validation_loss_mean  # Lưu loss của epoch hiện tại để so sánh với epoch tiếp theo\n",
    "    else:\n",
    "        prev_epoch_loss = validation_loss_mean"
   ]
  },
  {
   "cell_type": "code",
   "execution_count": null,
   "id": "ea1dfabd",
   "metadata": {
    "execution": {
     "iopub.execute_input": "2024-04-10T12:14:13.040912Z",
     "iopub.status.busy": "2024-04-10T12:14:13.040034Z",
     "iopub.status.idle": "2024-04-10T12:14:13.046777Z",
     "shell.execute_reply": "2024-04-10T12:14:13.045807Z"
    },
    "papermill": {
     "duration": 2.537116,
     "end_time": "2024-04-10T12:14:13.049038",
     "exception": false,
     "start_time": "2024-04-10T12:14:10.511922",
     "status": "completed"
    },
    "tags": []
   },
   "outputs": [],
   "source": [
    "train_loss_list"
   ]
  },
  {
   "cell_type": "code",
   "execution_count": null,
   "id": "55ac8e28",
   "metadata": {
    "execution": {
     "iopub.execute_input": "2024-04-10T12:14:17.945484Z",
     "iopub.status.busy": "2024-04-10T12:14:17.944586Z",
     "iopub.status.idle": "2024-04-10T12:14:17.951096Z",
     "shell.execute_reply": "2024-04-10T12:14:17.950209Z"
    },
    "papermill": {
     "duration": 2.514762,
     "end_time": "2024-04-10T12:14:17.953327",
     "exception": false,
     "start_time": "2024-04-10T12:14:15.438565",
     "status": "completed"
    },
    "tags": []
   },
   "outputs": [],
   "source": [
    "train_dice_loss"
   ]
  },
  {
   "cell_type": "code",
   "execution_count": null,
   "id": "eb1978a9",
   "metadata": {
    "execution": {
     "iopub.execute_input": "2024-04-10T12:14:22.901618Z",
     "iopub.status.busy": "2024-04-10T12:14:22.900825Z",
     "iopub.status.idle": "2024-04-10T12:14:22.908826Z",
     "shell.execute_reply": "2024-04-10T12:14:22.907679Z"
    },
    "papermill": {
     "duration": 2.583834,
     "end_time": "2024-04-10T12:14:22.911139",
     "exception": false,
     "start_time": "2024-04-10T12:14:20.327305",
     "status": "completed"
    },
    "tags": []
   },
   "outputs": [],
   "source": [
    "train_iou_loss"
   ]
  },
  {
   "cell_type": "code",
   "execution_count": null,
   "id": "0fbc2e49",
   "metadata": {
    "execution": {
     "iopub.execute_input": "2024-04-10T12:14:28.039042Z",
     "iopub.status.busy": "2024-04-10T12:14:28.038102Z",
     "iopub.status.idle": "2024-04-10T12:14:28.044765Z",
     "shell.execute_reply": "2024-04-10T12:14:28.043884Z"
    },
    "papermill": {
     "duration": 2.600237,
     "end_time": "2024-04-10T12:14:28.047154",
     "exception": false,
     "start_time": "2024-04-10T12:14:25.446917",
     "status": "completed"
    },
    "tags": []
   },
   "outputs": [],
   "source": [
    "train_recall_loss"
   ]
  },
  {
   "cell_type": "code",
   "execution_count": null,
   "id": "673354c7",
   "metadata": {
    "execution": {
     "iopub.execute_input": "2024-04-10T12:14:32.974356Z",
     "iopub.status.busy": "2024-04-10T12:14:32.974004Z",
     "iopub.status.idle": "2024-04-10T12:14:32.980497Z",
     "shell.execute_reply": "2024-04-10T12:14:32.979596Z"
    },
    "papermill": {
     "duration": 2.5418,
     "end_time": "2024-04-10T12:14:32.982446",
     "exception": false,
     "start_time": "2024-04-10T12:14:30.440646",
     "status": "completed"
    },
    "tags": []
   },
   "outputs": [],
   "source": [
    "train_precision_loss"
   ]
  },
  {
   "cell_type": "code",
   "execution_count": null,
   "id": "999a247b",
   "metadata": {
    "execution": {
     "iopub.execute_input": "2024-04-10T12:14:37.858505Z",
     "iopub.status.busy": "2024-04-10T12:14:37.857792Z",
     "iopub.status.idle": "2024-04-10T12:14:37.864066Z",
     "shell.execute_reply": "2024-04-10T12:14:37.863180Z"
    },
    "papermill": {
     "duration": 2.385627,
     "end_time": "2024-04-10T12:14:37.865902",
     "exception": false,
     "start_time": "2024-04-10T12:14:35.480275",
     "status": "completed"
    },
    "tags": []
   },
   "outputs": [],
   "source": [
    "val_loss_list"
   ]
  },
  {
   "cell_type": "code",
   "execution_count": null,
   "id": "ab96baa7",
   "metadata": {
    "execution": {
     "iopub.execute_input": "2024-04-10T12:14:42.904858Z",
     "iopub.status.busy": "2024-04-10T12:14:42.903980Z",
     "iopub.status.idle": "2024-04-10T12:14:42.910566Z",
     "shell.execute_reply": "2024-04-10T12:14:42.909714Z"
    },
    "papermill": {
     "duration": 2.524137,
     "end_time": "2024-04-10T12:14:42.912434",
     "exception": false,
     "start_time": "2024-04-10T12:14:40.388297",
     "status": "completed"
    },
    "tags": []
   },
   "outputs": [],
   "source": [
    "val_dice_loss"
   ]
  },
  {
   "cell_type": "code",
   "execution_count": null,
   "id": "85d038b6",
   "metadata": {
    "execution": {
     "iopub.execute_input": "2024-04-10T12:14:47.768933Z",
     "iopub.status.busy": "2024-04-10T12:14:47.768232Z",
     "iopub.status.idle": "2024-04-10T12:14:47.774721Z",
     "shell.execute_reply": "2024-04-10T12:14:47.773787Z"
    },
    "papermill": {
     "duration": 2.495463,
     "end_time": "2024-04-10T12:14:47.776640",
     "exception": false,
     "start_time": "2024-04-10T12:14:45.281177",
     "status": "completed"
    },
    "tags": []
   },
   "outputs": [],
   "source": [
    "val_iou_loss"
   ]
  },
  {
   "cell_type": "code",
   "execution_count": null,
   "id": "4ffaba74",
   "metadata": {
    "execution": {
     "iopub.execute_input": "2024-04-10T12:14:52.654691Z",
     "iopub.status.busy": "2024-04-10T12:14:52.654366Z",
     "iopub.status.idle": "2024-04-10T12:14:52.660625Z",
     "shell.execute_reply": "2024-04-10T12:14:52.659742Z"
    },
    "papermill": {
     "duration": 2.386407,
     "end_time": "2024-04-10T12:14:52.662584",
     "exception": false,
     "start_time": "2024-04-10T12:14:50.276177",
     "status": "completed"
    },
    "tags": []
   },
   "outputs": [],
   "source": [
    "val_recall_loss"
   ]
  },
  {
   "cell_type": "code",
   "execution_count": null,
   "id": "3adf2321",
   "metadata": {
    "execution": {
     "iopub.execute_input": "2024-04-10T12:14:57.709137Z",
     "iopub.status.busy": "2024-04-10T12:14:57.708746Z",
     "iopub.status.idle": "2024-04-10T12:14:57.715065Z",
     "shell.execute_reply": "2024-04-10T12:14:57.714222Z"
    },
    "papermill": {
     "duration": 2.499687,
     "end_time": "2024-04-10T12:14:57.716877",
     "exception": false,
     "start_time": "2024-04-10T12:14:55.217190",
     "status": "completed"
    },
    "tags": []
   },
   "outputs": [],
   "source": [
    "val_precision_loss"
   ]
  },
  {
   "cell_type": "markdown",
   "id": "4b6daf3f",
   "metadata": {
    "papermill": {
     "duration": 2.386182,
     "end_time": "2024-04-10T12:15:02.680490",
     "exception": false,
     "start_time": "2024-04-10T12:15:00.294308",
     "status": "completed"
    },
    "tags": []
   },
   "source": [
    "# Draw chart for loss between train and validation dataset"
   ]
  },
  {
   "cell_type": "code",
   "execution_count": null,
   "id": "1a24c6d4",
   "metadata": {
    "execution": {
     "iopub.execute_input": "2024-04-10T12:15:07.697231Z",
     "iopub.status.busy": "2024-04-10T12:15:07.696857Z",
     "iopub.status.idle": "2024-04-10T12:15:07.989155Z",
     "shell.execute_reply": "2024-04-10T12:15:07.988209Z"
    },
    "papermill": {
     "duration": 2.793228,
     "end_time": "2024-04-10T12:15:07.991692",
     "exception": false,
     "start_time": "2024-04-10T12:15:05.198464",
     "status": "completed"
    },
    "tags": []
   },
   "outputs": [],
   "source": [
    "import matplotlib.pyplot as plt\n",
    "import numpy as np\n",
    "\n",
    "loss = np.arange(epoch + 1)\n",
    "\n",
    "# Biểu đồ mean loss\n",
    "plt.plot(loss, train_loss_list, label='Training Loss')\n",
    "plt.plot(loss, val_loss_list, label='Validation Loss') \n",
    "plt.xlabel('Epoch')\n",
    "plt.ylabel('Loss')\n",
    "plt.title('Training and Validation Loss')\n",
    "plt.legend()\n",
    "plt.show()"
   ]
  },
  {
   "cell_type": "markdown",
   "id": "2da0757d",
   "metadata": {
    "papermill": {
     "duration": 2.355311,
     "end_time": "2024-04-10T12:15:12.885512",
     "exception": false,
     "start_time": "2024-04-10T12:15:10.530201",
     "status": "completed"
    },
    "tags": []
   },
   "source": [
    "### Draw chart for train dataset"
   ]
  },
  {
   "cell_type": "code",
   "execution_count": null,
   "id": "8153ae45",
   "metadata": {
    "execution": {
     "iopub.execute_input": "2024-04-10T12:15:17.850311Z",
     "iopub.status.busy": "2024-04-10T12:15:17.849591Z",
     "iopub.status.idle": "2024-04-10T12:15:18.100902Z",
     "shell.execute_reply": "2024-04-10T12:15:18.099930Z"
    },
    "papermill": {
     "duration": 2.725815,
     "end_time": "2024-04-10T12:15:18.103030",
     "exception": false,
     "start_time": "2024-04-10T12:15:15.377215",
     "status": "completed"
    },
    "tags": []
   },
   "outputs": [],
   "source": [
    "loss = np.arange(epoch + 1)\n",
    "\n",
    "# Biểu đồ mean loss\n",
    "plt.plot(loss, train_dice_loss, label='Dice') \n",
    "plt.plot(loss, train_iou_loss, label='IOU') \n",
    "plt.plot(loss, train_precision_loss, label='Precision') \n",
    "plt.plot(loss, train_recall_loss, label='Recall') \n",
    "plt.xlabel('Epoch')\n",
    "plt.ylabel('')\n",
    "plt.title('Metrics for training dataset')\n",
    "plt.legend()\n",
    "plt.show()\n"
   ]
  },
  {
   "cell_type": "markdown",
   "id": "ccbf7727",
   "metadata": {
    "papermill": {
     "duration": 2.467403,
     "end_time": "2024-04-10T12:15:22.928306",
     "exception": false,
     "start_time": "2024-04-10T12:15:20.460903",
     "status": "completed"
    },
    "tags": []
   },
   "source": [
    "### Draw chart for validation dataset"
   ]
  },
  {
   "cell_type": "code",
   "execution_count": null,
   "id": "075a73c8",
   "metadata": {
    "execution": {
     "iopub.execute_input": "2024-04-10T12:15:27.881014Z",
     "iopub.status.busy": "2024-04-10T12:15:27.880246Z",
     "iopub.status.idle": "2024-04-10T12:15:28.160812Z",
     "shell.execute_reply": "2024-04-10T12:15:28.159867Z"
    },
    "papermill": {
     "duration": 2.836722,
     "end_time": "2024-04-10T12:15:28.163234",
     "exception": false,
     "start_time": "2024-04-10T12:15:25.326512",
     "status": "completed"
    },
    "tags": []
   },
   "outputs": [],
   "source": [
    "loss = np.arange(epoch + 1)\n",
    "\n",
    "# Biểu đồ mean loss\n",
    "plt.plot(loss, val_dice_loss, label='Dice') \n",
    "plt.plot(loss, val_iou_loss, label='IOU') \n",
    "plt.plot(loss, val_precision_loss, label='Precision') \n",
    "plt.plot(loss, val_recall_loss, label='Recall') \n",
    "plt.xlabel('Epoch')\n",
    "plt.ylabel('')\n",
    "plt.title('Metrics for validation dataset')\n",
    "plt.legend()\n",
    "plt.show()\n"
   ]
  },
  {
   "cell_type": "markdown",
   "id": "00aa818c",
   "metadata": {
    "id": "jAaeol1ov81s",
    "papermill": {
     "duration": 2.511396,
     "end_time": "2024-04-10T12:15:33.197433",
     "exception": false,
     "start_time": "2024-04-10T12:15:30.686037",
     "status": "completed"
    },
    "tags": []
   },
   "source": [
    "### Đánh giá trọng số mô hình với tập Test Dataset (IOU, Precision, Recall, Dice)"
   ]
  },
  {
   "cell_type": "code",
   "execution_count": null,
   "id": "6f4c75c7",
   "metadata": {
    "execution": {
     "iopub.execute_input": "2024-04-10T12:15:38.085344Z",
     "iopub.status.busy": "2024-04-10T12:15:38.084971Z",
     "iopub.status.idle": "2024-04-10T12:15:38.090926Z",
     "shell.execute_reply": "2024-04-10T12:15:38.090058Z"
    },
    "id": "GMvCcy8YlDO-",
    "outputId": "b93daf0d-88ef-459e-8e3a-f696629e1cc2",
    "papermill": {
     "duration": 2.50211,
     "end_time": "2024-04-10T12:15:38.092947",
     "exception": false,
     "start_time": "2024-04-10T12:15:35.590837",
     "status": "completed"
    },
    "tags": []
   },
   "outputs": [],
   "source": [
    "# Check if GPU is available, otherwise use CPU\n",
    "device = torch.device(\"cuda\" if torch.cuda.is_available() else \"cpu\")\n",
    "\n",
    "# Move model to the device\n",
    "model.to(device)\n",
    "\n",
    "# Tải trọng số từ checkpoint\n",
    "checkpoint_path = \"/kaggle/input/validation-100epochs/checkpoint_SAM/best_model_weights.pt\"\n",
    "checkpoint = torch.load(checkpoint_path, map_location=torch.device('cpu'))\n",
    "\n",
    "# Load trọng số vào mô hình\n",
    "model.load_state_dict(checkpoint)\n",
    "\n",
    "# Đặt mô hình vào chế độ đánh giá\n",
    "model.eval()\n",
    "\n",
    "# Tiếp tục quá trình kiểm tra mô hình như đã thực hiện trước đó\n",
    "val_dice_scores = []\n",
    "val_iou_scores = []\n",
    "val_recall_scores = []\n",
    "val_precision_scores = []\n",
    "\n",
    "with torch.no_grad():\n",
    "    for batch in tqdm(val_dataloader):\n",
    "        # Forward pass\n",
    "        outputs = model(pixel_values=batch[\"pixel_values\"].to(device),\n",
    "                        input_boxes=batch[\"input_boxes\"].to(device),\n",
    "                        multimask_output=False)\n",
    "\n",
    "        # Compute evaluation metrics\n",
    "        predicted_masks = (outputs.pred_masks.squeeze() > 0.5).float() \n",
    "        ground_truth_masks = batch[\"ground_truth_mask\"].float().to(device)\n",
    "\n",
    "        val_dice_scores.append(dice(predicted_masks, ground_truth_masks))\n",
    "        val_iou_scores.append(iou(predicted_masks, ground_truth_masks))\n",
    "        val_recall_scores.append(recall(predicted_masks, ground_truth_masks))\n",
    "        val_precision_scores.append(precision(predicted_masks, ground_truth_masks))\n",
    "\n",
    "# Print evaluation metrics\n",
    "print(\"\\n\")\n",
    "print(f'Validation Dice: {torch.tensor(val_dice_scores).mean().item():.4f}')\n",
    "print(f'Validation IOU: {torch.tensor(val_iou_scores).mean().item():.4f}')\n",
    "print(f'Validation Recall: {torch.tensor(val_recall_scores).mean().item():.4f}')\n",
    "print(f'Validation Precision: {torch.tensor(val_precision_scores).mean().item():.4f}')\n"
   ]
  },
  {
   "cell_type": "code",
   "execution_count": null,
   "id": "cb45a240",
   "metadata": {
    "execution": {
     "iopub.execute_input": "2024-04-10T12:15:42.959624Z",
     "iopub.status.busy": "2024-04-10T12:15:42.959256Z",
     "iopub.status.idle": "2024-04-10T12:16:31.826147Z",
     "shell.execute_reply": "2024-04-10T12:16:31.824351Z"
    },
    "papermill": {
     "duration": 51.223393,
     "end_time": "2024-04-10T12:16:31.828458",
     "exception": false,
     "start_time": "2024-04-10T12:15:40.605065",
     "status": "completed"
    },
    "tags": []
   },
   "outputs": [],
   "source": [
    "# # Check if GPU is available, otherwise use CPU\n",
    "# device = torch.device(\"cuda\" if torch.cuda.is_available() else \"cpu\")\n",
    "\n",
    "# # Move model to the device\n",
    "# model.to(device)\n",
    "\n",
    "# # Tải trọng số từ checkpoint\n",
    "# checkpoint_path = \"/kaggle/input/validation-100epochs/checkpoint_SAM/best_model_weights.pt\"\n",
    "# checkpoint = torch.load(checkpoint_path, map_location=torch.device('cpu'))\n",
    "\n",
    "# # Load trọng số vào mô hình\n",
    "# model.load_state_dict(checkpoint)\n",
    "\n",
    "# # Đặt mô hình vào chế độ đánh giá\n",
    "# model.eval()\n",
    "\n",
    "# # Tiếp tục quá trình kiểm tra mô hình như đã thực hiện trước đó\n",
    "# test_dice_scores = []\n",
    "# test_iou_scores = []\n",
    "# test_recall_scores = []\n",
    "# test_precision_scores = []\n",
    "\n",
    "# with torch.no_grad():\n",
    "#     for batch in tqdm(test_dataloader):\n",
    "#         # Forward pass\n",
    "#         outputs = model(pixel_values=batch[\"pixel_values\"].to(device),\n",
    "#                         input_boxes=batch[\"input_boxes\"].to(device),\n",
    "#                         multimask_output=False)\n",
    "\n",
    "#         # Compute evaluation metrics\n",
    "#         predicted_masks = (torch.sigmoid(outputs['pred_masks']).squeeze() > 0.5).float()\n",
    "#         ground_truth_masks = batch[\"ground_truth_mask\"].float().to(device)\n",
    "\n",
    "#         test_dice_scores.append(dice(predicted_masks, ground_truth_masks))\n",
    "#         test_iou_scores.append(iou(predicted_masks, ground_truth_masks))\n",
    "#         test_recall_scores.append(recall(predicted_masks, ground_truth_masks))\n",
    "#         test_precision_scores.append(precision(predicted_masks, ground_truth_masks))\n",
    "\n",
    "# # Print evaluation metrics\n",
    "# print(\"\\n\")\n",
    "# print(f'Test Dice: {torch.tensor(test_dice_scores).mean().item():.4f}')\n",
    "# print(f'Test IOU: {torch.tensor(test_iou_scores).mean().item():.4f}')\n",
    "# print(f'Test Recall: {torch.tensor(test_recall_scores).mean().item():.4f}')\n",
    "# print(f'Test Precision: {torch.tensor(test_precision_scores).mean().item():.4f}')"
   ]
  },
  {
   "cell_type": "markdown",
   "id": "c3f33f3e",
   "metadata": {
    "id": "R6Nal-pHLU9c",
    "papermill": {
     "duration": 2.366483,
     "end_time": "2024-04-10T12:16:36.719268",
     "exception": false,
     "start_time": "2024-04-10T12:16:34.352785",
     "status": "completed"
    },
    "tags": []
   },
   "source": [
    "### Train tiếp model từ trọng số"
   ]
  },
  {
   "cell_type": "markdown",
   "id": "795301f8",
   "metadata": {
    "id": "zEcD7ScIIJlt",
    "papermill": {
     "duration": 2.523717,
     "end_time": "2024-04-10T12:16:41.761215",
     "exception": false,
     "start_time": "2024-04-10T12:16:39.237498",
     "status": "completed"
    },
    "tags": []
   },
   "source": [
    "## Kiểm thử mô hình"
   ]
  },
  {
   "cell_type": "code",
   "execution_count": null,
   "id": "484c9e60",
   "metadata": {
    "execution": {
     "iopub.execute_input": "2024-04-10T12:16:46.692337Z",
     "iopub.status.busy": "2024-04-10T12:16:46.691608Z",
     "iopub.status.idle": "2024-04-10T12:16:46.695870Z",
     "shell.execute_reply": "2024-04-10T12:16:46.694949Z"
    },
    "id": "7Km6TjledGoa",
    "outputId": "b9aa00eb-1b55-441e-b88e-aab784129ae9",
    "papermill": {
     "duration": 2.568999,
     "end_time": "2024-04-10T12:16:46.697862",
     "exception": false,
     "start_time": "2024-04-10T12:16:44.128863",
     "status": "completed"
    },
    "tags": []
   },
   "outputs": [],
   "source": [
    "# import numpy as np\n",
    "# from PIL import Image\n",
    "\n",
    "# # let's take a random training example\n",
    "# idx = 100\n",
    "\n",
    "# # load image\n",
    "# image = test_dataset[idx][\"image\"]\n",
    "# image"
   ]
  },
  {
   "cell_type": "code",
   "execution_count": null,
   "id": "96087b03",
   "metadata": {
    "execution": {
     "iopub.execute_input": "2024-04-10T12:16:51.637560Z",
     "iopub.status.busy": "2024-04-10T12:16:51.636822Z",
     "iopub.status.idle": "2024-04-10T12:16:51.641198Z",
     "shell.execute_reply": "2024-04-10T12:16:51.640305Z"
    },
    "id": "dAV_QwVEfEuA",
    "outputId": "014c771f-d88c-4ae2-9bf6-bc5040989832",
    "papermill": {
     "duration": 2.418643,
     "end_time": "2024-04-10T12:16:51.642999",
     "exception": false,
     "start_time": "2024-04-10T12:16:49.224356",
     "status": "completed"
    },
    "tags": []
   },
   "outputs": [],
   "source": [
    "# import torch\n",
    "# # Sử dụng GPU nếu có sẵn\n",
    "# device = torch.device(\"cuda\" if torch.cuda.is_available() else \"cpu\")\n",
    "\n",
    "# # get box prompt based on ground truth segmentation map\n",
    "# ground_truth_mask = np.array(test_dataset[idx][\"label\"])\n",
    "# prompt = get_bounding_box(ground_truth_mask)\n",
    "\n",
    "# # prepare image + box prompt for the model\n",
    "# inputs = processor(image, input_boxes=[[prompt]], return_tensors=\"pt\").to(device)\n",
    "# for k,v in inputs.items():\n",
    "#   print(k,v.shape)"
   ]
  },
  {
   "cell_type": "code",
   "execution_count": null,
   "id": "b9f16b30",
   "metadata": {
    "execution": {
     "iopub.execute_input": "2024-04-10T12:16:56.714852Z",
     "iopub.status.busy": "2024-04-10T12:16:56.714470Z",
     "iopub.status.idle": "2024-04-10T12:16:56.718792Z",
     "shell.execute_reply": "2024-04-10T12:16:56.717781Z"
    },
    "id": "GSpTQKInfIlc",
    "papermill": {
     "duration": 2.559623,
     "end_time": "2024-04-10T12:16:56.720705",
     "exception": false,
     "start_time": "2024-04-10T12:16:54.161082",
     "status": "completed"
    },
    "tags": []
   },
   "outputs": [],
   "source": [
    "# model.eval()\n",
    "\n",
    "# # forward pass\n",
    "# with torch.no_grad():\n",
    "#   outputs = model(**inputs, multimask_output=False)"
   ]
  },
  {
   "cell_type": "code",
   "execution_count": null,
   "id": "456a4ce8",
   "metadata": {
    "execution": {
     "iopub.execute_input": "2024-04-10T12:17:01.783885Z",
     "iopub.status.busy": "2024-04-10T12:17:01.783514Z",
     "iopub.status.idle": "2024-04-10T12:17:01.787941Z",
     "shell.execute_reply": "2024-04-10T12:17:01.786971Z"
    },
    "id": "lu_XMldufKSr",
    "papermill": {
     "duration": 2.621688,
     "end_time": "2024-04-10T12:17:01.789818",
     "exception": false,
     "start_time": "2024-04-10T12:16:59.168130",
     "status": "completed"
    },
    "tags": []
   },
   "outputs": [],
   "source": [
    "# # apply sigmoid\n",
    "# medsam_seg_prob = torch.sigmoid(outputs.pred_masks.squeeze(1))\n",
    "# # convert soft mask to hard mask\n",
    "# medsam_seg_prob = medsam_seg_prob.cpu().numpy().squeeze()\n",
    "# medsam_seg = (medsam_seg_prob > 0.5).astype(np.uint8)"
   ]
  },
  {
   "cell_type": "code",
   "execution_count": null,
   "id": "7281edfd",
   "metadata": {
    "execution": {
     "iopub.execute_input": "2024-04-10T12:17:06.830701Z",
     "iopub.status.busy": "2024-04-10T12:17:06.830329Z",
     "iopub.status.idle": "2024-04-10T12:17:06.834701Z",
     "shell.execute_reply": "2024-04-10T12:17:06.833757Z"
    },
    "id": "JJ67JzYufPfL",
    "outputId": "7e99f8be-a203-498e-b9c2-72e3a3fa1b79",
    "papermill": {
     "duration": 2.499191,
     "end_time": "2024-04-10T12:17:06.836745",
     "exception": false,
     "start_time": "2024-04-10T12:17:04.337554",
     "status": "completed"
    },
    "tags": []
   },
   "outputs": [],
   "source": [
    "# def show_mask(mask, ax, random_color=False):\n",
    "#     if random_color:\n",
    "#         color = np.concatenate([np.random.random(3), np.array([0.6])], axis=0)\n",
    "#     else:\n",
    "#         color = np.array([30/255, 144/255, 255/255, 0.6])\n",
    "#     h, w = mask.shape[-2:]\n",
    "#     mask_image = mask.reshape(h, w, 1) * color.reshape(1, 1, -1)\n",
    "#     ax.imshow(mask_image)"
   ]
  },
  {
   "cell_type": "code",
   "execution_count": null,
   "id": "91ada217",
   "metadata": {
    "execution": {
     "iopub.execute_input": "2024-04-10T12:17:11.907012Z",
     "iopub.status.busy": "2024-04-10T12:17:11.906066Z",
     "iopub.status.idle": "2024-04-10T12:17:11.912683Z",
     "shell.execute_reply": "2024-04-10T12:17:11.911809Z"
    },
    "papermill": {
     "duration": 2.572557,
     "end_time": "2024-04-10T12:17:11.914754",
     "exception": false,
     "start_time": "2024-04-10T12:17:09.342197",
     "status": "completed"
    },
    "tags": []
   },
   "outputs": [],
   "source": [
    "# import numpy as np\n",
    "# from PIL import Image\n",
    "# import torch\n",
    "# import matplotlib.pyplot as plt\n",
    "\n",
    "# # Sử dụng GPU nếu có sẵn\n",
    "# device = torch.device(\"cuda\" if torch.cuda.is_available() else \"cpu\")\n",
    "\n",
    "# for idx in range(0, len(test_dataset)):  # Duyệt qua các chỉ số từ 1 đến 10\n",
    "#     # load image\n",
    "#     image = test_dataset[idx][\"image\"]\n",
    "\n",
    "#     # get box prompt based on ground truth segmentation map\n",
    "#     ground_truth_mask = np.array(test_dataset[idx][\"label\"])\n",
    "#     prompt = get_bounding_box(ground_truth_mask)\n",
    "\n",
    "#     # prepare image + box prompt for the model\n",
    "#     inputs = processor(image, input_boxes=[[prompt]], return_tensors=\"pt\").to(device)\n",
    "\n",
    "#     model.eval()\n",
    "\n",
    "#     # forward pass\n",
    "#     with torch.no_grad():\n",
    "#         outputs = model(**inputs, multimask_output=False)\n",
    "\n",
    "#     # apply sigmoid\n",
    "#     medsam_seg_prob = torch.sigmoid(outputs.pred_masks.squeeze(1))\n",
    "#     # convert soft mask to hard mask\n",
    "#     medsam_seg_prob = medsam_seg_prob.cpu().numpy().squeeze()\n",
    "#     medsam_seg = (medsam_seg_prob > 0.5).astype(np.uint8)\n",
    "    \n",
    "#     fig, axes = plt.subplots(1, 3, figsize=(15, 5))\n",
    "#     # Hiển thị hình ảnh\n",
    "#     axes[0].imshow(image)\n",
    "#     axes[0].set_title(\"Image\")\n",
    "#     axes[0].axis(\"off\")\n",
    "\n",
    "#     # Hiển thị đồ thị cho ground truth mask\n",
    "#     axes[1].imshow(ground_truth_mask)\n",
    "#     axes[1].set_title(\"Ground truth mask\")\n",
    "#     axes[1].axis(\"off\")\n",
    "\n",
    "#     # Hiển thị đồ thị cho predicted mask\n",
    "#     axes[2].imshow(medsam_seg)\n",
    "#     axes[2].set_title(\"Predicted mask\")\n",
    "#     axes[2].axis(\"off\")\n",
    "\n",
    "#     plt.show()"
   ]
  }
 ],
 "metadata": {
  "accelerator": "GPU",
  "colab": {
   "gpuType": "T4",
   "include_colab_link": true,
   "provenance": [],
   "toc_visible": true
  },
  "kaggle": {
   "accelerator": "gpu",
   "dataSources": [
    {
     "datasetId": 4660437,
     "sourceId": 7929258,
     "sourceType": "datasetVersion"
    },
    {
     "datasetId": 4751542,
     "sourceId": 8056184,
     "sourceType": "datasetVersion"
    }
   ],
   "dockerImageVersionId": 30674,
   "isGpuEnabled": true,
   "isInternetEnabled": true,
   "language": "python",
   "sourceType": "notebook"
  },
  "kernelspec": {
   "display_name": "Python 3",
   "language": "python",
   "name": "python3"
  },
  "language_info": {
   "codemirror_mode": {
    "name": "ipython",
    "version": 3
   },
   "file_extension": ".py",
   "mimetype": "text/x-python",
   "name": "python",
   "nbconvert_exporter": "python",
   "pygments_lexer": "ipython3",
   "version": "3.10.13"
  },
  "papermill": {
   "default_parameters": {},
   "duration": 18124.548124,
   "end_time": "2024-04-10T12:17:17.796084",
   "environment_variables": {},
   "exception": null,
   "input_path": "__notebook__.ipynb",
   "output_path": "__notebook__.ipynb",
   "parameters": {},
   "start_time": "2024-04-10T07:15:13.247960",
   "version": "2.5.0"
  },
  "widgets": {
   "application/vnd.jupyter.widget-state+json": {
    "state": {
     "00989f53d4974827985938b286abef92": {
      "model_module": "@jupyter-widgets/controls",
      "model_module_version": "1.5.0",
      "model_name": "ProgressStyleModel",
      "state": {
       "_model_module": "@jupyter-widgets/controls",
       "_model_module_version": "1.5.0",
       "_model_name": "ProgressStyleModel",
       "_view_count": null,
       "_view_module": "@jupyter-widgets/base",
       "_view_module_version": "1.2.0",
       "_view_name": "StyleView",
       "bar_color": null,
       "description_width": ""
      }
     },
     "0a8a198b7e274c53ba04fdb2c1d334e6": {
      "model_module": "@jupyter-widgets/controls",
      "model_module_version": "1.5.0",
      "model_name": "FloatProgressModel",
      "state": {
       "_dom_classes": [],
       "_model_module": "@jupyter-widgets/controls",
       "_model_module_version": "1.5.0",
       "_model_name": "FloatProgressModel",
       "_view_count": null,
       "_view_module": "@jupyter-widgets/controls",
       "_view_module_version": "1.5.0",
       "_view_name": "ProgressView",
       "bar_style": "success",
       "description": "",
       "description_tooltip": null,
       "layout": "IPY_MODEL_3c400e91599c49a1aab95dd499368449",
       "max": 6566,
       "min": 0,
       "orientation": "horizontal",
       "style": "IPY_MODEL_00989f53d4974827985938b286abef92",
       "value": 6566
      }
     },
     "18348ebbd7f949b19fcd9792b292998d": {
      "model_module": "@jupyter-widgets/controls",
      "model_module_version": "1.5.0",
      "model_name": "HTMLModel",
      "state": {
       "_dom_classes": [],
       "_model_module": "@jupyter-widgets/controls",
       "_model_module_version": "1.5.0",
       "_model_name": "HTMLModel",
       "_view_count": null,
       "_view_module": "@jupyter-widgets/controls",
       "_view_module_version": "1.5.0",
       "_view_name": "HTMLView",
       "description": "",
       "description_tooltip": null,
       "layout": "IPY_MODEL_e5000adc2c9944c1a031bd8a064be6e3",
       "placeholder": "​",
       "style": "IPY_MODEL_1adfa52477174db3899226f240597e63",
       "value": " 6.57k/6.57k [00:00&lt;00:00, 584kB/s]"
      }
     },
     "1adfa52477174db3899226f240597e63": {
      "model_module": "@jupyter-widgets/controls",
      "model_module_version": "1.5.0",
      "model_name": "DescriptionStyleModel",
      "state": {
       "_model_module": "@jupyter-widgets/controls",
       "_model_module_version": "1.5.0",
       "_model_name": "DescriptionStyleModel",
       "_view_count": null,
       "_view_module": "@jupyter-widgets/base",
       "_view_module_version": "1.2.0",
       "_view_name": "StyleView",
       "description_width": ""
      }
     },
     "1c807aeacc5a42a48bc78a9a483f6c09": {
      "model_module": "@jupyter-widgets/controls",
      "model_module_version": "1.5.0",
      "model_name": "DescriptionStyleModel",
      "state": {
       "_model_module": "@jupyter-widgets/controls",
       "_model_module_version": "1.5.0",
       "_model_name": "DescriptionStyleModel",
       "_view_count": null,
       "_view_module": "@jupyter-widgets/base",
       "_view_module_version": "1.2.0",
       "_view_name": "StyleView",
       "description_width": ""
      }
     },
     "39e3db72ddc8493bb451ed35e8fd807a": {
      "model_module": "@jupyter-widgets/controls",
      "model_module_version": "1.5.0",
      "model_name": "HBoxModel",
      "state": {
       "_dom_classes": [],
       "_model_module": "@jupyter-widgets/controls",
       "_model_module_version": "1.5.0",
       "_model_name": "HBoxModel",
       "_view_count": null,
       "_view_module": "@jupyter-widgets/controls",
       "_view_module_version": "1.5.0",
       "_view_name": "HBoxView",
       "box_style": "",
       "children": [
        "IPY_MODEL_59ed77833f85406e9769506b444b0c49",
        "IPY_MODEL_0a8a198b7e274c53ba04fdb2c1d334e6",
        "IPY_MODEL_18348ebbd7f949b19fcd9792b292998d"
       ],
       "layout": "IPY_MODEL_88bf261e6a6b442191f72f685fbf6f7a"
      }
     },
     "3c400e91599c49a1aab95dd499368449": {
      "model_module": "@jupyter-widgets/base",
      "model_module_version": "1.2.0",
      "model_name": "LayoutModel",
      "state": {
       "_model_module": "@jupyter-widgets/base",
       "_model_module_version": "1.2.0",
       "_model_name": "LayoutModel",
       "_view_count": null,
       "_view_module": "@jupyter-widgets/base",
       "_view_module_version": "1.2.0",
       "_view_name": "LayoutView",
       "align_content": null,
       "align_items": null,
       "align_self": null,
       "border": null,
       "bottom": null,
       "display": null,
       "flex": null,
       "flex_flow": null,
       "grid_area": null,
       "grid_auto_columns": null,
       "grid_auto_flow": null,
       "grid_auto_rows": null,
       "grid_column": null,
       "grid_gap": null,
       "grid_row": null,
       "grid_template_areas": null,
       "grid_template_columns": null,
       "grid_template_rows": null,
       "height": null,
       "justify_content": null,
       "justify_items": null,
       "left": null,
       "margin": null,
       "max_height": null,
       "max_width": null,
       "min_height": null,
       "min_width": null,
       "object_fit": null,
       "object_position": null,
       "order": null,
       "overflow": null,
       "overflow_x": null,
       "overflow_y": null,
       "padding": null,
       "right": null,
       "top": null,
       "visibility": null,
       "width": null
      }
     },
     "4fbc86a40183427e87725f26f91eeba0": {
      "model_module": "@jupyter-widgets/base",
      "model_module_version": "1.2.0",
      "model_name": "LayoutModel",
      "state": {
       "_model_module": "@jupyter-widgets/base",
       "_model_module_version": "1.2.0",
       "_model_name": "LayoutModel",
       "_view_count": null,
       "_view_module": "@jupyter-widgets/base",
       "_view_module_version": "1.2.0",
       "_view_name": "LayoutView",
       "align_content": null,
       "align_items": null,
       "align_self": null,
       "border": null,
       "bottom": null,
       "display": null,
       "flex": null,
       "flex_flow": null,
       "grid_area": null,
       "grid_auto_columns": null,
       "grid_auto_flow": null,
       "grid_auto_rows": null,
       "grid_column": null,
       "grid_gap": null,
       "grid_row": null,
       "grid_template_areas": null,
       "grid_template_columns": null,
       "grid_template_rows": null,
       "height": null,
       "justify_content": null,
       "justify_items": null,
       "left": null,
       "margin": null,
       "max_height": null,
       "max_width": null,
       "min_height": null,
       "min_width": null,
       "object_fit": null,
       "object_position": null,
       "order": null,
       "overflow": null,
       "overflow_x": null,
       "overflow_y": null,
       "padding": null,
       "right": null,
       "top": null,
       "visibility": null,
       "width": null
      }
     },
     "50f7364fb0f54c009933d0acc5d66cc2": {
      "model_module": "@jupyter-widgets/controls",
      "model_module_version": "1.5.0",
      "model_name": "HTMLModel",
      "state": {
       "_dom_classes": [],
       "_model_module": "@jupyter-widgets/controls",
       "_model_module_version": "1.5.0",
       "_model_name": "HTMLModel",
       "_view_count": null,
       "_view_module": "@jupyter-widgets/controls",
       "_view_module_version": "1.5.0",
       "_view_name": "HTMLView",
       "description": "",
       "description_tooltip": null,
       "layout": "IPY_MODEL_9b9a0daff3124a6ab3cf46c9ecb2b7a9",
       "placeholder": "​",
       "style": "IPY_MODEL_8801bf6a8cfb44f28af77bdee4d5a35b",
       "value": "model.safetensors: 100%"
      }
     },
     "58e40ff8f0ed48819936eca5b4d39e44": {
      "model_module": "@jupyter-widgets/base",
      "model_module_version": "1.2.0",
      "model_name": "LayoutModel",
      "state": {
       "_model_module": "@jupyter-widgets/base",
       "_model_module_version": "1.2.0",
       "_model_name": "LayoutModel",
       "_view_count": null,
       "_view_module": "@jupyter-widgets/base",
       "_view_module_version": "1.2.0",
       "_view_name": "LayoutView",
       "align_content": null,
       "align_items": null,
       "align_self": null,
       "border": null,
       "bottom": null,
       "display": null,
       "flex": null,
       "flex_flow": null,
       "grid_area": null,
       "grid_auto_columns": null,
       "grid_auto_flow": null,
       "grid_auto_rows": null,
       "grid_column": null,
       "grid_gap": null,
       "grid_row": null,
       "grid_template_areas": null,
       "grid_template_columns": null,
       "grid_template_rows": null,
       "height": null,
       "justify_content": null,
       "justify_items": null,
       "left": null,
       "margin": null,
       "max_height": null,
       "max_width": null,
       "min_height": null,
       "min_width": null,
       "object_fit": null,
       "object_position": null,
       "order": null,
       "overflow": null,
       "overflow_x": null,
       "overflow_y": null,
       "padding": null,
       "right": null,
       "top": null,
       "visibility": null,
       "width": null
      }
     },
     "59ed77833f85406e9769506b444b0c49": {
      "model_module": "@jupyter-widgets/controls",
      "model_module_version": "1.5.0",
      "model_name": "HTMLModel",
      "state": {
       "_dom_classes": [],
       "_model_module": "@jupyter-widgets/controls",
       "_model_module_version": "1.5.0",
       "_model_name": "HTMLModel",
       "_view_count": null,
       "_view_module": "@jupyter-widgets/controls",
       "_view_module_version": "1.5.0",
       "_view_name": "HTMLView",
       "description": "",
       "description_tooltip": null,
       "layout": "IPY_MODEL_c39eaa420ff4427db68192a8e6101a6e",
       "placeholder": "​",
       "style": "IPY_MODEL_1c807aeacc5a42a48bc78a9a483f6c09",
       "value": "config.json: 100%"
      }
     },
     "5d08fcb967aa4196bcdd52b1f7d3488d": {
      "model_module": "@jupyter-widgets/controls",
      "model_module_version": "1.5.0",
      "model_name": "FloatProgressModel",
      "state": {
       "_dom_classes": [],
       "_model_module": "@jupyter-widgets/controls",
       "_model_module_version": "1.5.0",
       "_model_name": "FloatProgressModel",
       "_view_count": null,
       "_view_module": "@jupyter-widgets/controls",
       "_view_module_version": "1.5.0",
       "_view_name": "ProgressView",
       "bar_style": "success",
       "description": "",
       "description_tooltip": null,
       "layout": "IPY_MODEL_d406e71456224b439ed134e1d78391d3",
       "max": 374979480,
       "min": 0,
       "orientation": "horizontal",
       "style": "IPY_MODEL_dd76c5f0dcc34d969db359ef49ab9a54",
       "value": 374979480
      }
     },
     "5f59fc02ac004f2c879c5565f34438e9": {
      "model_module": "@jupyter-widgets/controls",
      "model_module_version": "1.5.0",
      "model_name": "ProgressStyleModel",
      "state": {
       "_model_module": "@jupyter-widgets/controls",
       "_model_module_version": "1.5.0",
       "_model_name": "ProgressStyleModel",
       "_view_count": null,
       "_view_module": "@jupyter-widgets/base",
       "_view_module_version": "1.2.0",
       "_view_name": "StyleView",
       "bar_color": null,
       "description_width": ""
      }
     },
     "7db3881732354a6080dc678ed55afa84": {
      "model_module": "@jupyter-widgets/controls",
      "model_module_version": "1.5.0",
      "model_name": "DescriptionStyleModel",
      "state": {
       "_model_module": "@jupyter-widgets/controls",
       "_model_module_version": "1.5.0",
       "_model_name": "DescriptionStyleModel",
       "_view_count": null,
       "_view_module": "@jupyter-widgets/base",
       "_view_module_version": "1.2.0",
       "_view_name": "StyleView",
       "description_width": ""
      }
     },
     "8801bf6a8cfb44f28af77bdee4d5a35b": {
      "model_module": "@jupyter-widgets/controls",
      "model_module_version": "1.5.0",
      "model_name": "DescriptionStyleModel",
      "state": {
       "_model_module": "@jupyter-widgets/controls",
       "_model_module_version": "1.5.0",
       "_model_name": "DescriptionStyleModel",
       "_view_count": null,
       "_view_module": "@jupyter-widgets/base",
       "_view_module_version": "1.2.0",
       "_view_name": "StyleView",
       "description_width": ""
      }
     },
     "88bf261e6a6b442191f72f685fbf6f7a": {
      "model_module": "@jupyter-widgets/base",
      "model_module_version": "1.2.0",
      "model_name": "LayoutModel",
      "state": {
       "_model_module": "@jupyter-widgets/base",
       "_model_module_version": "1.2.0",
       "_model_name": "LayoutModel",
       "_view_count": null,
       "_view_module": "@jupyter-widgets/base",
       "_view_module_version": "1.2.0",
       "_view_name": "LayoutView",
       "align_content": null,
       "align_items": null,
       "align_self": null,
       "border": null,
       "bottom": null,
       "display": null,
       "flex": null,
       "flex_flow": null,
       "grid_area": null,
       "grid_auto_columns": null,
       "grid_auto_flow": null,
       "grid_auto_rows": null,
       "grid_column": null,
       "grid_gap": null,
       "grid_row": null,
       "grid_template_areas": null,
       "grid_template_columns": null,
       "grid_template_rows": null,
       "height": null,
       "justify_content": null,
       "justify_items": null,
       "left": null,
       "margin": null,
       "max_height": null,
       "max_width": null,
       "min_height": null,
       "min_width": null,
       "object_fit": null,
       "object_position": null,
       "order": null,
       "overflow": null,
       "overflow_x": null,
       "overflow_y": null,
       "padding": null,
       "right": null,
       "top": null,
       "visibility": null,
       "width": null
      }
     },
     "8b35a23c0a8d48b0b94b8909d5124793": {
      "model_module": "@jupyter-widgets/base",
      "model_module_version": "1.2.0",
      "model_name": "LayoutModel",
      "state": {
       "_model_module": "@jupyter-widgets/base",
       "_model_module_version": "1.2.0",
       "_model_name": "LayoutModel",
       "_view_count": null,
       "_view_module": "@jupyter-widgets/base",
       "_view_module_version": "1.2.0",
       "_view_name": "LayoutView",
       "align_content": null,
       "align_items": null,
       "align_self": null,
       "border": null,
       "bottom": null,
       "display": null,
       "flex": null,
       "flex_flow": null,
       "grid_area": null,
       "grid_auto_columns": null,
       "grid_auto_flow": null,
       "grid_auto_rows": null,
       "grid_column": null,
       "grid_gap": null,
       "grid_row": null,
       "grid_template_areas": null,
       "grid_template_columns": null,
       "grid_template_rows": null,
       "height": null,
       "justify_content": null,
       "justify_items": null,
       "left": null,
       "margin": null,
       "max_height": null,
       "max_width": null,
       "min_height": null,
       "min_width": null,
       "object_fit": null,
       "object_position": null,
       "order": null,
       "overflow": null,
       "overflow_x": null,
       "overflow_y": null,
       "padding": null,
       "right": null,
       "top": null,
       "visibility": null,
       "width": null
      }
     },
     "8d1d27cf6a444d9985d5da8bf2bbfd36": {
      "model_module": "@jupyter-widgets/controls",
      "model_module_version": "1.5.0",
      "model_name": "FloatProgressModel",
      "state": {
       "_dom_classes": [],
       "_model_module": "@jupyter-widgets/controls",
       "_model_module_version": "1.5.0",
       "_model_name": "FloatProgressModel",
       "_view_count": null,
       "_view_module": "@jupyter-widgets/controls",
       "_view_module_version": "1.5.0",
       "_view_name": "ProgressView",
       "bar_style": "success",
       "description": "",
       "description_tooltip": null,
       "layout": "IPY_MODEL_ea1074ee448d433e81a8dc96b4b7d727",
       "max": 466,
       "min": 0,
       "orientation": "horizontal",
       "style": "IPY_MODEL_5f59fc02ac004f2c879c5565f34438e9",
       "value": 466
      }
     },
     "9aabd9cb07214856aeb55c236abc287a": {
      "model_module": "@jupyter-widgets/base",
      "model_module_version": "1.2.0",
      "model_name": "LayoutModel",
      "state": {
       "_model_module": "@jupyter-widgets/base",
       "_model_module_version": "1.2.0",
       "_model_name": "LayoutModel",
       "_view_count": null,
       "_view_module": "@jupyter-widgets/base",
       "_view_module_version": "1.2.0",
       "_view_name": "LayoutView",
       "align_content": null,
       "align_items": null,
       "align_self": null,
       "border": null,
       "bottom": null,
       "display": null,
       "flex": null,
       "flex_flow": null,
       "grid_area": null,
       "grid_auto_columns": null,
       "grid_auto_flow": null,
       "grid_auto_rows": null,
       "grid_column": null,
       "grid_gap": null,
       "grid_row": null,
       "grid_template_areas": null,
       "grid_template_columns": null,
       "grid_template_rows": null,
       "height": null,
       "justify_content": null,
       "justify_items": null,
       "left": null,
       "margin": null,
       "max_height": null,
       "max_width": null,
       "min_height": null,
       "min_width": null,
       "object_fit": null,
       "object_position": null,
       "order": null,
       "overflow": null,
       "overflow_x": null,
       "overflow_y": null,
       "padding": null,
       "right": null,
       "top": null,
       "visibility": null,
       "width": null
      }
     },
     "9b9a0daff3124a6ab3cf46c9ecb2b7a9": {
      "model_module": "@jupyter-widgets/base",
      "model_module_version": "1.2.0",
      "model_name": "LayoutModel",
      "state": {
       "_model_module": "@jupyter-widgets/base",
       "_model_module_version": "1.2.0",
       "_model_name": "LayoutModel",
       "_view_count": null,
       "_view_module": "@jupyter-widgets/base",
       "_view_module_version": "1.2.0",
       "_view_name": "LayoutView",
       "align_content": null,
       "align_items": null,
       "align_self": null,
       "border": null,
       "bottom": null,
       "display": null,
       "flex": null,
       "flex_flow": null,
       "grid_area": null,
       "grid_auto_columns": null,
       "grid_auto_flow": null,
       "grid_auto_rows": null,
       "grid_column": null,
       "grid_gap": null,
       "grid_row": null,
       "grid_template_areas": null,
       "grid_template_columns": null,
       "grid_template_rows": null,
       "height": null,
       "justify_content": null,
       "justify_items": null,
       "left": null,
       "margin": null,
       "max_height": null,
       "max_width": null,
       "min_height": null,
       "min_width": null,
       "object_fit": null,
       "object_position": null,
       "order": null,
       "overflow": null,
       "overflow_x": null,
       "overflow_y": null,
       "padding": null,
       "right": null,
       "top": null,
       "visibility": null,
       "width": null
      }
     },
     "a5b63bad264e4c30975c190e71034602": {
      "model_module": "@jupyter-widgets/controls",
      "model_module_version": "1.5.0",
      "model_name": "HTMLModel",
      "state": {
       "_dom_classes": [],
       "_model_module": "@jupyter-widgets/controls",
       "_model_module_version": "1.5.0",
       "_model_name": "HTMLModel",
       "_view_count": null,
       "_view_module": "@jupyter-widgets/controls",
       "_view_module_version": "1.5.0",
       "_view_name": "HTMLView",
       "description": "",
       "description_tooltip": null,
       "layout": "IPY_MODEL_8b35a23c0a8d48b0b94b8909d5124793",
       "placeholder": "​",
       "style": "IPY_MODEL_db73c7ce7c3f442a8472933825703ead",
       "value": "preprocessor_config.json: 100%"
      }
     },
     "ad12b4c0886a48bcb9af80b4a388c564": {
      "model_module": "@jupyter-widgets/base",
      "model_module_version": "1.2.0",
      "model_name": "LayoutModel",
      "state": {
       "_model_module": "@jupyter-widgets/base",
       "_model_module_version": "1.2.0",
       "_model_name": "LayoutModel",
       "_view_count": null,
       "_view_module": "@jupyter-widgets/base",
       "_view_module_version": "1.2.0",
       "_view_name": "LayoutView",
       "align_content": null,
       "align_items": null,
       "align_self": null,
       "border": null,
       "bottom": null,
       "display": null,
       "flex": null,
       "flex_flow": null,
       "grid_area": null,
       "grid_auto_columns": null,
       "grid_auto_flow": null,
       "grid_auto_rows": null,
       "grid_column": null,
       "grid_gap": null,
       "grid_row": null,
       "grid_template_areas": null,
       "grid_template_columns": null,
       "grid_template_rows": null,
       "height": null,
       "justify_content": null,
       "justify_items": null,
       "left": null,
       "margin": null,
       "max_height": null,
       "max_width": null,
       "min_height": null,
       "min_width": null,
       "object_fit": null,
       "object_position": null,
       "order": null,
       "overflow": null,
       "overflow_x": null,
       "overflow_y": null,
       "padding": null,
       "right": null,
       "top": null,
       "visibility": null,
       "width": null
      }
     },
     "aefb9674afaa4fd7b7659058339ce42c": {
      "model_module": "@jupyter-widgets/controls",
      "model_module_version": "1.5.0",
      "model_name": "HBoxModel",
      "state": {
       "_dom_classes": [],
       "_model_module": "@jupyter-widgets/controls",
       "_model_module_version": "1.5.0",
       "_model_name": "HBoxModel",
       "_view_count": null,
       "_view_module": "@jupyter-widgets/controls",
       "_view_module_version": "1.5.0",
       "_view_name": "HBoxView",
       "box_style": "",
       "children": [
        "IPY_MODEL_a5b63bad264e4c30975c190e71034602",
        "IPY_MODEL_8d1d27cf6a444d9985d5da8bf2bbfd36",
        "IPY_MODEL_d01cfdb5518d4250ab5a8b5a6063f1ea"
       ],
       "layout": "IPY_MODEL_4fbc86a40183427e87725f26f91eeba0"
      }
     },
     "c39eaa420ff4427db68192a8e6101a6e": {
      "model_module": "@jupyter-widgets/base",
      "model_module_version": "1.2.0",
      "model_name": "LayoutModel",
      "state": {
       "_model_module": "@jupyter-widgets/base",
       "_model_module_version": "1.2.0",
       "_model_name": "LayoutModel",
       "_view_count": null,
       "_view_module": "@jupyter-widgets/base",
       "_view_module_version": "1.2.0",
       "_view_name": "LayoutView",
       "align_content": null,
       "align_items": null,
       "align_self": null,
       "border": null,
       "bottom": null,
       "display": null,
       "flex": null,
       "flex_flow": null,
       "grid_area": null,
       "grid_auto_columns": null,
       "grid_auto_flow": null,
       "grid_auto_rows": null,
       "grid_column": null,
       "grid_gap": null,
       "grid_row": null,
       "grid_template_areas": null,
       "grid_template_columns": null,
       "grid_template_rows": null,
       "height": null,
       "justify_content": null,
       "justify_items": null,
       "left": null,
       "margin": null,
       "max_height": null,
       "max_width": null,
       "min_height": null,
       "min_width": null,
       "object_fit": null,
       "object_position": null,
       "order": null,
       "overflow": null,
       "overflow_x": null,
       "overflow_y": null,
       "padding": null,
       "right": null,
       "top": null,
       "visibility": null,
       "width": null
      }
     },
     "d01cfdb5518d4250ab5a8b5a6063f1ea": {
      "model_module": "@jupyter-widgets/controls",
      "model_module_version": "1.5.0",
      "model_name": "HTMLModel",
      "state": {
       "_dom_classes": [],
       "_model_module": "@jupyter-widgets/controls",
       "_model_module_version": "1.5.0",
       "_model_name": "HTMLModel",
       "_view_count": null,
       "_view_module": "@jupyter-widgets/controls",
       "_view_module_version": "1.5.0",
       "_view_name": "HTMLView",
       "description": "",
       "description_tooltip": null,
       "layout": "IPY_MODEL_ad12b4c0886a48bcb9af80b4a388c564",
       "placeholder": "​",
       "style": "IPY_MODEL_7db3881732354a6080dc678ed55afa84",
       "value": " 466/466 [00:00&lt;00:00, 38.1kB/s]"
      }
     },
     "d406e71456224b439ed134e1d78391d3": {
      "model_module": "@jupyter-widgets/base",
      "model_module_version": "1.2.0",
      "model_name": "LayoutModel",
      "state": {
       "_model_module": "@jupyter-widgets/base",
       "_model_module_version": "1.2.0",
       "_model_name": "LayoutModel",
       "_view_count": null,
       "_view_module": "@jupyter-widgets/base",
       "_view_module_version": "1.2.0",
       "_view_name": "LayoutView",
       "align_content": null,
       "align_items": null,
       "align_self": null,
       "border": null,
       "bottom": null,
       "display": null,
       "flex": null,
       "flex_flow": null,
       "grid_area": null,
       "grid_auto_columns": null,
       "grid_auto_flow": null,
       "grid_auto_rows": null,
       "grid_column": null,
       "grid_gap": null,
       "grid_row": null,
       "grid_template_areas": null,
       "grid_template_columns": null,
       "grid_template_rows": null,
       "height": null,
       "justify_content": null,
       "justify_items": null,
       "left": null,
       "margin": null,
       "max_height": null,
       "max_width": null,
       "min_height": null,
       "min_width": null,
       "object_fit": null,
       "object_position": null,
       "order": null,
       "overflow": null,
       "overflow_x": null,
       "overflow_y": null,
       "padding": null,
       "right": null,
       "top": null,
       "visibility": null,
       "width": null
      }
     },
     "db73c7ce7c3f442a8472933825703ead": {
      "model_module": "@jupyter-widgets/controls",
      "model_module_version": "1.5.0",
      "model_name": "DescriptionStyleModel",
      "state": {
       "_model_module": "@jupyter-widgets/controls",
       "_model_module_version": "1.5.0",
       "_model_name": "DescriptionStyleModel",
       "_view_count": null,
       "_view_module": "@jupyter-widgets/base",
       "_view_module_version": "1.2.0",
       "_view_name": "StyleView",
       "description_width": ""
      }
     },
     "dd76c5f0dcc34d969db359ef49ab9a54": {
      "model_module": "@jupyter-widgets/controls",
      "model_module_version": "1.5.0",
      "model_name": "ProgressStyleModel",
      "state": {
       "_model_module": "@jupyter-widgets/controls",
       "_model_module_version": "1.5.0",
       "_model_name": "ProgressStyleModel",
       "_view_count": null,
       "_view_module": "@jupyter-widgets/base",
       "_view_module_version": "1.2.0",
       "_view_name": "StyleView",
       "bar_color": null,
       "description_width": ""
      }
     },
     "de294e18f0b7454188a6d5d8cef65b82": {
      "model_module": "@jupyter-widgets/controls",
      "model_module_version": "1.5.0",
      "model_name": "HTMLModel",
      "state": {
       "_dom_classes": [],
       "_model_module": "@jupyter-widgets/controls",
       "_model_module_version": "1.5.0",
       "_model_name": "HTMLModel",
       "_view_count": null,
       "_view_module": "@jupyter-widgets/controls",
       "_view_module_version": "1.5.0",
       "_view_name": "HTMLView",
       "description": "",
       "description_tooltip": null,
       "layout": "IPY_MODEL_9aabd9cb07214856aeb55c236abc287a",
       "placeholder": "​",
       "style": "IPY_MODEL_df54fbed5bf142148d5ee120856a3208",
       "value": " 375M/375M [00:01&lt;00:00, 269MB/s]"
      }
     },
     "df54fbed5bf142148d5ee120856a3208": {
      "model_module": "@jupyter-widgets/controls",
      "model_module_version": "1.5.0",
      "model_name": "DescriptionStyleModel",
      "state": {
       "_model_module": "@jupyter-widgets/controls",
       "_model_module_version": "1.5.0",
       "_model_name": "DescriptionStyleModel",
       "_view_count": null,
       "_view_module": "@jupyter-widgets/base",
       "_view_module_version": "1.2.0",
       "_view_name": "StyleView",
       "description_width": ""
      }
     },
     "e5000adc2c9944c1a031bd8a064be6e3": {
      "model_module": "@jupyter-widgets/base",
      "model_module_version": "1.2.0",
      "model_name": "LayoutModel",
      "state": {
       "_model_module": "@jupyter-widgets/base",
       "_model_module_version": "1.2.0",
       "_model_name": "LayoutModel",
       "_view_count": null,
       "_view_module": "@jupyter-widgets/base",
       "_view_module_version": "1.2.0",
       "_view_name": "LayoutView",
       "align_content": null,
       "align_items": null,
       "align_self": null,
       "border": null,
       "bottom": null,
       "display": null,
       "flex": null,
       "flex_flow": null,
       "grid_area": null,
       "grid_auto_columns": null,
       "grid_auto_flow": null,
       "grid_auto_rows": null,
       "grid_column": null,
       "grid_gap": null,
       "grid_row": null,
       "grid_template_areas": null,
       "grid_template_columns": null,
       "grid_template_rows": null,
       "height": null,
       "justify_content": null,
       "justify_items": null,
       "left": null,
       "margin": null,
       "max_height": null,
       "max_width": null,
       "min_height": null,
       "min_width": null,
       "object_fit": null,
       "object_position": null,
       "order": null,
       "overflow": null,
       "overflow_x": null,
       "overflow_y": null,
       "padding": null,
       "right": null,
       "top": null,
       "visibility": null,
       "width": null
      }
     },
     "ea1074ee448d433e81a8dc96b4b7d727": {
      "model_module": "@jupyter-widgets/base",
      "model_module_version": "1.2.0",
      "model_name": "LayoutModel",
      "state": {
       "_model_module": "@jupyter-widgets/base",
       "_model_module_version": "1.2.0",
       "_model_name": "LayoutModel",
       "_view_count": null,
       "_view_module": "@jupyter-widgets/base",
       "_view_module_version": "1.2.0",
       "_view_name": "LayoutView",
       "align_content": null,
       "align_items": null,
       "align_self": null,
       "border": null,
       "bottom": null,
       "display": null,
       "flex": null,
       "flex_flow": null,
       "grid_area": null,
       "grid_auto_columns": null,
       "grid_auto_flow": null,
       "grid_auto_rows": null,
       "grid_column": null,
       "grid_gap": null,
       "grid_row": null,
       "grid_template_areas": null,
       "grid_template_columns": null,
       "grid_template_rows": null,
       "height": null,
       "justify_content": null,
       "justify_items": null,
       "left": null,
       "margin": null,
       "max_height": null,
       "max_width": null,
       "min_height": null,
       "min_width": null,
       "object_fit": null,
       "object_position": null,
       "order": null,
       "overflow": null,
       "overflow_x": null,
       "overflow_y": null,
       "padding": null,
       "right": null,
       "top": null,
       "visibility": null,
       "width": null
      }
     },
     "f00e6725cf9d467e9216a071ac226216": {
      "model_module": "@jupyter-widgets/controls",
      "model_module_version": "1.5.0",
      "model_name": "HBoxModel",
      "state": {
       "_dom_classes": [],
       "_model_module": "@jupyter-widgets/controls",
       "_model_module_version": "1.5.0",
       "_model_name": "HBoxModel",
       "_view_count": null,
       "_view_module": "@jupyter-widgets/controls",
       "_view_module_version": "1.5.0",
       "_view_name": "HBoxView",
       "box_style": "",
       "children": [
        "IPY_MODEL_50f7364fb0f54c009933d0acc5d66cc2",
        "IPY_MODEL_5d08fcb967aa4196bcdd52b1f7d3488d",
        "IPY_MODEL_de294e18f0b7454188a6d5d8cef65b82"
       ],
       "layout": "IPY_MODEL_58e40ff8f0ed48819936eca5b4d39e44"
      }
     }
    },
    "version_major": 2,
    "version_minor": 0
   }
  }
 },
 "nbformat": 4,
 "nbformat_minor": 5
}
