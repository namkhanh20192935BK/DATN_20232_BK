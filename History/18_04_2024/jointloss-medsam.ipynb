{
 "cells": [
  {
   "cell_type": "markdown",
   "id": "f9b275cf",
   "metadata": {
    "id": "ZgR16vTvrLfd",
    "papermill": {
     "duration": 0.026175,
     "end_time": "2024-04-24T10:38:15.218136",
     "exception": false,
     "start_time": "2024-04-24T10:38:15.191961",
     "status": "completed"
    },
    "tags": []
   },
   "source": [
    "# Cài đặt và import các thư viện cần thiết"
   ]
  },
  {
   "cell_type": "code",
   "execution_count": 1,
   "id": "6cf61934",
   "metadata": {
    "execution": {
     "iopub.execute_input": "2024-04-24T10:38:15.272005Z",
     "iopub.status.busy": "2024-04-24T10:38:15.271611Z",
     "iopub.status.idle": "2024-04-24T10:39:59.881169Z",
     "shell.execute_reply": "2024-04-24T10:39:59.879992Z"
    },
    "id": "NSkTx6N-Mtyd",
    "outputId": "7f5a964e-687b-4f49-d3e1-f9016e6402d6",
    "papermill": {
     "duration": 104.638726,
     "end_time": "2024-04-24T10:39:59.883510",
     "exception": false,
     "start_time": "2024-04-24T10:38:15.244784",
     "status": "completed"
    },
    "tags": []
   },
   "outputs": [
    {
     "name": "stdout",
     "output_type": "stream",
     "text": [
      "Collecting git+https://github.com/facebookresearch/segment-anything.git\r\n",
      "  Cloning https://github.com/facebookresearch/segment-anything.git to /tmp/pip-req-build-1mwy4fo8\r\n",
      "  Running command git clone --filter=blob:none --quiet https://github.com/facebookresearch/segment-anything.git /tmp/pip-req-build-1mwy4fo8\r\n",
      "  Resolved https://github.com/facebookresearch/segment-anything.git to commit 6fdee8f2727f4506cfbbe553e23b895e27956588\r\n",
      "  Preparing metadata (setup.py) ... \u001b[?25ldone\r\n",
      "\u001b[?25hRequirement already satisfied: datasets in /opt/conda/lib/python3.10/site-packages (2.18.0)\r\n",
      "Requirement already satisfied: filelock in /opt/conda/lib/python3.10/site-packages (from datasets) (3.13.1)\r\n",
      "Requirement already satisfied: numpy>=1.17 in /opt/conda/lib/python3.10/site-packages (from datasets) (1.26.4)\r\n",
      "Requirement already satisfied: pyarrow>=12.0.0 in /opt/conda/lib/python3.10/site-packages (from datasets) (15.0.2)\r\n",
      "Requirement already satisfied: pyarrow-hotfix in /opt/conda/lib/python3.10/site-packages (from datasets) (0.6)\r\n",
      "Requirement already satisfied: dill<0.3.9,>=0.3.0 in /opt/conda/lib/python3.10/site-packages (from datasets) (0.3.8)\r\n",
      "Requirement already satisfied: pandas in /opt/conda/lib/python3.10/site-packages (from datasets) (2.1.4)\r\n",
      "Requirement already satisfied: requests>=2.19.0 in /opt/conda/lib/python3.10/site-packages (from datasets) (2.31.0)\r\n",
      "Requirement already satisfied: tqdm>=4.62.1 in /opt/conda/lib/python3.10/site-packages (from datasets) (4.66.1)\r\n",
      "Requirement already satisfied: xxhash in /opt/conda/lib/python3.10/site-packages (from datasets) (3.4.1)\r\n",
      "Requirement already satisfied: multiprocess in /opt/conda/lib/python3.10/site-packages (from datasets) (0.70.16)\r\n",
      "Requirement already satisfied: fsspec<=2024.2.0,>=2023.1.0 in /opt/conda/lib/python3.10/site-packages (from fsspec[http]<=2024.2.0,>=2023.1.0->datasets) (2024.2.0)\r\n",
      "Requirement already satisfied: aiohttp in /opt/conda/lib/python3.10/site-packages (from datasets) (3.9.1)\r\n",
      "Requirement already satisfied: huggingface-hub>=0.19.4 in /opt/conda/lib/python3.10/site-packages (from datasets) (0.22.2)\r\n",
      "Requirement already satisfied: packaging in /opt/conda/lib/python3.10/site-packages (from datasets) (21.3)\r\n",
      "Requirement already satisfied: pyyaml>=5.1 in /opt/conda/lib/python3.10/site-packages (from datasets) (6.0.1)\r\n",
      "Requirement already satisfied: attrs>=17.3.0 in /opt/conda/lib/python3.10/site-packages (from aiohttp->datasets) (23.2.0)\r\n",
      "Requirement already satisfied: multidict<7.0,>=4.5 in /opt/conda/lib/python3.10/site-packages (from aiohttp->datasets) (6.0.4)\r\n",
      "Requirement already satisfied: yarl<2.0,>=1.0 in /opt/conda/lib/python3.10/site-packages (from aiohttp->datasets) (1.9.3)\r\n",
      "Requirement already satisfied: frozenlist>=1.1.1 in /opt/conda/lib/python3.10/site-packages (from aiohttp->datasets) (1.4.1)\r\n",
      "Requirement already satisfied: aiosignal>=1.1.2 in /opt/conda/lib/python3.10/site-packages (from aiohttp->datasets) (1.3.1)\r\n",
      "Requirement already satisfied: async-timeout<5.0,>=4.0 in /opt/conda/lib/python3.10/site-packages (from aiohttp->datasets) (4.0.3)\r\n",
      "Requirement already satisfied: typing-extensions>=3.7.4.3 in /opt/conda/lib/python3.10/site-packages (from huggingface-hub>=0.19.4->datasets) (4.9.0)\r\n",
      "Requirement already satisfied: pyparsing!=3.0.5,>=2.0.2 in /opt/conda/lib/python3.10/site-packages (from packaging->datasets) (3.1.1)\r\n",
      "Requirement already satisfied: charset-normalizer<4,>=2 in /opt/conda/lib/python3.10/site-packages (from requests>=2.19.0->datasets) (3.3.2)\r\n",
      "Requirement already satisfied: idna<4,>=2.5 in /opt/conda/lib/python3.10/site-packages (from requests>=2.19.0->datasets) (3.6)\r\n",
      "Requirement already satisfied: urllib3<3,>=1.21.1 in /opt/conda/lib/python3.10/site-packages (from requests>=2.19.0->datasets) (1.26.18)\r\n",
      "Requirement already satisfied: certifi>=2017.4.17 in /opt/conda/lib/python3.10/site-packages (from requests>=2.19.0->datasets) (2024.2.2)\r\n",
      "Requirement already satisfied: python-dateutil>=2.8.2 in /opt/conda/lib/python3.10/site-packages (from pandas->datasets) (2.9.0.post0)\r\n",
      "Requirement already satisfied: pytz>=2020.1 in /opt/conda/lib/python3.10/site-packages (from pandas->datasets) (2023.3.post1)\r\n",
      "Requirement already satisfied: tzdata>=2022.1 in /opt/conda/lib/python3.10/site-packages (from pandas->datasets) (2023.4)\r\n",
      "Requirement already satisfied: six>=1.5 in /opt/conda/lib/python3.10/site-packages (from python-dateutil>=2.8.2->pandas->datasets) (1.16.0)\r\n",
      "Collecting patchify\r\n",
      "  Downloading patchify-0.2.3-py3-none-any.whl.metadata (3.0 kB)\r\n",
      "Requirement already satisfied: numpy<2,>=1 in /opt/conda/lib/python3.10/site-packages (from patchify) (1.26.4)\r\n",
      "Downloading patchify-0.2.3-py3-none-any.whl (6.6 kB)\r\n",
      "Installing collected packages: patchify\r\n",
      "Successfully installed patchify-0.2.3\r\n"
     ]
    }
   ],
   "source": [
    "# Install the required libraries\n",
    "#SAM\n",
    "!pip install git+https://github.com/facebookresearch/segment-anything.git\n",
    "#Transformers\n",
    "!pip install -q git+https://github.com/huggingface/transformers.git\n",
    "#Datasets to prepare data and monai if you want to use special loss functions\n",
    "!pip install datasets\n",
    "!pip install -q monai\n",
    "#Patchify to divide large images into smaller patches for training. (Not necessary for smaller images)\n",
    "!pip install patchify"
   ]
  },
  {
   "cell_type": "code",
   "execution_count": 2,
   "id": "0f3c10be",
   "metadata": {
    "execution": {
     "iopub.execute_input": "2024-04-24T10:39:59.941213Z",
     "iopub.status.busy": "2024-04-24T10:39:59.940373Z",
     "iopub.status.idle": "2024-04-24T10:40:12.540178Z",
     "shell.execute_reply": "2024-04-24T10:40:12.539243Z"
    },
    "papermill": {
     "duration": 12.631373,
     "end_time": "2024-04-24T10:40:12.542579",
     "exception": false,
     "start_time": "2024-04-24T10:39:59.911206",
     "status": "completed"
    },
    "tags": []
   },
   "outputs": [
    {
     "name": "stdout",
     "output_type": "stream",
     "text": [
      "Collecting pytorch-msssim\r\n",
      "  Downloading pytorch_msssim-1.0.0-py3-none-any.whl.metadata (8.0 kB)\r\n",
      "Requirement already satisfied: torch in /opt/conda/lib/python3.10/site-packages (from pytorch-msssim) (2.1.2)\r\n",
      "Requirement already satisfied: filelock in /opt/conda/lib/python3.10/site-packages (from torch->pytorch-msssim) (3.13.1)\r\n",
      "Requirement already satisfied: typing-extensions in /opt/conda/lib/python3.10/site-packages (from torch->pytorch-msssim) (4.9.0)\r\n",
      "Requirement already satisfied: sympy in /opt/conda/lib/python3.10/site-packages (from torch->pytorch-msssim) (1.12)\r\n",
      "Requirement already satisfied: networkx in /opt/conda/lib/python3.10/site-packages (from torch->pytorch-msssim) (3.2.1)\r\n",
      "Requirement already satisfied: jinja2 in /opt/conda/lib/python3.10/site-packages (from torch->pytorch-msssim) (3.1.2)\r\n",
      "Requirement already satisfied: fsspec in /opt/conda/lib/python3.10/site-packages (from torch->pytorch-msssim) (2024.2.0)\r\n",
      "Requirement already satisfied: MarkupSafe>=2.0 in /opt/conda/lib/python3.10/site-packages (from jinja2->torch->pytorch-msssim) (2.1.3)\r\n",
      "Requirement already satisfied: mpmath>=0.19 in /opt/conda/lib/python3.10/site-packages (from sympy->torch->pytorch-msssim) (1.3.0)\r\n",
      "Downloading pytorch_msssim-1.0.0-py3-none-any.whl (7.7 kB)\r\n",
      "Installing collected packages: pytorch-msssim\r\n",
      "Successfully installed pytorch-msssim-1.0.0\r\n"
     ]
    }
   ],
   "source": [
    "# Set-up SSIM Loss\n",
    "!pip install pytorch-msssim"
   ]
  },
  {
   "cell_type": "code",
   "execution_count": 3,
   "id": "889a9e7b",
   "metadata": {
    "execution": {
     "iopub.execute_input": "2024-04-24T10:40:12.601407Z",
     "iopub.status.busy": "2024-04-24T10:40:12.600667Z",
     "iopub.status.idle": "2024-04-24T10:40:19.258198Z",
     "shell.execute_reply": "2024-04-24T10:40:19.257360Z"
    },
    "id": "aTXUX7xyCEGT",
    "papermill": {
     "duration": 6.689518,
     "end_time": "2024-04-24T10:40:19.260399",
     "exception": false,
     "start_time": "2024-04-24T10:40:12.570881",
     "status": "completed"
    },
    "tags": []
   },
   "outputs": [],
   "source": [
    "import numpy as np\n",
    "import matplotlib.pyplot as plt\n",
    "import tifffile\n",
    "import os\n",
    "from patchify import patchify  #Only to handle large images\n",
    "import random\n",
    "from scipy import ndimage\n",
    "import cv2\n",
    "from datasets import Dataset\n",
    "from PIL import Image\n",
    "import matplotlib.pyplot as plt\n",
    "import random\n",
    "import torch"
   ]
  },
  {
   "cell_type": "code",
   "execution_count": 4,
   "id": "f81ca229",
   "metadata": {
    "execution": {
     "iopub.execute_input": "2024-04-24T10:40:19.316977Z",
     "iopub.status.busy": "2024-04-24T10:40:19.316455Z",
     "iopub.status.idle": "2024-04-24T10:40:19.321126Z",
     "shell.execute_reply": "2024-04-24T10:40:19.320377Z"
    },
    "papermill": {
     "duration": 0.034575,
     "end_time": "2024-04-24T10:40:19.323007",
     "exception": false,
     "start_time": "2024-04-24T10:40:19.288432",
     "status": "completed"
    },
    "tags": []
   },
   "outputs": [],
   "source": [
    "import torch\n",
    "import torch.nn as nn\n",
    "import torch.nn.functional as F\n",
    "import torch.optim as optim\n",
    "import numpy as np"
   ]
  },
  {
   "cell_type": "markdown",
   "id": "e3bd82e5",
   "metadata": {
    "id": "KhKOdev0r5Rv",
    "papermill": {
     "duration": 0.028914,
     "end_time": "2024-04-24T10:40:19.379141",
     "exception": false,
     "start_time": "2024-04-24T10:40:19.350227",
     "status": "completed"
    },
    "tags": []
   },
   "source": [
    "# Chia dataset để training model"
   ]
  },
  {
   "cell_type": "markdown",
   "id": "bcf0b101",
   "metadata": {
    "id": "aeySopXh7ifd",
    "papermill": {
     "duration": 0.027496,
     "end_time": "2024-04-24T10:40:19.433994",
     "exception": false,
     "start_time": "2024-04-24T10:40:19.406498",
     "status": "completed"
    },
    "tags": []
   },
   "source": [
    "## Chia dataset cho tập train"
   ]
  },
  {
   "cell_type": "code",
   "execution_count": 5,
   "id": "ecc5dfa6",
   "metadata": {
    "execution": {
     "iopub.execute_input": "2024-04-24T10:40:19.491144Z",
     "iopub.status.busy": "2024-04-24T10:40:19.490768Z",
     "iopub.status.idle": "2024-04-24T10:40:31.482788Z",
     "shell.execute_reply": "2024-04-24T10:40:31.481527Z"
    },
    "id": "5mmQvqScVTzX",
    "outputId": "0d318fe9-b1f2-4cef-f697-1e7c947a2c05",
    "papermill": {
     "duration": 12.023269,
     "end_time": "2024-04-24T10:40:31.484910",
     "exception": false,
     "start_time": "2024-04-24T10:40:19.461641",
     "status": "completed"
    },
    "tags": []
   },
   "outputs": [
    {
     "name": "stdout",
     "output_type": "stream",
     "text": [
      "Kích thước của mảng hình ảnh: (1177, 256, 256, 3)\n"
     ]
    }
   ],
   "source": [
    "# Đường dẫn tới thư mục chứa các hình ảnh\n",
    "image_folder = \"/kaggle/input/otu-2d/OTU_2D/train/Image\"\n",
    "\n",
    "# Lấy danh sách các tệp trong thư mục và sắp xếp theo thứ tự tên tăng dần từ A đến Z\n",
    "image_files = sorted(os.listdir(image_folder))\n",
    "\n",
    "# Khởi tạo một danh sách để chứa các hình ảnh dưới dạng mảng NumPy\n",
    "image_array_list = []\n",
    "\n",
    "# Lặp qua tất cả các tệp trong thư mục đã sắp xếp\n",
    "for filename in image_files:\n",
    "    # Kiểm tra xem tệp có phải là hình ảnh không\n",
    "    if filename.endswith(('.JPG')):\n",
    "        # Đường dẫn đầy đủ tới hình ảnh\n",
    "        img_path = os.path.join(image_folder, filename)\n",
    "\n",
    "        # Đọc hình ảnh\n",
    "        img = cv2.imread(img_path, cv2.IMREAD_COLOR)\n",
    "        img = cv2.resize(img, (256, 256))\n",
    "\n",
    "        # Kiểm tra xem hình ảnh có được đọc thành công hay không\n",
    "        if img is not None:\n",
    "            # Thêm hình ảnh vào danh sách\n",
    "            image_array_list.append(img)\n",
    "        else:\n",
    "            print(f\"Không thể đọc hình ảnh {filename}\")\n",
    "\n",
    "# Chuyển đổi danh sách hình ảnh thành mảng NumPy\n",
    "train_images_np = np.array(image_array_list)\n",
    "\n",
    "# In ra kích thước của mảng hình ảnh\n",
    "print(\"Kích thước của mảng hình ảnh:\", train_images_np.shape)\n"
   ]
  },
  {
   "cell_type": "code",
   "execution_count": 6,
   "id": "e6ff0571",
   "metadata": {
    "execution": {
     "iopub.execute_input": "2024-04-24T10:40:31.542598Z",
     "iopub.status.busy": "2024-04-24T10:40:31.541800Z",
     "iopub.status.idle": "2024-04-24T10:40:40.676790Z",
     "shell.execute_reply": "2024-04-24T10:40:40.675546Z"
    },
    "id": "WxNoI5CTVvdW",
    "outputId": "1ef63f04-d7f8-4b86-c7c1-b7298f7da8a9",
    "papermill": {
     "duration": 9.165845,
     "end_time": "2024-04-24T10:40:40.678962",
     "exception": false,
     "start_time": "2024-04-24T10:40:31.513117",
     "status": "completed"
    },
    "tags": []
   },
   "outputs": [
    {
     "name": "stdout",
     "output_type": "stream",
     "text": [
      "Kích thước của mảng mặt nạ: (1177, 256, 256)\n"
     ]
    }
   ],
   "source": [
    "# Đường dẫn tới thư mục chứa các hình ảnh\n",
    "image_folder = \"/kaggle/input/otu-2d/OTU_2D/train/Label\"\n",
    "\n",
    "# Lấy danh sách các tệp trong thư mục và sắp xếp theo thứ tự tên tăng dần từ A đến Z\n",
    "image_files = sorted(os.listdir(image_folder))\n",
    "\n",
    "# Khởi tạo một danh sách để chứa các hình ảnh dưới dạng mảng NumPy\n",
    "image_array_list = []\n",
    "\n",
    "# Lặp qua tất cả các tệp trong thư mục đã được sắp xếp\n",
    "for filename in image_files:\n",
    "    # Kiểm tra xem tệp có phải là hình ảnh không\n",
    "    if filename.endswith('.PNG'):\n",
    "        # Đường dẫn đầy đủ tới hình ảnh\n",
    "        img_path = os.path.join(image_folder, filename)\n",
    "\n",
    "        # Đọc hình ảnh\n",
    "        img = cv2.imread(img_path, cv2.IMREAD_GRAYSCALE)\n",
    "        img = cv2.resize(img, (256, 256))\n",
    "        img = img / 255.0\n",
    "        (thresh, img) = cv2.threshold(img, 0, 1, cv2.THRESH_BINARY)\n",
    "\n",
    "        # img = np.int32(img)\n",
    "\n",
    "        # Kiểm tra xem hình ảnh có được đọc thành công hay không\n",
    "        if img is not None:\n",
    "            # Thêm hình ảnh vào danh sách\n",
    "            image_array_list.append(img)\n",
    "        else:\n",
    "            print(f\"Không thể đọc hình ảnh {filename}\")\n",
    "\n",
    "# Chuyển đổi danh sách hình ảnh thành mảng NumPy\n",
    "train_labels_np = np.array(image_array_list)\n",
    "\n",
    "# In ra kích thước của mảng hình ảnh\n",
    "print(\"Kích thước của mảng mặt nạ:\", train_labels_np.shape)"
   ]
  },
  {
   "cell_type": "code",
   "execution_count": 7,
   "id": "877d0892",
   "metadata": {
    "execution": {
     "iopub.execute_input": "2024-04-24T10:40:40.778350Z",
     "iopub.status.busy": "2024-04-24T10:40:40.778002Z",
     "iopub.status.idle": "2024-04-24T10:41:07.599453Z",
     "shell.execute_reply": "2024-04-24T10:41:07.598479Z"
    },
    "id": "DpBXny1k7UJr",
    "outputId": "f43cc93a-5bf2-4007-ec9a-342b5fa9b2d1",
    "papermill": {
     "duration": 26.853365,
     "end_time": "2024-04-24T10:41:07.601919",
     "exception": false,
     "start_time": "2024-04-24T10:40:40.748554",
     "status": "completed"
    },
    "tags": []
   },
   "outputs": [],
   "source": [
    "# Convert the NumPy arrays to Pillow images and store them in a dictionary\n",
    "dataset_dict = {\n",
    "    \"image\": [Image.fromarray(img).convert('RGB') for img in train_images_np],\n",
    "    \"label\": [Image.fromarray(mask).convert('I') for mask in train_labels_np],\n",
    "}\n",
    "\n",
    "# Create the dataset using the datasets.Dataset class\n",
    "train_dataset = Dataset.from_dict(dataset_dict)"
   ]
  },
  {
   "cell_type": "code",
   "execution_count": 8,
   "id": "00f655df",
   "metadata": {
    "execution": {
     "iopub.execute_input": "2024-04-24T10:41:07.661431Z",
     "iopub.status.busy": "2024-04-24T10:41:07.661086Z",
     "iopub.status.idle": "2024-04-24T10:41:07.668679Z",
     "shell.execute_reply": "2024-04-24T10:41:07.667790Z"
    },
    "id": "ozsUcKje9gsZ",
    "papermill": {
     "duration": 0.039252,
     "end_time": "2024-04-24T10:41:07.670610",
     "exception": false,
     "start_time": "2024-04-24T10:41:07.631358",
     "status": "completed"
    },
    "tags": []
   },
   "outputs": [
    {
     "data": {
      "text/plain": [
       "Dataset({\n",
       "    features: ['image', 'label'],\n",
       "    num_rows: 1177\n",
       "})"
      ]
     },
     "execution_count": 8,
     "metadata": {},
     "output_type": "execute_result"
    }
   ],
   "source": [
    "train_dataset"
   ]
  },
  {
   "cell_type": "markdown",
   "id": "67472700",
   "metadata": {
    "id": "cBn8adwa8kmF",
    "papermill": {
     "duration": 0.027179,
     "end_time": "2024-04-24T10:41:07.726207",
     "exception": false,
     "start_time": "2024-04-24T10:41:07.699028",
     "status": "completed"
    },
    "tags": []
   },
   "source": [
    "## Chia dataset cho tập validation"
   ]
  },
  {
   "cell_type": "code",
   "execution_count": 9,
   "id": "982b08db",
   "metadata": {
    "execution": {
     "iopub.execute_input": "2024-04-24T10:41:07.782919Z",
     "iopub.status.busy": "2024-04-24T10:41:07.782559Z",
     "iopub.status.idle": "2024-04-24T10:41:09.302020Z",
     "shell.execute_reply": "2024-04-24T10:41:09.300623Z"
    },
    "id": "NL-YSQLb9W_Q",
    "outputId": "a52248ba-ba88-43c8-88e9-681aac019221",
    "papermill": {
     "duration": 1.550676,
     "end_time": "2024-04-24T10:41:09.304326",
     "exception": false,
     "start_time": "2024-04-24T10:41:07.753650",
     "status": "completed"
    },
    "tags": []
   },
   "outputs": [
    {
     "name": "stdout",
     "output_type": "stream",
     "text": [
      "Kích thước của mảng hình ảnh: (146, 256, 256, 3)\n"
     ]
    }
   ],
   "source": [
    "# Đường dẫn tới thư mục chứa các hình ảnh\n",
    "image_folder = \"/kaggle/input/otu-2d/OTU_2D/validation/Image\"\n",
    "\n",
    "# Lấy danh sách các tệp trong thư mục và sắp xếp theo thứ tự tên tăng dần từ A đến Z\n",
    "image_files = sorted(os.listdir(image_folder))\n",
    "\n",
    "# Khởi tạo một danh sách để chứa các hình ảnh dưới dạng mảng NumPy\n",
    "image_array_list = []\n",
    "\n",
    "# Lặp qua tất cả các tệp trong thư mục đã sắp xếp\n",
    "for filename in image_files:\n",
    "    # Kiểm tra xem tệp có phải là hình ảnh không\n",
    "    if filename.endswith(('.JPG')):\n",
    "        # Đường dẫn đầy đủ tới hình ảnh\n",
    "        img_path = os.path.join(image_folder, filename)\n",
    "\n",
    "        # Đọc hình ảnh\n",
    "        img = cv2.imread(img_path, cv2.IMREAD_COLOR)\n",
    "        img = cv2.resize(img, (256, 256))\n",
    "\n",
    "        # Kiểm tra xem hình ảnh có được đọc thành công hay không\n",
    "        if img is not None:\n",
    "            # Thêm hình ảnh vào danh sách\n",
    "            image_array_list.append(img)\n",
    "        else:\n",
    "            print(f\"Không thể đọc hình ảnh {filename}\")\n",
    "\n",
    "# Chuyển đổi danh sách hình ảnh thành mảng NumPy\n",
    "val_images_np = np.array(image_array_list)\n",
    "\n",
    "# In ra kích thước của mảng hình ảnh\n",
    "print(\"Kích thước của mảng hình ảnh:\", val_images_np.shape)\n"
   ]
  },
  {
   "cell_type": "code",
   "execution_count": 10,
   "id": "ad229065",
   "metadata": {
    "execution": {
     "iopub.execute_input": "2024-04-24T10:41:09.362350Z",
     "iopub.status.busy": "2024-04-24T10:41:09.361996Z",
     "iopub.status.idle": "2024-04-24T10:41:10.454514Z",
     "shell.execute_reply": "2024-04-24T10:41:10.453549Z"
    },
    "id": "loSxAbD99elU",
    "outputId": "26f08dca-8532-4d0c-8a9d-52e9c7eb350a",
    "papermill": {
     "duration": 1.123311,
     "end_time": "2024-04-24T10:41:10.456696",
     "exception": false,
     "start_time": "2024-04-24T10:41:09.333385",
     "status": "completed"
    },
    "tags": []
   },
   "outputs": [
    {
     "name": "stdout",
     "output_type": "stream",
     "text": [
      "Kích thước của mảng mặt nạ: (146, 256, 256)\n"
     ]
    }
   ],
   "source": [
    "# Đường dẫn tới thư mục chứa các hình ảnh\n",
    "image_folder = \"/kaggle/input/otu-2d/OTU_2D/validation/Label\"\n",
    "\n",
    "# Lấy danh sách các tệp trong thư mục và sắp xếp theo thứ tự tên tăng dần từ A đến Z\n",
    "image_files = sorted(os.listdir(image_folder))\n",
    "\n",
    "# Khởi tạo một danh sách để chứa các hình ảnh dưới dạng mảng NumPy\n",
    "image_array_list = []\n",
    "\n",
    "# Lặp qua tất cả các tệp trong thư mục đã được sắp xếp\n",
    "for filename in image_files:\n",
    "    # Kiểm tra xem tệp có phải là hình ảnh không\n",
    "    if filename.endswith('.PNG'):\n",
    "        # Đường dẫn đầy đủ tới hình ảnh\n",
    "        img_path = os.path.join(image_folder, filename)\n",
    "\n",
    "        # Đọc hình ảnh\n",
    "        img = cv2.imread(img_path, cv2.IMREAD_GRAYSCALE)\n",
    "        img = cv2.resize(img, (256, 256))\n",
    "        img = img / 255.0\n",
    "        (thresh, img) = cv2.threshold(img, 0, 1, cv2.THRESH_BINARY)\n",
    "\n",
    "        # img = np.int32(img)\n",
    "\n",
    "        # Kiểm tra xem hình ảnh có được đọc thành công hay không\n",
    "        if img is not None:\n",
    "            # Thêm hình ảnh vào danh sách\n",
    "            image_array_list.append(img)\n",
    "        else:\n",
    "            print(f\"Không thể đọc hình ảnh {filename}\")\n",
    "\n",
    "# Chuyển đổi danh sách hình ảnh thành mảng NumPy\n",
    "val_labels_np = np.array(image_array_list)\n",
    "\n",
    "# In ra kích thước của mảng hình ảnh\n",
    "print(\"Kích thước của mảng mặt nạ:\", val_labels_np.shape)"
   ]
  },
  {
   "cell_type": "code",
   "execution_count": 11,
   "id": "372ea9fe",
   "metadata": {
    "execution": {
     "iopub.execute_input": "2024-04-24T10:41:10.515141Z",
     "iopub.status.busy": "2024-04-24T10:41:10.514301Z",
     "iopub.status.idle": "2024-04-24T10:41:13.591480Z",
     "shell.execute_reply": "2024-04-24T10:41:13.590508Z"
    },
    "id": "mJBpF44y98yW",
    "papermill": {
     "duration": 3.108819,
     "end_time": "2024-04-24T10:41:13.593895",
     "exception": false,
     "start_time": "2024-04-24T10:41:10.485076",
     "status": "completed"
    },
    "tags": []
   },
   "outputs": [],
   "source": [
    "# Convert the NumPy arrays to Pillow images and store them in a dictionary\n",
    "dataset_dict = {\n",
    "    \"image\": [Image.fromarray(img).convert('RGB') for img in val_images_np],\n",
    "    \"label\": [Image.fromarray(mask).convert('I') for mask in val_labels_np],\n",
    "}\n",
    "\n",
    "# Create the dataset using the datasets.Dataset class\n",
    "val_dataset = Dataset.from_dict(dataset_dict)"
   ]
  },
  {
   "cell_type": "code",
   "execution_count": 12,
   "id": "766018c7",
   "metadata": {
    "execution": {
     "iopub.execute_input": "2024-04-24T10:41:13.653025Z",
     "iopub.status.busy": "2024-04-24T10:41:13.652655Z",
     "iopub.status.idle": "2024-04-24T10:41:13.659055Z",
     "shell.execute_reply": "2024-04-24T10:41:13.658106Z"
    },
    "id": "0fYNZPKy-Fxk",
    "outputId": "e76f3a15-ba22-48ff-a59c-fc423776461e",
    "papermill": {
     "duration": 0.03858,
     "end_time": "2024-04-24T10:41:13.661003",
     "exception": false,
     "start_time": "2024-04-24T10:41:13.622423",
     "status": "completed"
    },
    "tags": []
   },
   "outputs": [
    {
     "data": {
      "text/plain": [
       "Dataset({\n",
       "    features: ['image', 'label'],\n",
       "    num_rows: 146\n",
       "})"
      ]
     },
     "execution_count": 12,
     "metadata": {},
     "output_type": "execute_result"
    }
   ],
   "source": [
    "val_dataset"
   ]
  },
  {
   "cell_type": "markdown",
   "id": "0dd0b3c9",
   "metadata": {
    "id": "erjMb5bq8p0U",
    "papermill": {
     "duration": 0.029401,
     "end_time": "2024-04-24T10:41:13.719802",
     "exception": false,
     "start_time": "2024-04-24T10:41:13.690401",
     "status": "completed"
    },
    "tags": []
   },
   "source": [
    "## Chia dataset cho tập test"
   ]
  },
  {
   "cell_type": "code",
   "execution_count": 13,
   "id": "c842a1bf",
   "metadata": {
    "execution": {
     "iopub.execute_input": "2024-04-24T10:41:13.779841Z",
     "iopub.status.busy": "2024-04-24T10:41:13.779191Z",
     "iopub.status.idle": "2024-04-24T10:41:15.261691Z",
     "shell.execute_reply": "2024-04-24T10:41:15.260711Z"
    },
    "id": "sZIUR4-i-LXB",
    "outputId": "17d0ddfb-59a3-4378-a92f-e244c27228e3",
    "papermill": {
     "duration": 1.514743,
     "end_time": "2024-04-24T10:41:15.263862",
     "exception": false,
     "start_time": "2024-04-24T10:41:13.749119",
     "status": "completed"
    },
    "tags": []
   },
   "outputs": [
    {
     "name": "stdout",
     "output_type": "stream",
     "text": [
      "Kích thước của mảng hình ảnh: (146, 256, 256, 3)\n"
     ]
    }
   ],
   "source": [
    "# Đường dẫn tới thư mục chứa các hình ảnh\n",
    "image_folder = \"/kaggle/input/otu-2d/OTU_2D/test/Image\"\n",
    "\n",
    "# Lấy danh sách các tệp trong thư mục và sắp xếp theo thứ tự tên tăng dần từ A đến Z\n",
    "image_files = sorted(os.listdir(image_folder))\n",
    "\n",
    "# Khởi tạo một danh sách để chứa các hình ảnh dưới dạng mảng NumPy\n",
    "image_array_list = []\n",
    "\n",
    "# Lặp qua tất cả các tệp trong thư mục đã sắp xếp\n",
    "for filename in image_files:\n",
    "    # Kiểm tra xem tệp có phải là hình ảnh không\n",
    "    if filename.endswith(('.JPG')):\n",
    "        # Đường dẫn đầy đủ tới hình ảnh\n",
    "        img_path = os.path.join(image_folder, filename)\n",
    "\n",
    "        # Đọc hình ảnh\n",
    "        img = cv2.imread(img_path, cv2.IMREAD_COLOR)\n",
    "        img = cv2.resize(img, (256, 256))\n",
    "\n",
    "        # Kiểm tra xem hình ảnh có được đọc thành công hay không\n",
    "        if img is not None:\n",
    "            # Thêm hình ảnh vào danh sách\n",
    "            image_array_list.append(img)\n",
    "        else:\n",
    "            print(f\"Không thể đọc hình ảnh {filename}\")\n",
    "\n",
    "# Chuyển đổi danh sách hình ảnh thành mảng NumPy\n",
    "test_images_np = np.array(image_array_list)\n",
    "\n",
    "# In ra kích thước của mảng hình ảnh\n",
    "print(\"Kích thước của mảng hình ảnh:\", test_images_np.shape)\n"
   ]
  },
  {
   "cell_type": "code",
   "execution_count": 14,
   "id": "712de69f",
   "metadata": {
    "execution": {
     "iopub.execute_input": "2024-04-24T10:41:15.322974Z",
     "iopub.status.busy": "2024-04-24T10:41:15.322267Z",
     "iopub.status.idle": "2024-04-24T10:41:16.419164Z",
     "shell.execute_reply": "2024-04-24T10:41:16.417611Z"
    },
    "id": "QuU2TUjo-S1a",
    "outputId": "fe9d464e-a673-414e-9a11-9361d381c473",
    "papermill": {
     "duration": 1.128619,
     "end_time": "2024-04-24T10:41:16.421477",
     "exception": false,
     "start_time": "2024-04-24T10:41:15.292858",
     "status": "completed"
    },
    "tags": []
   },
   "outputs": [
    {
     "name": "stdout",
     "output_type": "stream",
     "text": [
      "Kích thước của mảng mặt nạ: (146, 256, 256)\n"
     ]
    }
   ],
   "source": [
    "# Đường dẫn tới thư mục chứa các hình ảnh\n",
    "image_folder = \"/kaggle/input/otu-2d/OTU_2D/test/Label\"\n",
    "\n",
    "# Lấy danh sách các tệp trong thư mục và sắp xếp theo thứ tự tên tăng dần từ A đến Z\n",
    "image_files = sorted(os.listdir(image_folder))\n",
    "\n",
    "# Khởi tạo một danh sách để chứa các hình ảnh dưới dạng mảng NumPy\n",
    "image_array_list = []\n",
    "\n",
    "# Lặp qua tất cả các tệp trong thư mục đã được sắp xếp\n",
    "for filename in image_files:\n",
    "    # Kiểm tra xem tệp có phải là hình ảnh không\n",
    "    if filename.endswith('.PNG'):\n",
    "        # Đường dẫn đầy đủ tới hình ảnh\n",
    "        img_path = os.path.join(image_folder, filename)\n",
    "\n",
    "        # Đọc hình ảnh\n",
    "        img = cv2.imread(img_path, cv2.IMREAD_GRAYSCALE)\n",
    "        img = cv2.resize(img, (256, 256))\n",
    "        img = img / 255.0\n",
    "        (thresh, img) = cv2.threshold(img, 0, 1, cv2.THRESH_BINARY)\n",
    "\n",
    "        # img = np.int32(img)\n",
    "\n",
    "        # Kiểm tra xem hình ảnh có được đọc thành công hay không\n",
    "        if img is not None:\n",
    "            # Thêm hình ảnh vào danh sách\n",
    "            image_array_list.append(img)\n",
    "        else:\n",
    "            print(f\"Không thể đọc hình ảnh {filename}\")\n",
    "\n",
    "# Chuyển đổi danh sách hình ảnh thành mảng NumPy\n",
    "test_labels_np = np.array(image_array_list)\n",
    "\n",
    "# In ra kích thước của mảng hình ảnh\n",
    "print(\"Kích thước của mảng mặt nạ:\", test_labels_np.shape)"
   ]
  },
  {
   "cell_type": "code",
   "execution_count": 15,
   "id": "794d8065",
   "metadata": {
    "execution": {
     "iopub.execute_input": "2024-04-24T10:41:16.480321Z",
     "iopub.status.busy": "2024-04-24T10:41:16.479951Z",
     "iopub.status.idle": "2024-04-24T10:41:19.663839Z",
     "shell.execute_reply": "2024-04-24T10:41:19.662977Z"
    },
    "id": "t6QouqNJ-dVJ",
    "papermill": {
     "duration": 3.215371,
     "end_time": "2024-04-24T10:41:19.666073",
     "exception": false,
     "start_time": "2024-04-24T10:41:16.450702",
     "status": "completed"
    },
    "tags": []
   },
   "outputs": [],
   "source": [
    "# Convert the NumPy arrays to Pillow images and store them in a dictionary\n",
    "dataset_dict = {\n",
    "    \"image\": [Image.fromarray(img).convert('RGB') for img in test_images_np],\n",
    "    \"label\": [Image.fromarray(mask).convert('I') for mask in test_labels_np],\n",
    "}\n",
    "\n",
    "# Create the dataset using the datasets.Dataset class\n",
    "test_dataset = Dataset.from_dict(dataset_dict)"
   ]
  },
  {
   "cell_type": "code",
   "execution_count": 16,
   "id": "dfb3251f",
   "metadata": {
    "execution": {
     "iopub.execute_input": "2024-04-24T10:41:19.724708Z",
     "iopub.status.busy": "2024-04-24T10:41:19.723956Z",
     "iopub.status.idle": "2024-04-24T10:41:19.729682Z",
     "shell.execute_reply": "2024-04-24T10:41:19.728827Z"
    },
    "id": "BBGO4tct-kwj",
    "outputId": "4dd9b362-d9b6-436c-ed81-72b458a7c6dc",
    "papermill": {
     "duration": 0.036775,
     "end_time": "2024-04-24T10:41:19.731511",
     "exception": false,
     "start_time": "2024-04-24T10:41:19.694736",
     "status": "completed"
    },
    "tags": []
   },
   "outputs": [
    {
     "data": {
      "text/plain": [
       "Dataset({\n",
       "    features: ['image', 'label'],\n",
       "    num_rows: 146\n",
       "})"
      ]
     },
     "execution_count": 16,
     "metadata": {},
     "output_type": "execute_result"
    }
   ],
   "source": [
    "test_dataset"
   ]
  },
  {
   "cell_type": "markdown",
   "id": "7bc9b97b",
   "metadata": {
    "id": "e0EuLS5VsTPo",
    "papermill": {
     "duration": 0.027748,
     "end_time": "2024-04-24T10:41:19.787109",
     "exception": false,
     "start_time": "2024-04-24T10:41:19.759361",
     "status": "completed"
    },
    "tags": []
   },
   "source": [
    "# Kiểm tra ảnh và mặt nạ"
   ]
  },
  {
   "cell_type": "code",
   "execution_count": 17,
   "id": "85cc4722",
   "metadata": {
    "execution": {
     "iopub.execute_input": "2024-04-24T10:41:19.846004Z",
     "iopub.status.busy": "2024-04-24T10:41:19.845191Z",
     "iopub.status.idle": "2024-04-24T10:41:19.885010Z",
     "shell.execute_reply": "2024-04-24T10:41:19.884018Z"
    },
    "id": "F2BhG7FTwC-G",
    "outputId": "a8403b28-27e6-4ef5-c6a8-02ac1080ca23",
    "papermill": {
     "duration": 0.072066,
     "end_time": "2024-04-24T10:41:19.887473",
     "exception": false,
     "start_time": "2024-04-24T10:41:19.815407",
     "status": "completed"
    },
    "tags": []
   },
   "outputs": [
    {
     "data": {
      "image/png": "[encoded data removed]",
      "text/plain": [
       "<PIL.PngImagePlugin.PngImageFile image mode=RGB size=256x256>"
      ]
     },
     "execution_count": 17,
     "metadata": {},
     "output_type": "execute_result"
    }
   ],
   "source": [
    "img_num = random.randint(0, train_images_np.shape[0]-1)\n",
    "example = train_dataset[img_num]\n",
    "image = example[\"image\"]\n",
    "image"
   ]
  },
  {
   "cell_type": "code",
   "execution_count": 18,
   "id": "a27e4486",
   "metadata": {
    "execution": {
     "iopub.execute_input": "2024-04-24T10:41:19.955629Z",
     "iopub.status.busy": "2024-04-24T10:41:19.954763Z",
     "iopub.status.idle": "2024-04-24T10:41:20.278394Z",
     "shell.execute_reply": "2024-04-24T10:41:20.277387Z"
    },
    "id": "CAiRRfJhGmVs",
    "outputId": "d79a9e7c-3054-48d6-db7e-ac209ec2e212",
    "papermill": {
     "duration": 0.360759,
     "end_time": "2024-04-24T10:41:20.281911",
     "exception": false,
     "start_time": "2024-04-24T10:41:19.921152",
     "status": "completed"
    },
    "tags": []
   },
   "outputs": [
    {
     "data": {
      "image/png": "[encoded data removed]",
      "text/plain": [
       "<Figure size 1000x500 with 2 Axes>"
      ]
     },
     "metadata": {},
     "output_type": "display_data"
    }
   ],
   "source": [
    "example_image = train_dataset[img_num][\"image\"]\n",
    "example_mask = train_dataset[img_num][\"label\"]\n",
    "\n",
    "fig, axes = plt.subplots(1, 2, figsize=(10, 5))\n",
    "\n",
    "# Plot the first image on the left\n",
    "axes[0].imshow(np.array(example_image), cmap='gray')  # Assuming the first image is grayscale\n",
    "axes[0].set_title(\"Image\")\n",
    "\n",
    "# Plot the second image on the right\n",
    "axes[1].imshow(example_mask, cmap='gray')  # Assuming the second image is grayscale\n",
    "axes[1].set_title(\"Mask\")\n",
    "\n",
    "# Hide axis ticks and labels\n",
    "for ax in axes:\n",
    "    ax.set_xticks([])\n",
    "    ax.set_yticks([])\n",
    "    ax.set_xticklabels([])\n",
    "    ax.set_yticklabels([])\n",
    "\n",
    "# Display the images side by side\n",
    "plt.show()"
   ]
  },
  {
   "cell_type": "code",
   "execution_count": 19,
   "id": "7a674e7d",
   "metadata": {
    "execution": {
     "iopub.execute_input": "2024-04-24T10:41:20.347436Z",
     "iopub.status.busy": "2024-04-24T10:41:20.346703Z",
     "iopub.status.idle": "2024-04-24T10:41:20.645082Z",
     "shell.execute_reply": "2024-04-24T10:41:20.644167Z"
    },
    "id": "R5B4qTMOvSOc",
    "outputId": "5ff6e547-7fbb-4348-d38a-b797bc4b8425",
    "papermill": {
     "duration": 0.334463,
     "end_time": "2024-04-24T10:41:20.648652",
     "exception": false,
     "start_time": "2024-04-24T10:41:20.314189",
     "status": "completed"
    },
    "tags": []
   },
   "outputs": [
    {
     "data": {
      "text/plain": [
       "(-0.5, 255.5, 255.5, -0.5)"
      ]
     },
     "execution_count": 19,
     "metadata": {},
     "output_type": "execute_result"
    },
    {
     "data": {
      "image/png": "[encoded data removed]",
      "text/plain": [
       "<Figure size 640x480 with 1 Axes>"
      ]
     },
     "metadata": {},
     "output_type": "display_data"
    }
   ],
   "source": [
    "def show_mask(mask, ax, random_color=False):\n",
    "    if random_color:\n",
    "        color = np.concatenate([np.random.random(3), np.array([0.2])], axis=0)\n",
    "    else:\n",
    "        color = np.array([30/255, 144/255, 255/255, 0.6])\n",
    "    h, w = mask.shape[-2:]\n",
    "    mask_image = mask.reshape(h, w, 1) * color.reshape(1, 1, -1)\n",
    "    ax.imshow(mask_image)\n",
    "\n",
    "fig, axes = plt.subplots()\n",
    "\n",
    "axes.imshow(np.array(image))\n",
    "ground_truth_seg = np.array(example[\"label\"])\n",
    "show_mask(ground_truth_seg, axes)\n",
    "axes.title.set_text(f\"Ground truth mask\")\n",
    "axes.axis(\"off\")"
   ]
  },
  {
   "cell_type": "markdown",
   "id": "b711ea97",
   "metadata": {
    "id": "mI41v3ZTskU2",
    "papermill": {
     "duration": 0.036163,
     "end_time": "2024-04-24T10:41:20.720879",
     "exception": false,
     "start_time": "2024-04-24T10:41:20.684716",
     "status": "completed"
    },
    "tags": []
   },
   "source": [
    "# Vẽ bounding boxes cho mặt nạ"
   ]
  },
  {
   "cell_type": "code",
   "execution_count": 20,
   "id": "30d7508f",
   "metadata": {
    "execution": {
     "iopub.execute_input": "2024-04-24T10:41:20.792105Z",
     "iopub.status.busy": "2024-04-24T10:41:20.791728Z",
     "iopub.status.idle": "2024-04-24T10:41:20.798798Z",
     "shell.execute_reply": "2024-04-24T10:41:20.797946Z"
    },
    "id": "LYmrZ9hWCpKV",
    "papermill": {
     "duration": 0.045175,
     "end_time": "2024-04-24T10:41:20.800731",
     "exception": false,
     "start_time": "2024-04-24T10:41:20.755556",
     "status": "completed"
    },
    "tags": []
   },
   "outputs": [],
   "source": [
    "#Get bounding boxes from mask.\n",
    "def get_bounding_box(ground_truth_map):\n",
    "  # get bounding box from mask\n",
    "  y_indices, x_indices = np.where(ground_truth_map > 0)\n",
    "  x_min, x_max = np.min(x_indices), np.max(x_indices)\n",
    "  y_min, y_max = np.min(y_indices), np.max(y_indices)\n",
    "  # add perturbation to bounding box coordinates\n",
    "  H, W = ground_truth_map.shape\n",
    "  x_min = max(0, x_min - np.random.randint(0, 20))\n",
    "  x_max = min(W, x_max + np.random.randint(0, 20))\n",
    "  y_min = max(0, y_min - np.random.randint(0, 20))\n",
    "  y_max = min(H, y_max + np.random.randint(0, 20))\n",
    "  bbox = [x_min, y_min, x_max, y_max]\n",
    "\n",
    "  return bbox"
   ]
  },
  {
   "cell_type": "markdown",
   "id": "24afb37f",
   "metadata": {
    "id": "e4ppWeM5svCh",
    "papermill": {
     "duration": 0.033416,
     "end_time": "2024-04-24T10:41:20.867972",
     "exception": false,
     "start_time": "2024-04-24T10:41:20.834556",
     "status": "completed"
    },
    "tags": []
   },
   "source": [
    "# Training Model"
   ]
  },
  {
   "cell_type": "markdown",
   "id": "2e375899",
   "metadata": {
    "id": "3dBN4ulfLkTY",
    "papermill": {
     "duration": 0.034258,
     "end_time": "2024-04-24T10:41:20.936638",
     "exception": false,
     "start_time": "2024-04-24T10:41:20.902380",
     "status": "completed"
    },
    "tags": []
   },
   "source": [
    "## Hàm tạo 1 dataset input images and mask"
   ]
  },
  {
   "cell_type": "code",
   "execution_count": 21,
   "id": "85682400",
   "metadata": {
    "execution": {
     "iopub.execute_input": "2024-04-24T10:41:21.008119Z",
     "iopub.status.busy": "2024-04-24T10:41:21.007328Z",
     "iopub.status.idle": "2024-04-24T10:41:21.015681Z",
     "shell.execute_reply": "2024-04-24T10:41:21.014852Z"
    },
    "id": "dQVNaYYbDKf6",
    "papermill": {
     "duration": 0.046341,
     "end_time": "2024-04-24T10:41:21.017621",
     "exception": false,
     "start_time": "2024-04-24T10:41:20.971280",
     "status": "completed"
    },
    "tags": []
   },
   "outputs": [],
   "source": [
    "from torch.utils.data import Dataset\n",
    "\n",
    "class SAMDataset(Dataset):\n",
    "  \"\"\"\n",
    "  This class is used to create a dataset that serves input images and masks.\n",
    "  It takes a dataset and a processor as input and overrides the __len__ and __getitem__ methods of the Dataset class.\n",
    "  \"\"\"\n",
    "  def __init__(self, dataset, processor):\n",
    "    self.dataset = dataset\n",
    "    self.processor = processor\n",
    "\n",
    "  def __len__(self):\n",
    "    return len(self.dataset)\n",
    "\n",
    "  def __getitem__(self, idx):\n",
    "    item = self.dataset[idx]\n",
    "    image = item[\"image\"]\n",
    "    ground_truth_mask = np.array(item[\"label\"])\n",
    "\n",
    "    # get bounding box prompt | vẽ box cho mặt nạ\n",
    "    prompt = get_bounding_box(ground_truth_mask)\n",
    "\n",
    "    # prepare image and prompt for the model | Chuẩn bị mặt nạ và hộp giới hạn\n",
    "    inputs = self.processor(image, input_boxes=[[prompt]], return_tensors=\"pt\")\n",
    "\n",
    "    # remove batch dimension which the processor adds by default | Loại bỏ chiều Batch được thêm vào mặc định\n",
    "    inputs = {k:v.squeeze(0) for k,v in inputs.items()}\n",
    "\n",
    "    # add ground truth segmentation | Thêm ground truth để đánh giá việc Segment sau này, đánh giá hiệu suất mô hình\n",
    "    inputs[\"ground_truth_mask\"] = ground_truth_mask\n",
    "\n",
    "    return inputs"
   ]
  },
  {
   "cell_type": "markdown",
   "id": "b0df51af",
   "metadata": {
    "id": "CBsc5U3EP920",
    "papermill": {
     "duration": 0.034714,
     "end_time": "2024-04-24T10:41:21.087073",
     "exception": false,
     "start_time": "2024-04-24T10:41:21.052359",
     "status": "completed"
    },
    "tags": []
   },
   "source": [
    "## Load model SAM"
   ]
  },
  {
   "cell_type": "markdown",
   "id": "78e7d212",
   "metadata": {
    "id": "BFg1mrGkxe3K",
    "papermill": {
     "duration": 0.035024,
     "end_time": "2024-04-24T10:41:21.156918",
     "exception": false,
     "start_time": "2024-04-24T10:41:21.121894",
     "status": "completed"
    },
    "tags": []
   },
   "source": [
    "### Xử lý dữ liệu để tương thích với đầu vào Model"
   ]
  },
  {
   "cell_type": "code",
   "execution_count": 22,
   "id": "c1fd16b1",
   "metadata": {
    "execution": {
     "iopub.execute_input": "2024-04-24T10:41:21.228164Z",
     "iopub.status.busy": "2024-04-24T10:41:21.227779Z",
     "iopub.status.idle": "2024-04-24T10:41:34.613318Z",
     "shell.execute_reply": "2024-04-24T10:41:34.612295Z"
    },
    "id": "5IVksPItDOYg",
    "outputId": "d063c542-a1f2-4747-c4f2-c7b0615042ae",
    "papermill": {
     "duration": 13.424032,
     "end_time": "2024-04-24T10:41:34.615780",
     "exception": false,
     "start_time": "2024-04-24T10:41:21.191748",
     "status": "completed"
    },
    "tags": []
   },
   "outputs": [
    {
     "name": "stderr",
     "output_type": "stream",
     "text": [
      "2024-04-24 10:41:23.364598: E external/local_xla/xla/stream_executor/cuda/cuda_dnn.cc:9261] Unable to register cuDNN factory: Attempting to register factory for plugin cuDNN when one has already been registered\n",
      "2024-04-24 10:41:23.364710: E external/local_xla/xla/stream_executor/cuda/cuda_fft.cc:607] Unable to register cuFFT factory: Attempting to register factory for plugin cuFFT when one has already been registered\n",
      "2024-04-24 10:41:23.516088: E external/local_xla/xla/stream_executor/cuda/cuda_blas.cc:1515] Unable to register cuBLAS factory: Attempting to register factory for plugin cuBLAS when one has already been registered\n"
     ]
    },
    {
     "data": {
      "application/vnd.jupyter.widget-view+json": {
       "model_id": "1fd2fa4e934442f2ab084fec1a122b48",
       "version_major": 2,
       "version_minor": 0
      },
      "text/plain": [
       "preprocessor_config.json:   0%|          | 0.00/466 [00:00<?, ?B/s]"
      ]
     },
     "metadata": {},
     "output_type": "display_data"
    }
   ],
   "source": [
    "# Initialize the processor\n",
    "from transformers import SamProcessor\n",
    "processor = SamProcessor.from_pretrained(\"wanglab/medsam-vit-base\")"
   ]
  },
  {
   "cell_type": "code",
   "execution_count": 23,
   "id": "2a8e8efd",
   "metadata": {
    "execution": {
     "iopub.execute_input": "2024-04-24T10:41:34.690356Z",
     "iopub.status.busy": "2024-04-24T10:41:34.689184Z",
     "iopub.status.idle": "2024-04-24T10:41:34.695077Z",
     "shell.execute_reply": "2024-04-24T10:41:34.693943Z"
    },
    "id": "aU59Asl5DQCF",
    "papermill": {
     "duration": 0.045024,
     "end_time": "2024-04-24T10:41:34.697465",
     "exception": false,
     "start_time": "2024-04-24T10:41:34.652441",
     "status": "completed"
    },
    "tags": []
   },
   "outputs": [],
   "source": [
    "# Create an instance of the SAMDataset\n",
    "train_dataset = SAMDataset(dataset=train_dataset, processor=processor)\n",
    "val_dataset = SAMDataset(dataset=val_dataset, processor=processor)\n",
    "test_dataset = SAMDataset(dataset=test_dataset, processor=processor)"
   ]
  },
  {
   "cell_type": "code",
   "execution_count": 24,
   "id": "fa19a1f2",
   "metadata": {
    "execution": {
     "iopub.execute_input": "2024-04-24T10:41:34.768843Z",
     "iopub.status.busy": "2024-04-24T10:41:34.768073Z",
     "iopub.status.idle": "2024-04-24T10:41:34.865757Z",
     "shell.execute_reply": "2024-04-24T10:41:34.864845Z"
    },
    "id": "qMUQO3fCDTyV",
    "outputId": "89ec1dc7-b01e-4e4f-ae91-6cae7723f92f",
    "papermill": {
     "duration": 0.135819,
     "end_time": "2024-04-24T10:41:34.867916",
     "exception": false,
     "start_time": "2024-04-24T10:41:34.732097",
     "status": "completed"
    },
    "tags": []
   },
   "outputs": [
    {
     "name": "stdout",
     "output_type": "stream",
     "text": [
      "pixel_values: torch.Size([3, 1024, 1024])\n",
      "original_sizes: torch.Size([2])\n",
      "reshaped_input_sizes: torch.Size([2])\n",
      "input_boxes: torch.Size([1, 4])\n",
      "ground_truth_mask: (256, 256)\n"
     ]
    }
   ],
   "source": [
    "example = train_dataset[0]\n",
    "for k,v in example.items():\n",
    "  print(f'{k}: {v.shape}')"
   ]
  },
  {
   "cell_type": "code",
   "execution_count": 25,
   "id": "7f7910eb",
   "metadata": {
    "execution": {
     "iopub.execute_input": "2024-04-24T10:41:34.940040Z",
     "iopub.status.busy": "2024-04-24T10:41:34.939381Z",
     "iopub.status.idle": "2024-04-24T10:41:34.999245Z",
     "shell.execute_reply": "2024-04-24T10:41:34.998124Z"
    },
    "id": "KmWqFSLoI4st",
    "outputId": "a544207f-8464-40a3-eb5d-6a0ae6f04cf0",
    "papermill": {
     "duration": 0.097691,
     "end_time": "2024-04-24T10:41:35.001662",
     "exception": false,
     "start_time": "2024-04-24T10:41:34.903971",
     "status": "completed"
    },
    "tags": []
   },
   "outputs": [
    {
     "name": "stdout",
     "output_type": "stream",
     "text": [
      "pixel_values: torch.Size([3, 1024, 1024])\n",
      "original_sizes: torch.Size([2])\n",
      "reshaped_input_sizes: torch.Size([2])\n",
      "input_boxes: torch.Size([1, 4])\n",
      "ground_truth_mask: (256, 256)\n"
     ]
    }
   ],
   "source": [
    "example = val_dataset[0]\n",
    "for k,v in example.items():\n",
    "  print(f'{k}: {v.shape}')"
   ]
  },
  {
   "cell_type": "code",
   "execution_count": 26,
   "id": "ae463338",
   "metadata": {
    "execution": {
     "iopub.execute_input": "2024-04-24T10:41:35.075548Z",
     "iopub.status.busy": "2024-04-24T10:41:35.074890Z",
     "iopub.status.idle": "2024-04-24T10:41:35.136751Z",
     "shell.execute_reply": "2024-04-24T10:41:35.135385Z"
    },
    "papermill": {
     "duration": 0.100723,
     "end_time": "2024-04-24T10:41:35.139253",
     "exception": false,
     "start_time": "2024-04-24T10:41:35.038530",
     "status": "completed"
    },
    "tags": []
   },
   "outputs": [
    {
     "name": "stdout",
     "output_type": "stream",
     "text": [
      "pixel_values: torch.Size([3, 1024, 1024])\n",
      "original_sizes: torch.Size([2])\n",
      "reshaped_input_sizes: torch.Size([2])\n",
      "input_boxes: torch.Size([1, 4])\n",
      "ground_truth_mask: (256, 256)\n"
     ]
    }
   ],
   "source": [
    "example = test_dataset[0]\n",
    "for k,v in example.items():\n",
    "  print(f'{k}: {v.shape}')"
   ]
  },
  {
   "cell_type": "code",
   "execution_count": 27,
   "id": "5836d256",
   "metadata": {
    "execution": {
     "iopub.execute_input": "2024-04-24T10:41:35.212578Z",
     "iopub.status.busy": "2024-04-24T10:41:35.212213Z",
     "iopub.status.idle": "2024-04-24T10:41:35.218044Z",
     "shell.execute_reply": "2024-04-24T10:41:35.217099Z"
    },
    "id": "G694dS0RDWdl",
    "papermill": {
     "duration": 0.043648,
     "end_time": "2024-04-24T10:41:35.219896",
     "exception": false,
     "start_time": "2024-04-24T10:41:35.176248",
     "status": "completed"
    },
    "tags": []
   },
   "outputs": [],
   "source": [
    "# Create a DataLoader instance for the training dataset\n",
    "from torch.utils.data import DataLoader\n",
    "train_dataloader = DataLoader(train_dataset, batch_size=2, shuffle=True, drop_last=False)\n",
    "val_dataloader = DataLoader(val_dataset, batch_size=2, shuffle=True, drop_last=False)\n",
    "test_dataloader = DataLoader(test_dataset, batch_size=2, shuffle=True, drop_last=False)"
   ]
  },
  {
   "cell_type": "code",
   "execution_count": 28,
   "id": "d6e739e4",
   "metadata": {
    "execution": {
     "iopub.execute_input": "2024-04-24T10:41:35.295364Z",
     "iopub.status.busy": "2024-04-24T10:41:35.295023Z",
     "iopub.status.idle": "2024-04-24T10:41:35.451842Z",
     "shell.execute_reply": "2024-04-24T10:41:35.450543Z"
    },
    "id": "oAHAY4LxDYCt",
    "outputId": "5a4c83cd-f21c-4b1f-df01-9cc94aca0423",
    "papermill": {
     "duration": 0.197763,
     "end_time": "2024-04-24T10:41:35.454219",
     "exception": false,
     "start_time": "2024-04-24T10:41:35.256456",
     "status": "completed"
    },
    "tags": []
   },
   "outputs": [
    {
     "name": "stdout",
     "output_type": "stream",
     "text": [
      "pixel_values torch.Size([2, 3, 1024, 1024])\n",
      "original_sizes torch.Size([2, 2])\n",
      "reshaped_input_sizes torch.Size([2, 2])\n",
      "input_boxes torch.Size([2, 1, 4])\n",
      "ground_truth_mask torch.Size([2, 256, 256])\n"
     ]
    }
   ],
   "source": [
    "batch = next(iter(train_dataloader))\n",
    "for k,v in batch.items():\n",
    "  print(k,v.shape)"
   ]
  },
  {
   "cell_type": "code",
   "execution_count": 29,
   "id": "9278f9f7",
   "metadata": {
    "execution": {
     "iopub.execute_input": "2024-04-24T10:41:35.526562Z",
     "iopub.status.busy": "2024-04-24T10:41:35.526231Z",
     "iopub.status.idle": "2024-04-24T10:41:35.640260Z",
     "shell.execute_reply": "2024-04-24T10:41:35.639315Z"
    },
    "id": "t8gQe2kAI0UE",
    "outputId": "5cb41220-7aac-494a-ff47-326bc72c6ab6",
    "papermill": {
     "duration": 0.152737,
     "end_time": "2024-04-24T10:41:35.643066",
     "exception": false,
     "start_time": "2024-04-24T10:41:35.490329",
     "status": "completed"
    },
    "tags": []
   },
   "outputs": [
    {
     "name": "stdout",
     "output_type": "stream",
     "text": [
      "pixel_values torch.Size([2, 3, 1024, 1024])\n",
      "original_sizes torch.Size([2, 2])\n",
      "reshaped_input_sizes torch.Size([2, 2])\n",
      "input_boxes torch.Size([2, 1, 4])\n",
      "ground_truth_mask torch.Size([2, 256, 256])\n"
     ]
    }
   ],
   "source": [
    "batch = next(iter(val_dataloader))\n",
    "for k,v in batch.items():\n",
    "  print(k,v.shape)"
   ]
  },
  {
   "cell_type": "code",
   "execution_count": 30,
   "id": "ab321135",
   "metadata": {
    "execution": {
     "iopub.execute_input": "2024-04-24T10:41:35.715931Z",
     "iopub.status.busy": "2024-04-24T10:41:35.715238Z",
     "iopub.status.idle": "2024-04-24T10:41:35.830553Z",
     "shell.execute_reply": "2024-04-24T10:41:35.829535Z"
    },
    "papermill": {
     "duration": 0.153805,
     "end_time": "2024-04-24T10:41:35.832671",
     "exception": false,
     "start_time": "2024-04-24T10:41:35.678866",
     "status": "completed"
    },
    "tags": []
   },
   "outputs": [
    {
     "name": "stdout",
     "output_type": "stream",
     "text": [
      "pixel_values torch.Size([2, 3, 1024, 1024])\n",
      "original_sizes torch.Size([2, 2])\n",
      "reshaped_input_sizes torch.Size([2, 2])\n",
      "input_boxes torch.Size([2, 1, 4])\n",
      "ground_truth_mask torch.Size([2, 256, 256])\n"
     ]
    }
   ],
   "source": [
    "batch = next(iter(test_dataloader))\n",
    "for k,v in batch.items():\n",
    "  print(k,v.shape)"
   ]
  },
  {
   "cell_type": "code",
   "execution_count": 31,
   "id": "4809a0a5",
   "metadata": {
    "execution": {
     "iopub.execute_input": "2024-04-24T10:41:35.906977Z",
     "iopub.status.busy": "2024-04-24T10:41:35.906604Z",
     "iopub.status.idle": "2024-04-24T10:41:35.912563Z",
     "shell.execute_reply": "2024-04-24T10:41:35.911673Z"
    },
    "id": "l0G55sGADaJ3",
    "outputId": "6d8e829c-af0a-4c5a-f5f5-8ac2fe00c058",
    "papermill": {
     "duration": 0.045401,
     "end_time": "2024-04-24T10:41:35.914582",
     "exception": false,
     "start_time": "2024-04-24T10:41:35.869181",
     "status": "completed"
    },
    "tags": []
   },
   "outputs": [
    {
     "data": {
      "text/plain": [
       "torch.Size([2, 256, 256])"
      ]
     },
     "execution_count": 31,
     "metadata": {},
     "output_type": "execute_result"
    }
   ],
   "source": [
    "batch[\"ground_truth_mask\"].shape"
   ]
  },
  {
   "cell_type": "markdown",
   "id": "3bdcdead",
   "metadata": {
    "id": "6l0JFZKlw9r8",
    "papermill": {
     "duration": 0.034944,
     "end_time": "2024-04-24T10:41:35.985138",
     "exception": false,
     "start_time": "2024-04-24T10:41:35.950194",
     "status": "completed"
    },
    "tags": []
   },
   "source": [
    "### Load model Pretrained của Segment Anything"
   ]
  },
  {
   "cell_type": "code",
   "execution_count": 32,
   "id": "b5980fda",
   "metadata": {
    "execution": {
     "iopub.execute_input": "2024-04-24T10:41:36.056886Z",
     "iopub.status.busy": "2024-04-24T10:41:36.056073Z",
     "iopub.status.idle": "2024-04-24T10:41:45.751546Z",
     "shell.execute_reply": "2024-04-24T10:41:45.750559Z"
    },
    "id": "7fUTkHq3DcVV",
    "outputId": "6dcb745f-7d6d-47d1-92b7-43205c2679ff",
    "papermill": {
     "duration": 9.734174,
     "end_time": "2024-04-24T10:41:45.753795",
     "exception": false,
     "start_time": "2024-04-24T10:41:36.019621",
     "status": "completed"
    },
    "tags": []
   },
   "outputs": [
    {
     "data": {
      "application/vnd.jupyter.widget-view+json": {
       "model_id": "0deb9559b2f446d29489c631fe9ea4c3",
       "version_major": 2,
       "version_minor": 0
      },
      "text/plain": [
       "config.json:   0%|          | 0.00/6.52k [00:00<?, ?B/s]"
      ]
     },
     "metadata": {},
     "output_type": "display_data"
    },
    {
     "data": {
      "application/vnd.jupyter.widget-view+json": {
       "model_id": "04a35fb5596b44068a3abb9ff01a27a6",
       "version_major": 2,
       "version_minor": 0
      },
      "text/plain": [
       "pytorch_model.bin:   0%|          | 0.00/375M [00:00<?, ?B/s]"
      ]
     },
     "metadata": {},
     "output_type": "display_data"
    },
    {
     "name": "stderr",
     "output_type": "stream",
     "text": [
      "/opt/conda/lib/python3.10/site-packages/torch/_utils.py:831: UserWarning: TypedStorage is deprecated. It will be removed in the future and UntypedStorage will be the only storage class. This should only matter to you if you are using storages directly.  To access UntypedStorage directly, use tensor.untyped_storage() instead of tensor.storage()\n",
      "  return self.fget.__get__(instance, owner)()\n"
     ]
    }
   ],
   "source": [
    "# Load the model\n",
    "from transformers import SamModel\n",
    "model = SamModel.from_pretrained(\"wanglab/medsam-vit-base\")\n",
    "\n",
    "# make sure we only compute gradients for mask decoder\n",
    "for name, param in model.named_parameters():\n",
    "  if name.startswith(\"vision_encoder\") or name.startswith(\"prompt_encoder\"):\n",
    "    param.requires_grad_(False)"
   ]
  },
  {
   "cell_type": "markdown",
   "id": "21324f00",
   "metadata": {
    "id": "3NnXPCyAwwqM",
    "papermill": {
     "duration": 0.035425,
     "end_time": "2024-04-24T10:41:45.825569",
     "exception": false,
     "start_time": "2024-04-24T10:41:45.790144",
     "status": "completed"
    },
    "tags": []
   },
   "source": [
    "### Khởi tạo model với hàm tối ưu là Adam, hàm loss là DiceCELoss"
   ]
  },
  {
   "cell_type": "code",
   "execution_count": 33,
   "id": "4ba53a72",
   "metadata": {
    "execution": {
     "iopub.execute_input": "2024-04-24T10:41:45.897838Z",
     "iopub.status.busy": "2024-04-24T10:41:45.896854Z",
     "iopub.status.idle": "2024-04-24T10:42:21.383024Z",
     "shell.execute_reply": "2024-04-24T10:42:21.382230Z"
    },
    "papermill": {
     "duration": 35.52509,
     "end_time": "2024-04-24T10:42:21.385555",
     "exception": false,
     "start_time": "2024-04-24T10:41:45.860465",
     "status": "completed"
    },
    "tags": []
   },
   "outputs": [],
   "source": [
    "import torch.optim as optim\n",
    "from monai.losses import DiceLoss, DiceCELoss, DiceFocalLoss\n",
    "\n",
    "# Khởi tạo optimizer\n",
    "optimizer = optim.Adam(model.parameters(), lr=1e-5, weight_decay=0)\n",
    "\n",
    "# Sử dụng DiceCELoss\n",
    "diceCE_loss = DiceCELoss(sigmoid=True, squared_pred=True, reduction='mean')\n",
    "\n",
    "# Sử dụng DiceFocalLoss\n",
    "# diceFocal_loss = DiceFocalLoss(sigmoid=True, gamma=0.25)\n",
    "\n",
    "# Sử dụng DiceLoss\n",
    "# seg_loss = DiceLoss(to_onehot_y=True, softmax=True)\n",
    "\n"
   ]
  },
  {
   "cell_type": "markdown",
   "id": "e3ffe9a3",
   "metadata": {
    "papermill": {
     "duration": 0.035761,
     "end_time": "2024-04-24T10:42:21.458412",
     "exception": false,
     "start_time": "2024-04-24T10:42:21.422651",
     "status": "completed"
    },
    "tags": []
   },
   "source": [
    "## Xây dựng Hàm Joint Loss"
   ]
  },
  {
   "cell_type": "markdown",
   "id": "f445469a",
   "metadata": {
    "papermill": {
     "duration": 0.035427,
     "end_time": "2024-04-24T10:42:21.529689",
     "exception": false,
     "start_time": "2024-04-24T10:42:21.494262",
     "status": "completed"
    },
    "tags": []
   },
   "source": [
    "### Hàm Focal_Loss"
   ]
  },
  {
   "cell_type": "code",
   "execution_count": 34,
   "id": "81088391",
   "metadata": {
    "execution": {
     "iopub.execute_input": "2024-04-24T10:42:21.602484Z",
     "iopub.status.busy": "2024-04-24T10:42:21.601361Z",
     "iopub.status.idle": "2024-04-24T10:42:21.610144Z",
     "shell.execute_reply": "2024-04-24T10:42:21.609250Z"
    },
    "papermill": {
     "duration": 0.047025,
     "end_time": "2024-04-24T10:42:21.612133",
     "exception": false,
     "start_time": "2024-04-24T10:42:21.565108",
     "status": "completed"
    },
    "tags": []
   },
   "outputs": [],
   "source": [
    "# Copyright (c) Facebook, Inc. and its affiliates. All Rights Reserved.\n",
    "\n",
    "# pyre-strict\n",
    "\n",
    "import torch\n",
    "from torch.nn import functional as F\n",
    "\n",
    "\n",
    "def sigmoid_focal_loss(\n",
    "    inputs: torch.Tensor,\n",
    "    targets: torch.Tensor,\n",
    "    alpha: float = 0.25,\n",
    "    gamma: float = 2,\n",
    "    reduction: str = \"none\",\n",
    ") -> torch.Tensor:\n",
    "    inputs = inputs.float()\n",
    "    targets = targets.float()\n",
    "    p = torch.sigmoid(inputs)\n",
    "    ce_loss = F.binary_cross_entropy_with_logits(inputs, targets, reduction=\"none\")\n",
    "    p_t = p * targets + (1 - p) * (1 - targets)\n",
    "    loss = ce_loss * ((1 - p_t) ** gamma)\n",
    "\n",
    "    if alpha >= 0:\n",
    "        alpha_t = alpha * targets + (1 - alpha) * (1 - targets)\n",
    "        loss = alpha_t * loss\n",
    "\n",
    "    if reduction == \"mean\":\n",
    "        loss = loss.mean()\n",
    "    elif reduction == \"sum\":\n",
    "        loss = loss.sum()\n",
    "\n",
    "    return loss"
   ]
  },
  {
   "cell_type": "markdown",
   "id": "90227d6a",
   "metadata": {
    "papermill": {
     "duration": 0.035441,
     "end_time": "2024-04-24T10:42:21.682874",
     "exception": false,
     "start_time": "2024-04-24T10:42:21.647433",
     "status": "completed"
    },
    "tags": []
   },
   "source": [
    "### Load hàm loss đánh giá model"
   ]
  },
  {
   "cell_type": "code",
   "execution_count": 35,
   "id": "f99d4fe6",
   "metadata": {
    "execution": {
     "iopub.execute_input": "2024-04-24T10:42:21.757997Z",
     "iopub.status.busy": "2024-04-24T10:42:21.757354Z",
     "iopub.status.idle": "2024-04-24T10:42:21.772158Z",
     "shell.execute_reply": "2024-04-24T10:42:21.771405Z"
    },
    "id": "EALE52T0vaOR",
    "papermill": {
     "duration": 0.054787,
     "end_time": "2024-04-24T10:42:21.774083",
     "exception": false,
     "start_time": "2024-04-24T10:42:21.719296",
     "status": "completed"
    },
    "tags": []
   },
   "outputs": [],
   "source": [
    "from tqdm import tqdm\n",
    "from statistics import mean\n",
    "import torch\n",
    "from torch.nn.functional import threshold, normalize\n",
    "from pytorch_msssim import ssim, ms_ssim, SSIM, MS_SSIM\n",
    "\n",
    "smooth=1e-10\n",
    "gamma = 2\n",
    "weight = None\n",
    "\n",
    "# Define functions for calculating evaluation metrics\n",
    "def dice(predicted, target):\n",
    "    true_positive = torch.sum(predicted * target)\n",
    "    false_negative = torch.sum(target) - true_positive\n",
    "    false_positive = torch.sum(predicted) - true_positive\n",
    "    return (2. * true_positive + smooth) / (2. *true_positive + false_negative + false_positive + smooth)\n",
    "\n",
    "def iou(predicted, target):\n",
    "    intersection = torch.sum(predicted * target)\n",
    "    union = torch.sum(predicted) + torch.sum(target) - intersection\n",
    "    return (intersection + smooth) / (union + smooth)\n",
    "\n",
    "def recall(predicted, target):\n",
    "    true_positive = torch.sum(predicted * target)\n",
    "    false_negative = torch.sum(target) - true_positive\n",
    "    return (true_positive + smooth) / (true_positive + false_negative + smooth)\n",
    "\n",
    "def precision(predicted, target):\n",
    "    true_positive = torch.sum(predicted * target)\n",
    "    false_positive = torch.sum(predicted) - true_positive\n",
    "    return (true_positive + smooth) / (true_positive + false_positive + smooth)\n",
    "\n",
    "def ssim(predicted, target):\n",
    "    ssim_module = SSIM(data_range=255, size_average=True, channel=1)\n",
    "    ssim_loss = 1 - ssim_module(predicted, target)\n",
    "    return ssim_loss\n",
    "    \n",
    "def focalLoss(predicted, target):\n",
    "    logpt = F.log_softmax(predicted, dim=1)\n",
    "    pt = torch.exp(logpt)\n",
    "    logpt = (1-pt)**gamma * logpt\n",
    "    loss = F.nll_loss(logpt, target, weight)\n",
    "    return loss\n",
    "\n",
    "def jointLoss(predicted, target):\n",
    "    loss = (1 - iou(predicted, target) + sigmoid_focal_loss(inputs = predicted, targets = target, alpha = 0.25, gamma = 2, reduction = \"none\",) + ssim(predicted, target))/3\n",
    "    return loss"
   ]
  },
  {
   "cell_type": "markdown",
   "id": "1428d927",
   "metadata": {
    "id": "6UUhEfwPvssf",
    "papermill": {
     "duration": 0.035084,
     "end_time": "2024-04-24T10:42:21.846938",
     "exception": false,
     "start_time": "2024-04-24T10:42:21.811854",
     "status": "completed"
    },
    "tags": []
   },
   "source": [
    "### Train Model"
   ]
  },
  {
   "cell_type": "markdown",
   "id": "66b69f1a",
   "metadata": {
    "id": "9c4n9qWkO3H2",
    "papermill": {
     "duration": 0.036593,
     "end_time": "2024-04-24T10:42:21.919657",
     "exception": false,
     "start_time": "2024-04-24T10:42:21.883064",
     "status": "completed"
    },
    "tags": []
   },
   "source": [
    "### Early Stopping"
   ]
  },
  {
   "cell_type": "code",
   "execution_count": 36,
   "id": "8b726d8c",
   "metadata": {
    "execution": {
     "iopub.execute_input": "2024-04-24T10:42:21.994216Z",
     "iopub.status.busy": "2024-04-24T10:42:21.993338Z",
     "iopub.status.idle": "2024-04-24T12:37:50.738750Z",
     "shell.execute_reply": "2024-04-24T12:37:50.737712Z"
    },
    "id": "XXKd4mX-O2In",
    "outputId": "e3010c07-36e3-484e-9a94-54bd35bdd63f",
    "papermill": {
     "duration": 6928.785833,
     "end_time": "2024-04-24T12:37:50.742062",
     "exception": false,
     "start_time": "2024-04-24T10:42:21.956229",
     "status": "completed"
    },
    "tags": []
   },
   "outputs": [
    {
     "name": "stderr",
     "output_type": "stream",
     "text": [
      "100%|██████████| 589/589 [06:03<00:00,  1.62it/s]\n",
      "100%|██████████| 73/73 [00:43<00:00,  1.67it/s]\n"
     ]
    },
    {
     "name": "stdout",
     "output_type": "stream",
     "text": [
      "EPOCH: 0\n",
      "Train Mean loss: 0.1046\n",
      "Train Dice: 0.8938\n",
      "Train IOU: 0.8117\n",
      "Train Recall: 0.8896\n",
      "Train Precision: 0.9046\n",
      "----------------------\n",
      "Validation Mean loss: 0.0958\n",
      "Validation Dice: 0.9093\n",
      "Validation IOU: 0.8370\n",
      "Validation Recall: 0.9243\n",
      "Validation Precision: 0.8981\n",
      "Best model weights saved.\n",
      "---------------------------------------------\n"
     ]
    },
    {
     "name": "stderr",
     "output_type": "stream",
     "text": [
      "100%|██████████| 589/589 [06:01<00:00,  1.63it/s]\n",
      "100%|██████████| 73/73 [00:43<00:00,  1.69it/s]\n"
     ]
    },
    {
     "name": "stdout",
     "output_type": "stream",
     "text": [
      "EPOCH: 1\n",
      "Train Mean loss: 0.0948\n",
      "Train Dice: 0.9093\n",
      "Train IOU: 0.8363\n",
      "Train Recall: 0.9055\n",
      "Train Precision: 0.9174\n",
      "----------------------\n",
      "Validation Mean loss: 0.0943\n",
      "Validation Dice: 0.9105\n",
      "Validation IOU: 0.8390\n",
      "Validation Recall: 0.9173\n",
      "Validation Precision: 0.9088\n",
      "Best model weights saved.\n",
      "---------------------------------------------\n"
     ]
    },
    {
     "name": "stderr",
     "output_type": "stream",
     "text": [
      "100%|██████████| 589/589 [06:01<00:00,  1.63it/s]\n",
      "100%|██████████| 73/73 [00:43<00:00,  1.69it/s]\n"
     ]
    },
    {
     "name": "stdout",
     "output_type": "stream",
     "text": [
      "EPOCH: 2\n",
      "Train Mean loss: 0.0919\n",
      "Train Dice: 0.9141\n",
      "Train IOU: 0.8441\n",
      "Train Recall: 0.9099\n",
      "Train Precision: 0.9220\n",
      "----------------------\n",
      "Validation Mean loss: 0.0927\n",
      "Validation Dice: 0.9123\n",
      "Validation IOU: 0.8415\n",
      "Validation Recall: 0.9006\n",
      "Validation Precision: 0.9273\n",
      "Best model weights saved.\n",
      "---------------------------------------------\n"
     ]
    },
    {
     "name": "stderr",
     "output_type": "stream",
     "text": [
      "100%|██████████| 589/589 [06:00<00:00,  1.63it/s]\n",
      "100%|██████████| 73/73 [00:43<00:00,  1.67it/s]\n"
     ]
    },
    {
     "name": "stdout",
     "output_type": "stream",
     "text": [
      "EPOCH: 3\n",
      "Train Mean loss: 0.0888\n",
      "Train Dice: 0.9195\n",
      "Train IOU: 0.8531\n",
      "Train Recall: 0.9167\n",
      "Train Precision: 0.9260\n",
      "----------------------\n",
      "Validation Mean loss: 0.0916\n",
      "Validation Dice: 0.9145\n",
      "Validation IOU: 0.8453\n",
      "Validation Recall: 0.9167\n",
      "Validation Precision: 0.9171\n",
      "Best model weights saved.\n",
      "---------------------------------------------\n"
     ]
    },
    {
     "name": "stderr",
     "output_type": "stream",
     "text": [
      "100%|██████████| 589/589 [06:00<00:00,  1.63it/s]\n",
      "100%|██████████| 73/73 [00:43<00:00,  1.68it/s]\n"
     ]
    },
    {
     "name": "stdout",
     "output_type": "stream",
     "text": [
      "EPOCH: 4\n",
      "Train Mean loss: 0.0885\n",
      "Train Dice: 0.9195\n",
      "Train IOU: 0.8533\n",
      "Train Recall: 0.9166\n",
      "Train Precision: 0.9259\n",
      "----------------------\n",
      "Validation Mean loss: 0.0919\n",
      "Validation Dice: 0.9136\n",
      "Validation IOU: 0.8444\n",
      "Validation Recall: 0.9184\n",
      "Validation Precision: 0.9120\n",
      "---------------------------------------------\n"
     ]
    },
    {
     "name": "stderr",
     "output_type": "stream",
     "text": [
      "100%|██████████| 589/589 [06:01<00:00,  1.63it/s]\n",
      "100%|██████████| 73/73 [00:43<00:00,  1.68it/s]\n"
     ]
    },
    {
     "name": "stdout",
     "output_type": "stream",
     "text": [
      "EPOCH: 5\n",
      "Train Mean loss: 0.0869\n",
      "Train Dice: 0.9223\n",
      "Train IOU: 0.8579\n",
      "Train Recall: 0.9191\n",
      "Train Precision: 0.9287\n",
      "----------------------\n",
      "Validation Mean loss: 0.0908\n",
      "Validation Dice: 0.9140\n",
      "Validation IOU: 0.8452\n",
      "Validation Recall: 0.9039\n",
      "Validation Precision: 0.9283\n",
      "Best model weights saved.\n",
      "---------------------------------------------\n"
     ]
    },
    {
     "name": "stderr",
     "output_type": "stream",
     "text": [
      "100%|██████████| 589/589 [06:01<00:00,  1.63it/s]\n",
      "100%|██████████| 73/73 [00:43<00:00,  1.68it/s]\n"
     ]
    },
    {
     "name": "stdout",
     "output_type": "stream",
     "text": [
      "EPOCH: 6\n",
      "Train Mean loss: 0.0856\n",
      "Train Dice: 0.9245\n",
      "Train IOU: 0.8616\n",
      "Train Recall: 0.9211\n",
      "Train Precision: 0.9306\n",
      "----------------------\n",
      "Validation Mean loss: 0.0843\n",
      "Validation Dice: 0.9264\n",
      "Validation IOU: 0.8643\n",
      "Validation Recall: 0.9100\n",
      "Validation Precision: 0.9456\n",
      "Best model weights saved.\n",
      "---------------------------------------------\n"
     ]
    },
    {
     "name": "stderr",
     "output_type": "stream",
     "text": [
      "100%|██████████| 589/589 [06:03<00:00,  1.62it/s]\n",
      "100%|██████████| 73/73 [00:43<00:00,  1.67it/s]\n"
     ]
    },
    {
     "name": "stdout",
     "output_type": "stream",
     "text": [
      "EPOCH: 7\n",
      "Train Mean loss: 0.0845\n",
      "Train Dice: 0.9263\n",
      "Train IOU: 0.8646\n",
      "Train Recall: 0.9226\n",
      "Train Precision: 0.9329\n",
      "----------------------\n",
      "Validation Mean loss: 0.0875\n",
      "Validation Dice: 0.9200\n",
      "Validation IOU: 0.8552\n",
      "Validation Recall: 0.9128\n",
      "Validation Precision: 0.9310\n",
      "---------------------------------------------\n"
     ]
    },
    {
     "name": "stderr",
     "output_type": "stream",
     "text": [
      "100%|██████████| 589/589 [06:02<00:00,  1.62it/s]\n",
      "100%|██████████| 73/73 [00:43<00:00,  1.67it/s]\n"
     ]
    },
    {
     "name": "stdout",
     "output_type": "stream",
     "text": [
      "EPOCH: 8\n",
      "Train Mean loss: 0.0835\n",
      "Train Dice: 0.9281\n",
      "Train IOU: 0.8675\n",
      "Train Recall: 0.9251\n",
      "Train Precision: 0.9336\n",
      "----------------------\n",
      "Validation Mean loss: 0.0882\n",
      "Validation Dice: 0.9196\n",
      "Validation IOU: 0.8532\n",
      "Validation Recall: 0.9107\n",
      "Validation Precision: 0.9327\n",
      "---------------------------------------------\n"
     ]
    },
    {
     "name": "stderr",
     "output_type": "stream",
     "text": [
      "100%|██████████| 589/589 [06:03<00:00,  1.62it/s]\n",
      "100%|██████████| 73/73 [00:43<00:00,  1.67it/s]\n"
     ]
    },
    {
     "name": "stdout",
     "output_type": "stream",
     "text": [
      "EPOCH: 9\n",
      "Train Mean loss: 0.0830\n",
      "Train Dice: 0.9288\n",
      "Train IOU: 0.8689\n",
      "Train Recall: 0.9255\n",
      "Train Precision: 0.9349\n",
      "----------------------\n",
      "Validation Mean loss: 0.0871\n",
      "Validation Dice: 0.9213\n",
      "Validation IOU: 0.8563\n",
      "Validation Recall: 0.9141\n",
      "Validation Precision: 0.9322\n",
      "---------------------------------------------\n"
     ]
    },
    {
     "name": "stderr",
     "output_type": "stream",
     "text": [
      "100%|██████████| 589/589 [06:04<00:00,  1.62it/s]\n",
      "100%|██████████| 73/73 [00:43<00:00,  1.66it/s]\n"
     ]
    },
    {
     "name": "stdout",
     "output_type": "stream",
     "text": [
      "EPOCH: 10\n",
      "Train Mean loss: 0.0829\n",
      "Train Dice: 0.9291\n",
      "Train IOU: 0.8692\n",
      "Train Recall: 0.9259\n",
      "Train Precision: 0.9350\n",
      "----------------------\n",
      "Validation Mean loss: 0.0868\n",
      "Validation Dice: 0.9220\n",
      "Validation IOU: 0.8576\n",
      "Validation Recall: 0.9154\n",
      "Validation Precision: 0.9313\n",
      "---------------------------------------------\n"
     ]
    },
    {
     "name": "stderr",
     "output_type": "stream",
     "text": [
      "100%|██████████| 589/589 [06:05<00:00,  1.61it/s]\n",
      "100%|██████████| 73/73 [00:43<00:00,  1.66it/s]\n"
     ]
    },
    {
     "name": "stdout",
     "output_type": "stream",
     "text": [
      "EPOCH: 11\n",
      "Train Mean loss: 0.0813\n",
      "Train Dice: 0.9319\n",
      "Train IOU: 0.8739\n",
      "Train Recall: 0.9289\n",
      "Train Precision: 0.9374\n",
      "----------------------\n",
      "Validation Mean loss: 0.0865\n",
      "Validation Dice: 0.9222\n",
      "Validation IOU: 0.8577\n",
      "Validation Recall: 0.9063\n",
      "Validation Precision: 0.9417\n",
      "---------------------------------------------\n"
     ]
    },
    {
     "name": "stderr",
     "output_type": "stream",
     "text": [
      "100%|██████████| 589/589 [06:04<00:00,  1.62it/s]\n",
      "100%|██████████| 73/73 [00:43<00:00,  1.67it/s]\n"
     ]
    },
    {
     "name": "stdout",
     "output_type": "stream",
     "text": [
      "EPOCH: 12\n",
      "Train Mean loss: 0.0812\n",
      "Train Dice: 0.9319\n",
      "Train IOU: 0.8741\n",
      "Train Recall: 0.9283\n",
      "Train Precision: 0.9378\n",
      "----------------------\n",
      "Validation Mean loss: 0.0888\n",
      "Validation Dice: 0.9195\n",
      "Validation IOU: 0.8536\n",
      "Validation Recall: 0.9291\n",
      "Validation Precision: 0.9136\n",
      "---------------------------------------------\n"
     ]
    },
    {
     "name": "stderr",
     "output_type": "stream",
     "text": [
      "100%|██████████| 589/589 [06:03<00:00,  1.62it/s]\n",
      "100%|██████████| 73/73 [00:43<00:00,  1.67it/s]\n"
     ]
    },
    {
     "name": "stdout",
     "output_type": "stream",
     "text": [
      "EPOCH: 13\n",
      "Train Mean loss: 0.0815\n",
      "Train Dice: 0.9313\n",
      "Train IOU: 0.8731\n",
      "Train Recall: 0.9290\n",
      "Train Precision: 0.9359\n",
      "----------------------\n",
      "Validation Mean loss: 0.0876\n",
      "Validation Dice: 0.9201\n",
      "Validation IOU: 0.8542\n",
      "Validation Recall: 0.9107\n",
      "Validation Precision: 0.9334\n",
      "---------------------------------------------\n"
     ]
    },
    {
     "name": "stderr",
     "output_type": "stream",
     "text": [
      "100%|██████████| 589/589 [06:03<00:00,  1.62it/s]\n",
      "100%|██████████| 73/73 [00:43<00:00,  1.67it/s]\n"
     ]
    },
    {
     "name": "stdout",
     "output_type": "stream",
     "text": [
      "EPOCH: 14\n",
      "Train Mean loss: 0.0804\n",
      "Train Dice: 0.9332\n",
      "Train IOU: 0.8764\n",
      "Train Recall: 0.9310\n",
      "Train Precision: 0.9377\n",
      "----------------------\n",
      "Validation Mean loss: 0.0884\n",
      "Validation Dice: 0.9189\n",
      "Validation IOU: 0.8531\n",
      "Validation Recall: 0.9184\n",
      "Validation Precision: 0.9241\n",
      "---------------------------------------------\n"
     ]
    },
    {
     "name": "stderr",
     "output_type": "stream",
     "text": [
      "100%|██████████| 589/589 [06:03<00:00,  1.62it/s]\n",
      "100%|██████████| 73/73 [00:43<00:00,  1.67it/s]\n"
     ]
    },
    {
     "name": "stdout",
     "output_type": "stream",
     "text": [
      "EPOCH: 15\n",
      "Train Mean loss: 0.0796\n",
      "Train Dice: 0.9345\n",
      "Train IOU: 0.8785\n",
      "Train Recall: 0.9312\n",
      "Train Precision: 0.9402\n",
      "----------------------\n",
      "Validation Mean loss: 0.0862\n",
      "Validation Dice: 0.9234\n",
      "Validation IOU: 0.8599\n",
      "Validation Recall: 0.9206\n",
      "Validation Precision: 0.9297\n",
      "---------------------------------------------\n"
     ]
    },
    {
     "name": "stderr",
     "output_type": "stream",
     "text": [
      "100%|██████████| 589/589 [06:04<00:00,  1.62it/s]\n",
      "100%|██████████| 73/73 [00:43<00:00,  1.67it/s]"
     ]
    },
    {
     "name": "stdout",
     "output_type": "stream",
     "text": [
      "EPOCH: 16\n",
      "Train Mean loss: 0.0795\n",
      "Train Dice: 0.9347\n",
      "Train IOU: 0.8788\n",
      "Train Recall: 0.9320\n",
      "Train Precision: 0.9395\n",
      "----------------------\n",
      "Validation Mean loss: 0.0851\n",
      "Validation Dice: 0.9250\n",
      "Validation IOU: 0.8630\n",
      "Validation Recall: 0.9276\n",
      "Validation Precision: 0.9256\n",
      "---------------------------------------------\n",
      "Early stopping! No improvement in 10 epochs.\n"
     ]
    },
    {
     "name": "stderr",
     "output_type": "stream",
     "text": [
      "\n"
     ]
    }
   ],
   "source": [
    "from tqdm import tqdm\n",
    "from statistics import mean\n",
    "import torch\n",
    "from torch.nn.functional import threshold, normalize\n",
    "import os\n",
    "\n",
    "# Tạo thư mục checkpoint\n",
    "checkpoint_dir = '/kaggle/working/checkpoint_SAM'\n",
    "os.makedirs(checkpoint_dir, exist_ok=True)\n",
    "\n",
    "# Biến để theo dõi loss tốt nhất và trọng số của nó\n",
    "best_loss = float('inf')\n",
    "best_weights = None\n",
    "\n",
    "# Add list to record loss of train dataset\n",
    "train_loss_list = []\n",
    "train_dice_loss = []\n",
    "train_iou_loss = []\n",
    "train_precision_loss = []\n",
    "train_recall_loss = []\n",
    "\n",
    "# Add list to record loss of validation dataset\n",
    "val_loss_list = []\n",
    "val_dice_loss = []\n",
    "val_iou_loss = []\n",
    "val_precision_loss = []\n",
    "val_recall_loss = []\n",
    "\n",
    "# Early stopping parameters\n",
    "patience = 10  # Số lượng epochs mà mô hình không cải thiện trước khi dừng sớm\n",
    "counter = 0\n",
    "\n",
    "# Training loop\n",
    "num_epochs = 50\n",
    "\n",
    "device = \"cuda\" if torch.cuda.is_available() else \"cpu\"\n",
    "model.to(device)\n",
    "\n",
    "model.train()\n",
    "for epoch in range(num_epochs):\n",
    "    correct_predictions = 0\n",
    "    total_predictions = 0\n",
    "    \n",
    "    # Train Model on Train Dataset\n",
    "    epoch_losses = []\n",
    "    train_dice_scores = []\n",
    "    train_iou_scores = []\n",
    "    train_recall_scores = []\n",
    "    train_precision_scores = []\n",
    "    \n",
    "    for batch in tqdm(train_dataloader):\n",
    "        # forward pass\n",
    "        outputs = model(pixel_values=batch[\"pixel_values\"].to(device),\n",
    "                        input_boxes=batch[\"input_boxes\"].to(device),\n",
    "                        multimask_output=False)\n",
    "\n",
    "        # compute loss\n",
    "        predicted_masks = outputs.pred_masks.squeeze(1)\n",
    "        ground_truth_masks = batch[\"ground_truth_mask\"].float().to(device) \n",
    "        target = ground_truth_masks.unsqueeze(1)\n",
    "        predicted_masks = torch.sigmoid(predicted_masks)\n",
    "        loss = jointLoss(predicted_masks,target).mean()\n",
    "\n",
    "        # backward pass (compute gradients of parameters w.r.t. loss)\n",
    "        optimizer.zero_grad()\n",
    "        loss.backward()\n",
    "\n",
    "        # optimize\n",
    "        optimizer.step()\n",
    "        epoch_losses.append(loss.item())\n",
    "        \n",
    "        predicted_masks_eval = (outputs.pred_masks.squeeze() > 0.5).float() \n",
    "        train_dice_scores.append(dice(predicted_masks_eval, ground_truth_masks))\n",
    "        train_iou_scores.append(iou(predicted_masks_eval, ground_truth_masks))\n",
    "        train_recall_scores.append(recall(predicted_masks_eval, ground_truth_masks))\n",
    "        train_precision_scores.append(precision(predicted_masks_eval, ground_truth_masks))\n",
    "\n",
    "    # Lưu trọng số của mô hình sau mỗi epoch vào thư mục checkpoint\n",
    "    if epoch == num_epochs - 1:\n",
    "        torch.save(model.state_dict(), os.path.join(checkpoint_dir, f'model_epoch_{epoch}.pt'))\n",
    "    else:\n",
    "        torch.save(model.state_dict(), os.path.join(checkpoint_dir, f'model_epoch_final.pt'))\n",
    "\n",
    "    # Tính loss trung bình và accuracy của epoch hiện tại\n",
    "    epoch_loss_mean = mean(epoch_losses)\n",
    "    train_loss_list.append(epoch_loss_mean)\n",
    "    \n",
    "    train_dice = torch.tensor(train_dice_scores).mean().item()\n",
    "    train_iou = torch.tensor(train_iou_scores).mean().item()\n",
    "    train_recall = torch.tensor(train_recall_scores).mean().item()\n",
    "    train_precision = torch.tensor(train_precision_scores).mean().item()\n",
    "    \n",
    "    train_dice_loss.append(train_dice)\n",
    "    train_iou_loss.append(train_iou)\n",
    "    train_recall_loss.append(train_recall)\n",
    "    train_precision_loss.append(train_precision)\n",
    "    \n",
    "    #-------------------------------------------------------------------------------------\n",
    "    # Đánh giá mô hình trên tập validation\n",
    "    validation_losses = []\n",
    "    val_dice_scores = []\n",
    "    val_iou_scores = []\n",
    "    val_recall_scores = []\n",
    "    val_precision_scores = []\n",
    "    \n",
    "    with torch.no_grad():  # Không tính gradient trong quá trình đánh giá\n",
    "        for batch in tqdm(val_dataloader):\n",
    "            outputs = model(pixel_values=batch[\"pixel_values\"].to(device),\n",
    "                            input_boxes=batch[\"input_boxes\"].to(device),\n",
    "                            multimask_output=False)\n",
    "            \n",
    "            predicted_masks = outputs.pred_masks.squeeze(1)\n",
    "            ground_truth_masks = batch[\"ground_truth_mask\"].float().to(device) \n",
    "            target = ground_truth_masks.unsqueeze(1)\n",
    "            predicted_masks = torch.sigmoid(predicted_masks)\n",
    "            loss = jointLoss(predicted_masks,target).mean()\n",
    "            validation_losses.append(loss.item())\n",
    "\n",
    "            predicted_masks_eval = (outputs.pred_masks.squeeze() > 0.5).float() \n",
    "            val_dice_scores.append(dice(predicted_masks_eval, ground_truth_masks))\n",
    "            val_iou_scores.append(iou(predicted_masks_eval, ground_truth_masks))\n",
    "            val_recall_scores.append(recall(predicted_masks_eval, ground_truth_masks))\n",
    "            val_precision_scores.append(precision(predicted_masks_eval, ground_truth_masks))\n",
    "\n",
    "    # Tính loss trung bình trên tập validation\n",
    "    validation_loss_mean = mean(validation_losses)\n",
    "    val_loss_list.append(validation_loss_mean)\n",
    "     \n",
    "    val_dice = torch.tensor(val_dice_scores).mean().item()\n",
    "    val_iou = torch.tensor(val_iou_scores).mean().item()\n",
    "    val_recall = torch.tensor(val_recall_scores).mean().item()\n",
    "    val_precision = torch.tensor(val_precision_scores).mean().item()\n",
    "    \n",
    "    val_dice_loss.append(val_dice)\n",
    "    val_iou_loss.append(val_iou)\n",
    "    val_recall_loss.append(val_recall)\n",
    "    val_precision_loss.append(val_precision)\n",
    "    \n",
    "    #-------------------------------------------------------------------------------------\n",
    "    # In thông tin về epoch, loss của tập train và validation\n",
    "    print(f'EPOCH: {epoch}')\n",
    "    print(f'Train Mean loss: {epoch_loss_mean:.4f}')\n",
    "    print(f'Train Dice: {train_dice:.4f}')\n",
    "    print(f'Train IOU: {train_iou:.4f}')\n",
    "    print(f'Train Recall: {train_recall:.4f}')\n",
    "    print(f'Train Precision: {train_precision:.4f}')\n",
    "    print('----------------------')\n",
    "    print(f'Validation Mean loss: {validation_loss_mean:.4f}')\n",
    "    print(f'Validation Dice: {val_dice:.4f}')\n",
    "    print(f'Validation IOU: {val_iou:.4f}')\n",
    "    print(f'Validation Recall: {val_recall:.4f}')\n",
    "    print(f'Validation Precision: {val_precision:.4f}')\n",
    "\n",
    "    # Kiểm tra xem loss của epoch hiện tại có là tốt nhất không\n",
    "    if validation_loss_mean < best_loss:\n",
    "    # Nếu là loss tốt nhất, cập nhật biến best_loss và lưu trọng số tốt nhất\n",
    "        best_loss = validation_loss_mean\n",
    "        best_weights = model.state_dict()\n",
    "        torch.save(best_weights, os.path.join(checkpoint_dir, 'best_model_weights_MedSAM_jointLoss.pt'))\n",
    "        print(\"Best model weights saved.\")\n",
    "    print('---------------------------------------------')\n",
    "    \n",
    "    #-------------------------------------------------------------------------------------\n",
    "    # Kiểm tra early stopping\n",
    "    if epoch > 0:  # Bắt đầu kiểm tra early stopping sau epoch đầu tiên\n",
    "        if validation_loss_mean >= prev_epoch_loss:\n",
    "            counter += 1\n",
    "            if counter >= patience:\n",
    "                print(f\"Early stopping! No improvement in {patience} epochs.\")\n",
    "                break\n",
    "        else:\n",
    "            counter = 0  # Reset counter\n",
    "            prev_epoch_loss = validation_loss_mean  # Lưu loss của epoch hiện tại để so sánh với epoch tiếp theo\n",
    "    else:\n",
    "        prev_epoch_loss = validation_loss_mean"
   ]
  },
  {
   "cell_type": "code",
   "execution_count": 37,
   "id": "bef3587d",
   "metadata": {
    "execution": {
     "iopub.execute_input": "2024-04-24T12:37:52.676045Z",
     "iopub.status.busy": "2024-04-24T12:37:52.675175Z",
     "iopub.status.idle": "2024-04-24T12:37:52.681543Z",
     "shell.execute_reply": "2024-04-24T12:37:52.680622Z"
    },
    "papermill": {
     "duration": 0.930646,
     "end_time": "2024-04-24T12:37:52.683546",
     "exception": false,
     "start_time": "2024-04-24T12:37:51.752900",
     "status": "completed"
    },
    "tags": []
   },
   "outputs": [
    {
     "data": {
      "text/plain": [
       "[0.10462527935897555,\n",
       " 0.09483635572302321,\n",
       " 0.09190796601549676,\n",
       " 0.08878220125071463,\n",
       " 0.08850949884397065,\n",
       " 0.08690602093909713,\n",
       " 0.08557586337744887,\n",
       " 0.0845229599770342,\n",
       " 0.08350772671844235,\n",
       " 0.08299430201687108,\n",
       " 0.08286110612173234,\n",
       " 0.08125243280936785,\n",
       " 0.08118448769499774,\n",
       " 0.08151598034366485,\n",
       " 0.08036002103106478,\n",
       " 0.0796098480845449,\n",
       " 0.07950117444091417]"
      ]
     },
     "execution_count": 37,
     "metadata": {},
     "output_type": "execute_result"
    }
   ],
   "source": [
    "train_loss_list"
   ]
  },
  {
   "cell_type": "code",
   "execution_count": 38,
   "id": "ab6b8f94",
   "metadata": {
    "execution": {
     "iopub.execute_input": "2024-04-24T12:37:54.615320Z",
     "iopub.status.busy": "2024-04-24T12:37:54.614941Z",
     "iopub.status.idle": "2024-04-24T12:37:54.620981Z",
     "shell.execute_reply": "2024-04-24T12:37:54.620105Z"
    },
    "papermill": {
     "duration": 1.012271,
     "end_time": "2024-04-24T12:37:54.622886",
     "exception": false,
     "start_time": "2024-04-24T12:37:53.610615",
     "status": "completed"
    },
    "tags": []
   },
   "outputs": [
    {
     "data": {
      "text/plain": [
       "[0.8937923908233643,\n",
       " 0.9092929363250732,\n",
       " 0.9140691161155701,\n",
       " 0.9195416569709778,\n",
       " 0.9194926619529724,\n",
       " 0.9223189353942871,\n",
       " 0.9245085120201111,\n",
       " 0.9263284802436829,\n",
       " 0.9281185269355774,\n",
       " 0.9288276433944702,\n",
       " 0.9290931224822998,\n",
       " 0.931875467300415,\n",
       " 0.931938886642456,\n",
       " 0.9312903881072998,\n",
       " 0.9332152009010315,\n",
       " 0.9345493912696838,\n",
       " 0.9346932172775269]"
      ]
     },
     "execution_count": 38,
     "metadata": {},
     "output_type": "execute_result"
    }
   ],
   "source": [
    "train_dice_loss"
   ]
  },
  {
   "cell_type": "code",
   "execution_count": 39,
   "id": "dcbd45c9",
   "metadata": {
    "execution": {
     "iopub.execute_input": "2024-04-24T12:37:56.556993Z",
     "iopub.status.busy": "2024-04-24T12:37:56.556616Z",
     "iopub.status.idle": "2024-04-24T12:37:56.562712Z",
     "shell.execute_reply": "2024-04-24T12:37:56.561889Z"
    },
    "papermill": {
     "duration": 1.011651,
     "end_time": "2024-04-24T12:37:56.564734",
     "exception": false,
     "start_time": "2024-04-24T12:37:55.553083",
     "status": "completed"
    },
    "tags": []
   },
   "outputs": [
    {
     "data": {
      "text/plain": [
       "[0.8116961121559143,\n",
       " 0.8362805843353271,\n",
       " 0.8441303372383118,\n",
       " 0.8530780076980591,\n",
       " 0.8533172607421875,\n",
       " 0.8579411506652832,\n",
       " 0.8616430163383484,\n",
       " 0.8645750284194946,\n",
       " 0.8675061464309692,\n",
       " 0.8689420223236084,\n",
       " 0.8691946864128113,\n",
       " 0.8739297389984131,\n",
       " 0.8740822672843933,\n",
       " 0.8730601668357849,\n",
       " 0.8763515949249268,\n",
       " 0.8784996271133423,\n",
       " 0.8788154721260071]"
      ]
     },
     "execution_count": 39,
     "metadata": {},
     "output_type": "execute_result"
    }
   ],
   "source": [
    "train_iou_loss"
   ]
  },
  {
   "cell_type": "code",
   "execution_count": 40,
   "id": "6f04faac",
   "metadata": {
    "execution": {
     "iopub.execute_input": "2024-04-24T12:37:58.420382Z",
     "iopub.status.busy": "2024-04-24T12:37:58.419518Z",
     "iopub.status.idle": "2024-04-24T12:37:58.425744Z",
     "shell.execute_reply": "2024-04-24T12:37:58.424862Z"
    },
    "papermill": {
     "duration": 0.933896,
     "end_time": "2024-04-24T12:37:58.427858",
     "exception": false,
     "start_time": "2024-04-24T12:37:57.493962",
     "status": "completed"
    },
    "tags": []
   },
   "outputs": [
    {
     "data": {
      "text/plain": [
       "[0.8896477222442627,\n",
       " 0.9055010080337524,\n",
       " 0.9098957180976868,\n",
       " 0.9166665077209473,\n",
       " 0.916638195514679,\n",
       " 0.9191118478775024,\n",
       " 0.9210895299911499,\n",
       " 0.922590434551239,\n",
       " 0.9250638484954834,\n",
       " 0.9255056977272034,\n",
       " 0.92586350440979,\n",
       " 0.9289277195930481,\n",
       " 0.9283110499382019,\n",
       " 0.928999125957489,\n",
       " 0.9309589862823486,\n",
       " 0.9311990737915039,\n",
       " 0.9320339560508728]"
      ]
     },
     "execution_count": 40,
     "metadata": {},
     "output_type": "execute_result"
    }
   ],
   "source": [
    "train_recall_loss"
   ]
  },
  {
   "cell_type": "code",
   "execution_count": 41,
   "id": "1bb77761",
   "metadata": {
    "execution": {
     "iopub.execute_input": "2024-04-24T12:38:00.380216Z",
     "iopub.status.busy": "2024-04-24T12:38:00.379875Z",
     "iopub.status.idle": "2024-04-24T12:38:00.386035Z",
     "shell.execute_reply": "2024-04-24T12:38:00.385091Z"
    },
    "papermill": {
     "duration": 0.935067,
     "end_time": "2024-04-24T12:38:00.387860",
     "exception": false,
     "start_time": "2024-04-24T12:37:59.452793",
     "status": "completed"
    },
    "tags": []
   },
   "outputs": [
    {
     "data": {
      "text/plain": [
       "[0.9045839309692383,\n",
       " 0.9173896908760071,\n",
       " 0.9219988584518433,\n",
       " 0.9259953498840332,\n",
       " 0.9258515238761902,\n",
       " 0.92868971824646,\n",
       " 0.9306269884109497,\n",
       " 0.9328951239585876,\n",
       " 0.933594286441803,\n",
       " 0.9348756670951843,\n",
       " 0.9350008964538574,\n",
       " 0.9373829960823059,\n",
       " 0.9377790689468384,\n",
       " 0.9358693361282349,\n",
       " 0.937743604183197,\n",
       " 0.9401699900627136,\n",
       " 0.9395029544830322]"
      ]
     },
     "execution_count": 41,
     "metadata": {},
     "output_type": "execute_result"
    }
   ],
   "source": [
    "train_precision_loss"
   ]
  },
  {
   "cell_type": "code",
   "execution_count": 42,
   "id": "5728ce00",
   "metadata": {
    "execution": {
     "iopub.execute_input": "2024-04-24T12:38:02.316995Z",
     "iopub.status.busy": "2024-04-24T12:38:02.316273Z",
     "iopub.status.idle": "2024-04-24T12:38:02.322475Z",
     "shell.execute_reply": "2024-04-24T12:38:02.321581Z"
    },
    "papermill": {
     "duration": 1.015028,
     "end_time": "2024-04-24T12:38:02.324531",
     "exception": false,
     "start_time": "2024-04-24T12:38:01.309503",
     "status": "completed"
    },
    "tags": []
   },
   "outputs": [
    {
     "data": {
      "text/plain": [
       "[0.09581868809788194,\n",
       " 0.09427761352837902,\n",
       " 0.0926636920297799,\n",
       " 0.09157042414562343,\n",
       " 0.09193114737329418,\n",
       " 0.09079216589054016,\n",
       " 0.08425224291747563,\n",
       " 0.08753745334401522,\n",
       " 0.088202456599229,\n",
       " 0.08707443466537619,\n",
       " 0.08675813680029895,\n",
       " 0.08654579601875723,\n",
       " 0.08882621400160333,\n",
       " 0.08764188185538331,\n",
       " 0.08837513487837086,\n",
       " 0.08624487946907135,\n",
       " 0.08505314695712639]"
      ]
     },
     "execution_count": 42,
     "metadata": {},
     "output_type": "execute_result"
    }
   ],
   "source": [
    "val_loss_list"
   ]
  },
  {
   "cell_type": "code",
   "execution_count": 43,
   "id": "2cc9b251",
   "metadata": {
    "execution": {
     "iopub.execute_input": "2024-04-24T12:38:04.181721Z",
     "iopub.status.busy": "2024-04-24T12:38:04.180883Z",
     "iopub.status.idle": "2024-04-24T12:38:04.186874Z",
     "shell.execute_reply": "2024-04-24T12:38:04.185998Z"
    },
    "papermill": {
     "duration": 0.935752,
     "end_time": "2024-04-24T12:38:04.188724",
     "exception": false,
     "start_time": "2024-04-24T12:38:03.252972",
     "status": "completed"
    },
    "tags": []
   },
   "outputs": [
    {
     "data": {
      "text/plain": [
       "[0.9092780351638794,\n",
       " 0.9105196595191956,\n",
       " 0.9123349189758301,\n",
       " 0.9144958853721619,\n",
       " 0.9136240482330322,\n",
       " 0.9140322208404541,\n",
       " 0.9264298677444458,\n",
       " 0.9199848175048828,\n",
       " 0.9195711612701416,\n",
       " 0.9212837815284729,\n",
       " 0.9219794273376465,\n",
       " 0.9222091436386108,\n",
       " 0.9195003509521484,\n",
       " 0.9201396703720093,\n",
       " 0.9189497828483582,\n",
       " 0.9233880043029785,\n",
       " 0.9249849915504456]"
      ]
     },
     "execution_count": 43,
     "metadata": {},
     "output_type": "execute_result"
    }
   ],
   "source": [
    "val_dice_loss"
   ]
  },
  {
   "cell_type": "code",
   "execution_count": 44,
   "id": "643bd09b",
   "metadata": {
    "execution": {
     "iopub.execute_input": "2024-04-24T12:38:06.114008Z",
     "iopub.status.busy": "2024-04-24T12:38:06.113127Z",
     "iopub.status.idle": "2024-04-24T12:38:06.119374Z",
     "shell.execute_reply": "2024-04-24T12:38:06.118477Z"
    },
    "papermill": {
     "duration": 0.933043,
     "end_time": "2024-04-24T12:38:06.121295",
     "exception": false,
     "start_time": "2024-04-24T12:38:05.188252",
     "status": "completed"
    },
    "tags": []
   },
   "outputs": [
    {
     "data": {
      "text/plain": [
       "[0.8369609713554382,\n",
       " 0.839013397693634,\n",
       " 0.8414854407310486,\n",
       " 0.8452507257461548,\n",
       " 0.8444271087646484,\n",
       " 0.8452191948890686,\n",
       " 0.86429762840271,\n",
       " 0.8551956415176392,\n",
       " 0.8531532883644104,\n",
       " 0.8562527298927307,\n",
       " 0.857649028301239,\n",
       " 0.8577085137367249,\n",
       " 0.8535565733909607,\n",
       " 0.8542017340660095,\n",
       " 0.8531274199485779,\n",
       " 0.8599051833152771,\n",
       " 0.8630273342132568]"
      ]
     },
     "execution_count": 44,
     "metadata": {},
     "output_type": "execute_result"
    }
   ],
   "source": [
    "val_iou_loss"
   ]
  },
  {
   "cell_type": "code",
   "execution_count": 45,
   "id": "9be9c577",
   "metadata": {
    "execution": {
     "iopub.execute_input": "2024-04-24T12:38:08.043164Z",
     "iopub.status.busy": "2024-04-24T12:38:08.042470Z",
     "iopub.status.idle": "2024-04-24T12:38:08.048357Z",
     "shell.execute_reply": "2024-04-24T12:38:08.047482Z"
    },
    "papermill": {
     "duration": 1.008137,
     "end_time": "2024-04-24T12:38:08.050364",
     "exception": false,
     "start_time": "2024-04-24T12:38:07.042227",
     "status": "completed"
    },
    "tags": []
   },
   "outputs": [
    {
     "data": {
      "text/plain": [
       "[0.9242694973945618,\n",
       " 0.9173306822776794,\n",
       " 0.9006158709526062,\n",
       " 0.916742742061615,\n",
       " 0.9184420108795166,\n",
       " 0.9039319157600403,\n",
       " 0.9099734425544739,\n",
       " 0.912845253944397,\n",
       " 0.9106829166412354,\n",
       " 0.9140728712081909,\n",
       " 0.915435254573822,\n",
       " 0.9063469767570496,\n",
       " 0.9290863275527954,\n",
       " 0.9106765389442444,\n",
       " 0.9184054136276245,\n",
       " 0.9206089377403259,\n",
       " 0.9275884628295898]"
      ]
     },
     "execution_count": 45,
     "metadata": {},
     "output_type": "execute_result"
    }
   ],
   "source": [
    "val_recall_loss"
   ]
  },
  {
   "cell_type": "code",
   "execution_count": 46,
   "id": "3c73641e",
   "metadata": {
    "execution": {
     "iopub.execute_input": "2024-04-24T12:38:10.025196Z",
     "iopub.status.busy": "2024-04-24T12:38:10.024805Z",
     "iopub.status.idle": "2024-04-24T12:38:10.031013Z",
     "shell.execute_reply": "2024-04-24T12:38:10.030120Z"
    },
    "papermill": {
     "duration": 1.029488,
     "end_time": "2024-04-24T12:38:10.032882",
     "exception": false,
     "start_time": "2024-04-24T12:38:09.003394",
     "status": "completed"
    },
    "tags": []
   },
   "outputs": [
    {
     "data": {
      "text/plain": [
       "[0.8980668187141418,\n",
       " 0.9087854623794556,\n",
       " 0.9272556900978088,\n",
       " 0.9170633554458618,\n",
       " 0.9119663834571838,\n",
       " 0.9283101558685303,\n",
       " 0.9456047415733337,\n",
       " 0.9310294389724731,\n",
       " 0.9327302575111389,\n",
       " 0.9322450160980225,\n",
       " 0.9313126802444458,\n",
       " 0.9416542649269104,\n",
       " 0.9136195778846741,\n",
       " 0.9333672523498535,\n",
       " 0.9241170883178711,\n",
       " 0.9297113418579102,\n",
       " 0.9256214499473572]"
      ]
     },
     "execution_count": 46,
     "metadata": {},
     "output_type": "execute_result"
    }
   ],
   "source": [
    "val_precision_loss"
   ]
  },
  {
   "cell_type": "markdown",
   "id": "f7f350a7",
   "metadata": {
    "papermill": {
     "duration": 0.923242,
     "end_time": "2024-04-24T12:38:11.884713",
     "exception": false,
     "start_time": "2024-04-24T12:38:10.961471",
     "status": "completed"
    },
    "tags": []
   },
   "source": [
    "# Draw chart for loss between train and validation dataset"
   ]
  },
  {
   "cell_type": "code",
   "execution_count": 47,
   "id": "12c5247d",
   "metadata": {
    "execution": {
     "iopub.execute_input": "2024-04-24T12:38:13.826497Z",
     "iopub.status.busy": "2024-04-24T12:38:13.826124Z",
     "iopub.status.idle": "2024-04-24T12:38:14.128501Z",
     "shell.execute_reply": "2024-04-24T12:38:14.127628Z"
    },
    "papermill": {
     "duration": 1.240784,
     "end_time": "2024-04-24T12:38:14.130792",
     "exception": false,
     "start_time": "2024-04-24T12:38:12.890008",
     "status": "completed"
    },
    "tags": []
   },
   "outputs": [
    {
     "data": {
      "image/png": "[encoded data removed]",
      "text/plain": [
       "<Figure size 640x480 with 1 Axes>"
      ]
     },
     "metadata": {},
     "output_type": "display_data"
    }
   ],
   "source": [
    "import matplotlib.pyplot as plt\n",
    "import numpy as np\n",
    "\n",
    "loss = np.arange(epoch + 1)\n",
    "\n",
    "# Biểu đồ mean loss\n",
    "plt.plot(loss, train_loss_list, label='Training Loss')\n",
    "plt.plot(loss, val_loss_list, label='Validation Loss') \n",
    "plt.xlabel('Epoch')\n",
    "plt.ylabel('Loss')\n",
    "plt.title('Training and Validation Loss')\n",
    "plt.legend()\n",
    "plt.show()"
   ]
  },
  {
   "cell_type": "markdown",
   "id": "3bed3eff",
   "metadata": {
    "papermill": {
     "duration": 1.016748,
     "end_time": "2024-04-24T12:38:16.073957",
     "exception": false,
     "start_time": "2024-04-24T12:38:15.057209",
     "status": "completed"
    },
    "tags": []
   },
   "source": [
    "### Draw chart for train dataset"
   ]
  },
  {
   "cell_type": "code",
   "execution_count": 48,
   "id": "1edb5c88",
   "metadata": {
    "execution": {
     "iopub.execute_input": "2024-04-24T12:38:17.928824Z",
     "iopub.status.busy": "2024-04-24T12:38:17.928436Z",
     "iopub.status.idle": "2024-04-24T12:38:18.250049Z",
     "shell.execute_reply": "2024-04-24T12:38:18.249129Z"
    },
    "papermill": {
     "duration": 1.25263,
     "end_time": "2024-04-24T12:38:18.252270",
     "exception": false,
     "start_time": "2024-04-24T12:38:16.999640",
     "status": "completed"
    },
    "tags": []
   },
   "outputs": [
    {
     "data": {
      "image/png": "[encoded data removed]",
      "text/plain": [
       "<Figure size 640x480 with 1 Axes>"
      ]
     },
     "metadata": {},
     "output_type": "display_data"
    }
   ],
   "source": [
    "loss = np.arange(epoch + 1)\n",
    "\n",
    "# Biểu đồ mean loss\n",
    "plt.plot(loss, train_dice_loss, label='Dice') \n",
    "plt.plot(loss, train_iou_loss, label='IOU') \n",
    "plt.plot(loss, train_precision_loss, label='Precision') \n",
    "plt.plot(loss, train_recall_loss, label='Recall') \n",
    "plt.xlabel('Epoch')\n",
    "plt.ylabel('')\n",
    "plt.title('Metrics for training dataset')\n",
    "plt.legend()\n",
    "plt.show()\n"
   ]
  },
  {
   "cell_type": "markdown",
   "id": "6a65a84e",
   "metadata": {
    "papermill": {
     "duration": 0.933459,
     "end_time": "2024-04-24T12:38:20.226118",
     "exception": false,
     "start_time": "2024-04-24T12:38:19.292659",
     "status": "completed"
    },
    "tags": []
   },
   "source": [
    "### Draw chart for validation dataset"
   ]
  },
  {
   "cell_type": "code",
   "execution_count": 49,
   "id": "667c8746",
   "metadata": {
    "execution": {
     "iopub.execute_input": "2024-04-24T12:38:22.228753Z",
     "iopub.status.busy": "2024-04-24T12:38:22.227833Z",
     "iopub.status.idle": "2024-04-24T12:38:22.546118Z",
     "shell.execute_reply": "2024-04-24T12:38:22.545163Z"
    },
    "papermill": {
     "duration": 1.364147,
     "end_time": "2024-04-24T12:38:22.548140",
     "exception": false,
     "start_time": "2024-04-24T12:38:21.183993",
     "status": "completed"
    },
    "tags": []
   },
   "outputs": [
    {
     "data": {
      "image/png": "[encoded data removed]",
      "text/plain": [
       "<Figure size 640x480 with 1 Axes>"
      ]
     },
     "metadata": {},
     "output_type": "display_data"
    }
   ],
   "source": [
    "loss = np.arange(epoch + 1)\n",
    "\n",
    "# Biểu đồ mean loss\n",
    "plt.plot(loss, val_dice_loss, label='Dice') \n",
    "plt.plot(loss, val_iou_loss, label='IOU') \n",
    "plt.plot(loss, val_precision_loss, label='Precision') \n",
    "plt.plot(loss, val_recall_loss, label='Recall') \n",
    "plt.xlabel('Epoch')\n",
    "plt.ylabel('')\n",
    "plt.title('Metrics for validation dataset')\n",
    "plt.legend()\n",
    "plt.show()\n"
   ]
  },
  {
   "cell_type": "markdown",
   "id": "bd0f9549",
   "metadata": {
    "id": "jAaeol1ov81s",
    "papermill": {
     "duration": 1.00412,
     "end_time": "2024-04-24T12:38:24.494890",
     "exception": false,
     "start_time": "2024-04-24T12:38:23.490770",
     "status": "completed"
    },
    "tags": []
   },
   "source": [
    "### Đánh giá trọng số mô hình với tập Test Dataset (IOU, Precision, Recall, Dice)"
   ]
  },
  {
   "cell_type": "code",
   "execution_count": 50,
   "id": "e7f6d55e",
   "metadata": {
    "execution": {
     "iopub.execute_input": "2024-04-24T12:38:26.350641Z",
     "iopub.status.busy": "2024-04-24T12:38:26.350272Z",
     "iopub.status.idle": "2024-04-24T12:38:26.888003Z",
     "shell.execute_reply": "2024-04-24T12:38:26.886598Z"
    },
    "papermill": {
     "duration": 1.468146,
     "end_time": "2024-04-24T12:38:26.889831",
     "exception": true,
     "start_time": "2024-04-24T12:38:25.421685",
     "status": "failed"
    },
    "tags": []
   },
   "outputs": [
    {
     "ename": "FileNotFoundError",
     "evalue": "[Errno 2] No such file or directory: '/kaggle/working/best_model_weights_MedSAM_jointLoss.pt'",
     "output_type": "error",
     "traceback": [
      "\u001b[0;31m---------------------------------------------------------------------------\u001b[0m",
      "\u001b[0;31mFileNotFoundError\u001b[0m                         Traceback (most recent call last)",
      "Cell \u001b[0;32mIn[50], line 9\u001b[0m\n\u001b[1;32m      7\u001b[0m \u001b[38;5;66;03m# Tải trọng số từ checkpoint\u001b[39;00m\n\u001b[1;32m      8\u001b[0m checkpoint_path \u001b[38;5;241m=\u001b[39m \u001b[38;5;124m\"\u001b[39m\u001b[38;5;124m/kaggle/working/best_model_weights_MedSAM_jointLoss.pt\u001b[39m\u001b[38;5;124m\"\u001b[39m\n\u001b[0;32m----> 9\u001b[0m checkpoint \u001b[38;5;241m=\u001b[39m \u001b[43mtorch\u001b[49m\u001b[38;5;241;43m.\u001b[39;49m\u001b[43mload\u001b[49m\u001b[43m(\u001b[49m\u001b[43mcheckpoint_path\u001b[49m\u001b[43m,\u001b[49m\u001b[43m \u001b[49m\u001b[43mmap_location\u001b[49m\u001b[38;5;241;43m=\u001b[39;49m\u001b[43mtorch\u001b[49m\u001b[38;5;241;43m.\u001b[39;49m\u001b[43mdevice\u001b[49m\u001b[43m(\u001b[49m\u001b[38;5;124;43m'\u001b[39;49m\u001b[38;5;124;43mcpu\u001b[39;49m\u001b[38;5;124;43m'\u001b[39;49m\u001b[43m)\u001b[49m\u001b[43m)\u001b[49m\n\u001b[1;32m     11\u001b[0m \u001b[38;5;66;03m# Load trọng số vào mô hình\u001b[39;00m\n\u001b[1;32m     12\u001b[0m model\u001b[38;5;241m.\u001b[39mload_state_dict(checkpoint)\n",
      "File \u001b[0;32m/opt/conda/lib/python3.10/site-packages/torch/serialization.py:986\u001b[0m, in \u001b[0;36mload\u001b[0;34m(f, map_location, pickle_module, weights_only, mmap, **pickle_load_args)\u001b[0m\n\u001b[1;32m    983\u001b[0m \u001b[38;5;28;01mif\u001b[39;00m \u001b[38;5;124m'\u001b[39m\u001b[38;5;124mencoding\u001b[39m\u001b[38;5;124m'\u001b[39m \u001b[38;5;129;01mnot\u001b[39;00m \u001b[38;5;129;01min\u001b[39;00m pickle_load_args\u001b[38;5;241m.\u001b[39mkeys():\n\u001b[1;32m    984\u001b[0m     pickle_load_args[\u001b[38;5;124m'\u001b[39m\u001b[38;5;124mencoding\u001b[39m\u001b[38;5;124m'\u001b[39m] \u001b[38;5;241m=\u001b[39m \u001b[38;5;124m'\u001b[39m\u001b[38;5;124mutf-8\u001b[39m\u001b[38;5;124m'\u001b[39m\n\u001b[0;32m--> 986\u001b[0m \u001b[38;5;28;01mwith\u001b[39;00m \u001b[43m_open_file_like\u001b[49m\u001b[43m(\u001b[49m\u001b[43mf\u001b[49m\u001b[43m,\u001b[49m\u001b[43m \u001b[49m\u001b[38;5;124;43m'\u001b[39;49m\u001b[38;5;124;43mrb\u001b[39;49m\u001b[38;5;124;43m'\u001b[39;49m\u001b[43m)\u001b[49m \u001b[38;5;28;01mas\u001b[39;00m opened_file:\n\u001b[1;32m    987\u001b[0m     \u001b[38;5;28;01mif\u001b[39;00m _is_zipfile(opened_file):\n\u001b[1;32m    988\u001b[0m         \u001b[38;5;66;03m# The zipfile reader is going to advance the current file position.\u001b[39;00m\n\u001b[1;32m    989\u001b[0m         \u001b[38;5;66;03m# If we want to actually tail call to torch.jit.load, we need to\u001b[39;00m\n\u001b[1;32m    990\u001b[0m         \u001b[38;5;66;03m# reset back to the original position.\u001b[39;00m\n\u001b[1;32m    991\u001b[0m         orig_position \u001b[38;5;241m=\u001b[39m opened_file\u001b[38;5;241m.\u001b[39mtell()\n",
      "File \u001b[0;32m/opt/conda/lib/python3.10/site-packages/torch/serialization.py:435\u001b[0m, in \u001b[0;36m_open_file_like\u001b[0;34m(name_or_buffer, mode)\u001b[0m\n\u001b[1;32m    433\u001b[0m \u001b[38;5;28;01mdef\u001b[39;00m \u001b[38;5;21m_open_file_like\u001b[39m(name_or_buffer, mode):\n\u001b[1;32m    434\u001b[0m     \u001b[38;5;28;01mif\u001b[39;00m _is_path(name_or_buffer):\n\u001b[0;32m--> 435\u001b[0m         \u001b[38;5;28;01mreturn\u001b[39;00m \u001b[43m_open_file\u001b[49m\u001b[43m(\u001b[49m\u001b[43mname_or_buffer\u001b[49m\u001b[43m,\u001b[49m\u001b[43m \u001b[49m\u001b[43mmode\u001b[49m\u001b[43m)\u001b[49m\n\u001b[1;32m    436\u001b[0m     \u001b[38;5;28;01melse\u001b[39;00m:\n\u001b[1;32m    437\u001b[0m         \u001b[38;5;28;01mif\u001b[39;00m \u001b[38;5;124m'\u001b[39m\u001b[38;5;124mw\u001b[39m\u001b[38;5;124m'\u001b[39m \u001b[38;5;129;01min\u001b[39;00m mode:\n",
      "File \u001b[0;32m/opt/conda/lib/python3.10/site-packages/torch/serialization.py:416\u001b[0m, in \u001b[0;36m_open_file.__init__\u001b[0;34m(self, name, mode)\u001b[0m\n\u001b[1;32m    415\u001b[0m \u001b[38;5;28;01mdef\u001b[39;00m \u001b[38;5;21m__init__\u001b[39m(\u001b[38;5;28mself\u001b[39m, name, mode):\n\u001b[0;32m--> 416\u001b[0m     \u001b[38;5;28msuper\u001b[39m()\u001b[38;5;241m.\u001b[39m\u001b[38;5;21m__init__\u001b[39m(\u001b[38;5;28;43mopen\u001b[39;49m\u001b[43m(\u001b[49m\u001b[43mname\u001b[49m\u001b[43m,\u001b[49m\u001b[43m \u001b[49m\u001b[43mmode\u001b[49m\u001b[43m)\u001b[49m)\n",
      "\u001b[0;31mFileNotFoundError\u001b[0m: [Errno 2] No such file or directory: '/kaggle/working/best_model_weights_MedSAM_jointLoss.pt'"
     ]
    }
   ],
   "source": [
    "# Check if GPU is available, otherwise use CPU\n",
    "device = torch.device(\"cuda\" if torch.cuda.is_available() else \"cpu\")\n",
    "\n",
    "# Move model to the device\n",
    "model.to(device)\n",
    "\n",
    "# Tải trọng số từ checkpoint\n",
    "checkpoint_path = \"/kaggle/working/best_model_weights_MedSAM_jointLoss.pt\"\n",
    "checkpoint = torch.load(checkpoint_path, map_location=torch.device('cpu'))\n",
    "\n",
    "# Load trọng số vào mô hình\n",
    "model.load_state_dict(checkpoint)\n",
    "\n",
    "# Đặt mô hình vào chế độ đánh giá\n",
    "model.eval()\n",
    "\n",
    "# Tiếp tục quá trình kiểm tra mô hình như đã thực hiện trước đó\n",
    "test_dice_scores = []\n",
    "test_iou_scores = []\n",
    "test_recall_scores = []\n",
    "test_precision_scores = []\n",
    "\n",
    "with torch.no_grad():\n",
    "    for batch in tqdm(test_dataloader):\n",
    "        # Forward pass\n",
    "        outputs = model(pixel_values=batch[\"pixel_values\"].to(device),\n",
    "                        input_boxes=batch[\"input_boxes\"].to(device),\n",
    "                        multimask_output=False)\n",
    "\n",
    "        # Compute evaluation metrics\n",
    "        predicted_masks = (torch.sigmoid(outputs['pred_masks']).squeeze() > 0.5).float()\n",
    "        ground_truth_masks = batch[\"ground_truth_mask\"].float().to(device)\n",
    "\n",
    "        test_dice_scores.append(dice(predicted_masks, ground_truth_masks))\n",
    "        test_iou_scores.append(iou(predicted_masks, ground_truth_masks))\n",
    "        test_recall_scores.append(recall(predicted_masks, ground_truth_masks))\n",
    "        test_precision_scores.append(precision(predicted_masks, ground_truth_masks))\n",
    "\n",
    "# Print evaluation metrics\n",
    "print(\"\\n\")\n",
    "print(f'Test Dice: {torch.tensor(test_dice_scores).mean().item():.4f}')\n",
    "print(f'Test IOU: {torch.tensor(test_iou_scores).mean().item():.4f}')\n",
    "print(f'Test Recall: {torch.tensor(test_recall_scores).mean().item():.4f}')\n",
    "print(f'Test Precision: {torch.tensor(test_precision_scores).mean().item():.4f}')"
   ]
  },
  {
   "cell_type": "markdown",
   "id": "98c6594a",
   "metadata": {
    "id": "R6Nal-pHLU9c",
    "papermill": {
     "duration": null,
     "end_time": null,
     "exception": null,
     "start_time": null,
     "status": "pending"
    },
    "tags": []
   },
   "source": [
    "### Train tiếp model từ trọng số"
   ]
  },
  {
   "cell_type": "markdown",
   "id": "42dfc063",
   "metadata": {
    "id": "zEcD7ScIIJlt",
    "papermill": {
     "duration": null,
     "end_time": null,
     "exception": null,
     "start_time": null,
     "status": "pending"
    },
    "tags": []
   },
   "source": [
    "## Kiểm thử mô hình"
   ]
  },
  {
   "cell_type": "code",
   "execution_count": null,
   "id": "b5f9ca8d",
   "metadata": {
    "execution": {
     "iopub.status.busy": "2024-04-24T08:16:17.832816Z",
     "iopub.status.idle": "2024-04-24T08:16:17.833137Z",
     "shell.execute_reply": "2024-04-24T08:16:17.832992Z",
     "shell.execute_reply.started": "2024-04-24T08:16:17.832979Z"
    },
    "id": "7Km6TjledGoa",
    "outputId": "b9aa00eb-1b55-441e-b88e-aab784129ae9",
    "papermill": {
     "duration": null,
     "end_time": null,
     "exception": null,
     "start_time": null,
     "status": "pending"
    },
    "tags": []
   },
   "outputs": [],
   "source": [
    "# import numpy as np\n",
    "# from PIL import Image\n",
    "\n",
    "# # let's take a random training example\n",
    "# idx = 100\n",
    "\n",
    "# # load image\n",
    "# image = test_dataset[idx][\"image\"]\n",
    "# image"
   ]
  },
  {
   "cell_type": "code",
   "execution_count": null,
   "id": "33aede39",
   "metadata": {
    "execution": {
     "iopub.status.busy": "2024-04-24T08:16:17.834689Z",
     "iopub.status.idle": "2024-04-24T08:16:17.835011Z",
     "shell.execute_reply": "2024-04-24T08:16:17.834866Z",
     "shell.execute_reply.started": "2024-04-24T08:16:17.834853Z"
    },
    "id": "dAV_QwVEfEuA",
    "outputId": "014c771f-d88c-4ae2-9bf6-bc5040989832",
    "papermill": {
     "duration": null,
     "end_time": null,
     "exception": null,
     "start_time": null,
     "status": "pending"
    },
    "tags": []
   },
   "outputs": [],
   "source": [
    "# import torch\n",
    "# # Sử dụng GPU nếu có sẵn\n",
    "# device = torch.device(\"cuda\" if torch.cuda.is_available() else \"cpu\")\n",
    "\n",
    "# # get box prompt based on ground truth segmentation map\n",
    "# ground_truth_mask = np.array(test_dataset[idx][\"label\"])\n",
    "# prompt = get_bounding_box(ground_truth_mask)\n",
    "\n",
    "# # prepare image + box prompt for the model\n",
    "# inputs = processor(image, input_boxes=[[prompt]], return_tensors=\"pt\").to(device)\n",
    "# for k,v in inputs.items():\n",
    "#   print(k,v.shape)"
   ]
  },
  {
   "cell_type": "code",
   "execution_count": null,
   "id": "9a648c01",
   "metadata": {
    "execution": {
     "iopub.status.busy": "2024-04-24T08:16:17.836213Z",
     "iopub.status.idle": "2024-04-24T08:16:17.836704Z",
     "shell.execute_reply": "2024-04-24T08:16:17.836468Z",
     "shell.execute_reply.started": "2024-04-24T08:16:17.836448Z"
    },
    "id": "GSpTQKInfIlc",
    "papermill": {
     "duration": null,
     "end_time": null,
     "exception": null,
     "start_time": null,
     "status": "pending"
    },
    "tags": []
   },
   "outputs": [],
   "source": [
    "# model.eval()\n",
    "\n",
    "# # forward pass\n",
    "# with torch.no_grad():\n",
    "#   outputs = model(**inputs, multimask_output=False)"
   ]
  },
  {
   "cell_type": "code",
   "execution_count": null,
   "id": "4d4b9723",
   "metadata": {
    "execution": {
     "iopub.status.busy": "2024-04-24T08:16:17.838127Z",
     "iopub.status.idle": "2024-04-24T08:16:17.838581Z",
     "shell.execute_reply": "2024-04-24T08:16:17.838357Z",
     "shell.execute_reply.started": "2024-04-24T08:16:17.838339Z"
    },
    "id": "lu_XMldufKSr",
    "papermill": {
     "duration": null,
     "end_time": null,
     "exception": null,
     "start_time": null,
     "status": "pending"
    },
    "tags": []
   },
   "outputs": [],
   "source": [
    "# # apply sigmoid\n",
    "# medsam_seg_prob = torch.sigmoid(outputs.pred_masks.squeeze(1))\n",
    "# # convert soft mask to hard mask\n",
    "# medsam_seg_prob = medsam_seg_prob.cpu().numpy().squeeze()\n",
    "# medsam_seg = (medsam_seg_prob > 0.5).astype(np.uint8)"
   ]
  },
  {
   "cell_type": "code",
   "execution_count": null,
   "id": "4a79b647",
   "metadata": {
    "execution": {
     "iopub.status.busy": "2024-04-24T08:16:17.840160Z",
     "iopub.status.idle": "2024-04-24T08:16:17.840510Z",
     "shell.execute_reply": "2024-04-24T08:16:17.840336Z",
     "shell.execute_reply.started": "2024-04-24T08:16:17.840323Z"
    },
    "id": "JJ67JzYufPfL",
    "outputId": "7e99f8be-a203-498e-b9c2-72e3a3fa1b79",
    "papermill": {
     "duration": null,
     "end_time": null,
     "exception": null,
     "start_time": null,
     "status": "pending"
    },
    "tags": []
   },
   "outputs": [],
   "source": [
    "# def show_mask(mask, ax, random_color=False):\n",
    "#     if random_color:\n",
    "#         color = np.concatenate([np.random.random(3), np.array([0.6])], axis=0)\n",
    "#     else:\n",
    "#         color = np.array([30/255, 144/255, 255/255, 0.6])\n",
    "#     h, w = mask.shape[-2:]\n",
    "#     mask_image = mask.reshape(h, w, 1) * color.reshape(1, 1, -1)\n",
    "#     ax.imshow(mask_image)"
   ]
  },
  {
   "cell_type": "code",
   "execution_count": null,
   "id": "ab0d9228",
   "metadata": {
    "execution": {
     "iopub.status.busy": "2024-04-24T08:16:17.842176Z",
     "iopub.status.idle": "2024-04-24T08:16:17.842606Z",
     "shell.execute_reply": "2024-04-24T08:16:17.842411Z",
     "shell.execute_reply.started": "2024-04-24T08:16:17.842378Z"
    },
    "papermill": {
     "duration": null,
     "end_time": null,
     "exception": null,
     "start_time": null,
     "status": "pending"
    },
    "tags": []
   },
   "outputs": [],
   "source": [
    "# import numpy as np\n",
    "# from PIL import Image\n",
    "# import torch\n",
    "# import matplotlib.pyplot as plt\n",
    "\n",
    "# # Sử dụng GPU nếu có sẵn\n",
    "# device = torch.device(\"cuda\" if torch.cuda.is_available() else \"cpu\")\n",
    "\n",
    "# for idx in range(0, len(test_dataset)):  # Duyệt qua các chỉ số từ 1 đến 10\n",
    "#     # load image\n",
    "#     image = test_dataset[idx][\"image\"]\n",
    "\n",
    "#     # get box prompt based on ground truth segmentation map\n",
    "#     ground_truth_mask = np.array(test_dataset[idx][\"label\"])\n",
    "#     prompt = get_bounding_box(ground_truth_mask)\n",
    "\n",
    "#     # prepare image + box prompt for the model\n",
    "#     inputs = processor(image, input_boxes=[[prompt]], return_tensors=\"pt\").to(device)\n",
    "\n",
    "#     model.eval()\n",
    "\n",
    "#     # forward pass\n",
    "#     with torch.no_grad():\n",
    "#         outputs = model(**inputs, multimask_output=False)\n",
    "\n",
    "#     # apply sigmoid\n",
    "#     medsam_seg_prob = torch.sigmoid(outputs.pred_masks.squeeze(1))\n",
    "#     # convert soft mask to hard mask\n",
    "#     medsam_seg_prob = medsam_seg_prob.cpu().numpy().squeeze()\n",
    "#     medsam_seg = (medsam_seg_prob > 0.5).astype(np.uint8)\n",
    "    \n",
    "#     fig, axes = plt.subplots(1, 3, figsize=(15, 5))\n",
    "#     # Hiển thị hình ảnh\n",
    "#     axes[0].imshow(image)\n",
    "#     axes[0].set_title(\"Image\")\n",
    "#     axes[0].axis(\"off\")\n",
    "\n",
    "#     # Hiển thị đồ thị cho ground truth mask\n",
    "#     axes[1].imshow(ground_truth_mask)\n",
    "#     axes[1].set_title(\"Ground truth mask\")\n",
    "#     axes[1].axis(\"off\")\n",
    "\n",
    "#     # Hiển thị đồ thị cho predicted mask\n",
    "#     axes[2].imshow(medsam_seg)\n",
    "#     axes[2].set_title(\"Predicted mask\")\n",
    "#     axes[2].axis(\"off\")\n",
    "\n",
    "#     plt.show()"
   ]
  }
 ],
 "metadata": {
  "accelerator": "GPU",
  "colab": {
   "gpuType": "T4",
   "include_colab_link": true,
   "provenance": [],
   "toc_visible": true
  },
  "kaggle": {
   "accelerator": "gpu",
   "dataSources": [
    {
     "datasetId": 4660437,
     "sourceId": 7929258,
     "sourceType": "datasetVersion"
    }
   ],
   "isGpuEnabled": true,
   "isInternetEnabled": true,
   "language": "python",
   "sourceType": "notebook"
  },
  "kernelspec": {
   "display_name": "Python 3",
   "language": "python",
   "name": "python3"
  },
  "language_info": {
   "codemirror_mode": {
    "name": "ipython",
    "version": 3
   },
   "file_extension": ".py",
   "mimetype": "text/x-python",
   "name": "python",
   "nbconvert_exporter": "python",
   "pygments_lexer": "ipython3",
   "version": "3.10.13"
  },
  "papermill": {
   "default_parameters": {},
   "duration": 7219.080464,
   "end_time": "2024-04-24T12:38:31.340913",
   "environment_variables": {},
   "exception": true,
   "input_path": "__notebook__.ipynb",
   "output_path": "__notebook__.ipynb",
   "parameters": {},
   "start_time": "2024-04-24T10:38:12.260449",
   "version": "2.5.0"
  },
  "widgets": {
   "application/vnd.jupyter.widget-state+json": {
    "state": {
     "04a35fb5596b44068a3abb9ff01a27a6": {
      "model_module": "@jupyter-widgets/controls",
      "model_module_version": "1.5.0",
      "model_name": "HBoxModel",
      "state": {
       "_dom_classes": [],
       "_model_module": "@jupyter-widgets/controls",
       "_model_module_version": "1.5.0",
       "_model_name": "HBoxModel",
       "_view_count": null,
       "_view_module": "@jupyter-widgets/controls",
       "_view_module_version": "1.5.0",
       "_view_name": "HBoxView",
       "box_style": "",
       "children": [
        "IPY_MODEL_4dae0c0f3f6c42e08515e0068cc8cb44",
        "IPY_MODEL_78b03d68ab0d4e6f822327a0974d558c",
        "IPY_MODEL_9da45665d5ba408db0679de977da38e8"
       ],
       "layout": "IPY_MODEL_0c7f9b34d81746ff91806b1a0bf0915b"
      }
     },
     "06ba7f92a12c4dde9962e518eac7f1d1": {
      "model_module": "@jupyter-widgets/controls",
      "model_module_version": "1.5.0",
      "model_name": "FloatProgressModel",
      "state": {
       "_dom_classes": [],
       "_model_module": "@jupyter-widgets/controls",
       "_model_module_version": "1.5.0",
       "_model_name": "FloatProgressModel",
       "_view_count": null,
       "_view_module": "@jupyter-widgets/controls",
       "_view_module_version": "1.5.0",
       "_view_name": "ProgressView",
       "bar_style": "success",
       "description": "",
       "description_tooltip": null,
       "layout": "IPY_MODEL_810da01ca08347699e1493209e285bb3",
       "max": 466.0,
       "min": 0.0,
       "orientation": "horizontal",
       "style": "IPY_MODEL_be1a3d70be2349b2ab6cdd00ee7f51c9",
       "value": 466.0
      }
     },
     "0baecda7c6a943738b7cce5d775440ed": {
      "model_module": "@jupyter-widgets/controls",
      "model_module_version": "1.5.0",
      "model_name": "HTMLModel",
      "state": {
       "_dom_classes": [],
       "_model_module": "@jupyter-widgets/controls",
       "_model_module_version": "1.5.0",
       "_model_name": "HTMLModel",
       "_view_count": null,
       "_view_module": "@jupyter-widgets/controls",
       "_view_module_version": "1.5.0",
       "_view_name": "HTMLView",
       "description": "",
       "description_tooltip": null,
       "layout": "IPY_MODEL_d579a84139ad4f6c85799c56d69deec2",
       "placeholder": "​",
       "style": "IPY_MODEL_15ba470498d347019fac1c7ade972d38",
       "value": " 466/466 [00:00&lt;00:00, 37.3kB/s]"
      }
     },
     "0bc31dce15fe45e4a0921fdabf888ea1": {
      "model_module": "@jupyter-widgets/controls",
      "model_module_version": "1.5.0",
      "model_name": "DescriptionStyleModel",
      "state": {
       "_model_module": "@jupyter-widgets/controls",
       "_model_module_version": "1.5.0",
       "_model_name": "DescriptionStyleModel",
       "_view_count": null,
       "_view_module": "@jupyter-widgets/base",
       "_view_module_version": "1.2.0",
       "_view_name": "StyleView",
       "description_width": ""
      }
     },
     "0c7f9b34d81746ff91806b1a0bf0915b": {
      "model_module": "@jupyter-widgets/base",
      "model_module_version": "1.2.0",
      "model_name": "LayoutModel",
      "state": {
       "_model_module": "@jupyter-widgets/base",
       "_model_module_version": "1.2.0",
       "_model_name": "LayoutModel",
       "_view_count": null,
       "_view_module": "@jupyter-widgets/base",
       "_view_module_version": "1.2.0",
       "_view_name": "LayoutView",
       "align_content": null,
       "align_items": null,
       "align_self": null,
       "border": null,
       "bottom": null,
       "display": null,
       "flex": null,
       "flex_flow": null,
       "grid_area": null,
       "grid_auto_columns": null,
       "grid_auto_flow": null,
       "grid_auto_rows": null,
       "grid_column": null,
       "grid_gap": null,
       "grid_row": null,
       "grid_template_areas": null,
       "grid_template_columns": null,
       "grid_template_rows": null,
       "height": null,
       "justify_content": null,
       "justify_items": null,
       "left": null,
       "margin": null,
       "max_height": null,
       "max_width": null,
       "min_height": null,
       "min_width": null,
       "object_fit": null,
       "object_position": null,
       "order": null,
       "overflow": null,
       "overflow_x": null,
       "overflow_y": null,
       "padding": null,
       "right": null,
       "top": null,
       "visibility": null,
       "width": null
      }
     },
     "0deb9559b2f446d29489c631fe9ea4c3": {
      "model_module": "@jupyter-widgets/controls",
      "model_module_version": "1.5.0",
      "model_name": "HBoxModel",
      "state": {
       "_dom_classes": [],
       "_model_module": "@jupyter-widgets/controls",
       "_model_module_version": "1.5.0",
       "_model_name": "HBoxModel",
       "_view_count": null,
       "_view_module": "@jupyter-widgets/controls",
       "_view_module_version": "1.5.0",
       "_view_name": "HBoxView",
       "box_style": "",
       "children": [
        "IPY_MODEL_982daaf3f8b04c8a9c6fc74bfc8ef07c",
        "IPY_MODEL_210de527162f4545b76a821be55c3dab",
        "IPY_MODEL_3fababb6d7394e97ae6ae5c2b9006acb"
       ],
       "layout": "IPY_MODEL_f86e90acafc1485ba6508641e415c2e5"
      }
     },
     "15ba470498d347019fac1c7ade972d38": {
      "model_module": "@jupyter-widgets/controls",
      "model_module_version": "1.5.0",
      "model_name": "DescriptionStyleModel",
      "state": {
       "_model_module": "@jupyter-widgets/controls",
       "_model_module_version": "1.5.0",
       "_model_name": "DescriptionStyleModel",
       "_view_count": null,
       "_view_module": "@jupyter-widgets/base",
       "_view_module_version": "1.2.0",
       "_view_name": "StyleView",
       "description_width": ""
      }
     },
     "1fd2fa4e934442f2ab084fec1a122b48": {
      "model_module": "@jupyter-widgets/controls",
      "model_module_version": "1.5.0",
      "model_name": "HBoxModel",
      "state": {
       "_dom_classes": [],
       "_model_module": "@jupyter-widgets/controls",
       "_model_module_version": "1.5.0",
       "_model_name": "HBoxModel",
       "_view_count": null,
       "_view_module": "@jupyter-widgets/controls",
       "_view_module_version": "1.5.0",
       "_view_name": "HBoxView",
       "box_style": "",
       "children": [
        "IPY_MODEL_869512c5f3fd44bca4d81cfd87947926",
        "IPY_MODEL_06ba7f92a12c4dde9962e518eac7f1d1",
        "IPY_MODEL_0baecda7c6a943738b7cce5d775440ed"
       ],
       "layout": "IPY_MODEL_6bb48b864546430883fe38029c499461"
      }
     },
     "210de527162f4545b76a821be55c3dab": {
      "model_module": "@jupyter-widgets/controls",
      "model_module_version": "1.5.0",
      "model_name": "FloatProgressModel",
      "state": {
       "_dom_classes": [],
       "_model_module": "@jupyter-widgets/controls",
       "_model_module_version": "1.5.0",
       "_model_name": "FloatProgressModel",
       "_view_count": null,
       "_view_module": "@jupyter-widgets/controls",
       "_view_module_version": "1.5.0",
       "_view_name": "ProgressView",
       "bar_style": "success",
       "description": "",
       "description_tooltip": null,
       "layout": "IPY_MODEL_426f7b7ddb1146158d50822ed88ab583",
       "max": 6517.0,
       "min": 0.0,
       "orientation": "horizontal",
       "style": "IPY_MODEL_e64c24d34a16483aac3c974de2a117b0",
       "value": 6517.0
      }
     },
     "28730246ce0f4bb19579fa854f6d62e5": {
      "model_module": "@jupyter-widgets/base",
      "model_module_version": "1.2.0",
      "model_name": "LayoutModel",
      "state": {
       "_model_module": "@jupyter-widgets/base",
       "_model_module_version": "1.2.0",
       "_model_name": "LayoutModel",
       "_view_count": null,
       "_view_module": "@jupyter-widgets/base",
       "_view_module_version": "1.2.0",
       "_view_name": "LayoutView",
       "align_content": null,
       "align_items": null,
       "align_self": null,
       "border": null,
       "bottom": null,
       "display": null,
       "flex": null,
       "flex_flow": null,
       "grid_area": null,
       "grid_auto_columns": null,
       "grid_auto_flow": null,
       "grid_auto_rows": null,
       "grid_column": null,
       "grid_gap": null,
       "grid_row": null,
       "grid_template_areas": null,
       "grid_template_columns": null,
       "grid_template_rows": null,
       "height": null,
       "justify_content": null,
       "justify_items": null,
       "left": null,
       "margin": null,
       "max_height": null,
       "max_width": null,
       "min_height": null,
       "min_width": null,
       "object_fit": null,
       "object_position": null,
       "order": null,
       "overflow": null,
       "overflow_x": null,
       "overflow_y": null,
       "padding": null,
       "right": null,
       "top": null,
       "visibility": null,
       "width": null
      }
     },
     "2913e83fff364178a8e9ee32aaa54484": {
      "model_module": "@jupyter-widgets/base",
      "model_module_version": "1.2.0",
      "model_name": "LayoutModel",
      "state": {
       "_model_module": "@jupyter-widgets/base",
       "_model_module_version": "1.2.0",
       "_model_name": "LayoutModel",
       "_view_count": null,
       "_view_module": "@jupyter-widgets/base",
       "_view_module_version": "1.2.0",
       "_view_name": "LayoutView",
       "align_content": null,
       "align_items": null,
       "align_self": null,
       "border": null,
       "bottom": null,
       "display": null,
       "flex": null,
       "flex_flow": null,
       "grid_area": null,
       "grid_auto_columns": null,
       "grid_auto_flow": null,
       "grid_auto_rows": null,
       "grid_column": null,
       "grid_gap": null,
       "grid_row": null,
       "grid_template_areas": null,
       "grid_template_columns": null,
       "grid_template_rows": null,
       "height": null,
       "justify_content": null,
       "justify_items": null,
       "left": null,
       "margin": null,
       "max_height": null,
       "max_width": null,
       "min_height": null,
       "min_width": null,
       "object_fit": null,
       "object_position": null,
       "order": null,
       "overflow": null,
       "overflow_x": null,
       "overflow_y": null,
       "padding": null,
       "right": null,
       "top": null,
       "visibility": null,
       "width": null
      }
     },
     "35ce4b85172149479bd4c8cb95d82fa5": {
      "model_module": "@jupyter-widgets/base",
      "model_module_version": "1.2.0",
      "model_name": "LayoutModel",
      "state": {
       "_model_module": "@jupyter-widgets/base",
       "_model_module_version": "1.2.0",
       "_model_name": "LayoutModel",
       "_view_count": null,
       "_view_module": "@jupyter-widgets/base",
       "_view_module_version": "1.2.0",
       "_view_name": "LayoutView",
       "align_content": null,
       "align_items": null,
       "align_self": null,
       "border": null,
       "bottom": null,
       "display": null,
       "flex": null,
       "flex_flow": null,
       "grid_area": null,
       "grid_auto_columns": null,
       "grid_auto_flow": null,
       "grid_auto_rows": null,
       "grid_column": null,
       "grid_gap": null,
       "grid_row": null,
       "grid_template_areas": null,
       "grid_template_columns": null,
       "grid_template_rows": null,
       "height": null,
       "justify_content": null,
       "justify_items": null,
       "left": null,
       "margin": null,
       "max_height": null,
       "max_width": null,
       "min_height": null,
       "min_width": null,
       "object_fit": null,
       "object_position": null,
       "order": null,
       "overflow": null,
       "overflow_x": null,
       "overflow_y": null,
       "padding": null,
       "right": null,
       "top": null,
       "visibility": null,
       "width": null
      }
     },
     "3dde9357842e462b931b66922cc3b309": {
      "model_module": "@jupyter-widgets/base",
      "model_module_version": "1.2.0",
      "model_name": "LayoutModel",
      "state": {
       "_model_module": "@jupyter-widgets/base",
       "_model_module_version": "1.2.0",
       "_model_name": "LayoutModel",
       "_view_count": null,
       "_view_module": "@jupyter-widgets/base",
       "_view_module_version": "1.2.0",
       "_view_name": "LayoutView",
       "align_content": null,
       "align_items": null,
       "align_self": null,
       "border": null,
       "bottom": null,
       "display": null,
       "flex": null,
       "flex_flow": null,
       "grid_area": null,
       "grid_auto_columns": null,
       "grid_auto_flow": null,
       "grid_auto_rows": null,
       "grid_column": null,
       "grid_gap": null,
       "grid_row": null,
       "grid_template_areas": null,
       "grid_template_columns": null,
       "grid_template_rows": null,
       "height": null,
       "justify_content": null,
       "justify_items": null,
       "left": null,
       "margin": null,
       "max_height": null,
       "max_width": null,
       "min_height": null,
       "min_width": null,
       "object_fit": null,
       "object_position": null,
       "order": null,
       "overflow": null,
       "overflow_x": null,
       "overflow_y": null,
       "padding": null,
       "right": null,
       "top": null,
       "visibility": null,
       "width": null
      }
     },
     "3fababb6d7394e97ae6ae5c2b9006acb": {
      "model_module": "@jupyter-widgets/controls",
      "model_module_version": "1.5.0",
      "model_name": "HTMLModel",
      "state": {
       "_dom_classes": [],
       "_model_module": "@jupyter-widgets/controls",
       "_model_module_version": "1.5.0",
       "_model_name": "HTMLModel",
       "_view_count": null,
       "_view_module": "@jupyter-widgets/controls",
       "_view_module_version": "1.5.0",
       "_view_name": "HTMLView",
       "description": "",
       "description_tooltip": null,
       "layout": "IPY_MODEL_812a9d05ddcb426c871a1dcf6b710aba",
       "placeholder": "​",
       "style": "IPY_MODEL_6fbe19003ac34658833b8f8900258273",
       "value": " 6.52k/6.52k [00:00&lt;00:00, 484kB/s]"
      }
     },
     "426f7b7ddb1146158d50822ed88ab583": {
      "model_module": "@jupyter-widgets/base",
      "model_module_version": "1.2.0",
      "model_name": "LayoutModel",
      "state": {
       "_model_module": "@jupyter-widgets/base",
       "_model_module_version": "1.2.0",
       "_model_name": "LayoutModel",
       "_view_count": null,
       "_view_module": "@jupyter-widgets/base",
       "_view_module_version": "1.2.0",
       "_view_name": "LayoutView",
       "align_content": null,
       "align_items": null,
       "align_self": null,
       "border": null,
       "bottom": null,
       "display": null,
       "flex": null,
       "flex_flow": null,
       "grid_area": null,
       "grid_auto_columns": null,
       "grid_auto_flow": null,
       "grid_auto_rows": null,
       "grid_column": null,
       "grid_gap": null,
       "grid_row": null,
       "grid_template_areas": null,
       "grid_template_columns": null,
       "grid_template_rows": null,
       "height": null,
       "justify_content": null,
       "justify_items": null,
       "left": null,
       "margin": null,
       "max_height": null,
       "max_width": null,
       "min_height": null,
       "min_width": null,
       "object_fit": null,
       "object_position": null,
       "order": null,
       "overflow": null,
       "overflow_x": null,
       "overflow_y": null,
       "padding": null,
       "right": null,
       "top": null,
       "visibility": null,
       "width": null
      }
     },
     "44dc46d110814ee6bceae9d697a004bc": {
      "model_module": "@jupyter-widgets/controls",
      "model_module_version": "1.5.0",
      "model_name": "DescriptionStyleModel",
      "state": {
       "_model_module": "@jupyter-widgets/controls",
       "_model_module_version": "1.5.0",
       "_model_name": "DescriptionStyleModel",
       "_view_count": null,
       "_view_module": "@jupyter-widgets/base",
       "_view_module_version": "1.2.0",
       "_view_name": "StyleView",
       "description_width": ""
      }
     },
     "4dae0c0f3f6c42e08515e0068cc8cb44": {
      "model_module": "@jupyter-widgets/controls",
      "model_module_version": "1.5.0",
      "model_name": "HTMLModel",
      "state": {
       "_dom_classes": [],
       "_model_module": "@jupyter-widgets/controls",
       "_model_module_version": "1.5.0",
       "_model_name": "HTMLModel",
       "_view_count": null,
       "_view_module": "@jupyter-widgets/controls",
       "_view_module_version": "1.5.0",
       "_view_name": "HTMLView",
       "description": "",
       "description_tooltip": null,
       "layout": "IPY_MODEL_e128a792358f45848f4cae1e317df4f4",
       "placeholder": "​",
       "style": "IPY_MODEL_0bc31dce15fe45e4a0921fdabf888ea1",
       "value": "pytorch_model.bin: 100%"
      }
     },
     "6bb48b864546430883fe38029c499461": {
      "model_module": "@jupyter-widgets/base",
      "model_module_version": "1.2.0",
      "model_name": "LayoutModel",
      "state": {
       "_model_module": "@jupyter-widgets/base",
       "_model_module_version": "1.2.0",
       "_model_name": "LayoutModel",
       "_view_count": null,
       "_view_module": "@jupyter-widgets/base",
       "_view_module_version": "1.2.0",
       "_view_name": "LayoutView",
       "align_content": null,
       "align_items": null,
       "align_self": null,
       "border": null,
       "bottom": null,
       "display": null,
       "flex": null,
       "flex_flow": null,
       "grid_area": null,
       "grid_auto_columns": null,
       "grid_auto_flow": null,
       "grid_auto_rows": null,
       "grid_column": null,
       "grid_gap": null,
       "grid_row": null,
       "grid_template_areas": null,
       "grid_template_columns": null,
       "grid_template_rows": null,
       "height": null,
       "justify_content": null,
       "justify_items": null,
       "left": null,
       "margin": null,
       "max_height": null,
       "max_width": null,
       "min_height": null,
       "min_width": null,
       "object_fit": null,
       "object_position": null,
       "order": null,
       "overflow": null,
       "overflow_x": null,
       "overflow_y": null,
       "padding": null,
       "right": null,
       "top": null,
       "visibility": null,
       "width": null
      }
     },
     "6fbe19003ac34658833b8f8900258273": {
      "model_module": "@jupyter-widgets/controls",
      "model_module_version": "1.5.0",
      "model_name": "DescriptionStyleModel",
      "state": {
       "_model_module": "@jupyter-widgets/controls",
       "_model_module_version": "1.5.0",
       "_model_name": "DescriptionStyleModel",
       "_view_count": null,
       "_view_module": "@jupyter-widgets/base",
       "_view_module_version": "1.2.0",
       "_view_name": "StyleView",
       "description_width": ""
      }
     },
     "78b03d68ab0d4e6f822327a0974d558c": {
      "model_module": "@jupyter-widgets/controls",
      "model_module_version": "1.5.0",
      "model_name": "FloatProgressModel",
      "state": {
       "_dom_classes": [],
       "_model_module": "@jupyter-widgets/controls",
       "_model_module_version": "1.5.0",
       "_model_name": "FloatProgressModel",
       "_view_count": null,
       "_view_module": "@jupyter-widgets/controls",
       "_view_module_version": "1.5.0",
       "_view_name": "ProgressView",
       "bar_style": "success",
       "description": "",
       "description_tooltip": null,
       "layout": "IPY_MODEL_28730246ce0f4bb19579fa854f6d62e5",
       "max": 375045749.0,
       "min": 0.0,
       "orientation": "horizontal",
       "style": "IPY_MODEL_e9b099a7c0ed46118fbbc39b6affd1d1",
       "value": 375045749.0
      }
     },
     "810da01ca08347699e1493209e285bb3": {
      "model_module": "@jupyter-widgets/base",
      "model_module_version": "1.2.0",
      "model_name": "LayoutModel",
      "state": {
       "_model_module": "@jupyter-widgets/base",
       "_model_module_version": "1.2.0",
       "_model_name": "LayoutModel",
       "_view_count": null,
       "_view_module": "@jupyter-widgets/base",
       "_view_module_version": "1.2.0",
       "_view_name": "LayoutView",
       "align_content": null,
       "align_items": null,
       "align_self": null,
       "border": null,
       "bottom": null,
       "display": null,
       "flex": null,
       "flex_flow": null,
       "grid_area": null,
       "grid_auto_columns": null,
       "grid_auto_flow": null,
       "grid_auto_rows": null,
       "grid_column": null,
       "grid_gap": null,
       "grid_row": null,
       "grid_template_areas": null,
       "grid_template_columns": null,
       "grid_template_rows": null,
       "height": null,
       "justify_content": null,
       "justify_items": null,
       "left": null,
       "margin": null,
       "max_height": null,
       "max_width": null,
       "min_height": null,
       "min_width": null,
       "object_fit": null,
       "object_position": null,
       "order": null,
       "overflow": null,
       "overflow_x": null,
       "overflow_y": null,
       "padding": null,
       "right": null,
       "top": null,
       "visibility": null,
       "width": null
      }
     },
     "812a9d05ddcb426c871a1dcf6b710aba": {
      "model_module": "@jupyter-widgets/base",
      "model_module_version": "1.2.0",
      "model_name": "LayoutModel",
      "state": {
       "_model_module": "@jupyter-widgets/base",
       "_model_module_version": "1.2.0",
       "_model_name": "LayoutModel",
       "_view_count": null,
       "_view_module": "@jupyter-widgets/base",
       "_view_module_version": "1.2.0",
       "_view_name": "LayoutView",
       "align_content": null,
       "align_items": null,
       "align_self": null,
       "border": null,
       "bottom": null,
       "display": null,
       "flex": null,
       "flex_flow": null,
       "grid_area": null,
       "grid_auto_columns": null,
       "grid_auto_flow": null,
       "grid_auto_rows": null,
       "grid_column": null,
       "grid_gap": null,
       "grid_row": null,
       "grid_template_areas": null,
       "grid_template_columns": null,
       "grid_template_rows": null,
       "height": null,
       "justify_content": null,
       "justify_items": null,
       "left": null,
       "margin": null,
       "max_height": null,
       "max_width": null,
       "min_height": null,
       "min_width": null,
       "object_fit": null,
       "object_position": null,
       "order": null,
       "overflow": null,
       "overflow_x": null,
       "overflow_y": null,
       "padding": null,
       "right": null,
       "top": null,
       "visibility": null,
       "width": null
      }
     },
     "869512c5f3fd44bca4d81cfd87947926": {
      "model_module": "@jupyter-widgets/controls",
      "model_module_version": "1.5.0",
      "model_name": "HTMLModel",
      "state": {
       "_dom_classes": [],
       "_model_module": "@jupyter-widgets/controls",
       "_model_module_version": "1.5.0",
       "_model_name": "HTMLModel",
       "_view_count": null,
       "_view_module": "@jupyter-widgets/controls",
       "_view_module_version": "1.5.0",
       "_view_name": "HTMLView",
       "description": "",
       "description_tooltip": null,
       "layout": "IPY_MODEL_2913e83fff364178a8e9ee32aaa54484",
       "placeholder": "​",
       "style": "IPY_MODEL_c9aca895cfcb4f0ba462913ae2c27ca1",
       "value": "preprocessor_config.json: 100%"
      }
     },
     "8bb90f86e86a42f89bcdb6c6c3d43bc9": {
      "model_module": "@jupyter-widgets/controls",
      "model_module_version": "1.5.0",
      "model_name": "DescriptionStyleModel",
      "state": {
       "_model_module": "@jupyter-widgets/controls",
       "_model_module_version": "1.5.0",
       "_model_name": "DescriptionStyleModel",
       "_view_count": null,
       "_view_module": "@jupyter-widgets/base",
       "_view_module_version": "1.2.0",
       "_view_name": "StyleView",
       "description_width": ""
      }
     },
     "982daaf3f8b04c8a9c6fc74bfc8ef07c": {
      "model_module": "@jupyter-widgets/controls",
      "model_module_version": "1.5.0",
      "model_name": "HTMLModel",
      "state": {
       "_dom_classes": [],
       "_model_module": "@jupyter-widgets/controls",
       "_model_module_version": "1.5.0",
       "_model_name": "HTMLModel",
       "_view_count": null,
       "_view_module": "@jupyter-widgets/controls",
       "_view_module_version": "1.5.0",
       "_view_name": "HTMLView",
       "description": "",
       "description_tooltip": null,
       "layout": "IPY_MODEL_3dde9357842e462b931b66922cc3b309",
       "placeholder": "​",
       "style": "IPY_MODEL_44dc46d110814ee6bceae9d697a004bc",
       "value": "config.json: 100%"
      }
     },
     "9da45665d5ba408db0679de977da38e8": {
      "model_module": "@jupyter-widgets/controls",
      "model_module_version": "1.5.0",
      "model_name": "HTMLModel",
      "state": {
       "_dom_classes": [],
       "_model_module": "@jupyter-widgets/controls",
       "_model_module_version": "1.5.0",
       "_model_name": "HTMLModel",
       "_view_count": null,
       "_view_module": "@jupyter-widgets/controls",
       "_view_module_version": "1.5.0",
       "_view_name": "HTMLView",
       "description": "",
       "description_tooltip": null,
       "layout": "IPY_MODEL_35ce4b85172149479bd4c8cb95d82fa5",
       "placeholder": "​",
       "style": "IPY_MODEL_8bb90f86e86a42f89bcdb6c6c3d43bc9",
       "value": " 375M/375M [00:07&lt;00:00, 60.4MB/s]"
      }
     },
     "be1a3d70be2349b2ab6cdd00ee7f51c9": {
      "model_module": "@jupyter-widgets/controls",
      "model_module_version": "1.5.0",
      "model_name": "ProgressStyleModel",
      "state": {
       "_model_module": "@jupyter-widgets/controls",
       "_model_module_version": "1.5.0",
       "_model_name": "ProgressStyleModel",
       "_view_count": null,
       "_view_module": "@jupyter-widgets/base",
       "_view_module_version": "1.2.0",
       "_view_name": "StyleView",
       "bar_color": null,
       "description_width": ""
      }
     },
     "c9aca895cfcb4f0ba462913ae2c27ca1": {
      "model_module": "@jupyter-widgets/controls",
      "model_module_version": "1.5.0",
      "model_name": "DescriptionStyleModel",
      "state": {
       "_model_module": "@jupyter-widgets/controls",
       "_model_module_version": "1.5.0",
       "_model_name": "DescriptionStyleModel",
       "_view_count": null,
       "_view_module": "@jupyter-widgets/base",
       "_view_module_version": "1.2.0",
       "_view_name": "StyleView",
       "description_width": ""
      }
     },
     "d579a84139ad4f6c85799c56d69deec2": {
      "model_module": "@jupyter-widgets/base",
      "model_module_version": "1.2.0",
      "model_name": "LayoutModel",
      "state": {
       "_model_module": "@jupyter-widgets/base",
       "_model_module_version": "1.2.0",
       "_model_name": "LayoutModel",
       "_view_count": null,
       "_view_module": "@jupyter-widgets/base",
       "_view_module_version": "1.2.0",
       "_view_name": "LayoutView",
       "align_content": null,
       "align_items": null,
       "align_self": null,
       "border": null,
       "bottom": null,
       "display": null,
       "flex": null,
       "flex_flow": null,
       "grid_area": null,
       "grid_auto_columns": null,
       "grid_auto_flow": null,
       "grid_auto_rows": null,
       "grid_column": null,
       "grid_gap": null,
       "grid_row": null,
       "grid_template_areas": null,
       "grid_template_columns": null,
       "grid_template_rows": null,
       "height": null,
       "justify_content": null,
       "justify_items": null,
       "left": null,
       "margin": null,
       "max_height": null,
       "max_width": null,
       "min_height": null,
       "min_width": null,
       "object_fit": null,
       "object_position": null,
       "order": null,
       "overflow": null,
       "overflow_x": null,
       "overflow_y": null,
       "padding": null,
       "right": null,
       "top": null,
       "visibility": null,
       "width": null
      }
     },
     "e128a792358f45848f4cae1e317df4f4": {
      "model_module": "@jupyter-widgets/base",
      "model_module_version": "1.2.0",
      "model_name": "LayoutModel",
      "state": {
       "_model_module": "@jupyter-widgets/base",
       "_model_module_version": "1.2.0",
       "_model_name": "LayoutModel",
       "_view_count": null,
       "_view_module": "@jupyter-widgets/base",
       "_view_module_version": "1.2.0",
       "_view_name": "LayoutView",
       "align_content": null,
       "align_items": null,
       "align_self": null,
       "border": null,
       "bottom": null,
       "display": null,
       "flex": null,
       "flex_flow": null,
       "grid_area": null,
       "grid_auto_columns": null,
       "grid_auto_flow": null,
       "grid_auto_rows": null,
       "grid_column": null,
       "grid_gap": null,
       "grid_row": null,
       "grid_template_areas": null,
       "grid_template_columns": null,
       "grid_template_rows": null,
       "height": null,
       "justify_content": null,
       "justify_items": null,
       "left": null,
       "margin": null,
       "max_height": null,
       "max_width": null,
       "min_height": null,
       "min_width": null,
       "object_fit": null,
       "object_position": null,
       "order": null,
       "overflow": null,
       "overflow_x": null,
       "overflow_y": null,
       "padding": null,
       "right": null,
       "top": null,
       "visibility": null,
       "width": null
      }
     },
     "e64c24d34a16483aac3c974de2a117b0": {
      "model_module": "@jupyter-widgets/controls",
      "model_module_version": "1.5.0",
      "model_name": "ProgressStyleModel",
      "state": {
       "_model_module": "@jupyter-widgets/controls",
       "_model_module_version": "1.5.0",
       "_model_name": "ProgressStyleModel",
       "_view_count": null,
       "_view_module": "@jupyter-widgets/base",
       "_view_module_version": "1.2.0",
       "_view_name": "StyleView",
       "bar_color": null,
       "description_width": ""
      }
     },
     "e9b099a7c0ed46118fbbc39b6affd1d1": {
      "model_module": "@jupyter-widgets/controls",
      "model_module_version": "1.5.0",
      "model_name": "ProgressStyleModel",
      "state": {
       "_model_module": "@jupyter-widgets/controls",
       "_model_module_version": "1.5.0",
       "_model_name": "ProgressStyleModel",
       "_view_count": null,
       "_view_module": "@jupyter-widgets/base",
       "_view_module_version": "1.2.0",
       "_view_name": "StyleView",
       "bar_color": null,
       "description_width": ""
      }
     },
     "f86e90acafc1485ba6508641e415c2e5": {
      "model_module": "@jupyter-widgets/base",
      "model_module_version": "1.2.0",
      "model_name": "LayoutModel",
      "state": {
       "_model_module": "@jupyter-widgets/base",
       "_model_module_version": "1.2.0",
       "_model_name": "LayoutModel",
       "_view_count": null,
       "_view_module": "@jupyter-widgets/base",
       "_view_module_version": "1.2.0",
       "_view_name": "LayoutView",
       "align_content": null,
       "align_items": null,
       "align_self": null,
       "border": null,
       "bottom": null,
       "display": null,
       "flex": null,
       "flex_flow": null,
       "grid_area": null,
       "grid_auto_columns": null,
       "grid_auto_flow": null,
       "grid_auto_rows": null,
       "grid_column": null,
       "grid_gap": null,
       "grid_row": null,
       "grid_template_areas": null,
       "grid_template_columns": null,
       "grid_template_rows": null,
       "height": null,
       "justify_content": null,
       "justify_items": null,
       "left": null,
       "margin": null,
       "max_height": null,
       "max_width": null,
       "min_height": null,
       "min_width": null,
       "object_fit": null,
       "object_position": null,
       "order": null,
       "overflow": null,
       "overflow_x": null,
       "overflow_y": null,
       "padding": null,
       "right": null,
       "top": null,
       "visibility": null,
       "width": null
      }
     }
    },
    "version_major": 2,
    "version_minor": 0
   }
  }
 },
 "nbformat": 4,
 "nbformat_minor": 5
}
