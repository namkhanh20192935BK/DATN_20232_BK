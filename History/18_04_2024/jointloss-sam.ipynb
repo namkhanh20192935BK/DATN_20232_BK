{
 "cells": [
  {
   "cell_type": "markdown",
   "id": "5336b785",
   "metadata": {
    "id": "ZgR16vTvrLfd",
    "papermill": {
     "duration": 0.024705,
     "end_time": "2024-04-24T10:27:11.263094",
     "exception": false,
     "start_time": "2024-04-24T10:27:11.238389",
     "status": "completed"
    },
    "tags": []
   },
   "source": [
    "# Cài đặt và import các thư viện cần thiết"
   ]
  },
  {
   "cell_type": "code",
   "execution_count": 1,
   "id": "548ee455",
   "metadata": {
    "execution": {
     "iopub.execute_input": "2024-04-24T10:27:11.312801Z",
     "iopub.status.busy": "2024-04-24T10:27:11.311886Z",
     "iopub.status.idle": "2024-04-24T10:28:57.894206Z",
     "shell.execute_reply": "2024-04-24T10:28:57.893211Z"
    },
    "id": "NSkTx6N-Mtyd",
    "outputId": "7f5a964e-687b-4f49-d3e1-f9016e6402d6",
    "papermill": {
     "duration": 106.608913,
     "end_time": "2024-04-24T10:28:57.896712",
     "exception": false,
     "start_time": "2024-04-24T10:27:11.287799",
     "status": "completed"
    },
    "tags": []
   },
   "outputs": [
    {
     "name": "stdout",
     "output_type": "stream",
     "text": [
      "Collecting git+https://github.com/facebookresearch/segment-anything.git\r\n",
      "  Cloning https://github.com/facebookresearch/segment-anything.git to /tmp/pip-req-build-e93d81jw\r\n",
      "  Running command git clone --filter=blob:none --quiet https://github.com/facebookresearch/segment-anything.git /tmp/pip-req-build-e93d81jw\r\n",
      "  Resolved https://github.com/facebookresearch/segment-anything.git to commit 6fdee8f2727f4506cfbbe553e23b895e27956588\r\n",
      "  Preparing metadata (setup.py) ... \u001b[?25ldone\r\n",
      "\u001b[?25hRequirement already satisfied: datasets in /opt/conda/lib/python3.10/site-packages (2.18.0)\r\n",
      "Requirement already satisfied: filelock in /opt/conda/lib/python3.10/site-packages (from datasets) (3.13.1)\r\n",
      "Requirement already satisfied: numpy>=1.17 in /opt/conda/lib/python3.10/site-packages (from datasets) (1.26.4)\r\n",
      "Requirement already satisfied: pyarrow>=12.0.0 in /opt/conda/lib/python3.10/site-packages (from datasets) (15.0.2)\r\n",
      "Requirement already satisfied: pyarrow-hotfix in /opt/conda/lib/python3.10/site-packages (from datasets) (0.6)\r\n",
      "Requirement already satisfied: dill<0.3.9,>=0.3.0 in /opt/conda/lib/python3.10/site-packages (from datasets) (0.3.8)\r\n",
      "Requirement already satisfied: pandas in /opt/conda/lib/python3.10/site-packages (from datasets) (2.1.4)\r\n",
      "Requirement already satisfied: requests>=2.19.0 in /opt/conda/lib/python3.10/site-packages (from datasets) (2.31.0)\r\n",
      "Requirement already satisfied: tqdm>=4.62.1 in /opt/conda/lib/python3.10/site-packages (from datasets) (4.66.1)\r\n",
      "Requirement already satisfied: xxhash in /opt/conda/lib/python3.10/site-packages (from datasets) (3.4.1)\r\n",
      "Requirement already satisfied: multiprocess in /opt/conda/lib/python3.10/site-packages (from datasets) (0.70.16)\r\n",
      "Requirement already satisfied: fsspec<=2024.2.0,>=2023.1.0 in /opt/conda/lib/python3.10/site-packages (from fsspec[http]<=2024.2.0,>=2023.1.0->datasets) (2024.2.0)\r\n",
      "Requirement already satisfied: aiohttp in /opt/conda/lib/python3.10/site-packages (from datasets) (3.9.1)\r\n",
      "Requirement already satisfied: huggingface-hub>=0.19.4 in /opt/conda/lib/python3.10/site-packages (from datasets) (0.22.2)\r\n",
      "Requirement already satisfied: packaging in /opt/conda/lib/python3.10/site-packages (from datasets) (21.3)\r\n",
      "Requirement already satisfied: pyyaml>=5.1 in /opt/conda/lib/python3.10/site-packages (from datasets) (6.0.1)\r\n",
      "Requirement already satisfied: attrs>=17.3.0 in /opt/conda/lib/python3.10/site-packages (from aiohttp->datasets) (23.2.0)\r\n",
      "Requirement already satisfied: multidict<7.0,>=4.5 in /opt/conda/lib/python3.10/site-packages (from aiohttp->datasets) (6.0.4)\r\n",
      "Requirement already satisfied: yarl<2.0,>=1.0 in /opt/conda/lib/python3.10/site-packages (from aiohttp->datasets) (1.9.3)\r\n",
      "Requirement already satisfied: frozenlist>=1.1.1 in /opt/conda/lib/python3.10/site-packages (from aiohttp->datasets) (1.4.1)\r\n",
      "Requirement already satisfied: aiosignal>=1.1.2 in /opt/conda/lib/python3.10/site-packages (from aiohttp->datasets) (1.3.1)\r\n",
      "Requirement already satisfied: async-timeout<5.0,>=4.0 in /opt/conda/lib/python3.10/site-packages (from aiohttp->datasets) (4.0.3)\r\n",
      "Requirement already satisfied: typing-extensions>=3.7.4.3 in /opt/conda/lib/python3.10/site-packages (from huggingface-hub>=0.19.4->datasets) (4.9.0)\r\n",
      "Requirement already satisfied: pyparsing!=3.0.5,>=2.0.2 in /opt/conda/lib/python3.10/site-packages (from packaging->datasets) (3.1.1)\r\n",
      "Requirement already satisfied: charset-normalizer<4,>=2 in /opt/conda/lib/python3.10/site-packages (from requests>=2.19.0->datasets) (3.3.2)\r\n",
      "Requirement already satisfied: idna<4,>=2.5 in /opt/conda/lib/python3.10/site-packages (from requests>=2.19.0->datasets) (3.6)\r\n",
      "Requirement already satisfied: urllib3<3,>=1.21.1 in /opt/conda/lib/python3.10/site-packages (from requests>=2.19.0->datasets) (1.26.18)\r\n",
      "Requirement already satisfied: certifi>=2017.4.17 in /opt/conda/lib/python3.10/site-packages (from requests>=2.19.0->datasets) (2024.2.2)\r\n",
      "Requirement already satisfied: python-dateutil>=2.8.2 in /opt/conda/lib/python3.10/site-packages (from pandas->datasets) (2.9.0.post0)\r\n",
      "Requirement already satisfied: pytz>=2020.1 in /opt/conda/lib/python3.10/site-packages (from pandas->datasets) (2023.3.post1)\r\n",
      "Requirement already satisfied: tzdata>=2022.1 in /opt/conda/lib/python3.10/site-packages (from pandas->datasets) (2023.4)\r\n",
      "Requirement already satisfied: six>=1.5 in /opt/conda/lib/python3.10/site-packages (from python-dateutil>=2.8.2->pandas->datasets) (1.16.0)\r\n",
      "Collecting patchify\r\n",
      "  Downloading patchify-0.2.3-py3-none-any.whl.metadata (3.0 kB)\r\n",
      "Requirement already satisfied: numpy<2,>=1 in /opt/conda/lib/python3.10/site-packages (from patchify) (1.26.4)\r\n",
      "Downloading patchify-0.2.3-py3-none-any.whl (6.6 kB)\r\n",
      "Installing collected packages: patchify\r\n",
      "Successfully installed patchify-0.2.3\r\n"
     ]
    }
   ],
   "source": [
    "# Install the required libraries\n",
    "#SAM\n",
    "!pip install git+https://github.com/facebookresearch/segment-anything.git\n",
    "#Transformers\n",
    "!pip install -q git+https://github.com/huggingface/transformers.git\n",
    "#Datasets to prepare data and monai if you want to use special loss functions\n",
    "!pip install datasets\n",
    "!pip install -q monai\n",
    "#Patchify to divide large images into smaller patches for training. (Not necessary for smaller images)\n",
    "!pip install patchify"
   ]
  },
  {
   "cell_type": "code",
   "execution_count": 2,
   "id": "813f0a94",
   "metadata": {
    "execution": {
     "iopub.execute_input": "2024-04-24T10:28:57.946753Z",
     "iopub.status.busy": "2024-04-24T10:28:57.946381Z",
     "iopub.status.idle": "2024-04-24T10:29:10.320704Z",
     "shell.execute_reply": "2024-04-24T10:29:10.319775Z"
    },
    "papermill": {
     "duration": 12.401699,
     "end_time": "2024-04-24T10:29:10.322951",
     "exception": false,
     "start_time": "2024-04-24T10:28:57.921252",
     "status": "completed"
    },
    "tags": []
   },
   "outputs": [
    {
     "name": "stdout",
     "output_type": "stream",
     "text": [
      "Collecting pytorch-msssim\r\n",
      "  Downloading pytorch_msssim-1.0.0-py3-none-any.whl.metadata (8.0 kB)\r\n",
      "Requirement already satisfied: torch in /opt/conda/lib/python3.10/site-packages (from pytorch-msssim) (2.1.2)\r\n",
      "Requirement already satisfied: filelock in /opt/conda/lib/python3.10/site-packages (from torch->pytorch-msssim) (3.13.1)\r\n",
      "Requirement already satisfied: typing-extensions in /opt/conda/lib/python3.10/site-packages (from torch->pytorch-msssim) (4.9.0)\r\n",
      "Requirement already satisfied: sympy in /opt/conda/lib/python3.10/site-packages (from torch->pytorch-msssim) (1.12)\r\n",
      "Requirement already satisfied: networkx in /opt/conda/lib/python3.10/site-packages (from torch->pytorch-msssim) (3.2.1)\r\n",
      "Requirement already satisfied: jinja2 in /opt/conda/lib/python3.10/site-packages (from torch->pytorch-msssim) (3.1.2)\r\n",
      "Requirement already satisfied: fsspec in /opt/conda/lib/python3.10/site-packages (from torch->pytorch-msssim) (2024.2.0)\r\n",
      "Requirement already satisfied: MarkupSafe>=2.0 in /opt/conda/lib/python3.10/site-packages (from jinja2->torch->pytorch-msssim) (2.1.3)\r\n",
      "Requirement already satisfied: mpmath>=0.19 in /opt/conda/lib/python3.10/site-packages (from sympy->torch->pytorch-msssim) (1.3.0)\r\n",
      "Downloading pytorch_msssim-1.0.0-py3-none-any.whl (7.7 kB)\r\n",
      "Installing collected packages: pytorch-msssim\r\n",
      "Successfully installed pytorch-msssim-1.0.0\r\n"
     ]
    }
   ],
   "source": [
    "# Set-up SSIM Loss\n",
    "!pip install pytorch-msssim"
   ]
  },
  {
   "cell_type": "code",
   "execution_count": 3,
   "id": "d12df86e",
   "metadata": {
    "execution": {
     "iopub.execute_input": "2024-04-24T10:29:10.373386Z",
     "iopub.status.busy": "2024-04-24T10:29:10.373067Z",
     "iopub.status.idle": "2024-04-24T10:29:16.518751Z",
     "shell.execute_reply": "2024-04-24T10:29:16.517714Z"
    },
    "id": "aTXUX7xyCEGT",
    "papermill": {
     "duration": 6.173568,
     "end_time": "2024-04-24T10:29:16.521274",
     "exception": false,
     "start_time": "2024-04-24T10:29:10.347706",
     "status": "completed"
    },
    "tags": []
   },
   "outputs": [],
   "source": [
    "import numpy as np\n",
    "import matplotlib.pyplot as plt\n",
    "import tifffile\n",
    "import os\n",
    "from patchify import patchify  #Only to handle large images\n",
    "import random\n",
    "from scipy import ndimage\n",
    "import cv2\n",
    "from datasets import Dataset\n",
    "from PIL import Image\n",
    "import matplotlib.pyplot as plt\n",
    "import random\n",
    "import torch"
   ]
  },
  {
   "cell_type": "code",
   "execution_count": 4,
   "id": "f3eb9107",
   "metadata": {
    "execution": {
     "iopub.execute_input": "2024-04-24T10:29:16.590304Z",
     "iopub.status.busy": "2024-04-24T10:29:16.589333Z",
     "iopub.status.idle": "2024-04-24T10:29:16.594496Z",
     "shell.execute_reply": "2024-04-24T10:29:16.593576Z"
    },
    "papermill": {
     "duration": 0.042967,
     "end_time": "2024-04-24T10:29:16.596498",
     "exception": false,
     "start_time": "2024-04-24T10:29:16.553531",
     "status": "completed"
    },
    "tags": []
   },
   "outputs": [],
   "source": [
    "import torch\n",
    "import torch.nn as nn\n",
    "import torch.nn.functional as F\n",
    "import torch.optim as optim\n",
    "import numpy as np"
   ]
  },
  {
   "cell_type": "markdown",
   "id": "5d8d4d85",
   "metadata": {
    "id": "KhKOdev0r5Rv",
    "papermill": {
     "duration": 0.024355,
     "end_time": "2024-04-24T10:29:16.645917",
     "exception": false,
     "start_time": "2024-04-24T10:29:16.621562",
     "status": "completed"
    },
    "tags": []
   },
   "source": [
    "# Chia dataset để training model"
   ]
  },
  {
   "cell_type": "markdown",
   "id": "057af525",
   "metadata": {
    "id": "aeySopXh7ifd",
    "papermill": {
     "duration": 0.028267,
     "end_time": "2024-04-24T10:29:16.699507",
     "exception": false,
     "start_time": "2024-04-24T10:29:16.671240",
     "status": "completed"
    },
    "tags": []
   },
   "source": [
    "## Chia dataset cho tập train"
   ]
  },
  {
   "cell_type": "code",
   "execution_count": 5,
   "id": "37826f82",
   "metadata": {
    "execution": {
     "iopub.execute_input": "2024-04-24T10:29:16.752518Z",
     "iopub.status.busy": "2024-04-24T10:29:16.751506Z",
     "iopub.status.idle": "2024-04-24T10:29:28.791356Z",
     "shell.execute_reply": "2024-04-24T10:29:28.790358Z"
    },
    "id": "5mmQvqScVTzX",
    "outputId": "0d318fe9-b1f2-4cef-f697-1e7c947a2c05",
    "papermill": {
     "duration": 12.068202,
     "end_time": "2024-04-24T10:29:28.793365",
     "exception": false,
     "start_time": "2024-04-24T10:29:16.725163",
     "status": "completed"
    },
    "tags": []
   },
   "outputs": [
    {
     "name": "stdout",
     "output_type": "stream",
     "text": [
      "Kích thước của mảng hình ảnh: (1177, 256, 256, 3)\n"
     ]
    }
   ],
   "source": [
    "# Đường dẫn tới thư mục chứa các hình ảnh\n",
    "image_folder = \"/kaggle/input/otu-2d/OTU_2D/train/Image\"\n",
    "\n",
    "# Lấy danh sách các tệp trong thư mục và sắp xếp theo thứ tự tên tăng dần từ A đến Z\n",
    "image_files = sorted(os.listdir(image_folder))\n",
    "\n",
    "# Khởi tạo một danh sách để chứa các hình ảnh dưới dạng mảng NumPy\n",
    "image_array_list = []\n",
    "\n",
    "# Lặp qua tất cả các tệp trong thư mục đã sắp xếp\n",
    "for filename in image_files:\n",
    "    # Kiểm tra xem tệp có phải là hình ảnh không\n",
    "    if filename.endswith(('.JPG')):\n",
    "        # Đường dẫn đầy đủ tới hình ảnh\n",
    "        img_path = os.path.join(image_folder, filename)\n",
    "\n",
    "        # Đọc hình ảnh\n",
    "        img = cv2.imread(img_path, cv2.IMREAD_COLOR)\n",
    "        img = cv2.resize(img, (256, 256))\n",
    "\n",
    "        # Kiểm tra xem hình ảnh có được đọc thành công hay không\n",
    "        if img is not None:\n",
    "            # Thêm hình ảnh vào danh sách\n",
    "            image_array_list.append(img)\n",
    "        else:\n",
    "            print(f\"Không thể đọc hình ảnh {filename}\")\n",
    "\n",
    "# Chuyển đổi danh sách hình ảnh thành mảng NumPy\n",
    "train_images_np = np.array(image_array_list)\n",
    "\n",
    "# In ra kích thước của mảng hình ảnh\n",
    "print(\"Kích thước của mảng hình ảnh:\", train_images_np.shape)\n"
   ]
  },
  {
   "cell_type": "code",
   "execution_count": 6,
   "id": "d2fe2b14",
   "metadata": {
    "execution": {
     "iopub.execute_input": "2024-04-24T10:29:28.843936Z",
     "iopub.status.busy": "2024-04-24T10:29:28.843574Z",
     "iopub.status.idle": "2024-04-24T10:29:37.940421Z",
     "shell.execute_reply": "2024-04-24T10:29:37.939406Z"
    },
    "id": "WxNoI5CTVvdW",
    "outputId": "1ef63f04-d7f8-4b86-c7c1-b7298f7da8a9",
    "papermill": {
     "duration": 9.124412,
     "end_time": "2024-04-24T10:29:37.942519",
     "exception": false,
     "start_time": "2024-04-24T10:29:28.818107",
     "status": "completed"
    },
    "tags": []
   },
   "outputs": [
    {
     "name": "stdout",
     "output_type": "stream",
     "text": [
      "Kích thước của mảng mặt nạ: (1177, 256, 256)\n"
     ]
    }
   ],
   "source": [
    "# Đường dẫn tới thư mục chứa các hình ảnh\n",
    "image_folder = \"/kaggle/input/otu-2d/OTU_2D/train/Label\"\n",
    "\n",
    "# Lấy danh sách các tệp trong thư mục và sắp xếp theo thứ tự tên tăng dần từ A đến Z\n",
    "image_files = sorted(os.listdir(image_folder))\n",
    "\n",
    "# Khởi tạo một danh sách để chứa các hình ảnh dưới dạng mảng NumPy\n",
    "image_array_list = []\n",
    "\n",
    "# Lặp qua tất cả các tệp trong thư mục đã được sắp xếp\n",
    "for filename in image_files:\n",
    "    # Kiểm tra xem tệp có phải là hình ảnh không\n",
    "    if filename.endswith('.PNG'):\n",
    "        # Đường dẫn đầy đủ tới hình ảnh\n",
    "        img_path = os.path.join(image_folder, filename)\n",
    "\n",
    "        # Đọc hình ảnh\n",
    "        img = cv2.imread(img_path, cv2.IMREAD_GRAYSCALE)\n",
    "        img = cv2.resize(img, (256, 256))\n",
    "        img = img / 255.0\n",
    "        (thresh, img) = cv2.threshold(img, 0, 1, cv2.THRESH_BINARY)\n",
    "\n",
    "        # img = np.int32(img)\n",
    "\n",
    "        # Kiểm tra xem hình ảnh có được đọc thành công hay không\n",
    "        if img is not None:\n",
    "            # Thêm hình ảnh vào danh sách\n",
    "            image_array_list.append(img)\n",
    "        else:\n",
    "            print(f\"Không thể đọc hình ảnh {filename}\")\n",
    "\n",
    "# Chuyển đổi danh sách hình ảnh thành mảng NumPy\n",
    "train_labels_np = np.array(image_array_list)\n",
    "\n",
    "# In ra kích thước của mảng hình ảnh\n",
    "print(\"Kích thước của mảng mặt nạ:\", train_labels_np.shape)"
   ]
  },
  {
   "cell_type": "code",
   "execution_count": 7,
   "id": "466d045b",
   "metadata": {
    "execution": {
     "iopub.execute_input": "2024-04-24T10:29:37.993748Z",
     "iopub.status.busy": "2024-04-24T10:29:37.992952Z",
     "iopub.status.idle": "2024-04-24T10:30:04.704540Z",
     "shell.execute_reply": "2024-04-24T10:30:04.703790Z"
    },
    "id": "DpBXny1k7UJr",
    "outputId": "f43cc93a-5bf2-4007-ec9a-342b5fa9b2d1",
    "papermill": {
     "duration": 26.739418,
     "end_time": "2024-04-24T10:30:04.706757",
     "exception": false,
     "start_time": "2024-04-24T10:29:37.967339",
     "status": "completed"
    },
    "tags": []
   },
   "outputs": [],
   "source": [
    "# Convert the NumPy arrays to Pillow images and store them in a dictionary\n",
    "dataset_dict = {\n",
    "    \"image\": [Image.fromarray(img).convert('RGB') for img in train_images_np],\n",
    "    \"label\": [Image.fromarray(mask).convert('I') for mask in train_labels_np],\n",
    "}\n",
    "\n",
    "# Create the dataset using the datasets.Dataset class\n",
    "train_dataset = Dataset.from_dict(dataset_dict)"
   ]
  },
  {
   "cell_type": "code",
   "execution_count": 8,
   "id": "e0c4afbf",
   "metadata": {
    "execution": {
     "iopub.execute_input": "2024-04-24T10:30:04.759148Z",
     "iopub.status.busy": "2024-04-24T10:30:04.758350Z",
     "iopub.status.idle": "2024-04-24T10:30:04.765104Z",
     "shell.execute_reply": "2024-04-24T10:30:04.764325Z"
    },
    "id": "ozsUcKje9gsZ",
    "papermill": {
     "duration": 0.034793,
     "end_time": "2024-04-24T10:30:04.767096",
     "exception": false,
     "start_time": "2024-04-24T10:30:04.732303",
     "status": "completed"
    },
    "tags": []
   },
   "outputs": [
    {
     "data": {
      "text/plain": [
       "Dataset({\n",
       "    features: ['image', 'label'],\n",
       "    num_rows: 1177\n",
       "})"
      ]
     },
     "execution_count": 8,
     "metadata": {},
     "output_type": "execute_result"
    }
   ],
   "source": [
    "train_dataset"
   ]
  },
  {
   "cell_type": "markdown",
   "id": "0511b064",
   "metadata": {
    "id": "cBn8adwa8kmF",
    "papermill": {
     "duration": 0.02512,
     "end_time": "2024-04-24T10:30:04.817399",
     "exception": false,
     "start_time": "2024-04-24T10:30:04.792279",
     "status": "completed"
    },
    "tags": []
   },
   "source": [
    "## Chia dataset cho tập validation"
   ]
  },
  {
   "cell_type": "code",
   "execution_count": 9,
   "id": "9db6882c",
   "metadata": {
    "execution": {
     "iopub.execute_input": "2024-04-24T10:30:04.868142Z",
     "iopub.status.busy": "2024-04-24T10:30:04.867860Z",
     "iopub.status.idle": "2024-04-24T10:30:06.478184Z",
     "shell.execute_reply": "2024-04-24T10:30:06.477158Z"
    },
    "id": "NL-YSQLb9W_Q",
    "outputId": "a52248ba-ba88-43c8-88e9-681aac019221",
    "papermill": {
     "duration": 1.637662,
     "end_time": "2024-04-24T10:30:06.480229",
     "exception": false,
     "start_time": "2024-04-24T10:30:04.842567",
     "status": "completed"
    },
    "tags": []
   },
   "outputs": [
    {
     "name": "stdout",
     "output_type": "stream",
     "text": [
      "Kích thước của mảng hình ảnh: (146, 256, 256, 3)\n"
     ]
    }
   ],
   "source": [
    "# Đường dẫn tới thư mục chứa các hình ảnh\n",
    "image_folder = \"/kaggle/input/otu-2d/OTU_2D/validation/Image\"\n",
    "\n",
    "# Lấy danh sách các tệp trong thư mục và sắp xếp theo thứ tự tên tăng dần từ A đến Z\n",
    "image_files = sorted(os.listdir(image_folder))\n",
    "\n",
    "# Khởi tạo một danh sách để chứa các hình ảnh dưới dạng mảng NumPy\n",
    "image_array_list = []\n",
    "\n",
    "# Lặp qua tất cả các tệp trong thư mục đã sắp xếp\n",
    "for filename in image_files:\n",
    "    # Kiểm tra xem tệp có phải là hình ảnh không\n",
    "    if filename.endswith(('.JPG')):\n",
    "        # Đường dẫn đầy đủ tới hình ảnh\n",
    "        img_path = os.path.join(image_folder, filename)\n",
    "\n",
    "        # Đọc hình ảnh\n",
    "        img = cv2.imread(img_path, cv2.IMREAD_COLOR)\n",
    "        img = cv2.resize(img, (256, 256))\n",
    "\n",
    "        # Kiểm tra xem hình ảnh có được đọc thành công hay không\n",
    "        if img is not None:\n",
    "            # Thêm hình ảnh vào danh sách\n",
    "            image_array_list.append(img)\n",
    "        else:\n",
    "            print(f\"Không thể đọc hình ảnh {filename}\")\n",
    "\n",
    "# Chuyển đổi danh sách hình ảnh thành mảng NumPy\n",
    "val_images_np = np.array(image_array_list)\n",
    "\n",
    "# In ra kích thước của mảng hình ảnh\n",
    "print(\"Kích thước của mảng hình ảnh:\", val_images_np.shape)\n"
   ]
  },
  {
   "cell_type": "code",
   "execution_count": 10,
   "id": "5d73c1a6",
   "metadata": {
    "execution": {
     "iopub.execute_input": "2024-04-24T10:30:06.531700Z",
     "iopub.status.busy": "2024-04-24T10:30:06.531370Z",
     "iopub.status.idle": "2024-04-24T10:30:07.641721Z",
     "shell.execute_reply": "2024-04-24T10:30:07.640591Z"
    },
    "id": "loSxAbD99elU",
    "outputId": "26f08dca-8532-4d0c-8a9d-52e9c7eb350a",
    "papermill": {
     "duration": 1.138365,
     "end_time": "2024-04-24T10:30:07.643809",
     "exception": false,
     "start_time": "2024-04-24T10:30:06.505444",
     "status": "completed"
    },
    "tags": []
   },
   "outputs": [
    {
     "name": "stdout",
     "output_type": "stream",
     "text": [
      "Kích thước của mảng mặt nạ: (146, 256, 256)\n"
     ]
    }
   ],
   "source": [
    "# Đường dẫn tới thư mục chứa các hình ảnh\n",
    "image_folder = \"/kaggle/input/otu-2d/OTU_2D/validation/Label\"\n",
    "\n",
    "# Lấy danh sách các tệp trong thư mục và sắp xếp theo thứ tự tên tăng dần từ A đến Z\n",
    "image_files = sorted(os.listdir(image_folder))\n",
    "\n",
    "# Khởi tạo một danh sách để chứa các hình ảnh dưới dạng mảng NumPy\n",
    "image_array_list = []\n",
    "\n",
    "# Lặp qua tất cả các tệp trong thư mục đã được sắp xếp\n",
    "for filename in image_files:\n",
    "    # Kiểm tra xem tệp có phải là hình ảnh không\n",
    "    if filename.endswith('.PNG'):\n",
    "        # Đường dẫn đầy đủ tới hình ảnh\n",
    "        img_path = os.path.join(image_folder, filename)\n",
    "\n",
    "        # Đọc hình ảnh\n",
    "        img = cv2.imread(img_path, cv2.IMREAD_GRAYSCALE)\n",
    "        img = cv2.resize(img, (256, 256))\n",
    "        img = img / 255.0\n",
    "        (thresh, img) = cv2.threshold(img, 0, 1, cv2.THRESH_BINARY)\n",
    "\n",
    "        # img = np.int32(img)\n",
    "\n",
    "        # Kiểm tra xem hình ảnh có được đọc thành công hay không\n",
    "        if img is not None:\n",
    "            # Thêm hình ảnh vào danh sách\n",
    "            image_array_list.append(img)\n",
    "        else:\n",
    "            print(f\"Không thể đọc hình ảnh {filename}\")\n",
    "\n",
    "# Chuyển đổi danh sách hình ảnh thành mảng NumPy\n",
    "val_labels_np = np.array(image_array_list)\n",
    "\n",
    "# In ra kích thước của mảng hình ảnh\n",
    "print(\"Kích thước của mảng mặt nạ:\", val_labels_np.shape)"
   ]
  },
  {
   "cell_type": "code",
   "execution_count": 11,
   "id": "7a2f53f8",
   "metadata": {
    "execution": {
     "iopub.execute_input": "2024-04-24T10:30:07.740850Z",
     "iopub.status.busy": "2024-04-24T10:30:07.740476Z",
     "iopub.status.idle": "2024-04-24T10:30:10.790955Z",
     "shell.execute_reply": "2024-04-24T10:30:10.790166Z"
    },
    "id": "mJBpF44y98yW",
    "papermill": {
     "duration": 3.12369,
     "end_time": "2024-04-24T10:30:10.793255",
     "exception": false,
     "start_time": "2024-04-24T10:30:07.669565",
     "status": "completed"
    },
    "tags": []
   },
   "outputs": [],
   "source": [
    "# Convert the NumPy arrays to Pillow images and store them in a dictionary\n",
    "dataset_dict = {\n",
    "    \"image\": [Image.fromarray(img).convert('RGB') for img in val_images_np],\n",
    "    \"label\": [Image.fromarray(mask).convert('I') for mask in val_labels_np],\n",
    "}\n",
    "\n",
    "# Create the dataset using the datasets.Dataset class\n",
    "val_dataset = Dataset.from_dict(dataset_dict)"
   ]
  },
  {
   "cell_type": "code",
   "execution_count": 12,
   "id": "4408d69d",
   "metadata": {
    "execution": {
     "iopub.execute_input": "2024-04-24T10:30:10.846169Z",
     "iopub.status.busy": "2024-04-24T10:30:10.845269Z",
     "iopub.status.idle": "2024-04-24T10:30:10.851187Z",
     "shell.execute_reply": "2024-04-24T10:30:10.850381Z"
    },
    "id": "0fYNZPKy-Fxk",
    "outputId": "e76f3a15-ba22-48ff-a59c-fc423776461e",
    "papermill": {
     "duration": 0.034374,
     "end_time": "2024-04-24T10:30:10.853295",
     "exception": false,
     "start_time": "2024-04-24T10:30:10.818921",
     "status": "completed"
    },
    "tags": []
   },
   "outputs": [
    {
     "data": {
      "text/plain": [
       "Dataset({\n",
       "    features: ['image', 'label'],\n",
       "    num_rows: 146\n",
       "})"
      ]
     },
     "execution_count": 12,
     "metadata": {},
     "output_type": "execute_result"
    }
   ],
   "source": [
    "val_dataset"
   ]
  },
  {
   "cell_type": "markdown",
   "id": "82fc1e5f",
   "metadata": {
    "id": "erjMb5bq8p0U",
    "papermill": {
     "duration": 0.025365,
     "end_time": "2024-04-24T10:30:10.903938",
     "exception": false,
     "start_time": "2024-04-24T10:30:10.878573",
     "status": "completed"
    },
    "tags": []
   },
   "source": [
    "## Chia dataset cho tập test"
   ]
  },
  {
   "cell_type": "code",
   "execution_count": 13,
   "id": "cc556f1a",
   "metadata": {
    "execution": {
     "iopub.execute_input": "2024-04-24T10:30:10.955450Z",
     "iopub.status.busy": "2024-04-24T10:30:10.955118Z",
     "iopub.status.idle": "2024-04-24T10:30:12.522667Z",
     "shell.execute_reply": "2024-04-24T10:30:12.521765Z"
    },
    "id": "sZIUR4-i-LXB",
    "outputId": "17d0ddfb-59a3-4378-a92f-e244c27228e3",
    "papermill": {
     "duration": 1.595923,
     "end_time": "2024-04-24T10:30:12.524851",
     "exception": false,
     "start_time": "2024-04-24T10:30:10.928928",
     "status": "completed"
    },
    "tags": []
   },
   "outputs": [
    {
     "name": "stdout",
     "output_type": "stream",
     "text": [
      "Kích thước của mảng hình ảnh: (146, 256, 256, 3)\n"
     ]
    }
   ],
   "source": [
    "# Đường dẫn tới thư mục chứa các hình ảnh\n",
    "image_folder = \"/kaggle/input/otu-2d/OTU_2D/test/Image\"\n",
    "\n",
    "# Lấy danh sách các tệp trong thư mục và sắp xếp theo thứ tự tên tăng dần từ A đến Z\n",
    "image_files = sorted(os.listdir(image_folder))\n",
    "\n",
    "# Khởi tạo một danh sách để chứa các hình ảnh dưới dạng mảng NumPy\n",
    "image_array_list = []\n",
    "\n",
    "# Lặp qua tất cả các tệp trong thư mục đã sắp xếp\n",
    "for filename in image_files:\n",
    "    # Kiểm tra xem tệp có phải là hình ảnh không\n",
    "    if filename.endswith(('.JPG')):\n",
    "        # Đường dẫn đầy đủ tới hình ảnh\n",
    "        img_path = os.path.join(image_folder, filename)\n",
    "\n",
    "        # Đọc hình ảnh\n",
    "        img = cv2.imread(img_path, cv2.IMREAD_COLOR)\n",
    "        img = cv2.resize(img, (256, 256))\n",
    "\n",
    "        # Kiểm tra xem hình ảnh có được đọc thành công hay không\n",
    "        if img is not None:\n",
    "            # Thêm hình ảnh vào danh sách\n",
    "            image_array_list.append(img)\n",
    "        else:\n",
    "            print(f\"Không thể đọc hình ảnh {filename}\")\n",
    "\n",
    "# Chuyển đổi danh sách hình ảnh thành mảng NumPy\n",
    "test_images_np = np.array(image_array_list)\n",
    "\n",
    "# In ra kích thước của mảng hình ảnh\n",
    "print(\"Kích thước của mảng hình ảnh:\", test_images_np.shape)\n"
   ]
  },
  {
   "cell_type": "code",
   "execution_count": 14,
   "id": "db4378cb",
   "metadata": {
    "execution": {
     "iopub.execute_input": "2024-04-24T10:30:12.577183Z",
     "iopub.status.busy": "2024-04-24T10:30:12.576884Z",
     "iopub.status.idle": "2024-04-24T10:30:13.701570Z",
     "shell.execute_reply": "2024-04-24T10:30:13.700450Z"
    },
    "id": "QuU2TUjo-S1a",
    "outputId": "fe9d464e-a673-414e-9a11-9361d381c473",
    "papermill": {
     "duration": 1.153039,
     "end_time": "2024-04-24T10:30:13.703724",
     "exception": false,
     "start_time": "2024-04-24T10:30:12.550685",
     "status": "completed"
    },
    "tags": []
   },
   "outputs": [
    {
     "name": "stdout",
     "output_type": "stream",
     "text": [
      "Kích thước của mảng mặt nạ: (146, 256, 256)\n"
     ]
    }
   ],
   "source": [
    "# Đường dẫn tới thư mục chứa các hình ảnh\n",
    "image_folder = \"/kaggle/input/otu-2d/OTU_2D/test/Label\"\n",
    "\n",
    "# Lấy danh sách các tệp trong thư mục và sắp xếp theo thứ tự tên tăng dần từ A đến Z\n",
    "image_files = sorted(os.listdir(image_folder))\n",
    "\n",
    "# Khởi tạo một danh sách để chứa các hình ảnh dưới dạng mảng NumPy\n",
    "image_array_list = []\n",
    "\n",
    "# Lặp qua tất cả các tệp trong thư mục đã được sắp xếp\n",
    "for filename in image_files:\n",
    "    # Kiểm tra xem tệp có phải là hình ảnh không\n",
    "    if filename.endswith('.PNG'):\n",
    "        # Đường dẫn đầy đủ tới hình ảnh\n",
    "        img_path = os.path.join(image_folder, filename)\n",
    "\n",
    "        # Đọc hình ảnh\n",
    "        img = cv2.imread(img_path, cv2.IMREAD_GRAYSCALE)\n",
    "        img = cv2.resize(img, (256, 256))\n",
    "        img = img / 255.0\n",
    "        (thresh, img) = cv2.threshold(img, 0, 1, cv2.THRESH_BINARY)\n",
    "\n",
    "        # img = np.int32(img)\n",
    "\n",
    "        # Kiểm tra xem hình ảnh có được đọc thành công hay không\n",
    "        if img is not None:\n",
    "            # Thêm hình ảnh vào danh sách\n",
    "            image_array_list.append(img)\n",
    "        else:\n",
    "            print(f\"Không thể đọc hình ảnh {filename}\")\n",
    "\n",
    "# Chuyển đổi danh sách hình ảnh thành mảng NumPy\n",
    "test_labels_np = np.array(image_array_list)\n",
    "\n",
    "# In ra kích thước của mảng hình ảnh\n",
    "print(\"Kích thước của mảng mặt nạ:\", test_labels_np.shape)"
   ]
  },
  {
   "cell_type": "code",
   "execution_count": 15,
   "id": "1fae6b1b",
   "metadata": {
    "execution": {
     "iopub.execute_input": "2024-04-24T10:30:13.757085Z",
     "iopub.status.busy": "2024-04-24T10:30:13.756790Z",
     "iopub.status.idle": "2024-04-24T10:30:16.811475Z",
     "shell.execute_reply": "2024-04-24T10:30:16.810740Z"
    },
    "id": "t6QouqNJ-dVJ",
    "papermill": {
     "duration": 3.083733,
     "end_time": "2024-04-24T10:30:16.813681",
     "exception": false,
     "start_time": "2024-04-24T10:30:13.729948",
     "status": "completed"
    },
    "tags": []
   },
   "outputs": [],
   "source": [
    "# Convert the NumPy arrays to Pillow images and store them in a dictionary\n",
    "dataset_dict = {\n",
    "    \"image\": [Image.fromarray(img).convert('RGB') for img in test_images_np],\n",
    "    \"label\": [Image.fromarray(mask).convert('I') for mask in test_labels_np],\n",
    "}\n",
    "\n",
    "# Create the dataset using the datasets.Dataset class\n",
    "test_dataset = Dataset.from_dict(dataset_dict)"
   ]
  },
  {
   "cell_type": "code",
   "execution_count": 16,
   "id": "3f032f55",
   "metadata": {
    "execution": {
     "iopub.execute_input": "2024-04-24T10:30:16.871652Z",
     "iopub.status.busy": "2024-04-24T10:30:16.871247Z",
     "iopub.status.idle": "2024-04-24T10:30:16.878715Z",
     "shell.execute_reply": "2024-04-24T10:30:16.877688Z"
    },
    "id": "BBGO4tct-kwj",
    "outputId": "4dd9b362-d9b6-436c-ed81-72b458a7c6dc",
    "papermill": {
     "duration": 0.039317,
     "end_time": "2024-04-24T10:30:16.880529",
     "exception": false,
     "start_time": "2024-04-24T10:30:16.841212",
     "status": "completed"
    },
    "tags": []
   },
   "outputs": [
    {
     "data": {
      "text/plain": [
       "Dataset({\n",
       "    features: ['image', 'label'],\n",
       "    num_rows: 146\n",
       "})"
      ]
     },
     "execution_count": 16,
     "metadata": {},
     "output_type": "execute_result"
    }
   ],
   "source": [
    "test_dataset"
   ]
  },
  {
   "cell_type": "markdown",
   "id": "28422b4c",
   "metadata": {
    "id": "e0EuLS5VsTPo",
    "papermill": {
     "duration": 0.02802,
     "end_time": "2024-04-24T10:30:16.944927",
     "exception": false,
     "start_time": "2024-04-24T10:30:16.916907",
     "status": "completed"
    },
    "tags": []
   },
   "source": [
    "# Kiểm tra ảnh và mặt nạ"
   ]
  },
  {
   "cell_type": "code",
   "execution_count": 17,
   "id": "c2bb1de5",
   "metadata": {
    "execution": {
     "iopub.execute_input": "2024-04-24T10:30:16.997838Z",
     "iopub.status.busy": "2024-04-24T10:30:16.997413Z",
     "iopub.status.idle": "2024-04-24T10:30:17.034299Z",
     "shell.execute_reply": "2024-04-24T10:30:17.033476Z"
    },
    "id": "F2BhG7FTwC-G",
    "outputId": "a8403b28-27e6-4ef5-c6a8-02ac1080ca23",
    "papermill": {
     "duration": 0.065563,
     "end_time": "2024-04-24T10:30:17.036137",
     "exception": false,
     "start_time": "2024-04-24T10:30:16.970574",
     "status": "completed"
    },
    "tags": []
   },
   "outputs": [
    {
     "data": {
      "image/png": "[encoded data removed]",
      "text/plain": [
       "<PIL.PngImagePlugin.PngImageFile image mode=RGB size=256x256>"
      ]
     },
     "execution_count": 17,
     "metadata": {},
     "output_type": "execute_result"
    }
   ],
   "source": [
    "img_num = random.randint(0, train_images_np.shape[0]-1)\n",
    "example = train_dataset[img_num]\n",
    "image = example[\"image\"]\n",
    "image"
   ]
  },
  {
   "cell_type": "code",
   "execution_count": 18,
   "id": "0b757654",
   "metadata": {
    "execution": {
     "iopub.execute_input": "2024-04-24T10:30:17.093103Z",
     "iopub.status.busy": "2024-04-24T10:30:17.092375Z",
     "iopub.status.idle": "2024-04-24T10:30:17.383291Z",
     "shell.execute_reply": "2024-04-24T10:30:17.382441Z"
    },
    "id": "CAiRRfJhGmVs",
    "outputId": "d79a9e7c-3054-48d6-db7e-ac209ec2e212",
    "papermill": {
     "duration": 0.322921,
     "end_time": "2024-04-24T10:30:17.386857",
     "exception": false,
     "start_time": "2024-04-24T10:30:17.063936",
     "status": "completed"
    },
    "tags": []
   },
   "outputs": [
    {
     "data": {
      "image/png": "[encoded data removed]",
      "text/plain": [
       "<Figure size 1000x500 with 2 Axes>"
      ]
     },
     "metadata": {},
     "output_type": "display_data"
    }
   ],
   "source": [
    "example_image = train_dataset[img_num][\"image\"]\n",
    "example_mask = train_dataset[img_num][\"label\"]\n",
    "\n",
    "fig, axes = plt.subplots(1, 2, figsize=(10, 5))\n",
    "\n",
    "# Plot the first image on the left\n",
    "axes[0].imshow(np.array(example_image), cmap='gray')  # Assuming the first image is grayscale\n",
    "axes[0].set_title(\"Image\")\n",
    "\n",
    "# Plot the second image on the right\n",
    "axes[1].imshow(example_mask, cmap='gray')  # Assuming the second image is grayscale\n",
    "axes[1].set_title(\"Mask\")\n",
    "\n",
    "# Hide axis ticks and labels\n",
    "for ax in axes:\n",
    "    ax.set_xticks([])\n",
    "    ax.set_yticks([])\n",
    "    ax.set_xticklabels([])\n",
    "    ax.set_yticklabels([])\n",
    "\n",
    "# Display the images side by side\n",
    "plt.show()"
   ]
  },
  {
   "cell_type": "code",
   "execution_count": 19,
   "id": "42ab05d8",
   "metadata": {
    "execution": {
     "iopub.execute_input": "2024-04-24T10:30:17.448496Z",
     "iopub.status.busy": "2024-04-24T10:30:17.447781Z",
     "iopub.status.idle": "2024-04-24T10:30:17.736205Z",
     "shell.execute_reply": "2024-04-24T10:30:17.735248Z"
    },
    "id": "R5B4qTMOvSOc",
    "outputId": "5ff6e547-7fbb-4348-d38a-b797bc4b8425",
    "papermill": {
     "duration": 0.322479,
     "end_time": "2024-04-24T10:30:17.739444",
     "exception": false,
     "start_time": "2024-04-24T10:30:17.416965",
     "status": "completed"
    },
    "tags": []
   },
   "outputs": [
    {
     "data": {
      "text/plain": [
       "(-0.5, 255.5, 255.5, -0.5)"
      ]
     },
     "execution_count": 19,
     "metadata": {},
     "output_type": "execute_result"
    },
    {
     "data": {
      "image/png": "[encoded data removed]",
      "text/plain": [
       "<Figure size 640x480 with 1 Axes>"
      ]
     },
     "metadata": {},
     "output_type": "display_data"
    }
   ],
   "source": [
    "def show_mask(mask, ax, random_color=False):\n",
    "    if random_color:\n",
    "        color = np.concatenate([np.random.random(3), np.array([0.2])], axis=0)\n",
    "    else:\n",
    "        color = np.array([30/255, 144/255, 255/255, 0.6])\n",
    "    h, w = mask.shape[-2:]\n",
    "    mask_image = mask.reshape(h, w, 1) * color.reshape(1, 1, -1)\n",
    "    ax.imshow(mask_image)\n",
    "\n",
    "fig, axes = plt.subplots()\n",
    "\n",
    "axes.imshow(np.array(image))\n",
    "ground_truth_seg = np.array(example[\"label\"])\n",
    "show_mask(ground_truth_seg, axes)\n",
    "axes.title.set_text(f\"Ground truth mask\")\n",
    "axes.axis(\"off\")"
   ]
  },
  {
   "cell_type": "markdown",
   "id": "afa20e92",
   "metadata": {
    "id": "mI41v3ZTskU2",
    "papermill": {
     "duration": 0.032368,
     "end_time": "2024-04-24T10:30:17.805572",
     "exception": false,
     "start_time": "2024-04-24T10:30:17.773204",
     "status": "completed"
    },
    "tags": []
   },
   "source": [
    "# Vẽ bounding boxes cho mặt nạ"
   ]
  },
  {
   "cell_type": "code",
   "execution_count": 20,
   "id": "eebcd6b3",
   "metadata": {
    "execution": {
     "iopub.execute_input": "2024-04-24T10:30:17.873262Z",
     "iopub.status.busy": "2024-04-24T10:30:17.872305Z",
     "iopub.status.idle": "2024-04-24T10:30:17.879601Z",
     "shell.execute_reply": "2024-04-24T10:30:17.878763Z"
    },
    "id": "LYmrZ9hWCpKV",
    "papermill": {
     "duration": 0.043739,
     "end_time": "2024-04-24T10:30:17.881579",
     "exception": false,
     "start_time": "2024-04-24T10:30:17.837840",
     "status": "completed"
    },
    "tags": []
   },
   "outputs": [],
   "source": [
    "#Get bounding boxes from mask.\n",
    "def get_bounding_box(ground_truth_map):\n",
    "  # get bounding box from mask\n",
    "  y_indices, x_indices = np.where(ground_truth_map > 0)\n",
    "  x_min, x_max = np.min(x_indices), np.max(x_indices)\n",
    "  y_min, y_max = np.min(y_indices), np.max(y_indices)\n",
    "  # add perturbation to bounding box coordinates\n",
    "  H, W = ground_truth_map.shape\n",
    "  x_min = max(0, x_min - np.random.randint(0, 20))\n",
    "  x_max = min(W, x_max + np.random.randint(0, 20))\n",
    "  y_min = max(0, y_min - np.random.randint(0, 20))\n",
    "  y_max = min(H, y_max + np.random.randint(0, 20))\n",
    "  bbox = [x_min, y_min, x_max, y_max]\n",
    "\n",
    "  return bbox"
   ]
  },
  {
   "cell_type": "markdown",
   "id": "7ba5e25e",
   "metadata": {
    "id": "e4ppWeM5svCh",
    "papermill": {
     "duration": 0.032481,
     "end_time": "2024-04-24T10:30:17.947978",
     "exception": false,
     "start_time": "2024-04-24T10:30:17.915497",
     "status": "completed"
    },
    "tags": []
   },
   "source": [
    "# Training Model"
   ]
  },
  {
   "cell_type": "markdown",
   "id": "4be06645",
   "metadata": {
    "id": "3dBN4ulfLkTY",
    "papermill": {
     "duration": 0.031986,
     "end_time": "2024-04-24T10:30:18.012044",
     "exception": false,
     "start_time": "2024-04-24T10:30:17.980058",
     "status": "completed"
    },
    "tags": []
   },
   "source": [
    "## Hàm tạo 1 dataset input images and mask"
   ]
  },
  {
   "cell_type": "code",
   "execution_count": 21,
   "id": "9971c1dd",
   "metadata": {
    "execution": {
     "iopub.execute_input": "2024-04-24T10:30:18.077787Z",
     "iopub.status.busy": "2024-04-24T10:30:18.077148Z",
     "iopub.status.idle": "2024-04-24T10:30:18.085402Z",
     "shell.execute_reply": "2024-04-24T10:30:18.084545Z"
    },
    "id": "dQVNaYYbDKf6",
    "papermill": {
     "duration": 0.043077,
     "end_time": "2024-04-24T10:30:18.087199",
     "exception": false,
     "start_time": "2024-04-24T10:30:18.044122",
     "status": "completed"
    },
    "tags": []
   },
   "outputs": [],
   "source": [
    "from torch.utils.data import Dataset\n",
    "\n",
    "class SAMDataset(Dataset):\n",
    "  \"\"\"\n",
    "  This class is used to create a dataset that serves input images and masks.\n",
    "  It takes a dataset and a processor as input and overrides the __len__ and __getitem__ methods of the Dataset class.\n",
    "  \"\"\"\n",
    "  def __init__(self, dataset, processor):\n",
    "    self.dataset = dataset\n",
    "    self.processor = processor\n",
    "\n",
    "  def __len__(self):\n",
    "    return len(self.dataset)\n",
    "\n",
    "  def __getitem__(self, idx):\n",
    "    item = self.dataset[idx]\n",
    "    image = item[\"image\"]\n",
    "    ground_truth_mask = np.array(item[\"label\"])\n",
    "\n",
    "    # get bounding box prompt | vẽ box cho mặt nạ\n",
    "    prompt = get_bounding_box(ground_truth_mask)\n",
    "\n",
    "    # prepare image and prompt for the model | Chuẩn bị mặt nạ và hộp giới hạn\n",
    "    inputs = self.processor(image, input_boxes=[[prompt]], return_tensors=\"pt\")\n",
    "\n",
    "    # remove batch dimension which the processor adds by default | Loại bỏ chiều Batch được thêm vào mặc định\n",
    "    inputs = {k:v.squeeze(0) for k,v in inputs.items()}\n",
    "\n",
    "    # add ground truth segmentation | Thêm ground truth để đánh giá việc Segment sau này, đánh giá hiệu suất mô hình\n",
    "    inputs[\"ground_truth_mask\"] = ground_truth_mask\n",
    "\n",
    "    return inputs"
   ]
  },
  {
   "cell_type": "markdown",
   "id": "77979ab2",
   "metadata": {
    "id": "CBsc5U3EP920",
    "papermill": {
     "duration": 0.032145,
     "end_time": "2024-04-24T10:30:18.151710",
     "exception": false,
     "start_time": "2024-04-24T10:30:18.119565",
     "status": "completed"
    },
    "tags": []
   },
   "source": [
    "## Load model SAM"
   ]
  },
  {
   "cell_type": "markdown",
   "id": "166d36e6",
   "metadata": {
    "id": "BFg1mrGkxe3K",
    "papermill": {
     "duration": 0.032538,
     "end_time": "2024-04-24T10:30:18.216780",
     "exception": false,
     "start_time": "2024-04-24T10:30:18.184242",
     "status": "completed"
    },
    "tags": []
   },
   "source": [
    "### Xử lý dữ liệu để tương thích với đầu vào Model"
   ]
  },
  {
   "cell_type": "code",
   "execution_count": 22,
   "id": "46dbddf8",
   "metadata": {
    "execution": {
     "iopub.execute_input": "2024-04-24T10:30:18.283601Z",
     "iopub.status.busy": "2024-04-24T10:30:18.282962Z",
     "iopub.status.idle": "2024-04-24T10:30:30.846127Z",
     "shell.execute_reply": "2024-04-24T10:30:30.845358Z"
    },
    "id": "5IVksPItDOYg",
    "outputId": "d063c542-a1f2-4747-c4f2-c7b0615042ae",
    "papermill": {
     "duration": 12.599005,
     "end_time": "2024-04-24T10:30:30.848297",
     "exception": false,
     "start_time": "2024-04-24T10:30:18.249292",
     "status": "completed"
    },
    "tags": []
   },
   "outputs": [
    {
     "name": "stderr",
     "output_type": "stream",
     "text": [
      "2024-04-24 10:30:20.128813: E external/local_xla/xla/stream_executor/cuda/cuda_dnn.cc:9261] Unable to register cuDNN factory: Attempting to register factory for plugin cuDNN when one has already been registered\n",
      "2024-04-24 10:30:20.128921: E external/local_xla/xla/stream_executor/cuda/cuda_fft.cc:607] Unable to register cuFFT factory: Attempting to register factory for plugin cuFFT when one has already been registered\n",
      "2024-04-24 10:30:20.255730: E external/local_xla/xla/stream_executor/cuda/cuda_blas.cc:1515] Unable to register cuBLAS factory: Attempting to register factory for plugin cuBLAS when one has already been registered\n"
     ]
    },
    {
     "data": {
      "application/vnd.jupyter.widget-view+json": {
       "model_id": "95109e8f506e4eedb41eb6bb9e448c98",
       "version_major": 2,
       "version_minor": 0
      },
      "text/plain": [
       "preprocessor_config.json:   0%|          | 0.00/466 [00:00<?, ?B/s]"
      ]
     },
     "metadata": {},
     "output_type": "display_data"
    }
   ],
   "source": [
    "# Initialize the processor\n",
    "from transformers import SamProcessor\n",
    "processor = SamProcessor.from_pretrained(\"facebook/sam-vit-base\")"
   ]
  },
  {
   "cell_type": "code",
   "execution_count": 23,
   "id": "a7899a5e",
   "metadata": {
    "execution": {
     "iopub.execute_input": "2024-04-24T10:30:30.916705Z",
     "iopub.status.busy": "2024-04-24T10:30:30.915608Z",
     "iopub.status.idle": "2024-04-24T10:30:30.920846Z",
     "shell.execute_reply": "2024-04-24T10:30:30.920063Z"
    },
    "id": "aU59Asl5DQCF",
    "papermill": {
     "duration": 0.040895,
     "end_time": "2024-04-24T10:30:30.922735",
     "exception": false,
     "start_time": "2024-04-24T10:30:30.881840",
     "status": "completed"
    },
    "tags": []
   },
   "outputs": [],
   "source": [
    "# Create an instance of the SAMDataset\n",
    "train_dataset = SAMDataset(dataset=train_dataset, processor=processor)\n",
    "val_dataset = SAMDataset(dataset=val_dataset, processor=processor)\n",
    "test_dataset = SAMDataset(dataset=test_dataset, processor=processor)"
   ]
  },
  {
   "cell_type": "code",
   "execution_count": 24,
   "id": "746b5268",
   "metadata": {
    "execution": {
     "iopub.execute_input": "2024-04-24T10:30:30.990142Z",
     "iopub.status.busy": "2024-04-24T10:30:30.989330Z",
     "iopub.status.idle": "2024-04-24T10:30:31.081031Z",
     "shell.execute_reply": "2024-04-24T10:30:31.080005Z"
    },
    "id": "qMUQO3fCDTyV",
    "outputId": "89ec1dc7-b01e-4e4f-ae91-6cae7723f92f",
    "papermill": {
     "duration": 0.127811,
     "end_time": "2024-04-24T10:30:31.083173",
     "exception": false,
     "start_time": "2024-04-24T10:30:30.955362",
     "status": "completed"
    },
    "tags": []
   },
   "outputs": [
    {
     "name": "stdout",
     "output_type": "stream",
     "text": [
      "pixel_values: torch.Size([3, 1024, 1024])\n",
      "original_sizes: torch.Size([2])\n",
      "reshaped_input_sizes: torch.Size([2])\n",
      "input_boxes: torch.Size([1, 4])\n",
      "ground_truth_mask: (256, 256)\n"
     ]
    }
   ],
   "source": [
    "example = train_dataset[0]\n",
    "for k,v in example.items():\n",
    "  print(f'{k}: {v.shape}')"
   ]
  },
  {
   "cell_type": "code",
   "execution_count": 25,
   "id": "96be9403",
   "metadata": {
    "execution": {
     "iopub.execute_input": "2024-04-24T10:30:31.151203Z",
     "iopub.status.busy": "2024-04-24T10:30:31.150884Z",
     "iopub.status.idle": "2024-04-24T10:30:31.209861Z",
     "shell.execute_reply": "2024-04-24T10:30:31.208531Z"
    },
    "id": "KmWqFSLoI4st",
    "outputId": "a544207f-8464-40a3-eb5d-6a0ae6f04cf0",
    "papermill": {
     "duration": 0.0953,
     "end_time": "2024-04-24T10:30:31.212155",
     "exception": false,
     "start_time": "2024-04-24T10:30:31.116855",
     "status": "completed"
    },
    "tags": []
   },
   "outputs": [
    {
     "name": "stdout",
     "output_type": "stream",
     "text": [
      "pixel_values: torch.Size([3, 1024, 1024])\n",
      "original_sizes: torch.Size([2])\n",
      "reshaped_input_sizes: torch.Size([2])\n",
      "input_boxes: torch.Size([1, 4])\n",
      "ground_truth_mask: (256, 256)\n"
     ]
    }
   ],
   "source": [
    "example = val_dataset[0]\n",
    "for k,v in example.items():\n",
    "  print(f'{k}: {v.shape}')"
   ]
  },
  {
   "cell_type": "code",
   "execution_count": 26,
   "id": "d34e9deb",
   "metadata": {
    "execution": {
     "iopub.execute_input": "2024-04-24T10:30:31.281969Z",
     "iopub.status.busy": "2024-04-24T10:30:31.281628Z",
     "iopub.status.idle": "2024-04-24T10:30:31.338121Z",
     "shell.execute_reply": "2024-04-24T10:30:31.337018Z"
    },
    "papermill": {
     "duration": 0.093227,
     "end_time": "2024-04-24T10:30:31.340270",
     "exception": false,
     "start_time": "2024-04-24T10:30:31.247043",
     "status": "completed"
    },
    "tags": []
   },
   "outputs": [
    {
     "name": "stdout",
     "output_type": "stream",
     "text": [
      "pixel_values: torch.Size([3, 1024, 1024])\n",
      "original_sizes: torch.Size([2])\n",
      "reshaped_input_sizes: torch.Size([2])\n",
      "input_boxes: torch.Size([1, 4])\n",
      "ground_truth_mask: (256, 256)\n"
     ]
    }
   ],
   "source": [
    "example = test_dataset[0]\n",
    "for k,v in example.items():\n",
    "  print(f'{k}: {v.shape}')"
   ]
  },
  {
   "cell_type": "code",
   "execution_count": 27,
   "id": "7e2e5c09",
   "metadata": {
    "execution": {
     "iopub.execute_input": "2024-04-24T10:30:31.410432Z",
     "iopub.status.busy": "2024-04-24T10:30:31.409785Z",
     "iopub.status.idle": "2024-04-24T10:30:31.415521Z",
     "shell.execute_reply": "2024-04-24T10:30:31.414667Z"
    },
    "id": "G694dS0RDWdl",
    "papermill": {
     "duration": 0.042156,
     "end_time": "2024-04-24T10:30:31.417530",
     "exception": false,
     "start_time": "2024-04-24T10:30:31.375374",
     "status": "completed"
    },
    "tags": []
   },
   "outputs": [],
   "source": [
    "# Create a DataLoader instance for the training dataset\n",
    "from torch.utils.data import DataLoader\n",
    "train_dataloader = DataLoader(train_dataset, batch_size=2, shuffle=True, drop_last=False)\n",
    "val_dataloader = DataLoader(val_dataset, batch_size=2, shuffle=True, drop_last=False)\n",
    "test_dataloader = DataLoader(test_dataset, batch_size=2, shuffle=True, drop_last=False)"
   ]
  },
  {
   "cell_type": "code",
   "execution_count": 28,
   "id": "b3f576ee",
   "metadata": {
    "execution": {
     "iopub.execute_input": "2024-04-24T10:30:31.485240Z",
     "iopub.status.busy": "2024-04-24T10:30:31.484554Z",
     "iopub.status.idle": "2024-04-24T10:30:31.623873Z",
     "shell.execute_reply": "2024-04-24T10:30:31.622474Z"
    },
    "id": "oAHAY4LxDYCt",
    "outputId": "5a4c83cd-f21c-4b1f-df01-9cc94aca0423",
    "papermill": {
     "duration": 0.175372,
     "end_time": "2024-04-24T10:30:31.626014",
     "exception": false,
     "start_time": "2024-04-24T10:30:31.450642",
     "status": "completed"
    },
    "tags": []
   },
   "outputs": [
    {
     "name": "stdout",
     "output_type": "stream",
     "text": [
      "pixel_values torch.Size([2, 3, 1024, 1024])\n",
      "original_sizes torch.Size([2, 2])\n",
      "reshaped_input_sizes torch.Size([2, 2])\n",
      "input_boxes torch.Size([2, 1, 4])\n",
      "ground_truth_mask torch.Size([2, 256, 256])\n"
     ]
    }
   ],
   "source": [
    "batch = next(iter(train_dataloader))\n",
    "for k,v in batch.items():\n",
    "  print(k,v.shape)"
   ]
  },
  {
   "cell_type": "code",
   "execution_count": 29,
   "id": "f7467e2a",
   "metadata": {
    "execution": {
     "iopub.execute_input": "2024-04-24T10:30:31.694452Z",
     "iopub.status.busy": "2024-04-24T10:30:31.694129Z",
     "iopub.status.idle": "2024-04-24T10:30:31.807970Z",
     "shell.execute_reply": "2024-04-24T10:30:31.806959Z"
    },
    "id": "t8gQe2kAI0UE",
    "outputId": "5cb41220-7aac-494a-ff47-326bc72c6ab6",
    "papermill": {
     "duration": 0.1501,
     "end_time": "2024-04-24T10:30:31.810116",
     "exception": false,
     "start_time": "2024-04-24T10:30:31.660016",
     "status": "completed"
    },
    "tags": []
   },
   "outputs": [
    {
     "name": "stdout",
     "output_type": "stream",
     "text": [
      "pixel_values torch.Size([2, 3, 1024, 1024])\n",
      "original_sizes torch.Size([2, 2])\n",
      "reshaped_input_sizes torch.Size([2, 2])\n",
      "input_boxes torch.Size([2, 1, 4])\n",
      "ground_truth_mask torch.Size([2, 256, 256])\n"
     ]
    }
   ],
   "source": [
    "batch = next(iter(val_dataloader))\n",
    "for k,v in batch.items():\n",
    "  print(k,v.shape)"
   ]
  },
  {
   "cell_type": "code",
   "execution_count": 30,
   "id": "da5ea168",
   "metadata": {
    "execution": {
     "iopub.execute_input": "2024-04-24T10:30:31.879681Z",
     "iopub.status.busy": "2024-04-24T10:30:31.879019Z",
     "iopub.status.idle": "2024-04-24T10:30:31.991617Z",
     "shell.execute_reply": "2024-04-24T10:30:31.990627Z"
    },
    "papermill": {
     "duration": 0.149164,
     "end_time": "2024-04-24T10:30:31.993943",
     "exception": false,
     "start_time": "2024-04-24T10:30:31.844779",
     "status": "completed"
    },
    "tags": []
   },
   "outputs": [
    {
     "name": "stdout",
     "output_type": "stream",
     "text": [
      "pixel_values torch.Size([2, 3, 1024, 1024])\n",
      "original_sizes torch.Size([2, 2])\n",
      "reshaped_input_sizes torch.Size([2, 2])\n",
      "input_boxes torch.Size([2, 1, 4])\n",
      "ground_truth_mask torch.Size([2, 256, 256])\n"
     ]
    }
   ],
   "source": [
    "batch = next(iter(test_dataloader))\n",
    "for k,v in batch.items():\n",
    "  print(k,v.shape)"
   ]
  },
  {
   "cell_type": "code",
   "execution_count": 31,
   "id": "765915fa",
   "metadata": {
    "execution": {
     "iopub.execute_input": "2024-04-24T10:30:32.065566Z",
     "iopub.status.busy": "2024-04-24T10:30:32.064981Z",
     "iopub.status.idle": "2024-04-24T10:30:32.070990Z",
     "shell.execute_reply": "2024-04-24T10:30:32.070104Z"
    },
    "id": "l0G55sGADaJ3",
    "outputId": "6d8e829c-af0a-4c5a-f5f5-8ac2fe00c058",
    "papermill": {
     "duration": 0.043684,
     "end_time": "2024-04-24T10:30:32.073086",
     "exception": false,
     "start_time": "2024-04-24T10:30:32.029402",
     "status": "completed"
    },
    "tags": []
   },
   "outputs": [
    {
     "data": {
      "text/plain": [
       "torch.Size([2, 256, 256])"
      ]
     },
     "execution_count": 31,
     "metadata": {},
     "output_type": "execute_result"
    }
   ],
   "source": [
    "batch[\"ground_truth_mask\"].shape"
   ]
  },
  {
   "cell_type": "markdown",
   "id": "59f7b3a3",
   "metadata": {
    "id": "6l0JFZKlw9r8",
    "papermill": {
     "duration": 0.033774,
     "end_time": "2024-04-24T10:30:32.142052",
     "exception": false,
     "start_time": "2024-04-24T10:30:32.108278",
     "status": "completed"
    },
    "tags": []
   },
   "source": [
    "### Load model Pretrained của Segment Anything"
   ]
  },
  {
   "cell_type": "code",
   "execution_count": 32,
   "id": "acc865f5",
   "metadata": {
    "execution": {
     "iopub.execute_input": "2024-04-24T10:30:32.211882Z",
     "iopub.status.busy": "2024-04-24T10:30:32.211125Z",
     "iopub.status.idle": "2024-04-24T10:30:39.077545Z",
     "shell.execute_reply": "2024-04-24T10:30:39.076681Z"
    },
    "id": "7fUTkHq3DcVV",
    "outputId": "6dcb745f-7d6d-47d1-92b7-43205c2679ff",
    "papermill": {
     "duration": 6.903945,
     "end_time": "2024-04-24T10:30:39.079790",
     "exception": false,
     "start_time": "2024-04-24T10:30:32.175845",
     "status": "completed"
    },
    "tags": []
   },
   "outputs": [
    {
     "data": {
      "application/vnd.jupyter.widget-view+json": {
       "model_id": "91d2bd43b1524d7ca79850f4324d15df",
       "version_major": 2,
       "version_minor": 0
      },
      "text/plain": [
       "config.json:   0%|          | 0.00/6.57k [00:00<?, ?B/s]"
      ]
     },
     "metadata": {},
     "output_type": "display_data"
    },
    {
     "data": {
      "application/vnd.jupyter.widget-view+json": {
       "model_id": "23b0ae6dde164aea8be976ae161c238c",
       "version_major": 2,
       "version_minor": 0
      },
      "text/plain": [
       "model.safetensors:   0%|          | 0.00/375M [00:00<?, ?B/s]"
      ]
     },
     "metadata": {},
     "output_type": "display_data"
    }
   ],
   "source": [
    "# Load the model\n",
    "from transformers import SamModel\n",
    "model = SamModel.from_pretrained(\"facebook/sam-vit-base\")\n",
    "\n",
    "# make sure we only compute gradients for mask decoder\n",
    "for name, param in model.named_parameters():\n",
    "  if name.startswith(\"vision_encoder\") or name.startswith(\"prompt_encoder\"):\n",
    "    param.requires_grad_(False)"
   ]
  },
  {
   "cell_type": "markdown",
   "id": "e77ad435",
   "metadata": {
    "id": "3NnXPCyAwwqM",
    "papermill": {
     "duration": 0.033839,
     "end_time": "2024-04-24T10:30:39.148660",
     "exception": false,
     "start_time": "2024-04-24T10:30:39.114821",
     "status": "completed"
    },
    "tags": []
   },
   "source": [
    "### Khởi tạo model với hàm tối ưu là Adam, hàm loss là DiceCELoss"
   ]
  },
  {
   "cell_type": "code",
   "execution_count": 33,
   "id": "ba1f6746",
   "metadata": {
    "execution": {
     "iopub.execute_input": "2024-04-24T10:30:39.217917Z",
     "iopub.status.busy": "2024-04-24T10:30:39.217562Z",
     "iopub.status.idle": "2024-04-24T10:31:11.398815Z",
     "shell.execute_reply": "2024-04-24T10:31:11.398012Z"
    },
    "papermill": {
     "duration": 32.21864,
     "end_time": "2024-04-24T10:31:11.401215",
     "exception": false,
     "start_time": "2024-04-24T10:30:39.182575",
     "status": "completed"
    },
    "tags": []
   },
   "outputs": [],
   "source": [
    "import torch.optim as optim\n",
    "from monai.losses import DiceLoss, DiceCELoss, DiceFocalLoss\n",
    "\n",
    "# Khởi tạo optimizer\n",
    "optimizer = optim.Adam(model.parameters(), lr=1e-5, weight_decay=0)\n",
    "\n",
    "# Sử dụng DiceCELoss\n",
    "diceCE_loss = DiceCELoss(sigmoid=True, squared_pred=True, reduction='mean')\n",
    "\n",
    "# Sử dụng DiceFocalLoss\n",
    "# diceFocal_loss = DiceFocalLoss(sigmoid=True, gamma=0.25)\n",
    "\n",
    "# Sử dụng DiceLoss\n",
    "# seg_loss = DiceLoss(to_onehot_y=True, softmax=True)\n",
    "\n"
   ]
  },
  {
   "cell_type": "markdown",
   "id": "97a53ae2",
   "metadata": {
    "papermill": {
     "duration": 0.034241,
     "end_time": "2024-04-24T10:31:11.470487",
     "exception": false,
     "start_time": "2024-04-24T10:31:11.436246",
     "status": "completed"
    },
    "tags": []
   },
   "source": [
    "## Xây dựng Hàm Joint Loss"
   ]
  },
  {
   "cell_type": "markdown",
   "id": "e407bc7b",
   "metadata": {
    "papermill": {
     "duration": 0.034223,
     "end_time": "2024-04-24T10:31:11.538954",
     "exception": false,
     "start_time": "2024-04-24T10:31:11.504731",
     "status": "completed"
    },
    "tags": []
   },
   "source": [
    "### Hàm Focal_Loss"
   ]
  },
  {
   "cell_type": "code",
   "execution_count": 34,
   "id": "9d35c030",
   "metadata": {
    "execution": {
     "iopub.execute_input": "2024-04-24T10:31:11.610050Z",
     "iopub.status.busy": "2024-04-24T10:31:11.608757Z",
     "iopub.status.idle": "2024-04-24T10:31:11.617288Z",
     "shell.execute_reply": "2024-04-24T10:31:11.616374Z"
    },
    "papermill": {
     "duration": 0.046062,
     "end_time": "2024-04-24T10:31:11.619216",
     "exception": false,
     "start_time": "2024-04-24T10:31:11.573154",
     "status": "completed"
    },
    "tags": []
   },
   "outputs": [],
   "source": [
    "# Copyright (c) Facebook, Inc. and its affiliates. All Rights Reserved.\n",
    "\n",
    "# pyre-strict\n",
    "\n",
    "import torch\n",
    "from torch.nn import functional as F\n",
    "\n",
    "\n",
    "def sigmoid_focal_loss(\n",
    "    inputs: torch.Tensor,\n",
    "    targets: torch.Tensor,\n",
    "    alpha: float = 0.25,\n",
    "    gamma: float = 2,\n",
    "    reduction: str = \"none\",\n",
    ") -> torch.Tensor:\n",
    "    inputs = inputs.float()\n",
    "    targets = targets.float()\n",
    "    p = torch.sigmoid(inputs)\n",
    "    ce_loss = F.binary_cross_entropy_with_logits(inputs, targets, reduction=\"none\")\n",
    "    p_t = p * targets + (1 - p) * (1 - targets)\n",
    "    loss = ce_loss * ((1 - p_t) ** gamma)\n",
    "\n",
    "    if alpha >= 0:\n",
    "        alpha_t = alpha * targets + (1 - alpha) * (1 - targets)\n",
    "        loss = alpha_t * loss\n",
    "\n",
    "    if reduction == \"mean\":\n",
    "        loss = loss.mean()\n",
    "    elif reduction == \"sum\":\n",
    "        loss = loss.sum()\n",
    "\n",
    "    return loss"
   ]
  },
  {
   "cell_type": "markdown",
   "id": "0f3d4968",
   "metadata": {
    "papermill": {
     "duration": 0.034409,
     "end_time": "2024-04-24T10:31:11.689481",
     "exception": false,
     "start_time": "2024-04-24T10:31:11.655072",
     "status": "completed"
    },
    "tags": []
   },
   "source": [
    "### Load hàm loss đánh giá model"
   ]
  },
  {
   "cell_type": "code",
   "execution_count": 35,
   "id": "15de85f0",
   "metadata": {
    "execution": {
     "iopub.execute_input": "2024-04-24T10:31:11.760335Z",
     "iopub.status.busy": "2024-04-24T10:31:11.759517Z",
     "iopub.status.idle": "2024-04-24T10:31:11.773355Z",
     "shell.execute_reply": "2024-04-24T10:31:11.772480Z"
    },
    "id": "EALE52T0vaOR",
    "papermill": {
     "duration": 0.051269,
     "end_time": "2024-04-24T10:31:11.775369",
     "exception": false,
     "start_time": "2024-04-24T10:31:11.724100",
     "status": "completed"
    },
    "tags": []
   },
   "outputs": [],
   "source": [
    "from tqdm import tqdm\n",
    "from statistics import mean\n",
    "import torch\n",
    "from torch.nn.functional import threshold, normalize\n",
    "from pytorch_msssim import ssim, ms_ssim, SSIM, MS_SSIM\n",
    "\n",
    "smooth=1e-10\n",
    "gamma = 2\n",
    "weight = None\n",
    "\n",
    "# Define functions for calculating evaluation metrics\n",
    "def dice(predicted, target):\n",
    "    true_positive = torch.sum(predicted * target)\n",
    "    false_negative = torch.sum(target) - true_positive\n",
    "    false_positive = torch.sum(predicted) - true_positive\n",
    "    return (2. * true_positive + smooth) / (2. *true_positive + false_negative + false_positive + smooth)\n",
    "\n",
    "def iou(predicted, target):\n",
    "    intersection = torch.sum(predicted * target)\n",
    "    union = torch.sum(predicted) + torch.sum(target) - intersection\n",
    "    return (intersection + smooth) / (union + smooth)\n",
    "\n",
    "def recall(predicted, target):\n",
    "    true_positive = torch.sum(predicted * target)\n",
    "    false_negative = torch.sum(target) - true_positive\n",
    "    return (true_positive + smooth) / (true_positive + false_negative + smooth)\n",
    "\n",
    "def precision(predicted, target):\n",
    "    true_positive = torch.sum(predicted * target)\n",
    "    false_positive = torch.sum(predicted) - true_positive\n",
    "    return (true_positive + smooth) / (true_positive + false_positive + smooth)\n",
    "\n",
    "def ssim(predicted, target):\n",
    "    ssim_module = SSIM(data_range=255, size_average=True, channel=1)\n",
    "    ssim_loss = 1 - ssim_module(predicted, target)\n",
    "    return ssim_loss\n",
    "    \n",
    "def focalLoss(predicted, target):\n",
    "    logpt = F.log_softmax(predicted, dim=1)\n",
    "    pt = torch.exp(logpt)\n",
    "    logpt = (1-pt)**gamma * logpt\n",
    "    loss = F.nll_loss(logpt, target, weight)\n",
    "    return loss\n",
    "\n",
    "def jointLoss(predicted, target):\n",
    "    loss = (1 - iou(predicted, target) + sigmoid_focal_loss(inputs = predicted, targets = target, alpha = 0.25, gamma = 2, reduction = \"none\",) + ssim(predicted, target))/3\n",
    "    return loss"
   ]
  },
  {
   "cell_type": "markdown",
   "id": "117e5a8a",
   "metadata": {
    "id": "6UUhEfwPvssf",
    "papermill": {
     "duration": 0.034963,
     "end_time": "2024-04-24T10:31:11.845415",
     "exception": false,
     "start_time": "2024-04-24T10:31:11.810452",
     "status": "completed"
    },
    "tags": []
   },
   "source": [
    "### Train Model"
   ]
  },
  {
   "cell_type": "markdown",
   "id": "85a08d1c",
   "metadata": {
    "id": "9c4n9qWkO3H2",
    "papermill": {
     "duration": 0.034248,
     "end_time": "2024-04-24T10:31:11.913993",
     "exception": false,
     "start_time": "2024-04-24T10:31:11.879745",
     "status": "completed"
    },
    "tags": []
   },
   "source": [
    "### Early Stopping"
   ]
  },
  {
   "cell_type": "code",
   "execution_count": 36,
   "id": "a6c96bda",
   "metadata": {
    "execution": {
     "iopub.execute_input": "2024-04-24T10:31:11.984972Z",
     "iopub.status.busy": "2024-04-24T10:31:11.984612Z",
     "iopub.status.idle": "2024-04-24T13:34:53.102923Z",
     "shell.execute_reply": "2024-04-24T13:34:53.101693Z"
    },
    "id": "XXKd4mX-O2In",
    "outputId": "e3010c07-36e3-484e-9a94-54bd35bdd63f",
    "papermill": {
     "duration": 11021.156599,
     "end_time": "2024-04-24T13:34:53.105064",
     "exception": false,
     "start_time": "2024-04-24T10:31:11.948465",
     "status": "completed"
    },
    "tags": []
   },
   "outputs": [
    {
     "name": "stderr",
     "output_type": "stream",
     "text": [
      "100%|██████████| 589/589 [06:01<00:00,  1.63it/s]\n",
      "100%|██████████| 73/73 [00:43<00:00,  1.69it/s]\n"
     ]
    },
    {
     "name": "stdout",
     "output_type": "stream",
     "text": [
      "EPOCH: 0\n",
      "Train Mean loss: 0.1079\n",
      "Train Dice: 0.8881\n",
      "Train IOU: 0.8028\n",
      "Train Recall: 0.8903\n",
      "Train Precision: 0.8938\n",
      "----------------------\n",
      "Validation Mean loss: 0.0964\n",
      "Validation Dice: 0.9052\n",
      "Validation IOU: 0.8293\n",
      "Validation Recall: 0.8879\n",
      "Validation Precision: 0.9265\n",
      "Best model weights saved.\n",
      "---------------------------------------------\n"
     ]
    },
    {
     "name": "stderr",
     "output_type": "stream",
     "text": [
      "100%|██████████| 589/589 [06:01<00:00,  1.63it/s]\n",
      "100%|██████████| 73/73 [00:43<00:00,  1.68it/s]\n"
     ]
    },
    {
     "name": "stdout",
     "output_type": "stream",
     "text": [
      "EPOCH: 1\n",
      "Train Mean loss: 0.0955\n",
      "Train Dice: 0.9075\n",
      "Train IOU: 0.8330\n",
      "Train Recall: 0.9069\n",
      "Train Precision: 0.9119\n",
      "----------------------\n",
      "Validation Mean loss: 0.0945\n",
      "Validation Dice: 0.9080\n",
      "Validation IOU: 0.8337\n",
      "Validation Recall: 0.8833\n",
      "Validation Precision: 0.9378\n",
      "Best model weights saved.\n",
      "---------------------------------------------\n"
     ]
    },
    {
     "name": "stderr",
     "output_type": "stream",
     "text": [
      "100%|██████████| 589/589 [06:01<00:00,  1.63it/s]\n",
      "100%|██████████| 73/73 [00:43<00:00,  1.68it/s]\n"
     ]
    },
    {
     "name": "stdout",
     "output_type": "stream",
     "text": [
      "EPOCH: 2\n",
      "Train Mean loss: 0.0934\n",
      "Train Dice: 0.9110\n",
      "Train IOU: 0.8391\n",
      "Train Recall: 0.9109\n",
      "Train Precision: 0.9155\n",
      "----------------------\n",
      "Validation Mean loss: 0.0926\n",
      "Validation Dice: 0.9126\n",
      "Validation IOU: 0.8419\n",
      "Validation Recall: 0.9187\n",
      "Validation Precision: 0.9097\n",
      "Best model weights saved.\n",
      "---------------------------------------------\n"
     ]
    },
    {
     "name": "stderr",
     "output_type": "stream",
     "text": [
      "100%|██████████| 589/589 [06:00<00:00,  1.63it/s]\n",
      "100%|██████████| 73/73 [00:43<00:00,  1.68it/s]\n"
     ]
    },
    {
     "name": "stdout",
     "output_type": "stream",
     "text": [
      "EPOCH: 3\n",
      "Train Mean loss: 0.0920\n",
      "Train Dice: 0.9133\n",
      "Train IOU: 0.8430\n",
      "Train Recall: 0.9142\n",
      "Train Precision: 0.9165\n",
      "----------------------\n",
      "Validation Mean loss: 0.0917\n",
      "Validation Dice: 0.9129\n",
      "Validation IOU: 0.8423\n",
      "Validation Recall: 0.8945\n",
      "Validation Precision: 0.9364\n",
      "Best model weights saved.\n",
      "---------------------------------------------\n"
     ]
    },
    {
     "name": "stderr",
     "output_type": "stream",
     "text": [
      "100%|██████████| 589/589 [06:00<00:00,  1.63it/s]\n",
      "100%|██████████| 73/73 [00:43<00:00,  1.68it/s]\n"
     ]
    },
    {
     "name": "stdout",
     "output_type": "stream",
     "text": [
      "EPOCH: 4\n",
      "Train Mean loss: 0.0900\n",
      "Train Dice: 0.9169\n",
      "Train IOU: 0.8485\n",
      "Train Recall: 0.9158\n",
      "Train Precision: 0.9210\n",
      "----------------------\n",
      "Validation Mean loss: 0.0927\n",
      "Validation Dice: 0.9122\n",
      "Validation IOU: 0.8412\n",
      "Validation Recall: 0.9193\n",
      "Validation Precision: 0.9092\n",
      "---------------------------------------------\n"
     ]
    },
    {
     "name": "stderr",
     "output_type": "stream",
     "text": [
      "100%|██████████| 589/589 [06:00<00:00,  1.63it/s]\n",
      "100%|██████████| 73/73 [00:43<00:00,  1.68it/s]\n"
     ]
    },
    {
     "name": "stdout",
     "output_type": "stream",
     "text": [
      "EPOCH: 5\n",
      "Train Mean loss: 0.0890\n",
      "Train Dice: 0.9183\n",
      "Train IOU: 0.8513\n",
      "Train Recall: 0.9168\n",
      "Train Precision: 0.9230\n",
      "----------------------\n",
      "Validation Mean loss: 0.0917\n",
      "Validation Dice: 0.9151\n",
      "Validation IOU: 0.8457\n",
      "Validation Recall: 0.9351\n",
      "Validation Precision: 0.9004\n",
      "Best model weights saved.\n",
      "---------------------------------------------\n"
     ]
    },
    {
     "name": "stderr",
     "output_type": "stream",
     "text": [
      "100%|██████████| 589/589 [06:01<00:00,  1.63it/s]\n",
      "100%|██████████| 73/73 [00:43<00:00,  1.68it/s]\n"
     ]
    },
    {
     "name": "stdout",
     "output_type": "stream",
     "text": [
      "EPOCH: 6\n",
      "Train Mean loss: 0.0881\n",
      "Train Dice: 0.9200\n",
      "Train IOU: 0.8539\n",
      "Train Recall: 0.9203\n",
      "Train Precision: 0.9230\n",
      "----------------------\n",
      "Validation Mean loss: 0.0922\n",
      "Validation Dice: 0.9124\n",
      "Validation IOU: 0.8418\n",
      "Validation Recall: 0.9032\n",
      "Validation Precision: 0.9254\n",
      "---------------------------------------------\n"
     ]
    },
    {
     "name": "stderr",
     "output_type": "stream",
     "text": [
      "100%|██████████| 589/589 [06:00<00:00,  1.64it/s]\n",
      "100%|██████████| 73/73 [00:43<00:00,  1.69it/s]\n"
     ]
    },
    {
     "name": "stdout",
     "output_type": "stream",
     "text": [
      "EPOCH: 7\n",
      "Train Mean loss: 0.0877\n",
      "Train Dice: 0.9208\n",
      "Train IOU: 0.8551\n",
      "Train Recall: 0.9197\n",
      "Train Precision: 0.9253\n",
      "----------------------\n",
      "Validation Mean loss: 0.0940\n",
      "Validation Dice: 0.9099\n",
      "Validation IOU: 0.8378\n",
      "Validation Recall: 0.9174\n",
      "Validation Precision: 0.9061\n",
      "---------------------------------------------\n"
     ]
    },
    {
     "name": "stderr",
     "output_type": "stream",
     "text": [
      "100%|██████████| 589/589 [06:00<00:00,  1.63it/s]\n",
      "100%|██████████| 73/73 [00:43<00:00,  1.69it/s]\n"
     ]
    },
    {
     "name": "stdout",
     "output_type": "stream",
     "text": [
      "EPOCH: 8\n",
      "Train Mean loss: 0.0877\n",
      "Train Dice: 0.9204\n",
      "Train IOU: 0.8549\n",
      "Train Recall: 0.9210\n",
      "Train Precision: 0.9232\n",
      "----------------------\n",
      "Validation Mean loss: 0.0923\n",
      "Validation Dice: 0.9122\n",
      "Validation IOU: 0.8410\n",
      "Validation Recall: 0.9017\n",
      "Validation Precision: 0.9268\n",
      "---------------------------------------------\n"
     ]
    },
    {
     "name": "stderr",
     "output_type": "stream",
     "text": [
      "100%|██████████| 589/589 [05:59<00:00,  1.64it/s]\n",
      "100%|██████████| 73/73 [00:43<00:00,  1.68it/s]\n"
     ]
    },
    {
     "name": "stdout",
     "output_type": "stream",
     "text": [
      "EPOCH: 9\n",
      "Train Mean loss: 0.0869\n",
      "Train Dice: 0.9220\n",
      "Train IOU: 0.8573\n",
      "Train Recall: 0.9220\n",
      "Train Precision: 0.9252\n",
      "----------------------\n",
      "Validation Mean loss: 0.0896\n",
      "Validation Dice: 0.9172\n",
      "Validation IOU: 0.8496\n",
      "Validation Recall: 0.9216\n",
      "Validation Precision: 0.9161\n",
      "Best model weights saved.\n",
      "---------------------------------------------\n"
     ]
    },
    {
     "name": "stderr",
     "output_type": "stream",
     "text": [
      "100%|██████████| 589/589 [06:03<00:00,  1.62it/s]\n",
      "100%|██████████| 73/73 [00:43<00:00,  1.66it/s]\n"
     ]
    },
    {
     "name": "stdout",
     "output_type": "stream",
     "text": [
      "EPOCH: 10\n",
      "Train Mean loss: 0.0869\n",
      "Train Dice: 0.9219\n",
      "Train IOU: 0.8573\n",
      "Train Recall: 0.9221\n",
      "Train Precision: 0.9248\n",
      "----------------------\n",
      "Validation Mean loss: 0.0916\n",
      "Validation Dice: 0.9126\n",
      "Validation IOU: 0.8418\n",
      "Validation Recall: 0.8914\n",
      "Validation Precision: 0.9393\n",
      "---------------------------------------------\n"
     ]
    },
    {
     "name": "stderr",
     "output_type": "stream",
     "text": [
      "100%|██████████| 589/589 [06:04<00:00,  1.61it/s]\n",
      "100%|██████████| 73/73 [00:43<00:00,  1.66it/s]\n"
     ]
    },
    {
     "name": "stdout",
     "output_type": "stream",
     "text": [
      "EPOCH: 11\n",
      "Train Mean loss: 0.0858\n",
      "Train Dice: 0.9239\n",
      "Train IOU: 0.8603\n",
      "Train Recall: 0.9229\n",
      "Train Precision: 0.9278\n",
      "----------------------\n",
      "Validation Mean loss: 0.0956\n",
      "Validation Dice: 0.9052\n",
      "Validation IOU: 0.8306\n",
      "Validation Recall: 0.8880\n",
      "Validation Precision: 0.9267\n",
      "---------------------------------------------\n"
     ]
    },
    {
     "name": "stderr",
     "output_type": "stream",
     "text": [
      "100%|██████████| 589/589 [06:04<00:00,  1.61it/s]\n",
      "100%|██████████| 73/73 [00:43<00:00,  1.66it/s]\n"
     ]
    },
    {
     "name": "stdout",
     "output_type": "stream",
     "text": [
      "EPOCH: 12\n",
      "Train Mean loss: 0.0854\n",
      "Train Dice: 0.9244\n",
      "Train IOU: 0.8614\n",
      "Train Recall: 0.9234\n",
      "Train Precision: 0.9282\n",
      "----------------------\n",
      "Validation Mean loss: 0.0893\n",
      "Validation Dice: 0.9166\n",
      "Validation IOU: 0.8485\n",
      "Validation Recall: 0.8933\n",
      "Validation Precision: 0.9449\n",
      "Best model weights saved.\n",
      "---------------------------------------------\n"
     ]
    },
    {
     "name": "stderr",
     "output_type": "stream",
     "text": [
      "100%|██████████| 589/589 [06:04<00:00,  1.61it/s]\n",
      "100%|██████████| 73/73 [00:43<00:00,  1.66it/s]\n"
     ]
    },
    {
     "name": "stdout",
     "output_type": "stream",
     "text": [
      "EPOCH: 13\n",
      "Train Mean loss: 0.0845\n",
      "Train Dice: 0.9260\n",
      "Train IOU: 0.8640\n",
      "Train Recall: 0.9232\n",
      "Train Precision: 0.9315\n",
      "----------------------\n",
      "Validation Mean loss: 0.0888\n",
      "Validation Dice: 0.9189\n",
      "Validation IOU: 0.8518\n",
      "Validation Recall: 0.9132\n",
      "Validation Precision: 0.9282\n",
      "Best model weights saved.\n",
      "---------------------------------------------\n"
     ]
    },
    {
     "name": "stderr",
     "output_type": "stream",
     "text": [
      "100%|██████████| 589/589 [06:04<00:00,  1.61it/s]\n",
      "100%|██████████| 73/73 [00:43<00:00,  1.66it/s]\n"
     ]
    },
    {
     "name": "stdout",
     "output_type": "stream",
     "text": [
      "EPOCH: 14\n",
      "Train Mean loss: 0.0844\n",
      "Train Dice: 0.9260\n",
      "Train IOU: 0.8642\n",
      "Train Recall: 0.9260\n",
      "Train Precision: 0.9287\n",
      "----------------------\n",
      "Validation Mean loss: 0.0872\n",
      "Validation Dice: 0.9218\n",
      "Validation IOU: 0.8570\n",
      "Validation Recall: 0.9276\n",
      "Validation Precision: 0.9195\n",
      "Best model weights saved.\n",
      "---------------------------------------------\n"
     ]
    },
    {
     "name": "stderr",
     "output_type": "stream",
     "text": [
      "100%|██████████| 589/589 [06:05<00:00,  1.61it/s]\n",
      "100%|██████████| 73/73 [00:43<00:00,  1.66it/s]\n"
     ]
    },
    {
     "name": "stdout",
     "output_type": "stream",
     "text": [
      "EPOCH: 15\n",
      "Train Mean loss: 0.0842\n",
      "Train Dice: 0.9263\n",
      "Train IOU: 0.8647\n",
      "Train Recall: 0.9251\n",
      "Train Precision: 0.9301\n",
      "----------------------\n",
      "Validation Mean loss: 0.0899\n",
      "Validation Dice: 0.9172\n",
      "Validation IOU: 0.8494\n",
      "Validation Recall: 0.9294\n",
      "Validation Precision: 0.9103\n",
      "---------------------------------------------\n"
     ]
    },
    {
     "name": "stderr",
     "output_type": "stream",
     "text": [
      "100%|██████████| 589/589 [06:05<00:00,  1.61it/s]\n",
      "100%|██████████| 73/73 [00:43<00:00,  1.67it/s]\n"
     ]
    },
    {
     "name": "stdout",
     "output_type": "stream",
     "text": [
      "EPOCH: 16\n",
      "Train Mean loss: 0.0833\n",
      "Train Dice: 0.9279\n",
      "Train IOU: 0.8675\n",
      "Train Recall: 0.9278\n",
      "Train Precision: 0.9306\n",
      "----------------------\n",
      "Validation Mean loss: 0.0843\n",
      "Validation Dice: 0.9268\n",
      "Validation IOU: 0.8649\n",
      "Validation Recall: 0.9202\n",
      "Validation Precision: 0.9363\n",
      "Best model weights saved.\n",
      "---------------------------------------------\n"
     ]
    },
    {
     "name": "stderr",
     "output_type": "stream",
     "text": [
      "100%|██████████| 589/589 [06:04<00:00,  1.61it/s]\n",
      "100%|██████████| 73/73 [00:43<00:00,  1.67it/s]\n"
     ]
    },
    {
     "name": "stdout",
     "output_type": "stream",
     "text": [
      "EPOCH: 17\n",
      "Train Mean loss: 0.0832\n",
      "Train Dice: 0.9281\n",
      "Train IOU: 0.8676\n",
      "Train Recall: 0.9268\n",
      "Train Precision: 0.9323\n",
      "----------------------\n",
      "Validation Mean loss: 0.0900\n",
      "Validation Dice: 0.9159\n",
      "Validation IOU: 0.8486\n",
      "Validation Recall: 0.9297\n",
      "Validation Precision: 0.9065\n",
      "---------------------------------------------\n"
     ]
    },
    {
     "name": "stderr",
     "output_type": "stream",
     "text": [
      "100%|██████████| 589/589 [06:05<00:00,  1.61it/s]\n",
      "100%|██████████| 73/73 [00:43<00:00,  1.66it/s]\n"
     ]
    },
    {
     "name": "stdout",
     "output_type": "stream",
     "text": [
      "EPOCH: 18\n",
      "Train Mean loss: 0.0828\n",
      "Train Dice: 0.9289\n",
      "Train IOU: 0.8690\n",
      "Train Recall: 0.9274\n",
      "Train Precision: 0.9328\n",
      "----------------------\n",
      "Validation Mean loss: 0.0869\n",
      "Validation Dice: 0.9221\n",
      "Validation IOU: 0.8577\n",
      "Validation Recall: 0.9273\n",
      "Validation Precision: 0.9205\n",
      "---------------------------------------------\n"
     ]
    },
    {
     "name": "stderr",
     "output_type": "stream",
     "text": [
      "100%|██████████| 589/589 [06:05<00:00,  1.61it/s]\n",
      "100%|██████████| 73/73 [00:43<00:00,  1.66it/s]\n"
     ]
    },
    {
     "name": "stdout",
     "output_type": "stream",
     "text": [
      "EPOCH: 19\n",
      "Train Mean loss: 0.0823\n",
      "Train Dice: 0.9297\n",
      "Train IOU: 0.8703\n",
      "Train Recall: 0.9292\n",
      "Train Precision: 0.9326\n",
      "----------------------\n",
      "Validation Mean loss: 0.0879\n",
      "Validation Dice: 0.9202\n",
      "Validation IOU: 0.8548\n",
      "Validation Recall: 0.9218\n",
      "Validation Precision: 0.9227\n",
      "---------------------------------------------\n"
     ]
    },
    {
     "name": "stderr",
     "output_type": "stream",
     "text": [
      "100%|██████████| 589/589 [06:05<00:00,  1.61it/s]\n",
      "100%|██████████| 73/73 [00:43<00:00,  1.67it/s]\n"
     ]
    },
    {
     "name": "stdout",
     "output_type": "stream",
     "text": [
      "EPOCH: 20\n",
      "Train Mean loss: 0.0814\n",
      "Train Dice: 0.9313\n",
      "Train IOU: 0.8730\n",
      "Train Recall: 0.9310\n",
      "Train Precision: 0.9338\n",
      "----------------------\n",
      "Validation Mean loss: 0.0895\n",
      "Validation Dice: 0.9170\n",
      "Validation IOU: 0.8494\n",
      "Validation Recall: 0.9177\n",
      "Validation Precision: 0.9200\n",
      "---------------------------------------------\n"
     ]
    },
    {
     "name": "stderr",
     "output_type": "stream",
     "text": [
      "100%|██████████| 589/589 [06:04<00:00,  1.61it/s]\n",
      "100%|██████████| 73/73 [00:43<00:00,  1.67it/s]\n"
     ]
    },
    {
     "name": "stdout",
     "output_type": "stream",
     "text": [
      "EPOCH: 21\n",
      "Train Mean loss: 0.0816\n",
      "Train Dice: 0.9310\n",
      "Train IOU: 0.8725\n",
      "Train Recall: 0.9298\n",
      "Train Precision: 0.9348\n",
      "----------------------\n",
      "Validation Mean loss: 0.0921\n",
      "Validation Dice: 0.9119\n",
      "Validation IOU: 0.8416\n",
      "Validation Recall: 0.9056\n",
      "Validation Precision: 0.9228\n",
      "---------------------------------------------\n"
     ]
    },
    {
     "name": "stderr",
     "output_type": "stream",
     "text": [
      "100%|██████████| 589/589 [06:04<00:00,  1.61it/s]\n",
      "100%|██████████| 73/73 [00:43<00:00,  1.66it/s]\n"
     ]
    },
    {
     "name": "stdout",
     "output_type": "stream",
     "text": [
      "EPOCH: 22\n",
      "Train Mean loss: 0.0814\n",
      "Train Dice: 0.9310\n",
      "Train IOU: 0.8727\n",
      "Train Recall: 0.9298\n",
      "Train Precision: 0.9344\n",
      "----------------------\n",
      "Validation Mean loss: 0.0895\n",
      "Validation Dice: 0.9167\n",
      "Validation IOU: 0.8492\n",
      "Validation Recall: 0.9106\n",
      "Validation Precision: 0.9272\n",
      "---------------------------------------------\n"
     ]
    },
    {
     "name": "stderr",
     "output_type": "stream",
     "text": [
      "100%|██████████| 589/589 [06:04<00:00,  1.61it/s]\n",
      "100%|██████████| 73/73 [00:43<00:00,  1.67it/s]\n"
     ]
    },
    {
     "name": "stdout",
     "output_type": "stream",
     "text": [
      "EPOCH: 23\n",
      "Train Mean loss: 0.0809\n",
      "Train Dice: 0.9321\n",
      "Train IOU: 0.8743\n",
      "Train Recall: 0.9305\n",
      "Train Precision: 0.9359\n",
      "----------------------\n",
      "Validation Mean loss: 0.0862\n",
      "Validation Dice: 0.9225\n",
      "Validation IOU: 0.8585\n",
      "Validation Recall: 0.9168\n",
      "Validation Precision: 0.9322\n",
      "---------------------------------------------\n"
     ]
    },
    {
     "name": "stderr",
     "output_type": "stream",
     "text": [
      "100%|██████████| 589/589 [06:05<00:00,  1.61it/s]\n",
      "100%|██████████| 73/73 [00:43<00:00,  1.66it/s]\n"
     ]
    },
    {
     "name": "stdout",
     "output_type": "stream",
     "text": [
      "EPOCH: 24\n",
      "Train Mean loss: 0.0805\n",
      "Train Dice: 0.9327\n",
      "Train IOU: 0.8754\n",
      "Train Recall: 0.9318\n",
      "Train Precision: 0.9361\n",
      "----------------------\n",
      "Validation Mean loss: 0.0868\n",
      "Validation Dice: 0.9216\n",
      "Validation IOU: 0.8571\n",
      "Validation Recall: 0.9148\n",
      "Validation Precision: 0.9325\n",
      "---------------------------------------------\n"
     ]
    },
    {
     "name": "stderr",
     "output_type": "stream",
     "text": [
      "100%|██████████| 589/589 [06:04<00:00,  1.61it/s]\n",
      "100%|██████████| 73/73 [00:43<00:00,  1.67it/s]\n"
     ]
    },
    {
     "name": "stdout",
     "output_type": "stream",
     "text": [
      "EPOCH: 25\n",
      "Train Mean loss: 0.0802\n",
      "Train Dice: 0.9332\n",
      "Train IOU: 0.8764\n",
      "Train Recall: 0.9325\n",
      "Train Precision: 0.9363\n",
      "----------------------\n",
      "Validation Mean loss: 0.0872\n",
      "Validation Dice: 0.9218\n",
      "Validation IOU: 0.8575\n",
      "Validation Recall: 0.9369\n",
      "Validation Precision: 0.9110\n",
      "---------------------------------------------\n"
     ]
    },
    {
     "name": "stderr",
     "output_type": "stream",
     "text": [
      "100%|██████████| 589/589 [06:04<00:00,  1.62it/s]\n",
      "100%|██████████| 73/73 [00:43<00:00,  1.67it/s]"
     ]
    },
    {
     "name": "stdout",
     "output_type": "stream",
     "text": [
      "EPOCH: 26\n",
      "Train Mean loss: 0.0791\n",
      "Train Dice: 0.9352\n",
      "Train IOU: 0.8796\n",
      "Train Recall: 0.9333\n",
      "Train Precision: 0.9391\n",
      "----------------------\n",
      "Validation Mean loss: 0.0890\n",
      "Validation Dice: 0.9174\n",
      "Validation IOU: 0.8508\n",
      "Validation Recall: 0.9152\n",
      "Validation Precision: 0.9235\n",
      "---------------------------------------------\n",
      "Early stopping! No improvement in 10 epochs.\n"
     ]
    },
    {
     "name": "stderr",
     "output_type": "stream",
     "text": [
      "\n"
     ]
    }
   ],
   "source": [
    "from tqdm import tqdm\n",
    "from statistics import mean\n",
    "import torch\n",
    "from torch.nn.functional import threshold, normalize\n",
    "import os\n",
    "\n",
    "# Tạo thư mục checkpoint\n",
    "checkpoint_dir = '/kaggle/working/checkpoint_SAM'\n",
    "os.makedirs(checkpoint_dir, exist_ok=True)\n",
    "\n",
    "# Biến để theo dõi loss tốt nhất và trọng số của nó\n",
    "best_loss = float('inf')\n",
    "best_weights = None\n",
    "\n",
    "# Add list to record loss of train dataset\n",
    "train_loss_list = []\n",
    "train_dice_loss = []\n",
    "train_iou_loss = []\n",
    "train_precision_loss = []\n",
    "train_recall_loss = []\n",
    "\n",
    "# Add list to record loss of validation dataset\n",
    "val_loss_list = []\n",
    "val_dice_loss = []\n",
    "val_iou_loss = []\n",
    "val_precision_loss = []\n",
    "val_recall_loss = []\n",
    "\n",
    "# Early stopping parameters\n",
    "patience = 10  # Số lượng epochs mà mô hình không cải thiện trước khi dừng sớm\n",
    "counter = 0\n",
    "\n",
    "# Training loop\n",
    "num_epochs = 50\n",
    "\n",
    "device = \"cuda\" if torch.cuda.is_available() else \"cpu\"\n",
    "model.to(device)\n",
    "\n",
    "model.train()\n",
    "for epoch in range(num_epochs):\n",
    "    correct_predictions = 0\n",
    "    total_predictions = 0\n",
    "    \n",
    "    # Train Model on Train Dataset\n",
    "    epoch_losses = []\n",
    "    train_dice_scores = []\n",
    "    train_iou_scores = []\n",
    "    train_recall_scores = []\n",
    "    train_precision_scores = []\n",
    "    \n",
    "    for batch in tqdm(train_dataloader):\n",
    "        # forward pass\n",
    "        outputs = model(pixel_values=batch[\"pixel_values\"].to(device),\n",
    "                        input_boxes=batch[\"input_boxes\"].to(device),\n",
    "                        multimask_output=False)\n",
    "\n",
    "        # compute loss\n",
    "        predicted_masks = outputs.pred_masks.squeeze(1)\n",
    "        ground_truth_masks = batch[\"ground_truth_mask\"].float().to(device) \n",
    "        target = ground_truth_masks.unsqueeze(1)\n",
    "        predicted_masks = torch.sigmoid(predicted_masks)\n",
    "        loss = jointLoss(predicted_masks,target).mean()\n",
    "\n",
    "        # backward pass (compute gradients of parameters w.r.t. loss)\n",
    "        optimizer.zero_grad()\n",
    "        loss.backward()\n",
    "\n",
    "        # optimize\n",
    "        optimizer.step()\n",
    "        epoch_losses.append(loss.item())\n",
    "        \n",
    "        predicted_masks_eval = (outputs.pred_masks.squeeze() > 0.5).float() \n",
    "        train_dice_scores.append(dice(predicted_masks_eval, ground_truth_masks))\n",
    "        train_iou_scores.append(iou(predicted_masks_eval, ground_truth_masks))\n",
    "        train_recall_scores.append(recall(predicted_masks_eval, ground_truth_masks))\n",
    "        train_precision_scores.append(precision(predicted_masks_eval, ground_truth_masks))\n",
    "\n",
    "    # Lưu trọng số của mô hình sau mỗi epoch vào thư mục checkpoint\n",
    "    if epoch == num_epochs - 1:\n",
    "        torch.save(model.state_dict(), os.path.join(checkpoint_dir, f'model_epoch_{epoch}.pt'))\n",
    "    else:\n",
    "        torch.save(model.state_dict(), os.path.join(checkpoint_dir, f'model_epoch_final.pt'))\n",
    "\n",
    "    # Tính loss trung bình và accuracy của epoch hiện tại\n",
    "    epoch_loss_mean = mean(epoch_losses)\n",
    "    train_loss_list.append(epoch_loss_mean)\n",
    "    \n",
    "    train_dice = torch.tensor(train_dice_scores).mean().item()\n",
    "    train_iou = torch.tensor(train_iou_scores).mean().item()\n",
    "    train_recall = torch.tensor(train_recall_scores).mean().item()\n",
    "    train_precision = torch.tensor(train_precision_scores).mean().item()\n",
    "    \n",
    "    train_dice_loss.append(train_dice)\n",
    "    train_iou_loss.append(train_iou)\n",
    "    train_recall_loss.append(train_recall)\n",
    "    train_precision_loss.append(train_precision)\n",
    "    \n",
    "    #-------------------------------------------------------------------------------------\n",
    "    # Đánh giá mô hình trên tập validation\n",
    "    validation_losses = []\n",
    "    val_dice_scores = []\n",
    "    val_iou_scores = []\n",
    "    val_recall_scores = []\n",
    "    val_precision_scores = []\n",
    "    \n",
    "    with torch.no_grad():  # Không tính gradient trong quá trình đánh giá\n",
    "        for batch in tqdm(val_dataloader):\n",
    "            outputs = model(pixel_values=batch[\"pixel_values\"].to(device),\n",
    "                            input_boxes=batch[\"input_boxes\"].to(device),\n",
    "                            multimask_output=False)\n",
    "            \n",
    "            predicted_masks = outputs.pred_masks.squeeze(1)\n",
    "            ground_truth_masks = batch[\"ground_truth_mask\"].float().to(device) \n",
    "            target = ground_truth_masks.unsqueeze(1)\n",
    "            predicted_masks = torch.sigmoid(predicted_masks)\n",
    "            loss = jointLoss(predicted_masks,target).mean()\n",
    "            validation_losses.append(loss.item())\n",
    "\n",
    "            predicted_masks_eval = (outputs.pred_masks.squeeze() > 0.5).float() \n",
    "            val_dice_scores.append(dice(predicted_masks_eval, ground_truth_masks))\n",
    "            val_iou_scores.append(iou(predicted_masks_eval, ground_truth_masks))\n",
    "            val_recall_scores.append(recall(predicted_masks_eval, ground_truth_masks))\n",
    "            val_precision_scores.append(precision(predicted_masks_eval, ground_truth_masks))\n",
    "\n",
    "    # Tính loss trung bình trên tập validation\n",
    "    validation_loss_mean = mean(validation_losses)\n",
    "    val_loss_list.append(validation_loss_mean)\n",
    "     \n",
    "    val_dice = torch.tensor(val_dice_scores).mean().item()\n",
    "    val_iou = torch.tensor(val_iou_scores).mean().item()\n",
    "    val_recall = torch.tensor(val_recall_scores).mean().item()\n",
    "    val_precision = torch.tensor(val_precision_scores).mean().item()\n",
    "    \n",
    "    val_dice_loss.append(val_dice)\n",
    "    val_iou_loss.append(val_iou)\n",
    "    val_recall_loss.append(val_recall)\n",
    "    val_precision_loss.append(val_precision)\n",
    "    \n",
    "    #-------------------------------------------------------------------------------------\n",
    "    # In thông tin về epoch, loss của tập train và validation\n",
    "    print(f'EPOCH: {epoch}')\n",
    "    print(f'Train Mean loss: {epoch_loss_mean:.4f}')\n",
    "    print(f'Train Dice: {train_dice:.4f}')\n",
    "    print(f'Train IOU: {train_iou:.4f}')\n",
    "    print(f'Train Recall: {train_recall:.4f}')\n",
    "    print(f'Train Precision: {train_precision:.4f}')\n",
    "    print('----------------------')\n",
    "    print(f'Validation Mean loss: {validation_loss_mean:.4f}')\n",
    "    print(f'Validation Dice: {val_dice:.4f}')\n",
    "    print(f'Validation IOU: {val_iou:.4f}')\n",
    "    print(f'Validation Recall: {val_recall:.4f}')\n",
    "    print(f'Validation Precision: {val_precision:.4f}')\n",
    "\n",
    "    # Kiểm tra xem loss của epoch hiện tại có là tốt nhất không\n",
    "    if validation_loss_mean < best_loss:\n",
    "    # Nếu là loss tốt nhất, cập nhật biến best_loss và lưu trọng số tốt nhất\n",
    "        best_loss = validation_loss_mean\n",
    "        best_weights = model.state_dict()\n",
    "        torch.save(best_weights, os.path.join(checkpoint_dir, 'best_model_weights_SAM_jointloss.pt'))\n",
    "        print(\"Best model weights saved.\")\n",
    "    print('---------------------------------------------')\n",
    "    \n",
    "    #-------------------------------------------------------------------------------------\n",
    "    # Kiểm tra early stopping\n",
    "    if epoch > 0:  # Bắt đầu kiểm tra early stopping sau epoch đầu tiên\n",
    "        if validation_loss_mean >= prev_epoch_loss:\n",
    "            counter += 1\n",
    "            if counter >= patience:\n",
    "                print(f\"Early stopping! No improvement in {patience} epochs.\")\n",
    "                break\n",
    "        else:\n",
    "            counter = 0  # Reset counter\n",
    "            prev_epoch_loss = validation_loss_mean  # Lưu loss của epoch hiện tại để so sánh với epoch tiếp theo\n",
    "    else:\n",
    "        prev_epoch_loss = validation_loss_mean"
   ]
  },
  {
   "cell_type": "code",
   "execution_count": 37,
   "id": "ec60c6c7",
   "metadata": {
    "execution": {
     "iopub.execute_input": "2024-04-24T13:34:56.173030Z",
     "iopub.status.busy": "2024-04-24T13:34:56.172668Z",
     "iopub.status.idle": "2024-04-24T13:34:56.179252Z",
     "shell.execute_reply": "2024-04-24T13:34:56.178392Z"
    },
    "papermill": {
     "duration": 1.491463,
     "end_time": "2024-04-24T13:34:56.181166",
     "exception": false,
     "start_time": "2024-04-24T13:34:54.689703",
     "status": "completed"
    },
    "tags": []
   },
   "outputs": [
    {
     "data": {
      "text/plain": [
       "[0.10789085335156712,\n",
       " 0.09553533476889639,\n",
       " 0.09335669510205655,\n",
       " 0.09195519394299778,\n",
       " 0.09000979410089135,\n",
       " 0.08900785616935818,\n",
       " 0.08809573779511938,\n",
       " 0.08771591529199546,\n",
       " 0.08769905556417078,\n",
       " 0.0869112084153249,\n",
       " 0.086921379362282,\n",
       " 0.08582707850581923,\n",
       " 0.08543182795642794,\n",
       " 0.08448610080371284,\n",
       " 0.08444958922084807,\n",
       " 0.08423802550686033,\n",
       " 0.08332638546875054,\n",
       " 0.08324574345188351,\n",
       " 0.08275452699569166,\n",
       " 0.08233701890565341,\n",
       " 0.0814187232854006,\n",
       " 0.0815595959412829,\n",
       " 0.08143988466095843,\n",
       " 0.08092097948180395,\n",
       " 0.08048461660337974,\n",
       " 0.08018310763359272,\n",
       " 0.07907596189395884]"
      ]
     },
     "execution_count": 37,
     "metadata": {},
     "output_type": "execute_result"
    }
   ],
   "source": [
    "train_loss_list"
   ]
  },
  {
   "cell_type": "code",
   "execution_count": 38,
   "id": "f8cada50",
   "metadata": {
    "execution": {
     "iopub.execute_input": "2024-04-24T13:34:59.288427Z",
     "iopub.status.busy": "2024-04-24T13:34:59.288062Z",
     "iopub.status.idle": "2024-04-24T13:34:59.294363Z",
     "shell.execute_reply": "2024-04-24T13:34:59.293528Z"
    },
    "papermill": {
     "duration": 1.494753,
     "end_time": "2024-04-24T13:34:59.296328",
     "exception": false,
     "start_time": "2024-04-24T13:34:57.801575",
     "status": "completed"
    },
    "tags": []
   },
   "outputs": [
    {
     "data": {
      "text/plain": [
       "[0.8881270885467529,\n",
       " 0.9074601531028748,\n",
       " 0.9109926819801331,\n",
       " 0.9133177399635315,\n",
       " 0.9168574810028076,\n",
       " 0.9182579517364502,\n",
       " 0.9200034141540527,\n",
       " 0.9207594990730286,\n",
       " 0.9204263091087341,\n",
       " 0.9219744801521301,\n",
       " 0.9218827486038208,\n",
       " 0.9238530993461609,\n",
       " 0.9243541359901428,\n",
       " 0.926030158996582,\n",
       " 0.9260461926460266,\n",
       " 0.9262538552284241,\n",
       " 0.9279459714889526,\n",
       " 0.928109884262085,\n",
       " 0.9288570284843445,\n",
       " 0.929669976234436,\n",
       " 0.9312542080879211,\n",
       " 0.931018590927124,\n",
       " 0.9310435652732849,\n",
       " 0.9321144223213196,\n",
       " 0.9326505661010742,\n",
       " 0.9331996440887451,\n",
       " 0.9352240562438965]"
      ]
     },
     "execution_count": 38,
     "metadata": {},
     "output_type": "execute_result"
    }
   ],
   "source": [
    "train_dice_loss"
   ]
  },
  {
   "cell_type": "code",
   "execution_count": 39,
   "id": "d0266034",
   "metadata": {
    "execution": {
     "iopub.execute_input": "2024-04-24T13:35:02.364187Z",
     "iopub.status.busy": "2024-04-24T13:35:02.363569Z",
     "iopub.status.idle": "2024-04-24T13:35:02.370371Z",
     "shell.execute_reply": "2024-04-24T13:35:02.369504Z"
    },
    "papermill": {
     "duration": 1.459952,
     "end_time": "2024-04-24T13:35:02.372178",
     "exception": false,
     "start_time": "2024-04-24T13:35:00.912226",
     "status": "completed"
    },
    "tags": []
   },
   "outputs": [
    {
     "data": {
      "text/plain": [
       "[0.802841305732727,\n",
       " 0.8330287933349609,\n",
       " 0.8390985727310181,\n",
       " 0.8429551720619202,\n",
       " 0.84848952293396,\n",
       " 0.8512641191482544,\n",
       " 0.8539426922798157,\n",
       " 0.8550825119018555,\n",
       " 0.8548998236656189,\n",
       " 0.8573477864265442,\n",
       " 0.8572571873664856,\n",
       " 0.8603339195251465,\n",
       " 0.8614406585693359,\n",
       " 0.864007830619812,\n",
       " 0.8642092943191528,\n",
       " 0.8646530508995056,\n",
       " 0.8674941658973694,\n",
       " 0.867607831954956,\n",
       " 0.8689627051353455,\n",
       " 0.8702826499938965,\n",
       " 0.8729550838470459,\n",
       " 0.8724592924118042,\n",
       " 0.8727076053619385,\n",
       " 0.874313473701477,\n",
       " 0.8754484057426453,\n",
       " 0.876399576663971,\n",
       " 0.8795769214630127]"
      ]
     },
     "execution_count": 39,
     "metadata": {},
     "output_type": "execute_result"
    }
   ],
   "source": [
    "train_iou_loss"
   ]
  },
  {
   "cell_type": "code",
   "execution_count": 40,
   "id": "07eb60e1",
   "metadata": {
    "execution": {
     "iopub.execute_input": "2024-04-24T13:35:05.364057Z",
     "iopub.status.busy": "2024-04-24T13:35:05.363326Z",
     "iopub.status.idle": "2024-04-24T13:35:05.369498Z",
     "shell.execute_reply": "2024-04-24T13:35:05.368601Z"
    },
    "papermill": {
     "duration": 1.452544,
     "end_time": "2024-04-24T13:35:05.371486",
     "exception": false,
     "start_time": "2024-04-24T13:35:03.918942",
     "status": "completed"
    },
    "tags": []
   },
   "outputs": [
    {
     "data": {
      "text/plain": [
       "[0.8902561068534851,\n",
       " 0.9069153666496277,\n",
       " 0.9108505249023438,\n",
       " 0.9141586422920227,\n",
       " 0.9158387184143066,\n",
       " 0.9168393611907959,\n",
       " 0.9202580451965332,\n",
       " 0.9197124242782593,\n",
       " 0.9210209250450134,\n",
       " 0.9219792485237122,\n",
       " 0.9221189618110657,\n",
       " 0.9229084253311157,\n",
       " 0.9233972430229187,\n",
       " 0.9231751561164856,\n",
       " 0.9260463118553162,\n",
       " 0.9250803589820862,\n",
       " 0.9277985095977783,\n",
       " 0.926800012588501,\n",
       " 0.9274290204048157,\n",
       " 0.9292382597923279,\n",
       " 0.930993378162384,\n",
       " 0.9297668933868408,\n",
       " 0.9297959804534912,\n",
       " 0.9304585456848145,\n",
       " 0.9318109750747681,\n",
       " 0.9324889779090881,\n",
       " 0.9333035945892334]"
      ]
     },
     "execution_count": 40,
     "metadata": {},
     "output_type": "execute_result"
    }
   ],
   "source": [
    "train_recall_loss"
   ]
  },
  {
   "cell_type": "code",
   "execution_count": 41,
   "id": "97f09f9b",
   "metadata": {
    "execution": {
     "iopub.execute_input": "2024-04-24T13:35:08.408557Z",
     "iopub.status.busy": "2024-04-24T13:35:08.407460Z",
     "iopub.status.idle": "2024-04-24T13:35:08.413983Z",
     "shell.execute_reply": "2024-04-24T13:35:08.413136Z"
    },
    "papermill": {
     "duration": 1.455011,
     "end_time": "2024-04-24T13:35:08.415849",
     "exception": false,
     "start_time": "2024-04-24T13:35:06.960838",
     "status": "completed"
    },
    "tags": []
   },
   "outputs": [
    {
     "data": {
      "text/plain": [
       "[0.8937807083129883,\n",
       " 0.9119166135787964,\n",
       " 0.9154508709907532,\n",
       " 0.9165034890174866,\n",
       " 0.9210238456726074,\n",
       " 0.9230119585990906,\n",
       " 0.9229981899261475,\n",
       " 0.9253273606300354,\n",
       " 0.9231842160224915,\n",
       " 0.9251601099967957,\n",
       " 0.9247549772262573,\n",
       " 0.9278292059898376,\n",
       " 0.9281944632530212,\n",
       " 0.9315268397331238,\n",
       " 0.9286839962005615,\n",
       " 0.9301102757453918,\n",
       " 0.9306061267852783,\n",
       " 0.9323443174362183,\n",
       " 0.932803213596344,\n",
       " 0.9326396584510803,\n",
       " 0.933849573135376,\n",
       " 0.9347524046897888,\n",
       " 0.9344461560249329,\n",
       " 0.9358662366867065,\n",
       " 0.9360601305961609,\n",
       " 0.9363014698028564,\n",
       " 0.9391289949417114]"
      ]
     },
     "execution_count": 41,
     "metadata": {},
     "output_type": "execute_result"
    }
   ],
   "source": [
    "train_precision_loss"
   ]
  },
  {
   "cell_type": "code",
   "execution_count": 42,
   "id": "8a32a48e",
   "metadata": {
    "execution": {
     "iopub.execute_input": "2024-04-24T13:35:11.439742Z",
     "iopub.status.busy": "2024-04-24T13:35:11.438865Z",
     "iopub.status.idle": "2024-04-24T13:35:11.445002Z",
     "shell.execute_reply": "2024-04-24T13:35:11.444117Z"
    },
    "papermill": {
     "duration": 1.574746,
     "end_time": "2024-04-24T13:35:11.447013",
     "exception": false,
     "start_time": "2024-04-24T13:35:09.872267",
     "status": "completed"
    },
    "tags": []
   },
   "outputs": [
    {
     "data": {
      "text/plain": [
       "[0.09640103527536131,\n",
       " 0.0945178724519194,\n",
       " 0.09255990977973154,\n",
       " 0.09172070970478123,\n",
       " 0.0927453768273739,\n",
       " 0.09171188280802883,\n",
       " 0.09220962063090442,\n",
       " 0.09401692230611632,\n",
       " 0.09232947072141791,\n",
       " 0.08964513818899246,\n",
       " 0.0916254321904215,\n",
       " 0.09563423754417733,\n",
       " 0.08933313139905669,\n",
       " 0.08878626587660346,\n",
       " 0.08719908012306854,\n",
       " 0.08987998901164695,\n",
       " 0.0842572431756209,\n",
       " 0.09000605252915866,\n",
       " 0.08694894249512725,\n",
       " 0.08787994020401615,\n",
       " 0.08954940639334182,\n",
       " 0.09208303761400588,\n",
       " 0.08945883524744477,\n",
       " 0.08622738463829642,\n",
       " 0.08675069617081994,\n",
       " 0.08720674799525574,\n",
       " 0.0889763279932819]"
      ]
     },
     "execution_count": 42,
     "metadata": {},
     "output_type": "execute_result"
    }
   ],
   "source": [
    "val_loss_list"
   ]
  },
  {
   "cell_type": "code",
   "execution_count": 43,
   "id": "fe4a1181",
   "metadata": {
    "execution": {
     "iopub.execute_input": "2024-04-24T13:35:14.433787Z",
     "iopub.status.busy": "2024-04-24T13:35:14.433407Z",
     "iopub.status.idle": "2024-04-24T13:35:14.439367Z",
     "shell.execute_reply": "2024-04-24T13:35:14.438553Z"
    },
    "papermill": {
     "duration": 1.442336,
     "end_time": "2024-04-24T13:35:14.441171",
     "exception": false,
     "start_time": "2024-04-24T13:35:12.998835",
     "status": "completed"
    },
    "tags": []
   },
   "outputs": [
    {
     "data": {
      "text/plain": [
       "[0.905243992805481,\n",
       " 0.9079939126968384,\n",
       " 0.912624716758728,\n",
       " 0.9129475355148315,\n",
       " 0.9121986031532288,\n",
       " 0.9151325225830078,\n",
       " 0.9123794436454773,\n",
       " 0.909936785697937,\n",
       " 0.9122189879417419,\n",
       " 0.9172346591949463,\n",
       " 0.9126176238059998,\n",
       " 0.905196487903595,\n",
       " 0.9166297316551208,\n",
       " 0.9189045429229736,\n",
       " 0.9217693209648132,\n",
       " 0.9171640872955322,\n",
       " 0.9268155097961426,\n",
       " 0.9158623218536377,\n",
       " 0.9221339821815491,\n",
       " 0.9202371835708618,\n",
       " 0.9170217514038086,\n",
       " 0.9119341373443604,\n",
       " 0.9166562557220459,\n",
       " 0.9225359559059143,\n",
       " 0.9216485023498535,\n",
       " 0.9217902421951294,\n",
       " 0.9173665642738342]"
      ]
     },
     "execution_count": 43,
     "metadata": {},
     "output_type": "execute_result"
    }
   ],
   "source": [
    "val_dice_loss"
   ]
  },
  {
   "cell_type": "code",
   "execution_count": 44,
   "id": "d8b3793c",
   "metadata": {
    "execution": {
     "iopub.execute_input": "2024-04-24T13:35:17.386354Z",
     "iopub.status.busy": "2024-04-24T13:35:17.385518Z",
     "iopub.status.idle": "2024-04-24T13:35:17.391466Z",
     "shell.execute_reply": "2024-04-24T13:35:17.390670Z"
    },
    "papermill": {
     "duration": 1.454017,
     "end_time": "2024-04-24T13:35:17.393401",
     "exception": false,
     "start_time": "2024-04-24T13:35:15.939384",
     "status": "completed"
    },
    "tags": []
   },
   "outputs": [
    {
     "data": {
      "text/plain": [
       "[0.829312264919281,\n",
       " 0.8336864113807678,\n",
       " 0.8418884873390198,\n",
       " 0.8423017263412476,\n",
       " 0.841227114200592,\n",
       " 0.8457155823707581,\n",
       " 0.8417880535125732,\n",
       " 0.837823212146759,\n",
       " 0.8410036563873291,\n",
       " 0.8495565056800842,\n",
       " 0.8418271541595459,\n",
       " 0.8305795788764954,\n",
       " 0.848486065864563,\n",
       " 0.8517521619796753,\n",
       " 0.8569914102554321,\n",
       " 0.8493747115135193,\n",
       " 0.8648541569709778,\n",
       " 0.8486365675926208,\n",
       " 0.8576847910881042,\n",
       " 0.854767918586731,\n",
       " 0.8494396805763245,\n",
       " 0.8416008353233337,\n",
       " 0.8491701483726501,\n",
       " 0.8585324287414551,\n",
       " 0.8570621609687805,\n",
       " 0.8574756979942322,\n",
       " 0.8508061766624451]"
      ]
     },
     "execution_count": 44,
     "metadata": {},
     "output_type": "execute_result"
    }
   ],
   "source": [
    "val_iou_loss"
   ]
  },
  {
   "cell_type": "code",
   "execution_count": 45,
   "id": "982a674c",
   "metadata": {
    "execution": {
     "iopub.execute_input": "2024-04-24T13:35:20.328303Z",
     "iopub.status.busy": "2024-04-24T13:35:20.327879Z",
     "iopub.status.idle": "2024-04-24T13:35:20.334382Z",
     "shell.execute_reply": "2024-04-24T13:35:20.333549Z"
    },
    "papermill": {
     "duration": 1.435774,
     "end_time": "2024-04-24T13:35:20.336392",
     "exception": false,
     "start_time": "2024-04-24T13:35:18.900618",
     "status": "completed"
    },
    "tags": []
   },
   "outputs": [
    {
     "data": {
      "text/plain": [
       "[0.8879314064979553,\n",
       " 0.8833368420600891,\n",
       " 0.9186601042747498,\n",
       " 0.8944941759109497,\n",
       " 0.9193207025527954,\n",
       " 0.9350858926773071,\n",
       " 0.9032175540924072,\n",
       " 0.9173836708068848,\n",
       " 0.9017444849014282,\n",
       " 0.921588659286499,\n",
       " 0.8913560509681702,\n",
       " 0.8880497217178345,\n",
       " 0.8932547569274902,\n",
       " 0.9131505489349365,\n",
       " 0.9275756478309631,\n",
       " 0.9293579459190369,\n",
       " 0.920221209526062,\n",
       " 0.929742157459259,\n",
       " 0.9272727370262146,\n",
       " 0.9218338131904602,\n",
       " 0.9176533222198486,\n",
       " 0.9056409001350403,\n",
       " 0.9106411933898926,\n",
       " 0.9167859554290771,\n",
       " 0.9148467779159546,\n",
       " 0.9369229078292847,\n",
       " 0.9151941537857056]"
      ]
     },
     "execution_count": 45,
     "metadata": {},
     "output_type": "execute_result"
    }
   ],
   "source": [
    "val_recall_loss"
   ]
  },
  {
   "cell_type": "code",
   "execution_count": 46,
   "id": "162cca0f",
   "metadata": {
    "execution": {
     "iopub.execute_input": "2024-04-24T13:35:23.272373Z",
     "iopub.status.busy": "2024-04-24T13:35:23.272010Z",
     "iopub.status.idle": "2024-04-24T13:35:23.278114Z",
     "shell.execute_reply": "2024-04-24T13:35:23.277228Z"
    },
    "papermill": {
     "duration": 1.44177,
     "end_time": "2024-04-24T13:35:23.280161",
     "exception": false,
     "start_time": "2024-04-24T13:35:21.838391",
     "status": "completed"
    },
    "tags": []
   },
   "outputs": [
    {
     "data": {
      "text/plain": [
       "[0.9264711141586304,\n",
       " 0.9377608895301819,\n",
       " 0.9097273349761963,\n",
       " 0.9364026188850403,\n",
       " 0.9091660976409912,\n",
       " 0.900428056716919,\n",
       " 0.9253544211387634,\n",
       " 0.9061441421508789,\n",
       " 0.9268317818641663,\n",
       " 0.9161348938941956,\n",
       " 0.9392926096916199,\n",
       " 0.9267022013664246,\n",
       " 0.9448659420013428,\n",
       " 0.9282003045082092,\n",
       " 0.9195276498794556,\n",
       " 0.9103209376335144,\n",
       " 0.9363430738449097,\n",
       " 0.9064506888389587,\n",
       " 0.9205135107040405,\n",
       " 0.9227213263511658,\n",
       " 0.9199669361114502,\n",
       " 0.9227675199508667,\n",
       " 0.9271553754806519,\n",
       " 0.9322186708450317,\n",
       " 0.9325103759765625,\n",
       " 0.9110186100006104,\n",
       " 0.9235329627990723]"
      ]
     },
     "execution_count": 46,
     "metadata": {},
     "output_type": "execute_result"
    }
   ],
   "source": [
    "val_precision_loss"
   ]
  },
  {
   "cell_type": "markdown",
   "id": "4cb86913",
   "metadata": {
    "papermill": {
     "duration": 1.441353,
     "end_time": "2024-04-24T13:35:26.241502",
     "exception": false,
     "start_time": "2024-04-24T13:35:24.800149",
     "status": "completed"
    },
    "tags": []
   },
   "source": [
    "# Draw chart for loss between train and validation dataset"
   ]
  },
  {
   "cell_type": "code",
   "execution_count": 47,
   "id": "045e11ce",
   "metadata": {
    "execution": {
     "iopub.execute_input": "2024-04-24T13:35:29.242458Z",
     "iopub.status.busy": "2024-04-24T13:35:29.241544Z",
     "iopub.status.idle": "2024-04-24T13:35:29.523545Z",
     "shell.execute_reply": "2024-04-24T13:35:29.522536Z"
    },
    "papermill": {
     "duration": 1.838065,
     "end_time": "2024-04-24T13:35:29.525613",
     "exception": false,
     "start_time": "2024-04-24T13:35:27.687548",
     "status": "completed"
    },
    "tags": []
   },
   "outputs": [
    {
     "data": {
      "image/png": "[encoded data removed]",
      "text/plain": [
       "<Figure size 640x480 with 1 Axes>"
      ]
     },
     "metadata": {},
     "output_type": "display_data"
    }
   ],
   "source": [
    "import matplotlib.pyplot as plt\n",
    "import numpy as np\n",
    "\n",
    "loss = np.arange(epoch + 1)\n",
    "\n",
    "# Biểu đồ mean loss\n",
    "plt.plot(loss, train_loss_list, label='Training Loss')\n",
    "plt.plot(loss, val_loss_list, label='Validation Loss') \n",
    "plt.xlabel('Epoch')\n",
    "plt.ylabel('Loss')\n",
    "plt.title('Training and Validation Loss')\n",
    "plt.legend()\n",
    "plt.show()"
   ]
  },
  {
   "cell_type": "markdown",
   "id": "58995d01",
   "metadata": {
    "papermill": {
     "duration": 1.436643,
     "end_time": "2024-04-24T13:35:32.518461",
     "exception": false,
     "start_time": "2024-04-24T13:35:31.081818",
     "status": "completed"
    },
    "tags": []
   },
   "source": [
    "### Draw chart for train dataset"
   ]
  },
  {
   "cell_type": "code",
   "execution_count": 48,
   "id": "4705e8ef",
   "metadata": {
    "execution": {
     "iopub.execute_input": "2024-04-24T13:35:35.452446Z",
     "iopub.status.busy": "2024-04-24T13:35:35.452060Z",
     "iopub.status.idle": "2024-04-24T13:35:35.755389Z",
     "shell.execute_reply": "2024-04-24T13:35:35.754491Z"
    },
    "papermill": {
     "duration": 1.734277,
     "end_time": "2024-04-24T13:35:35.757253",
     "exception": false,
     "start_time": "2024-04-24T13:35:34.022976",
     "status": "completed"
    },
    "tags": []
   },
   "outputs": [
    {
     "data": {
      "image/png": "[encoded data removed]",
      "text/plain": [
       "<Figure size 640x480 with 1 Axes>"
      ]
     },
     "metadata": {},
     "output_type": "display_data"
    }
   ],
   "source": [
    "loss = np.arange(epoch + 1)\n",
    "\n",
    "# Biểu đồ mean loss\n",
    "plt.plot(loss, train_dice_loss, label='Dice') \n",
    "plt.plot(loss, train_iou_loss, label='IOU') \n",
    "plt.plot(loss, train_precision_loss, label='Precision') \n",
    "plt.plot(loss, train_recall_loss, label='Recall') \n",
    "plt.xlabel('Epoch')\n",
    "plt.ylabel('')\n",
    "plt.title('Metrics for training dataset')\n",
    "plt.legend()\n",
    "plt.show()\n"
   ]
  },
  {
   "cell_type": "markdown",
   "id": "e8f6ec13",
   "metadata": {
    "papermill": {
     "duration": 1.438619,
     "end_time": "2024-04-24T13:35:38.754871",
     "exception": false,
     "start_time": "2024-04-24T13:35:37.316252",
     "status": "completed"
    },
    "tags": []
   },
   "source": [
    "### Draw chart for validation dataset"
   ]
  },
  {
   "cell_type": "code",
   "execution_count": 49,
   "id": "704dd46f",
   "metadata": {
    "execution": {
     "iopub.execute_input": "2024-04-24T13:35:41.703120Z",
     "iopub.status.busy": "2024-04-24T13:35:41.702769Z",
     "iopub.status.idle": "2024-04-24T13:35:41.938594Z",
     "shell.execute_reply": "2024-04-24T13:35:41.937672Z"
    },
    "papermill": {
     "duration": 1.680108,
     "end_time": "2024-04-24T13:35:41.940607",
     "exception": false,
     "start_time": "2024-04-24T13:35:40.260499",
     "status": "completed"
    },
    "tags": []
   },
   "outputs": [
    {
     "data": {
      "image/png": "[encoded data removed]",
      "text/plain": [
       "<Figure size 640x480 with 1 Axes>"
      ]
     },
     "metadata": {},
     "output_type": "display_data"
    }
   ],
   "source": [
    "loss = np.arange(epoch + 1)\n",
    "\n",
    "# Biểu đồ mean loss\n",
    "plt.plot(loss, val_dice_loss, label='Dice') \n",
    "plt.plot(loss, val_iou_loss, label='IOU') \n",
    "plt.plot(loss, val_precision_loss, label='Precision') \n",
    "plt.plot(loss, val_recall_loss, label='Recall') \n",
    "plt.xlabel('Epoch')\n",
    "plt.ylabel('')\n",
    "plt.title('Metrics for validation dataset')\n",
    "plt.legend()\n",
    "plt.show()\n"
   ]
  },
  {
   "cell_type": "markdown",
   "id": "d770d71e",
   "metadata": {
    "id": "jAaeol1ov81s",
    "papermill": {
     "duration": 1.476365,
     "end_time": "2024-04-24T13:35:44.935541",
     "exception": false,
     "start_time": "2024-04-24T13:35:43.459176",
     "status": "completed"
    },
    "tags": []
   },
   "source": [
    "### Đánh giá trọng số mô hình với tập Test Dataset (IOU, Precision, Recall, Dice)"
   ]
  },
  {
   "cell_type": "code",
   "execution_count": 50,
   "id": "4191762b",
   "metadata": {
    "execution": {
     "iopub.execute_input": "2024-04-24T13:35:47.892553Z",
     "iopub.status.busy": "2024-04-24T13:35:47.892183Z",
     "iopub.status.idle": "2024-04-24T13:35:48.421009Z",
     "shell.execute_reply": "2024-04-24T13:35:48.419611Z"
    },
    "papermill": {
     "duration": 2.054978,
     "end_time": "2024-04-24T13:35:48.422756",
     "exception": true,
     "start_time": "2024-04-24T13:35:46.367778",
     "status": "failed"
    },
    "tags": []
   },
   "outputs": [
    {
     "ename": "FileNotFoundError",
     "evalue": "[Errno 2] No such file or directory: '/kaggle/working/best_model_weights_SAM_jointloss.pt'",
     "output_type": "error",
     "traceback": [
      "\u001b[0;31m---------------------------------------------------------------------------\u001b[0m",
      "\u001b[0;31mFileNotFoundError\u001b[0m                         Traceback (most recent call last)",
      "Cell \u001b[0;32mIn[50], line 9\u001b[0m\n\u001b[1;32m      7\u001b[0m \u001b[38;5;66;03m# Tải trọng số từ checkpoint\u001b[39;00m\n\u001b[1;32m      8\u001b[0m checkpoint_path \u001b[38;5;241m=\u001b[39m \u001b[38;5;124m\"\u001b[39m\u001b[38;5;124m/kaggle/working/best_model_weights_SAM_jointloss.pt\u001b[39m\u001b[38;5;124m\"\u001b[39m\n\u001b[0;32m----> 9\u001b[0m checkpoint \u001b[38;5;241m=\u001b[39m \u001b[43mtorch\u001b[49m\u001b[38;5;241;43m.\u001b[39;49m\u001b[43mload\u001b[49m\u001b[43m(\u001b[49m\u001b[43mcheckpoint_path\u001b[49m\u001b[43m,\u001b[49m\u001b[43m \u001b[49m\u001b[43mmap_location\u001b[49m\u001b[38;5;241;43m=\u001b[39;49m\u001b[43mtorch\u001b[49m\u001b[38;5;241;43m.\u001b[39;49m\u001b[43mdevice\u001b[49m\u001b[43m(\u001b[49m\u001b[38;5;124;43m'\u001b[39;49m\u001b[38;5;124;43mcpu\u001b[39;49m\u001b[38;5;124;43m'\u001b[39;49m\u001b[43m)\u001b[49m\u001b[43m)\u001b[49m\n\u001b[1;32m     11\u001b[0m \u001b[38;5;66;03m# Load trọng số vào mô hình\u001b[39;00m\n\u001b[1;32m     12\u001b[0m model\u001b[38;5;241m.\u001b[39mload_state_dict(checkpoint)\n",
      "File \u001b[0;32m/opt/conda/lib/python3.10/site-packages/torch/serialization.py:986\u001b[0m, in \u001b[0;36mload\u001b[0;34m(f, map_location, pickle_module, weights_only, mmap, **pickle_load_args)\u001b[0m\n\u001b[1;32m    983\u001b[0m \u001b[38;5;28;01mif\u001b[39;00m \u001b[38;5;124m'\u001b[39m\u001b[38;5;124mencoding\u001b[39m\u001b[38;5;124m'\u001b[39m \u001b[38;5;129;01mnot\u001b[39;00m \u001b[38;5;129;01min\u001b[39;00m pickle_load_args\u001b[38;5;241m.\u001b[39mkeys():\n\u001b[1;32m    984\u001b[0m     pickle_load_args[\u001b[38;5;124m'\u001b[39m\u001b[38;5;124mencoding\u001b[39m\u001b[38;5;124m'\u001b[39m] \u001b[38;5;241m=\u001b[39m \u001b[38;5;124m'\u001b[39m\u001b[38;5;124mutf-8\u001b[39m\u001b[38;5;124m'\u001b[39m\n\u001b[0;32m--> 986\u001b[0m \u001b[38;5;28;01mwith\u001b[39;00m \u001b[43m_open_file_like\u001b[49m\u001b[43m(\u001b[49m\u001b[43mf\u001b[49m\u001b[43m,\u001b[49m\u001b[43m \u001b[49m\u001b[38;5;124;43m'\u001b[39;49m\u001b[38;5;124;43mrb\u001b[39;49m\u001b[38;5;124;43m'\u001b[39;49m\u001b[43m)\u001b[49m \u001b[38;5;28;01mas\u001b[39;00m opened_file:\n\u001b[1;32m    987\u001b[0m     \u001b[38;5;28;01mif\u001b[39;00m _is_zipfile(opened_file):\n\u001b[1;32m    988\u001b[0m         \u001b[38;5;66;03m# The zipfile reader is going to advance the current file position.\u001b[39;00m\n\u001b[1;32m    989\u001b[0m         \u001b[38;5;66;03m# If we want to actually tail call to torch.jit.load, we need to\u001b[39;00m\n\u001b[1;32m    990\u001b[0m         \u001b[38;5;66;03m# reset back to the original position.\u001b[39;00m\n\u001b[1;32m    991\u001b[0m         orig_position \u001b[38;5;241m=\u001b[39m opened_file\u001b[38;5;241m.\u001b[39mtell()\n",
      "File \u001b[0;32m/opt/conda/lib/python3.10/site-packages/torch/serialization.py:435\u001b[0m, in \u001b[0;36m_open_file_like\u001b[0;34m(name_or_buffer, mode)\u001b[0m\n\u001b[1;32m    433\u001b[0m \u001b[38;5;28;01mdef\u001b[39;00m \u001b[38;5;21m_open_file_like\u001b[39m(name_or_buffer, mode):\n\u001b[1;32m    434\u001b[0m     \u001b[38;5;28;01mif\u001b[39;00m _is_path(name_or_buffer):\n\u001b[0;32m--> 435\u001b[0m         \u001b[38;5;28;01mreturn\u001b[39;00m \u001b[43m_open_file\u001b[49m\u001b[43m(\u001b[49m\u001b[43mname_or_buffer\u001b[49m\u001b[43m,\u001b[49m\u001b[43m \u001b[49m\u001b[43mmode\u001b[49m\u001b[43m)\u001b[49m\n\u001b[1;32m    436\u001b[0m     \u001b[38;5;28;01melse\u001b[39;00m:\n\u001b[1;32m    437\u001b[0m         \u001b[38;5;28;01mif\u001b[39;00m \u001b[38;5;124m'\u001b[39m\u001b[38;5;124mw\u001b[39m\u001b[38;5;124m'\u001b[39m \u001b[38;5;129;01min\u001b[39;00m mode:\n",
      "File \u001b[0;32m/opt/conda/lib/python3.10/site-packages/torch/serialization.py:416\u001b[0m, in \u001b[0;36m_open_file.__init__\u001b[0;34m(self, name, mode)\u001b[0m\n\u001b[1;32m    415\u001b[0m \u001b[38;5;28;01mdef\u001b[39;00m \u001b[38;5;21m__init__\u001b[39m(\u001b[38;5;28mself\u001b[39m, name, mode):\n\u001b[0;32m--> 416\u001b[0m     \u001b[38;5;28msuper\u001b[39m()\u001b[38;5;241m.\u001b[39m\u001b[38;5;21m__init__\u001b[39m(\u001b[38;5;28;43mopen\u001b[39;49m\u001b[43m(\u001b[49m\u001b[43mname\u001b[49m\u001b[43m,\u001b[49m\u001b[43m \u001b[49m\u001b[43mmode\u001b[49m\u001b[43m)\u001b[49m)\n",
      "\u001b[0;31mFileNotFoundError\u001b[0m: [Errno 2] No such file or directory: '/kaggle/working/best_model_weights_SAM_jointloss.pt'"
     ]
    }
   ],
   "source": [
    "# Check if GPU is available, otherwise use CPU\n",
    "device = torch.device(\"cuda\" if torch.cuda.is_available() else \"cpu\")\n",
    "\n",
    "# Move model to the device\n",
    "model.to(device)\n",
    "\n",
    "# Tải trọng số từ checkpoint\n",
    "checkpoint_path = \"/kaggle/working/best_model_weights_SAM_jointloss.pt\"\n",
    "checkpoint = torch.load(checkpoint_path, map_location=torch.device('cpu'))\n",
    "\n",
    "# Load trọng số vào mô hình\n",
    "model.load_state_dict(checkpoint)\n",
    "\n",
    "# Đặt mô hình vào chế độ đánh giá\n",
    "model.eval()\n",
    "\n",
    "# Tiếp tục quá trình kiểm tra mô hình như đã thực hiện trước đó\n",
    "test_dice_scores = []\n",
    "test_iou_scores = []\n",
    "test_recall_scores = []\n",
    "test_precision_scores = []\n",
    "\n",
    "with torch.no_grad():\n",
    "    for batch in tqdm(test_dataloader):\n",
    "        # Forward pass\n",
    "        outputs = model(pixel_values=batch[\"pixel_values\"].to(device),\n",
    "                        input_boxes=batch[\"input_boxes\"].to(device),\n",
    "                        multimask_output=False)\n",
    "\n",
    "        # Compute evaluation metrics\n",
    "        predicted_masks = (torch.sigmoid(outputs['pred_masks']).squeeze() > 0.5).float()\n",
    "        ground_truth_masks = batch[\"ground_truth_mask\"].float().to(device)\n",
    "\n",
    "        test_dice_scores.append(dice(predicted_masks, ground_truth_masks))\n",
    "        test_iou_scores.append(iou(predicted_masks, ground_truth_masks))\n",
    "        test_recall_scores.append(recall(predicted_masks, ground_truth_masks))\n",
    "        test_precision_scores.append(precision(predicted_masks, ground_truth_masks))\n",
    "\n",
    "# Print evaluation metrics\n",
    "print(\"\\n\")\n",
    "print(f'Test Dice: {torch.tensor(test_dice_scores).mean().item():.4f}')\n",
    "print(f'Test IOU: {torch.tensor(test_iou_scores).mean().item():.4f}')\n",
    "print(f'Test Recall: {torch.tensor(test_recall_scores).mean().item():.4f}')\n",
    "print(f'Test Precision: {torch.tensor(test_precision_scores).mean().item():.4f}')"
   ]
  },
  {
   "cell_type": "markdown",
   "id": "55f58a44",
   "metadata": {
    "id": "R6Nal-pHLU9c",
    "papermill": {
     "duration": null,
     "end_time": null,
     "exception": null,
     "start_time": null,
     "status": "pending"
    },
    "tags": []
   },
   "source": [
    "### Train tiếp model từ trọng số"
   ]
  },
  {
   "cell_type": "markdown",
   "id": "a473072b",
   "metadata": {
    "id": "zEcD7ScIIJlt",
    "papermill": {
     "duration": null,
     "end_time": null,
     "exception": null,
     "start_time": null,
     "status": "pending"
    },
    "tags": []
   },
   "source": [
    "## Kiểm thử mô hình"
   ]
  },
  {
   "cell_type": "code",
   "execution_count": null,
   "id": "d10cde95",
   "metadata": {
    "id": "7Km6TjledGoa",
    "outputId": "b9aa00eb-1b55-441e-b88e-aab784129ae9",
    "papermill": {
     "duration": null,
     "end_time": null,
     "exception": null,
     "start_time": null,
     "status": "pending"
    },
    "tags": []
   },
   "outputs": [],
   "source": [
    "# import numpy as np\n",
    "# from PIL import Image\n",
    "\n",
    "# # let's take a random training example\n",
    "# idx = 100\n",
    "\n",
    "# # load image\n",
    "# image = test_dataset[idx][\"image\"]\n",
    "# image"
   ]
  },
  {
   "cell_type": "code",
   "execution_count": null,
   "id": "3d02f29a",
   "metadata": {
    "id": "dAV_QwVEfEuA",
    "outputId": "014c771f-d88c-4ae2-9bf6-bc5040989832",
    "papermill": {
     "duration": null,
     "end_time": null,
     "exception": null,
     "start_time": null,
     "status": "pending"
    },
    "tags": []
   },
   "outputs": [],
   "source": [
    "# import torch\n",
    "# # Sử dụng GPU nếu có sẵn\n",
    "# device = torch.device(\"cuda\" if torch.cuda.is_available() else \"cpu\")\n",
    "\n",
    "# # get box prompt based on ground truth segmentation map\n",
    "# ground_truth_mask = np.array(test_dataset[idx][\"label\"])\n",
    "# prompt = get_bounding_box(ground_truth_mask)\n",
    "\n",
    "# # prepare image + box prompt for the model\n",
    "# inputs = processor(image, input_boxes=[[prompt]], return_tensors=\"pt\").to(device)\n",
    "# for k,v in inputs.items():\n",
    "#   print(k,v.shape)"
   ]
  },
  {
   "cell_type": "code",
   "execution_count": null,
   "id": "26492df5",
   "metadata": {
    "id": "GSpTQKInfIlc",
    "papermill": {
     "duration": null,
     "end_time": null,
     "exception": null,
     "start_time": null,
     "status": "pending"
    },
    "tags": []
   },
   "outputs": [],
   "source": [
    "# model.eval()\n",
    "\n",
    "# # forward pass\n",
    "# with torch.no_grad():\n",
    "#   outputs = model(**inputs, multimask_output=False)"
   ]
  },
  {
   "cell_type": "code",
   "execution_count": null,
   "id": "e2d99538",
   "metadata": {
    "id": "lu_XMldufKSr",
    "papermill": {
     "duration": null,
     "end_time": null,
     "exception": null,
     "start_time": null,
     "status": "pending"
    },
    "tags": []
   },
   "outputs": [],
   "source": [
    "# # apply sigmoid\n",
    "# medsam_seg_prob = torch.sigmoid(outputs.pred_masks.squeeze(1))\n",
    "# # convert soft mask to hard mask\n",
    "# medsam_seg_prob = medsam_seg_prob.cpu().numpy().squeeze()\n",
    "# medsam_seg = (medsam_seg_prob > 0.5).astype(np.uint8)"
   ]
  },
  {
   "cell_type": "code",
   "execution_count": null,
   "id": "dca8b432",
   "metadata": {
    "id": "JJ67JzYufPfL",
    "outputId": "7e99f8be-a203-498e-b9c2-72e3a3fa1b79",
    "papermill": {
     "duration": null,
     "end_time": null,
     "exception": null,
     "start_time": null,
     "status": "pending"
    },
    "tags": []
   },
   "outputs": [],
   "source": [
    "# def show_mask(mask, ax, random_color=False):\n",
    "#     if random_color:\n",
    "#         color = np.concatenate([np.random.random(3), np.array([0.6])], axis=0)\n",
    "#     else:\n",
    "#         color = np.array([30/255, 144/255, 255/255, 0.6])\n",
    "#     h, w = mask.shape[-2:]\n",
    "#     mask_image = mask.reshape(h, w, 1) * color.reshape(1, 1, -1)\n",
    "#     ax.imshow(mask_image)"
   ]
  },
  {
   "cell_type": "code",
   "execution_count": null,
   "id": "2e5f0a44",
   "metadata": {
    "papermill": {
     "duration": null,
     "end_time": null,
     "exception": null,
     "start_time": null,
     "status": "pending"
    },
    "tags": []
   },
   "outputs": [],
   "source": [
    "# import numpy as np\n",
    "# from PIL import Image\n",
    "# import torch\n",
    "# import matplotlib.pyplot as plt\n",
    "\n",
    "# # Sử dụng GPU nếu có sẵn\n",
    "# device = torch.device(\"cuda\" if torch.cuda.is_available() else \"cpu\")\n",
    "\n",
    "# for idx in range(0, len(test_dataset)):  # Duyệt qua các chỉ số từ 1 đến 10\n",
    "#     # load image\n",
    "#     image = test_dataset[idx][\"image\"]\n",
    "\n",
    "#     # get box prompt based on ground truth segmentation map\n",
    "#     ground_truth_mask = np.array(test_dataset[idx][\"label\"])\n",
    "#     prompt = get_bounding_box(ground_truth_mask)\n",
    "\n",
    "#     # prepare image + box prompt for the model\n",
    "#     inputs = processor(image, input_boxes=[[prompt]], return_tensors=\"pt\").to(device)\n",
    "\n",
    "#     model.eval()\n",
    "\n",
    "#     # forward pass\n",
    "#     with torch.no_grad():\n",
    "#         outputs = model(**inputs, multimask_output=False)\n",
    "\n",
    "#     # apply sigmoid\n",
    "#     medsam_seg_prob = torch.sigmoid(outputs.pred_masks.squeeze(1))\n",
    "#     # convert soft mask to hard mask\n",
    "#     medsam_seg_prob = medsam_seg_prob.cpu().numpy().squeeze()\n",
    "#     medsam_seg = (medsam_seg_prob > 0.5).astype(np.uint8)\n",
    "    \n",
    "#     fig, axes = plt.subplots(1, 3, figsize=(15, 5))\n",
    "#     # Hiển thị hình ảnh\n",
    "#     axes[0].imshow(image)\n",
    "#     axes[0].set_title(\"Image\")\n",
    "#     axes[0].axis(\"off\")\n",
    "\n",
    "#     # Hiển thị đồ thị cho ground truth mask\n",
    "#     axes[1].imshow(ground_truth_mask)\n",
    "#     axes[1].set_title(\"Ground truth mask\")\n",
    "#     axes[1].axis(\"off\")\n",
    "\n",
    "#     # Hiển thị đồ thị cho predicted mask\n",
    "#     axes[2].imshow(medsam_seg)\n",
    "#     axes[2].set_title(\"Predicted mask\")\n",
    "#     axes[2].axis(\"off\")\n",
    "\n",
    "#     plt.show()"
   ]
  }
 ],
 "metadata": {
  "accelerator": "GPU",
  "colab": {
   "gpuType": "T4",
   "include_colab_link": true,
   "provenance": [],
   "toc_visible": true
  },
  "kaggle": {
   "accelerator": "gpu",
   "dataSources": [
    {
     "datasetId": 4660437,
     "sourceId": 7929258,
     "sourceType": "datasetVersion"
    }
   ],
   "isGpuEnabled": true,
   "isInternetEnabled": true,
   "language": "python",
   "sourceType": "notebook"
  },
  "kernelspec": {
   "display_name": "Python 3",
   "language": "python",
   "name": "python3"
  },
  "language_info": {
   "codemirror_mode": {
    "name": "ipython",
    "version": 3
   },
   "file_extension": ".py",
   "mimetype": "text/x-python",
   "name": "python",
   "nbconvert_exporter": "python",
   "pygments_lexer": "ipython3",
   "version": "3.10.13"
  },
  "papermill": {
   "default_parameters": {},
   "duration": 11324.92507,
   "end_time": "2024-04-24T13:35:53.343370",
   "environment_variables": {},
   "exception": true,
   "input_path": "__notebook__.ipynb",
   "output_path": "__notebook__.ipynb",
   "parameters": {},
   "start_time": "2024-04-24T10:27:08.418300",
   "version": "2.5.0"
  },
  "widgets": {
   "application/vnd.jupyter.widget-state+json": {
    "state": {
     "0934a3e4ca5b4164a2dd7b5cc4ff49f6": {
      "model_module": "@jupyter-widgets/controls",
      "model_module_version": "1.5.0",
      "model_name": "FloatProgressModel",
      "state": {
       "_dom_classes": [],
       "_model_module": "@jupyter-widgets/controls",
       "_model_module_version": "1.5.0",
       "_model_name": "FloatProgressModel",
       "_view_count": null,
       "_view_module": "@jupyter-widgets/controls",
       "_view_module_version": "1.5.0",
       "_view_name": "ProgressView",
       "bar_style": "success",
       "description": "",
       "description_tooltip": null,
       "layout": "IPY_MODEL_d7497e3637024c8f8c3e36246e64661a",
       "max": 374979480.0,
       "min": 0.0,
       "orientation": "horizontal",
       "style": "IPY_MODEL_29da4dd58f5449d186e0247d3e8354d2",
       "value": 374979480.0
      }
     },
     "0ae533dad1da4515994ad8c9dd65828c": {
      "model_module": "@jupyter-widgets/base",
      "model_module_version": "1.2.0",
      "model_name": "LayoutModel",
      "state": {
       "_model_module": "@jupyter-widgets/base",
       "_model_module_version": "1.2.0",
       "_model_name": "LayoutModel",
       "_view_count": null,
       "_view_module": "@jupyter-widgets/base",
       "_view_module_version": "1.2.0",
       "_view_name": "LayoutView",
       "align_content": null,
       "align_items": null,
       "align_self": null,
       "border": null,
       "bottom": null,
       "display": null,
       "flex": null,
       "flex_flow": null,
       "grid_area": null,
       "grid_auto_columns": null,
       "grid_auto_flow": null,
       "grid_auto_rows": null,
       "grid_column": null,
       "grid_gap": null,
       "grid_row": null,
       "grid_template_areas": null,
       "grid_template_columns": null,
       "grid_template_rows": null,
       "height": null,
       "justify_content": null,
       "justify_items": null,
       "left": null,
       "margin": null,
       "max_height": null,
       "max_width": null,
       "min_height": null,
       "min_width": null,
       "object_fit": null,
       "object_position": null,
       "order": null,
       "overflow": null,
       "overflow_x": null,
       "overflow_y": null,
       "padding": null,
       "right": null,
       "top": null,
       "visibility": null,
       "width": null
      }
     },
     "1daf648d70374bd981d3af5107a48ced": {
      "model_module": "@jupyter-widgets/controls",
      "model_module_version": "1.5.0",
      "model_name": "DescriptionStyleModel",
      "state": {
       "_model_module": "@jupyter-widgets/controls",
       "_model_module_version": "1.5.0",
       "_model_name": "DescriptionStyleModel",
       "_view_count": null,
       "_view_module": "@jupyter-widgets/base",
       "_view_module_version": "1.2.0",
       "_view_name": "StyleView",
       "description_width": ""
      }
     },
     "20ae60752cd845819b28f64695fed1a3": {
      "model_module": "@jupyter-widgets/base",
      "model_module_version": "1.2.0",
      "model_name": "LayoutModel",
      "state": {
       "_model_module": "@jupyter-widgets/base",
       "_model_module_version": "1.2.0",
       "_model_name": "LayoutModel",
       "_view_count": null,
       "_view_module": "@jupyter-widgets/base",
       "_view_module_version": "1.2.0",
       "_view_name": "LayoutView",
       "align_content": null,
       "align_items": null,
       "align_self": null,
       "border": null,
       "bottom": null,
       "display": null,
       "flex": null,
       "flex_flow": null,
       "grid_area": null,
       "grid_auto_columns": null,
       "grid_auto_flow": null,
       "grid_auto_rows": null,
       "grid_column": null,
       "grid_gap": null,
       "grid_row": null,
       "grid_template_areas": null,
       "grid_template_columns": null,
       "grid_template_rows": null,
       "height": null,
       "justify_content": null,
       "justify_items": null,
       "left": null,
       "margin": null,
       "max_height": null,
       "max_width": null,
       "min_height": null,
       "min_width": null,
       "object_fit": null,
       "object_position": null,
       "order": null,
       "overflow": null,
       "overflow_x": null,
       "overflow_y": null,
       "padding": null,
       "right": null,
       "top": null,
       "visibility": null,
       "width": null
      }
     },
     "23b0ae6dde164aea8be976ae161c238c": {
      "model_module": "@jupyter-widgets/controls",
      "model_module_version": "1.5.0",
      "model_name": "HBoxModel",
      "state": {
       "_dom_classes": [],
       "_model_module": "@jupyter-widgets/controls",
       "_model_module_version": "1.5.0",
       "_model_name": "HBoxModel",
       "_view_count": null,
       "_view_module": "@jupyter-widgets/controls",
       "_view_module_version": "1.5.0",
       "_view_name": "HBoxView",
       "box_style": "",
       "children": [
        "IPY_MODEL_a8f3aa6463d749ccae2a957c0208b3a2",
        "IPY_MODEL_0934a3e4ca5b4164a2dd7b5cc4ff49f6",
        "IPY_MODEL_f0fb4db261b34daab98f36fa22bb0e98"
       ],
       "layout": "IPY_MODEL_44c6a4a76c0e4f208f438bd7dae6e25f"
      }
     },
     "23d27806d22d41758f4dfaab0b6d08fe": {
      "model_module": "@jupyter-widgets/base",
      "model_module_version": "1.2.0",
      "model_name": "LayoutModel",
      "state": {
       "_model_module": "@jupyter-widgets/base",
       "_model_module_version": "1.2.0",
       "_model_name": "LayoutModel",
       "_view_count": null,
       "_view_module": "@jupyter-widgets/base",
       "_view_module_version": "1.2.0",
       "_view_name": "LayoutView",
       "align_content": null,
       "align_items": null,
       "align_self": null,
       "border": null,
       "bottom": null,
       "display": null,
       "flex": null,
       "flex_flow": null,
       "grid_area": null,
       "grid_auto_columns": null,
       "grid_auto_flow": null,
       "grid_auto_rows": null,
       "grid_column": null,
       "grid_gap": null,
       "grid_row": null,
       "grid_template_areas": null,
       "grid_template_columns": null,
       "grid_template_rows": null,
       "height": null,
       "justify_content": null,
       "justify_items": null,
       "left": null,
       "margin": null,
       "max_height": null,
       "max_width": null,
       "min_height": null,
       "min_width": null,
       "object_fit": null,
       "object_position": null,
       "order": null,
       "overflow": null,
       "overflow_x": null,
       "overflow_y": null,
       "padding": null,
       "right": null,
       "top": null,
       "visibility": null,
       "width": null
      }
     },
     "24311ebe72e54c3c9703047688d7b8e2": {
      "model_module": "@jupyter-widgets/controls",
      "model_module_version": "1.5.0",
      "model_name": "ProgressStyleModel",
      "state": {
       "_model_module": "@jupyter-widgets/controls",
       "_model_module_version": "1.5.0",
       "_model_name": "ProgressStyleModel",
       "_view_count": null,
       "_view_module": "@jupyter-widgets/base",
       "_view_module_version": "1.2.0",
       "_view_name": "StyleView",
       "bar_color": null,
       "description_width": ""
      }
     },
     "250c7408506e475689944c6889f6db36": {
      "model_module": "@jupyter-widgets/controls",
      "model_module_version": "1.5.0",
      "model_name": "DescriptionStyleModel",
      "state": {
       "_model_module": "@jupyter-widgets/controls",
       "_model_module_version": "1.5.0",
       "_model_name": "DescriptionStyleModel",
       "_view_count": null,
       "_view_module": "@jupyter-widgets/base",
       "_view_module_version": "1.2.0",
       "_view_name": "StyleView",
       "description_width": ""
      }
     },
     "29da4dd58f5449d186e0247d3e8354d2": {
      "model_module": "@jupyter-widgets/controls",
      "model_module_version": "1.5.0",
      "model_name": "ProgressStyleModel",
      "state": {
       "_model_module": "@jupyter-widgets/controls",
       "_model_module_version": "1.5.0",
       "_model_name": "ProgressStyleModel",
       "_view_count": null,
       "_view_module": "@jupyter-widgets/base",
       "_view_module_version": "1.2.0",
       "_view_name": "StyleView",
       "bar_color": null,
       "description_width": ""
      }
     },
     "42c21210e4dd4d1d8223daaf6e54648f": {
      "model_module": "@jupyter-widgets/controls",
      "model_module_version": "1.5.0",
      "model_name": "HTMLModel",
      "state": {
       "_dom_classes": [],
       "_model_module": "@jupyter-widgets/controls",
       "_model_module_version": "1.5.0",
       "_model_name": "HTMLModel",
       "_view_count": null,
       "_view_module": "@jupyter-widgets/controls",
       "_view_module_version": "1.5.0",
       "_view_name": "HTMLView",
       "description": "",
       "description_tooltip": null,
       "layout": "IPY_MODEL_572de88c1e9648868705eee882887474",
       "placeholder": "​",
       "style": "IPY_MODEL_e4715fe7c55a41e7a9668b9709ad2103",
       "value": " 6.57k/6.57k [00:00&lt;00:00, 503kB/s]"
      }
     },
     "44c6a4a76c0e4f208f438bd7dae6e25f": {
      "model_module": "@jupyter-widgets/base",
      "model_module_version": "1.2.0",
      "model_name": "LayoutModel",
      "state": {
       "_model_module": "@jupyter-widgets/base",
       "_model_module_version": "1.2.0",
       "_model_name": "LayoutModel",
       "_view_count": null,
       "_view_module": "@jupyter-widgets/base",
       "_view_module_version": "1.2.0",
       "_view_name": "LayoutView",
       "align_content": null,
       "align_items": null,
       "align_self": null,
       "border": null,
       "bottom": null,
       "display": null,
       "flex": null,
       "flex_flow": null,
       "grid_area": null,
       "grid_auto_columns": null,
       "grid_auto_flow": null,
       "grid_auto_rows": null,
       "grid_column": null,
       "grid_gap": null,
       "grid_row": null,
       "grid_template_areas": null,
       "grid_template_columns": null,
       "grid_template_rows": null,
       "height": null,
       "justify_content": null,
       "justify_items": null,
       "left": null,
       "margin": null,
       "max_height": null,
       "max_width": null,
       "min_height": null,
       "min_width": null,
       "object_fit": null,
       "object_position": null,
       "order": null,
       "overflow": null,
       "overflow_x": null,
       "overflow_y": null,
       "padding": null,
       "right": null,
       "top": null,
       "visibility": null,
       "width": null
      }
     },
     "572de88c1e9648868705eee882887474": {
      "model_module": "@jupyter-widgets/base",
      "model_module_version": "1.2.0",
      "model_name": "LayoutModel",
      "state": {
       "_model_module": "@jupyter-widgets/base",
       "_model_module_version": "1.2.0",
       "_model_name": "LayoutModel",
       "_view_count": null,
       "_view_module": "@jupyter-widgets/base",
       "_view_module_version": "1.2.0",
       "_view_name": "LayoutView",
       "align_content": null,
       "align_items": null,
       "align_self": null,
       "border": null,
       "bottom": null,
       "display": null,
       "flex": null,
       "flex_flow": null,
       "grid_area": null,
       "grid_auto_columns": null,
       "grid_auto_flow": null,
       "grid_auto_rows": null,
       "grid_column": null,
       "grid_gap": null,
       "grid_row": null,
       "grid_template_areas": null,
       "grid_template_columns": null,
       "grid_template_rows": null,
       "height": null,
       "justify_content": null,
       "justify_items": null,
       "left": null,
       "margin": null,
       "max_height": null,
       "max_width": null,
       "min_height": null,
       "min_width": null,
       "object_fit": null,
       "object_position": null,
       "order": null,
       "overflow": null,
       "overflow_x": null,
       "overflow_y": null,
       "padding": null,
       "right": null,
       "top": null,
       "visibility": null,
       "width": null
      }
     },
     "5cbf41e3331242c5941fbf42cdbba84f": {
      "model_module": "@jupyter-widgets/controls",
      "model_module_version": "1.5.0",
      "model_name": "FloatProgressModel",
      "state": {
       "_dom_classes": [],
       "_model_module": "@jupyter-widgets/controls",
       "_model_module_version": "1.5.0",
       "_model_name": "FloatProgressModel",
       "_view_count": null,
       "_view_module": "@jupyter-widgets/controls",
       "_view_module_version": "1.5.0",
       "_view_name": "ProgressView",
       "bar_style": "success",
       "description": "",
       "description_tooltip": null,
       "layout": "IPY_MODEL_23d27806d22d41758f4dfaab0b6d08fe",
       "max": 466.0,
       "min": 0.0,
       "orientation": "horizontal",
       "style": "IPY_MODEL_bf2f6ea265bf46ea9cfceedccd6bf57d",
       "value": 466.0
      }
     },
     "67f04d86f9cd4d67a001c0c20d4103eb": {
      "model_module": "@jupyter-widgets/controls",
      "model_module_version": "1.5.0",
      "model_name": "HTMLModel",
      "state": {
       "_dom_classes": [],
       "_model_module": "@jupyter-widgets/controls",
       "_model_module_version": "1.5.0",
       "_model_name": "HTMLModel",
       "_view_count": null,
       "_view_module": "@jupyter-widgets/controls",
       "_view_module_version": "1.5.0",
       "_view_name": "HTMLView",
       "description": "",
       "description_tooltip": null,
       "layout": "IPY_MODEL_b8c88e62ae574dce993837ad00ffb40f",
       "placeholder": "​",
       "style": "IPY_MODEL_c5f7b9cbda7d42cea06aed1a224d5a24",
       "value": "preprocessor_config.json: 100%"
      }
     },
     "76ed8397a26147f58e134cb4096e09ff": {
      "model_module": "@jupyter-widgets/base",
      "model_module_version": "1.2.0",
      "model_name": "LayoutModel",
      "state": {
       "_model_module": "@jupyter-widgets/base",
       "_model_module_version": "1.2.0",
       "_model_name": "LayoutModel",
       "_view_count": null,
       "_view_module": "@jupyter-widgets/base",
       "_view_module_version": "1.2.0",
       "_view_name": "LayoutView",
       "align_content": null,
       "align_items": null,
       "align_self": null,
       "border": null,
       "bottom": null,
       "display": null,
       "flex": null,
       "flex_flow": null,
       "grid_area": null,
       "grid_auto_columns": null,
       "grid_auto_flow": null,
       "grid_auto_rows": null,
       "grid_column": null,
       "grid_gap": null,
       "grid_row": null,
       "grid_template_areas": null,
       "grid_template_columns": null,
       "grid_template_rows": null,
       "height": null,
       "justify_content": null,
       "justify_items": null,
       "left": null,
       "margin": null,
       "max_height": null,
       "max_width": null,
       "min_height": null,
       "min_width": null,
       "object_fit": null,
       "object_position": null,
       "order": null,
       "overflow": null,
       "overflow_x": null,
       "overflow_y": null,
       "padding": null,
       "right": null,
       "top": null,
       "visibility": null,
       "width": null
      }
     },
     "91d2bd43b1524d7ca79850f4324d15df": {
      "model_module": "@jupyter-widgets/controls",
      "model_module_version": "1.5.0",
      "model_name": "HBoxModel",
      "state": {
       "_dom_classes": [],
       "_model_module": "@jupyter-widgets/controls",
       "_model_module_version": "1.5.0",
       "_model_name": "HBoxModel",
       "_view_count": null,
       "_view_module": "@jupyter-widgets/controls",
       "_view_module_version": "1.5.0",
       "_view_name": "HBoxView",
       "box_style": "",
       "children": [
        "IPY_MODEL_ce1f9ecdd20a43f6b66850b7af84fde2",
        "IPY_MODEL_b30699055edc47d2a6f30e1f613a5f51",
        "IPY_MODEL_42c21210e4dd4d1d8223daaf6e54648f"
       ],
       "layout": "IPY_MODEL_970b2a8a4a9844ce891bcd5df758cea1"
      }
     },
     "924e7b83bcd14a32ac05b49f9da17a17": {
      "model_module": "@jupyter-widgets/base",
      "model_module_version": "1.2.0",
      "model_name": "LayoutModel",
      "state": {
       "_model_module": "@jupyter-widgets/base",
       "_model_module_version": "1.2.0",
       "_model_name": "LayoutModel",
       "_view_count": null,
       "_view_module": "@jupyter-widgets/base",
       "_view_module_version": "1.2.0",
       "_view_name": "LayoutView",
       "align_content": null,
       "align_items": null,
       "align_self": null,
       "border": null,
       "bottom": null,
       "display": null,
       "flex": null,
       "flex_flow": null,
       "grid_area": null,
       "grid_auto_columns": null,
       "grid_auto_flow": null,
       "grid_auto_rows": null,
       "grid_column": null,
       "grid_gap": null,
       "grid_row": null,
       "grid_template_areas": null,
       "grid_template_columns": null,
       "grid_template_rows": null,
       "height": null,
       "justify_content": null,
       "justify_items": null,
       "left": null,
       "margin": null,
       "max_height": null,
       "max_width": null,
       "min_height": null,
       "min_width": null,
       "object_fit": null,
       "object_position": null,
       "order": null,
       "overflow": null,
       "overflow_x": null,
       "overflow_y": null,
       "padding": null,
       "right": null,
       "top": null,
       "visibility": null,
       "width": null
      }
     },
     "95109e8f506e4eedb41eb6bb9e448c98": {
      "model_module": "@jupyter-widgets/controls",
      "model_module_version": "1.5.0",
      "model_name": "HBoxModel",
      "state": {
       "_dom_classes": [],
       "_model_module": "@jupyter-widgets/controls",
       "_model_module_version": "1.5.0",
       "_model_name": "HBoxModel",
       "_view_count": null,
       "_view_module": "@jupyter-widgets/controls",
       "_view_module_version": "1.5.0",
       "_view_name": "HBoxView",
       "box_style": "",
       "children": [
        "IPY_MODEL_67f04d86f9cd4d67a001c0c20d4103eb",
        "IPY_MODEL_5cbf41e3331242c5941fbf42cdbba84f",
        "IPY_MODEL_c2dce6b90f6246bdb5b833461ee10631"
       ],
       "layout": "IPY_MODEL_e27fc05e5a62483bab20ebce1f38f809"
      }
     },
     "970b2a8a4a9844ce891bcd5df758cea1": {
      "model_module": "@jupyter-widgets/base",
      "model_module_version": "1.2.0",
      "model_name": "LayoutModel",
      "state": {
       "_model_module": "@jupyter-widgets/base",
       "_model_module_version": "1.2.0",
       "_model_name": "LayoutModel",
       "_view_count": null,
       "_view_module": "@jupyter-widgets/base",
       "_view_module_version": "1.2.0",
       "_view_name": "LayoutView",
       "align_content": null,
       "align_items": null,
       "align_self": null,
       "border": null,
       "bottom": null,
       "display": null,
       "flex": null,
       "flex_flow": null,
       "grid_area": null,
       "grid_auto_columns": null,
       "grid_auto_flow": null,
       "grid_auto_rows": null,
       "grid_column": null,
       "grid_gap": null,
       "grid_row": null,
       "grid_template_areas": null,
       "grid_template_columns": null,
       "grid_template_rows": null,
       "height": null,
       "justify_content": null,
       "justify_items": null,
       "left": null,
       "margin": null,
       "max_height": null,
       "max_width": null,
       "min_height": null,
       "min_width": null,
       "object_fit": null,
       "object_position": null,
       "order": null,
       "overflow": null,
       "overflow_x": null,
       "overflow_y": null,
       "padding": null,
       "right": null,
       "top": null,
       "visibility": null,
       "width": null
      }
     },
     "a8f3aa6463d749ccae2a957c0208b3a2": {
      "model_module": "@jupyter-widgets/controls",
      "model_module_version": "1.5.0",
      "model_name": "HTMLModel",
      "state": {
       "_dom_classes": [],
       "_model_module": "@jupyter-widgets/controls",
       "_model_module_version": "1.5.0",
       "_model_name": "HTMLModel",
       "_view_count": null,
       "_view_module": "@jupyter-widgets/controls",
       "_view_module_version": "1.5.0",
       "_view_name": "HTMLView",
       "description": "",
       "description_tooltip": null,
       "layout": "IPY_MODEL_924e7b83bcd14a32ac05b49f9da17a17",
       "placeholder": "​",
       "style": "IPY_MODEL_b24ff16b02f24ca388c41ddfa9d897c6",
       "value": "model.safetensors: 100%"
      }
     },
     "b24ff16b02f24ca388c41ddfa9d897c6": {
      "model_module": "@jupyter-widgets/controls",
      "model_module_version": "1.5.0",
      "model_name": "DescriptionStyleModel",
      "state": {
       "_model_module": "@jupyter-widgets/controls",
       "_model_module_version": "1.5.0",
       "_model_name": "DescriptionStyleModel",
       "_view_count": null,
       "_view_module": "@jupyter-widgets/base",
       "_view_module_version": "1.2.0",
       "_view_name": "StyleView",
       "description_width": ""
      }
     },
     "b30699055edc47d2a6f30e1f613a5f51": {
      "model_module": "@jupyter-widgets/controls",
      "model_module_version": "1.5.0",
      "model_name": "FloatProgressModel",
      "state": {
       "_dom_classes": [],
       "_model_module": "@jupyter-widgets/controls",
       "_model_module_version": "1.5.0",
       "_model_name": "FloatProgressModel",
       "_view_count": null,
       "_view_module": "@jupyter-widgets/controls",
       "_view_module_version": "1.5.0",
       "_view_name": "ProgressView",
       "bar_style": "success",
       "description": "",
       "description_tooltip": null,
       "layout": "IPY_MODEL_20ae60752cd845819b28f64695fed1a3",
       "max": 6566.0,
       "min": 0.0,
       "orientation": "horizontal",
       "style": "IPY_MODEL_24311ebe72e54c3c9703047688d7b8e2",
       "value": 6566.0
      }
     },
     "b8c88e62ae574dce993837ad00ffb40f": {
      "model_module": "@jupyter-widgets/base",
      "model_module_version": "1.2.0",
      "model_name": "LayoutModel",
      "state": {
       "_model_module": "@jupyter-widgets/base",
       "_model_module_version": "1.2.0",
       "_model_name": "LayoutModel",
       "_view_count": null,
       "_view_module": "@jupyter-widgets/base",
       "_view_module_version": "1.2.0",
       "_view_name": "LayoutView",
       "align_content": null,
       "align_items": null,
       "align_self": null,
       "border": null,
       "bottom": null,
       "display": null,
       "flex": null,
       "flex_flow": null,
       "grid_area": null,
       "grid_auto_columns": null,
       "grid_auto_flow": null,
       "grid_auto_rows": null,
       "grid_column": null,
       "grid_gap": null,
       "grid_row": null,
       "grid_template_areas": null,
       "grid_template_columns": null,
       "grid_template_rows": null,
       "height": null,
       "justify_content": null,
       "justify_items": null,
       "left": null,
       "margin": null,
       "max_height": null,
       "max_width": null,
       "min_height": null,
       "min_width": null,
       "object_fit": null,
       "object_position": null,
       "order": null,
       "overflow": null,
       "overflow_x": null,
       "overflow_y": null,
       "padding": null,
       "right": null,
       "top": null,
       "visibility": null,
       "width": null
      }
     },
     "bef9c6baa29a48efb90a69c260647b4e": {
      "model_module": "@jupyter-widgets/base",
      "model_module_version": "1.2.0",
      "model_name": "LayoutModel",
      "state": {
       "_model_module": "@jupyter-widgets/base",
       "_model_module_version": "1.2.0",
       "_model_name": "LayoutModel",
       "_view_count": null,
       "_view_module": "@jupyter-widgets/base",
       "_view_module_version": "1.2.0",
       "_view_name": "LayoutView",
       "align_content": null,
       "align_items": null,
       "align_self": null,
       "border": null,
       "bottom": null,
       "display": null,
       "flex": null,
       "flex_flow": null,
       "grid_area": null,
       "grid_auto_columns": null,
       "grid_auto_flow": null,
       "grid_auto_rows": null,
       "grid_column": null,
       "grid_gap": null,
       "grid_row": null,
       "grid_template_areas": null,
       "grid_template_columns": null,
       "grid_template_rows": null,
       "height": null,
       "justify_content": null,
       "justify_items": null,
       "left": null,
       "margin": null,
       "max_height": null,
       "max_width": null,
       "min_height": null,
       "min_width": null,
       "object_fit": null,
       "object_position": null,
       "order": null,
       "overflow": null,
       "overflow_x": null,
       "overflow_y": null,
       "padding": null,
       "right": null,
       "top": null,
       "visibility": null,
       "width": null
      }
     },
     "bf2f6ea265bf46ea9cfceedccd6bf57d": {
      "model_module": "@jupyter-widgets/controls",
      "model_module_version": "1.5.0",
      "model_name": "ProgressStyleModel",
      "state": {
       "_model_module": "@jupyter-widgets/controls",
       "_model_module_version": "1.5.0",
       "_model_name": "ProgressStyleModel",
       "_view_count": null,
       "_view_module": "@jupyter-widgets/base",
       "_view_module_version": "1.2.0",
       "_view_name": "StyleView",
       "bar_color": null,
       "description_width": ""
      }
     },
     "c2dce6b90f6246bdb5b833461ee10631": {
      "model_module": "@jupyter-widgets/controls",
      "model_module_version": "1.5.0",
      "model_name": "HTMLModel",
      "state": {
       "_dom_classes": [],
       "_model_module": "@jupyter-widgets/controls",
       "_model_module_version": "1.5.0",
       "_model_name": "HTMLModel",
       "_view_count": null,
       "_view_module": "@jupyter-widgets/controls",
       "_view_module_version": "1.5.0",
       "_view_name": "HTMLView",
       "description": "",
       "description_tooltip": null,
       "layout": "IPY_MODEL_bef9c6baa29a48efb90a69c260647b4e",
       "placeholder": "​",
       "style": "IPY_MODEL_250c7408506e475689944c6889f6db36",
       "value": " 466/466 [00:00&lt;00:00, 40.4kB/s]"
      }
     },
     "c5f7b9cbda7d42cea06aed1a224d5a24": {
      "model_module": "@jupyter-widgets/controls",
      "model_module_version": "1.5.0",
      "model_name": "DescriptionStyleModel",
      "state": {
       "_model_module": "@jupyter-widgets/controls",
       "_model_module_version": "1.5.0",
       "_model_name": "DescriptionStyleModel",
       "_view_count": null,
       "_view_module": "@jupyter-widgets/base",
       "_view_module_version": "1.2.0",
       "_view_name": "StyleView",
       "description_width": ""
      }
     },
     "ce14a0607380467280671cf60c8ba007": {
      "model_module": "@jupyter-widgets/controls",
      "model_module_version": "1.5.0",
      "model_name": "DescriptionStyleModel",
      "state": {
       "_model_module": "@jupyter-widgets/controls",
       "_model_module_version": "1.5.0",
       "_model_name": "DescriptionStyleModel",
       "_view_count": null,
       "_view_module": "@jupyter-widgets/base",
       "_view_module_version": "1.2.0",
       "_view_name": "StyleView",
       "description_width": ""
      }
     },
     "ce1f9ecdd20a43f6b66850b7af84fde2": {
      "model_module": "@jupyter-widgets/controls",
      "model_module_version": "1.5.0",
      "model_name": "HTMLModel",
      "state": {
       "_dom_classes": [],
       "_model_module": "@jupyter-widgets/controls",
       "_model_module_version": "1.5.0",
       "_model_name": "HTMLModel",
       "_view_count": null,
       "_view_module": "@jupyter-widgets/controls",
       "_view_module_version": "1.5.0",
       "_view_name": "HTMLView",
       "description": "",
       "description_tooltip": null,
       "layout": "IPY_MODEL_76ed8397a26147f58e134cb4096e09ff",
       "placeholder": "​",
       "style": "IPY_MODEL_1daf648d70374bd981d3af5107a48ced",
       "value": "config.json: 100%"
      }
     },
     "d7497e3637024c8f8c3e36246e64661a": {
      "model_module": "@jupyter-widgets/base",
      "model_module_version": "1.2.0",
      "model_name": "LayoutModel",
      "state": {
       "_model_module": "@jupyter-widgets/base",
       "_model_module_version": "1.2.0",
       "_model_name": "LayoutModel",
       "_view_count": null,
       "_view_module": "@jupyter-widgets/base",
       "_view_module_version": "1.2.0",
       "_view_name": "LayoutView",
       "align_content": null,
       "align_items": null,
       "align_self": null,
       "border": null,
       "bottom": null,
       "display": null,
       "flex": null,
       "flex_flow": null,
       "grid_area": null,
       "grid_auto_columns": null,
       "grid_auto_flow": null,
       "grid_auto_rows": null,
       "grid_column": null,
       "grid_gap": null,
       "grid_row": null,
       "grid_template_areas": null,
       "grid_template_columns": null,
       "grid_template_rows": null,
       "height": null,
       "justify_content": null,
       "justify_items": null,
       "left": null,
       "margin": null,
       "max_height": null,
       "max_width": null,
       "min_height": null,
       "min_width": null,
       "object_fit": null,
       "object_position": null,
       "order": null,
       "overflow": null,
       "overflow_x": null,
       "overflow_y": null,
       "padding": null,
       "right": null,
       "top": null,
       "visibility": null,
       "width": null
      }
     },
     "e27fc05e5a62483bab20ebce1f38f809": {
      "model_module": "@jupyter-widgets/base",
      "model_module_version": "1.2.0",
      "model_name": "LayoutModel",
      "state": {
       "_model_module": "@jupyter-widgets/base",
       "_model_module_version": "1.2.0",
       "_model_name": "LayoutModel",
       "_view_count": null,
       "_view_module": "@jupyter-widgets/base",
       "_view_module_version": "1.2.0",
       "_view_name": "LayoutView",
       "align_content": null,
       "align_items": null,
       "align_self": null,
       "border": null,
       "bottom": null,
       "display": null,
       "flex": null,
       "flex_flow": null,
       "grid_area": null,
       "grid_auto_columns": null,
       "grid_auto_flow": null,
       "grid_auto_rows": null,
       "grid_column": null,
       "grid_gap": null,
       "grid_row": null,
       "grid_template_areas": null,
       "grid_template_columns": null,
       "grid_template_rows": null,
       "height": null,
       "justify_content": null,
       "justify_items": null,
       "left": null,
       "margin": null,
       "max_height": null,
       "max_width": null,
       "min_height": null,
       "min_width": null,
       "object_fit": null,
       "object_position": null,
       "order": null,
       "overflow": null,
       "overflow_x": null,
       "overflow_y": null,
       "padding": null,
       "right": null,
       "top": null,
       "visibility": null,
       "width": null
      }
     },
     "e4715fe7c55a41e7a9668b9709ad2103": {
      "model_module": "@jupyter-widgets/controls",
      "model_module_version": "1.5.0",
      "model_name": "DescriptionStyleModel",
      "state": {
       "_model_module": "@jupyter-widgets/controls",
       "_model_module_version": "1.5.0",
       "_model_name": "DescriptionStyleModel",
       "_view_count": null,
       "_view_module": "@jupyter-widgets/base",
       "_view_module_version": "1.2.0",
       "_view_name": "StyleView",
       "description_width": ""
      }
     },
     "f0fb4db261b34daab98f36fa22bb0e98": {
      "model_module": "@jupyter-widgets/controls",
      "model_module_version": "1.5.0",
      "model_name": "HTMLModel",
      "state": {
       "_dom_classes": [],
       "_model_module": "@jupyter-widgets/controls",
       "_model_module_version": "1.5.0",
       "_model_name": "HTMLModel",
       "_view_count": null,
       "_view_module": "@jupyter-widgets/controls",
       "_view_module_version": "1.5.0",
       "_view_name": "HTMLView",
       "description": "",
       "description_tooltip": null,
       "layout": "IPY_MODEL_0ae533dad1da4515994ad8c9dd65828c",
       "placeholder": "​",
       "style": "IPY_MODEL_ce14a0607380467280671cf60c8ba007",
       "value": " 375M/375M [00:05&lt;00:00, 70.3MB/s]"
      }
     }
    },
    "version_major": 2,
    "version_minor": 0
   }
  }
 },
 "nbformat": 4,
 "nbformat_minor": 5
}
